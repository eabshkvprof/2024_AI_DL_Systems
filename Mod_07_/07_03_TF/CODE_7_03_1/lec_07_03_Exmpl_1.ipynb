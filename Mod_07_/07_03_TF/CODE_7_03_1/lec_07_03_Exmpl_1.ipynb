{
 "cells": [
  {
   "cell_type": "markdown",
   "metadata": {
    "id": "9WCUjlHiaoac"
   },
   "source": [
    "# Модуль 7. TensorFlow\n",
    "## Лекція 03. Приклад 1. Обчислювальний граф"
   ]
  },
  {
   "cell_type": "markdown",
   "metadata": {
    "id": "yIpJzlkRbnmQ"
   },
   "source": [
    "##### Введення в градієнти та автоматичне діференцювання\n",
    "##### [Introduction to gradients and automatic differentiation](https://www.tensorflow.org/guide/autodiff)\n",
    "\n"
   ]
  },
  {
   "cell_type": "code",
   "execution_count": 1,
   "metadata": {
    "colab": {
     "base_uri": "https://localhost:8080/"
    },
    "executionInfo": {
     "elapsed": 4817,
     "status": "ok",
     "timestamp": 1708587210352,
     "user": {
      "displayName": "Yevgen Bashkov",
      "userId": "13297718615462692973"
     },
     "user_tz": -60
    },
    "id": "DqX9e0qY9rOs",
    "outputId": "5cc1e3f5-c4fc-4ade-b65d-c816c602a1ea"
   },
   "outputs": [
    {
     "name": "stdout",
     "output_type": "stream",
     "text": [
      "2.15.0\n"
     ]
    }
   ],
   "source": [
    "import tensorflow as tf\n",
    "from pprint import pprint\n",
    "print(tf.__version__)"
   ]
  },
  {
   "cell_type": "code",
   "execution_count": 2,
   "metadata": {
    "colab": {
     "base_uri": "https://localhost:8080/"
    },
    "executionInfo": {
     "elapsed": 250,
     "status": "ok",
     "timestamp": 1708587213587,
     "user": {
      "displayName": "Yevgen Bashkov",
      "userId": "13297718615462692973"
     },
     "user_tz": -60
    },
    "id": "5OT9eXkxEPAu",
    "outputId": "dbecc6bf-1099-468f-ebee-e0b14a9e5cd8"
   },
   "outputs": [
    {
     "name": "stdout",
     "output_type": "stream",
     "text": [
      "True\n"
     ]
    }
   ],
   "source": [
    "print(tf.executing_eagerly())"
   ]
  },
  {
   "cell_type": "markdown",
   "metadata": {
    "id": "1Aa6yMuwgcU9"
   },
   "source": [
    "### Використання [tf.gradients](https://www.tensorflow.org/api_docs/python/tf/gradients)"
   ]
  },
  {
   "cell_type": "code",
   "execution_count": 3,
   "metadata": {
    "executionInfo": {
     "elapsed": 276,
     "status": "ok",
     "timestamp": 1708587244462,
     "user": {
      "displayName": "Yevgen Bashkov",
      "userId": "13297718615462692973"
     },
     "user_tz": -60
    },
    "id": "rlr0eFwh-NBl"
   },
   "outputs": [],
   "source": [
    "a = tf.Variable(20.0,name=\"A\")\n",
    "b = tf.Variable(30.0,name=\"B\")\n",
    "c = tf.Variable(15.0,name=\"C\")\n",
    "d = tf.Variable(tf.add(a, b),name=\"D\")\n",
    "e = tf.Variable(tf.subtract(b, c),name=\"E\")\n",
    "y = tf.Variable(tf.multiply(d,e),name=\"Y\")"
   ]
  },
  {
   "cell_type": "code",
   "execution_count": 4,
   "metadata": {
    "colab": {
     "base_uri": "https://localhost:8080/"
    },
    "executionInfo": {
     "elapsed": 6,
     "status": "ok",
     "timestamp": 1708587246744,
     "user": {
      "displayName": "Yevgen Bashkov",
      "userId": "13297718615462692973"
     },
     "user_tz": -60
    },
    "id": "_tZaNslgGM4i",
    "outputId": "4b37ecec-8503-4cb4-97e3-2a6e34342607"
   },
   "outputs": [
    {
     "name": "stdout",
     "output_type": "stream",
     "text": [
      "A= 20.0\n",
      "B= 30.0\n",
      "C= 15.0\n",
      "D= 50.0\n",
      "E= 15.0\n",
      "Y= 750.0\n"
     ]
    }
   ],
   "source": [
    "print('A=', a.numpy())\n",
    "print('B=', b.numpy())\n",
    "print('C=', c.numpy())\n",
    "print('D=', d.numpy())\n",
    "print('E=', e.numpy())\n",
    "print('Y=', y.numpy())"
   ]
  },
  {
   "cell_type": "code",
   "execution_count": 5,
   "metadata": {
    "colab": {
     "base_uri": "https://localhost:8080/"
    },
    "executionInfo": {
     "elapsed": 249,
     "status": "ok",
     "timestamp": 1708587491007,
     "user": {
      "displayName": "Yevgen Bashkov",
      "userId": "13297718615462692973"
     },
     "user_tz": -60
    },
    "id": "u48jDynIA8yV",
    "outputId": "4e761e19-79cd-4ce2-9f00-7474cce915a7"
   },
   "outputs": [
    {
     "name": "stdout",
     "output_type": "stream",
     "text": [
      "tf.Tensor(15.0, shape=(), dtype=float32) tf.Tensor(65.0, shape=(), dtype=float32) tf.Tensor(-50.0, shape=(), dtype=float32)\n",
      "15.0 65.0 -50.0\n"
     ]
    }
   ],
   "source": [
    "@tf.function\n",
    "def example_1():\n",
    "  d = a + b\n",
    "  e = b - c\n",
    "  cost = d * e\n",
    "  g = tf.gradients(cost, [a, b, c])\n",
    "  dCost_da, dCost_db, dCost_dc = g\n",
    "  # Повертаємо компоненти градієнту\n",
    "  return dCost_da, dCost_db, dCost_dc\n",
    "ga,gb,gc = example_1()\n",
    "print(ga, gb, gc)\n",
    "print(ga.numpy(), gb.numpy(),gc.numpy())\n",
    "\n"
   ]
  },
  {
   "cell_type": "code",
   "execution_count": 6,
   "metadata": {
    "colab": {
     "base_uri": "https://localhost:8080/"
    },
    "executionInfo": {
     "elapsed": 266,
     "status": "ok",
     "timestamp": 1708587545786,
     "user": {
      "displayName": "Yevgen Bashkov",
      "userId": "13297718615462692973"
     },
     "user_tz": -60
    },
    "id": "YHUfNp9d-gKn",
    "outputId": "4d760bba-ed33-46c6-9f63-1d19cef186f9"
   },
   "outputs": [
    {
     "data": {
      "text/plain": [
       "(<tf.Tensor: shape=(), dtype=float32, numpy=3.0>,\n",
       " <tf.Tensor: shape=(), dtype=float32, numpy=1.0>)"
      ]
     },
     "execution_count": 6,
     "metadata": {},
     "output_type": "execute_result"
    }
   ],
   "source": [
    "@tf.function\n",
    "def example_2():\n",
    "  Ws = tf.constant(1.)\n",
    "  bs = 2 * Ws\n",
    "  cost = Ws + bs  # Це тільки приклад\n",
    "  g = tf.gradients(cost, [Ws, bs])\n",
    "  dCost_dW, dCost_db = g\n",
    "  return dCost_dW, dCost_db\n",
    "example_2()"
   ]
  },
  {
   "cell_type": "markdown",
   "metadata": {
    "id": "8ZRwQf_0gn79"
   },
   "source": [
    "Використання [tf.GradientTape](https://www.tensorflow.org/api_docs/python/tf/GradientTape)"
   ]
  },
  {
   "cell_type": "markdown",
   "metadata": {
    "id": "Qgu3narTyn7z"
   },
   "source": [
    "Аналог першого прикладу"
   ]
  },
  {
   "cell_type": "code",
   "execution_count": 14,
   "metadata": {
    "colab": {
     "base_uri": "https://localhost:8080/"
    },
    "executionInfo": {
     "elapsed": 263,
     "status": "ok",
     "timestamp": 1708588771441,
     "user": {
      "displayName": "Yevgen Bashkov",
      "userId": "13297718615462692973"
     },
     "user_tz": -60
    },
    "id": "H-TDitCTwXNd",
    "outputId": "c7d37896-f9de-4378-b508-2cfaace16d63"
   },
   "outputs": [
    {
     "name": "stdout",
     "output_type": "stream",
     "text": [
      "D  [20.1 20.2 20.3] E  [-14.9 -14.8 -14.7]\n",
      "COST  [-299.49    -298.96002 -298.40997]\n",
      "tf.Tensor(-44.4, shape=(), dtype=float32) tf.Tensor([5.200001  5.4000006 5.5999994], shape=(3,), dtype=float32) tf.Tensor(-60.600002, shape=(), dtype=float32)\n",
      "-44.4 [5.200001  5.4000006 5.5999994] -60.600002\n"
     ]
    }
   ],
   "source": [
    "# Стрічка\n",
    "with tf.GradientTape(watch_accessed_variables=True) as tape:\n",
    "  d = a + b\n",
    "  e = b - c\n",
    "  cost = d * e\n",
    "\n",
    "print('D ', d.numpy(), 'E ',e.numpy())\n",
    "print('COST ', cost.numpy())\n",
    "\n",
    "ga , gb, gc  = tape.gradient(target=cost, sources=[a, b, c])\n",
    "print(ga, gb, gc)\n",
    "print(ga.numpy(), gb.numpy(),gc.numpy())\n",
    "\n"
   ]
  },
  {
   "cell_type": "markdown",
   "metadata": {
    "id": "SalCp17py7wK"
   },
   "source": [
    "Градієнти від двох змінних векторів"
   ]
  },
  {
   "cell_type": "code",
   "execution_count": 10,
   "metadata": {
    "colab": {
     "base_uri": "https://localhost:8080/"
    },
    "executionInfo": {
     "elapsed": 258,
     "status": "ok",
     "timestamp": 1708588355219,
     "user": {
      "displayName": "Yevgen Bashkov",
      "userId": "13297718615462692973"
     },
     "user_tz": -60
    },
    "id": "oM4LPsPk_R_r",
    "outputId": "97eafb96-a432-4e57-fc96-619138c01443"
   },
   "outputs": [
    {
     "name": "stdout",
     "output_type": "stream",
     "text": [
      "A [4. 5. 6. 7.]\n",
      "B [0.1 0.2 0.3 0.4]\n",
      "C [16.3 25.6 36.9 50.2]\n",
      "tf.Tensor([ 8. 10. 12. 14.], shape=(4,), dtype=float32) tf.Tensor([3. 3. 3. 3.], shape=(4,), dtype=float32)\n",
      "Gradient on A [ 8. 10. 12. 14.]\n",
      "Gradient on B [3. 3. 3. 3.]\n"
     ]
    }
   ],
   "source": [
    "avec = tf.Variable([4, 5, 6, 7], dtype=tf.float32)\n",
    "bvec = tf.Variable([0.1, 0.2, 0.3, 0.4,], dtype=tf.float32)\n",
    "print('A', avec.numpy())\n",
    "print('B', bvec.numpy())\n",
    "def example_3 (a, b, power = 2, d = 3):\n",
    "  return tf.pow(a, power) + d * b\n",
    "\n",
    "# Стрічка\n",
    "with tf.GradientTape(watch_accessed_variables=True) as tape:\n",
    "  cvec = example_3(avec, bvec)\n",
    "print('C', cvec.numpy())\n",
    "\n",
    "ga , gb = tape.gradient(target=cvec, sources=[avec, bvec])\n",
    "print( ga, gb )\n",
    "print('Gradient on A', ga.numpy())\n",
    "print('Gradient on B', gb.numpy())"
   ]
  },
  {
   "cell_type": "markdown",
   "metadata": {
    "id": "4pAy85wjzek0"
   },
   "source": [
    "Градієнт скаляра від двох змінних веторів"
   ]
  },
  {
   "cell_type": "code",
   "execution_count": 12,
   "metadata": {
    "colab": {
     "base_uri": "https://localhost:8080/"
    },
    "executionInfo": {
     "elapsed": 6,
     "status": "ok",
     "timestamp": 1708588522481,
     "user": {
      "displayName": "Yevgen Bashkov",
      "userId": "13297718615462692973"
     },
     "user_tz": -60
    },
    "id": "0bnaCjqt_sZS",
    "outputId": "a9140d18-bdf5-4e51-c9c6-d5eca1c83372"
   },
   "outputs": [
    {
     "name": "stdout",
     "output_type": "stream",
     "text": [
      "A [4. 5. 6. 7.]\n",
      "B [0.1 0.2 0.3 0.4]\n",
      "C 129.0\n",
      "tf.Tensor([ 8. 10. 12. 14.], shape=(4,), dtype=float32) tf.Tensor([3. 3. 3. 3.], shape=(4,), dtype=float32)\n",
      "Gradient on A [ 8. 10. 12. 14.]\n",
      "Gradient on B [3. 3. 3. 3.]\n"
     ]
    }
   ],
   "source": [
    "avect = tf.Variable([4, 5, 6, 7], dtype=tf.float32)\n",
    "bvect = tf.Variable([0.1, 0.2, 0.3, 0.4,], dtype=tf.float32)\n",
    "print('A', avect.numpy())\n",
    "print('B', bvect.numpy())\n",
    "def example_4 (a, b, power = 2, d = 3):\n",
    "  return tf.reduce_sum(tf.pow(a, power) + d * b)\n",
    "\n",
    "# Стрічка\n",
    "with tf.GradientTape(watch_accessed_variables=True) as tape:\n",
    "  cscal = example_4(avect, bvect)\n",
    "print('C', cscal.numpy())\n",
    "\n",
    "ga , gb = tape.gradient(target=cscal, sources=[avect, bvect])\n",
    "print( ga, gb )\n",
    "print('Gradient on A', ga.numpy())\n",
    "print('Gradient on B', gb.numpy())"
   ]
  },
  {
   "cell_type": "markdown",
   "metadata": {
    "id": "MdiwGMwk0C5-"
   },
   "source": [
    "Градіент іфд змінних вектору та матриці"
   ]
  },
  {
   "cell_type": "code",
   "execution_count": 26,
   "metadata": {
    "colab": {
     "base_uri": "https://localhost:8080/"
    },
    "executionInfo": {
     "elapsed": 323,
     "status": "ok",
     "timestamp": 1708591212077,
     "user": {
      "displayName": "Yevgen Bashkov",
      "userId": "13297718615462692973"
     },
     "user_tz": -60
    },
    "id": "8eqU6e_mmmyw",
    "outputId": "f423f8a0-3fc0-474c-b4ba-6ecb0d0c19fb"
   },
   "outputs": [
    {
     "name": "stdout",
     "output_type": "stream",
     "text": [
      "x [4. 5. 6. 7.]\n",
      "b [0.1 0.2 0.3]\n",
      "W [[-0.5234383  -1.0841007  -2.2260287  -1.0235329 ]\n",
      " [-0.46446875  0.76562446  0.7562393   1.2991254 ]\n",
      " [-1.7583      0.59467864  0.45476842 -0.01941086]]\n"
     ]
    }
   ],
   "source": [
    "x  = tf.Variable([4, 5, 6, 7], dtype=tf.float32) #vector\n",
    "print('x', x.numpy())\n",
    "b = tf.Variable([0.1, 0.2, 0.3], dtype=tf.float32)  #vector\n",
    "print('b', b.numpy())\n",
    "W = tf.Variable(tf.random.normal([3 ,4], 0, 1, tf.float32))  #matrix\n",
    "print('W', W.numpy())"
   ]
  },
  {
   "cell_type": "code",
   "execution_count": 27,
   "metadata": {
    "colab": {
     "base_uri": "https://localhost:8080/"
    },
    "executionInfo": {
     "elapsed": 274,
     "status": "ok",
     "timestamp": 1708591223496,
     "user": {
      "displayName": "Yevgen Bashkov",
      "userId": "13297718615462692973"
     },
     "user_tz": -60
    },
    "id": "HxKxoNxMjHq3",
    "outputId": "e65c7323-1c72-46a5-ade3-db9786821cd4"
   },
   "outputs": [
    {
     "name": "stdout",
     "output_type": "stream",
     "text": [
      "tf.Tensor(\n",
      "[[4. 5. 6. 7.]\n",
      " [4. 5. 6. 7.]\n",
      " [4. 5. 6. 7.]], shape=(3, 4), dtype=float32)\n",
      "tf.Tensor([1. 1. 1.], shape=(3,), dtype=float32)\n",
      "Gradient on W [[4. 5. 6. 7.]\n",
      " [4. 5. 6. 7.]\n",
      " [4. 5. 6. 7.]]\n",
      "Gradient on b [1. 1. 1.]\n"
     ]
    }
   ],
   "source": [
    "# Стрічка\n",
    "with tf.GradientTape(watch_accessed_variables=True) as tape:\n",
    "  ydot = tf.tensordot(W, x, axes=1)\n",
    "  out = ydot + b\n",
    "\n",
    "gb , gW = tape.gradient(target=out, sources=[b, W])\n",
    "\n",
    "print(gW)\n",
    "print(gb)\n",
    "print('Gradient on W', gW.numpy())\n",
    "print('Gradient on b', gb.numpy())"
   ]
  },
  {
   "cell_type": "markdown",
   "metadata": {
    "id": "70VdW1Ib6_z3"
   },
   "source": [
    "Сума квадратів"
   ]
  },
  {
   "cell_type": "code",
   "execution_count": 45,
   "metadata": {
    "colab": {
     "base_uri": "https://localhost:8080/"
    },
    "executionInfo": {
     "elapsed": 261,
     "status": "ok",
     "timestamp": 1708593520467,
     "user": {
      "displayName": "Yevgen Bashkov",
      "userId": "13297718615462692973"
     },
     "user_tz": -60
    },
    "id": "d5b3SNTPpcCT",
    "outputId": "0f96b4f8-d923-41ce-bbd3-d7b9d864038d"
   },
   "outputs": [
    {
     "name": "stdout",
     "output_type": "stream",
     "text": [
      "Gradient on W [[-223.48128  -279.3516   -335.22192  -391.09222 ]\n",
      " [ 126.41248   158.01561   189.61873   221.22185 ]\n",
      " [  -9.336578  -11.670723  -14.004868  -16.339012]]\n",
      "Gradient on b [-55.87032    31.60312    -2.3341446]\n"
     ]
    }
   ],
   "source": [
    "# Стрічка\n",
    "with tf.GradientTape(watch_accessed_variables=True) as tape:\n",
    "  ydot = tf.tensordot(W, x, axes=1)\n",
    "  # print('YDOT',ydot.numpy())\n",
    "  outvec = ydot + b\n",
    "  # print('OUT VEC',outvec.numpy())\n",
    "  loss = tf.reduce_sum(tf.pow(outvec,2))\n",
    "  # print('LOSS',loss.numpy())\n",
    "\n",
    "gb , gW = tape.gradient(target=loss, sources=[b, W])\n",
    "\n",
    "print('Gradient on W', gW.numpy())\n",
    "print('Gradient on b', gb.numpy())"
   ]
  },
  {
   "cell_type": "code",
   "execution_count": 44,
   "metadata": {
    "colab": {
     "base_uri": "https://localhost:8080/"
    },
    "executionInfo": {
     "elapsed": 284,
     "status": "ok",
     "timestamp": 1708592594262,
     "user": {
      "displayName": "Yevgen Bashkov",
      "userId": "13297718615462692973"
     },
     "user_tz": -60
    },
    "id": "AjyXVRPt9h_M",
    "outputId": "48cdca2a-41e5-4a48-ba9a-213dca199692"
   },
   "outputs": [
    {
     "name": "stdout",
     "output_type": "stream",
     "text": [
      "-223.48128\n"
     ]
    }
   ],
   "source": [
    "# Перевірка: Похідна від Loss до W[0,0]\n",
    "dL_on_W00 = 2*outvec[0]*x[0]\n",
    "print (dL_on_W00.numpy())"
   ]
  },
  {
   "cell_type": "code",
   "execution_count": 33,
   "metadata": {
    "executionInfo": {
     "elapsed": 305,
     "status": "ok",
     "timestamp": 1708591849107,
     "user": {
      "displayName": "Yevgen Bashkov",
      "userId": "13297718615462692973"
     },
     "user_tz": -60
    },
    "id": "Nme7o5YE_tm7"
   },
   "outputs": [],
   "source": []
  }
 ],
 "metadata": {
  "colab": {
   "provenance": []
  },
  "kernelspec": {
   "display_name": "Python 3 (ipykernel)",
   "language": "python",
   "name": "python3"
  },
  "language_info": {
   "codemirror_mode": {
    "name": "ipython",
    "version": 3
   },
   "file_extension": ".py",
   "mimetype": "text/x-python",
   "name": "python",
   "nbconvert_exporter": "python",
   "pygments_lexer": "ipython3",
   "version": "3.11.7"
  }
 },
 "nbformat": 4,
 "nbformat_minor": 4
}
