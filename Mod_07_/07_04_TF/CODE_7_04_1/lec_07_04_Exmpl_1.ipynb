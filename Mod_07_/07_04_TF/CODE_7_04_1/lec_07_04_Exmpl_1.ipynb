{
  "cells": [
    {
      "cell_type": "markdown",
      "metadata": {
        "id": "2mz94yLZZafw"
      },
      "source": [
        "# Модуль 7. TensorFlow\n",
        "## Лекція 04. Приклад 1. Градієнтний спуск"
      ]
    },
    {
      "cell_type": "markdown",
      "metadata": {
        "id": "eD4jgXQLZojD"
      },
      "source": [
        "Завдання мінімізації функції (СФЕРА)\n",
        "\n",
        "$ y=\\sum_{i=0}^{m-1} x_i^2$\n",
        "\n",
        "Точне рішення $ y=0, x_i=0$\n"
      ]
    },
    {
      "cell_type": "code",
      "execution_count": 2,
      "metadata": {
        "id": "DqX9e0qY9rOs"
      },
      "outputs": [],
      "source": [
        "import tensorflow as tf\n",
        "from pprint import pprint"
      ]
    },
    {
      "cell_type": "code",
      "execution_count": 3,
      "metadata": {
        "colab": {
          "base_uri": "https://localhost:8080/"
        },
        "id": "5OT9eXkxEPAu",
        "outputId": "3460b2de-40b9-4527-cee2-bfb7a20be981"
      },
      "outputs": [
        {
          "output_type": "stream",
          "name": "stdout",
          "text": [
            "True\n"
          ]
        }
      ],
      "source": [
        "print(tf.executing_eagerly())"
      ]
    },
    {
      "cell_type": "code",
      "execution_count": 4,
      "metadata": {
        "id": "rlr0eFwh-NBl"
      },
      "outputs": [],
      "source": [
        "x1 = tf.Variable(10.0,name=\"x1\")\n",
        "x2 = tf.Variable(10.0,name=\"x2\")"
      ]
    },
    {
      "cell_type": "code",
      "execution_count": 5,
      "metadata": {
        "colab": {
          "base_uri": "https://localhost:8080/"
        },
        "id": "_tZaNslgGM4i",
        "outputId": "6fcbc9a7-c6d3-45e1-f0f0-c186142d539c"
      },
      "outputs": [
        {
          "output_type": "stream",
          "name": "stdout",
          "text": [
            "x1= 10.0\n",
            "x2= 10.0\n"
          ]
        }
      ],
      "source": [
        "print('x1=', x1.numpy())\n",
        "print('x2=', x2.numpy())"
      ]
    },
    {
      "cell_type": "code",
      "execution_count": 6,
      "metadata": {
        "id": "3wypQMEUKuqU"
      },
      "outputs": [],
      "source": [
        "learnig_rate = .1"
      ]
    },
    {
      "cell_type": "markdown",
      "metadata": {
        "id": "VS1CciilNqb3"
      },
      "source": [
        "### Функція"
      ]
    },
    {
      "cell_type": "code",
      "execution_count": 7,
      "metadata": {
        "id": "q-qxbaCUNmZe"
      },
      "outputs": [],
      "source": [
        "def test_function (a, b):\n",
        "  y = a * a + b * b\n",
        "  return y"
      ]
    },
    {
      "cell_type": "markdown",
      "metadata": {
        "id": "OCsh9NolNdwI"
      },
      "source": [
        "### Step By Step"
      ]
    },
    {
      "cell_type": "code",
      "execution_count": 8,
      "metadata": {
        "id": "e1iz8djjKMp_",
        "colab": {
          "base_uri": "https://localhost:8080/"
        },
        "outputId": "d7f82ab6-9b96-427a-ee8c-9efcff73b01c"
      },
      "outputs": [
        {
          "output_type": "stream",
          "name": "stdout",
          "text": [
            "Iterarion 0\n",
            "X 10.0 10.0\n",
            "Y 200.0\n",
            "Grad 20.0 20.0\n",
            "Discent -2.0 -2.0\n",
            "Iterarion 1\n",
            "X 8.0 8.0\n",
            "Y 128.0\n",
            "Grad 16.0 16.0\n",
            "Discent -1.6 -1.6\n",
            "Iterarion 2\n",
            "X 6.4 6.4\n",
            "Y 81.920006\n",
            "Grad 12.8 12.8\n",
            "Discent -1.2800001 -1.2800001\n"
          ]
        }
      ],
      "source": [
        "for step in range (3):\n",
        "  with tf.GradientTape(watch_accessed_variables=True, persistent=True) as gfunc:\n",
        "    gfunc.watch([x1, x2])\n",
        "    yout = test_function(x1, x2)\n",
        "\n",
        "  print ('Iterarion', step)\n",
        "  print('X', x1.numpy(), x2.numpy())\n",
        "  print('Y', test_function(x1, x2).numpy())\n",
        "  gx1 , gx2 = gfunc.gradient(target=yout, sources=[x1, x2])\n",
        "  print ('Grad', gx1.numpy(), gx2.numpy())\n",
        "  dx1 = -learnig_rate*gx1\n",
        "  dx2 = -learnig_rate*gx2\n",
        "  print('Discent', dx1.numpy(), dx2.numpy())\n",
        "  x1.assign_add(dx1)\n",
        "  x2.assign_add(dx2)\n",
        "\n"
      ]
    },
    {
      "cell_type": "markdown",
      "metadata": {
        "id": "-j47UAhwOrYr"
      },
      "source": [
        "### Loop"
      ]
    },
    {
      "cell_type": "code",
      "execution_count": 9,
      "metadata": {
        "id": "LyEgX7kgOyS0"
      },
      "outputs": [],
      "source": [
        "x1 = tf.Variable(10.0,name=\"x1\")\n",
        "x2 = tf.Variable(10.0,name=\"x2\")"
      ]
    },
    {
      "cell_type": "code",
      "execution_count": 10,
      "metadata": {
        "colab": {
          "base_uri": "https://localhost:8080/"
        },
        "id": "0bnaCjqt_sZS",
        "outputId": "2f02761b-8445-4071-c706-0d6c5b5baefb"
      },
      "outputs": [
        {
          "output_type": "stream",
          "name": "stdout",
          "text": [
            "Iterarion 0\n",
            "X 8.0 8.0\n",
            "Y 128.0\n",
            "Iterarion 10\n",
            "X 0.85899335 0.85899335\n",
            "Y 1.4757391\n",
            "Iterarion 20\n",
            "X 0.09223372 0.09223372\n",
            "Y 0.017014118\n",
            "Iterarion 30\n",
            "X 0.00990352 0.00990352\n",
            "Y 0.00019615942\n",
            "Iterarion 32\n",
            "X 0.0063382527 0.0063382527\n",
            "Y 8.0346894e-05\n"
          ]
        }
      ],
      "source": [
        "for step in range (100):\n",
        "  with tf.GradientTape(watch_accessed_variables=True, persistent=True) as gfunc:\n",
        "    gfunc.watch([x1, x2])\n",
        "    yout = test_function(x1, x2)\n",
        "\n",
        "  gx1 , gx2 = gfunc.gradient(target=yout, sources=[x1, x2])\n",
        "  dx1 = -learnig_rate*gx1\n",
        "  dx2 = -learnig_rate*gx2\n",
        "  x1.assign_add(dx1)\n",
        "  x2.assign_add(dx2)\n",
        "  if step % 10 == 0:\n",
        "    print('Iterarion', step)\n",
        "    print('X', x1.numpy(), x2.numpy())\n",
        "    print('Y', test_function(x1, x2).numpy())\n",
        "  if test_function(x1, x2) < 0.0001:\n",
        "    print('Iterarion', step)\n",
        "    print('X', x1.numpy(), x2.numpy())\n",
        "    print('Y', test_function(x1, x2).numpy())\n",
        "    break\n"
      ]
    },
    {
      "cell_type": "markdown",
      "metadata": {
        "id": "e7AElLMQXyZA"
      },
      "source": [
        "### Багатовимірний випадок\n"
      ]
    },
    {
      "cell_type": "code",
      "execution_count": 11,
      "metadata": {
        "id": "_poaW0mu6RHP",
        "colab": {
          "base_uri": "https://localhost:8080/"
        },
        "outputId": "cd9b2fce-b298-4a5f-937d-bfdc3f98e721"
      },
      "outputs": [
        {
          "output_type": "stream",
          "name": "stdout",
          "text": [
            "(100,)\n"
          ]
        }
      ],
      "source": [
        "X = tf.Variable(tf.random.normal([100], 0, 30, tf.float32),name=\"X\")\n",
        "print(X.shape)\n",
        "# print(X.numpy())"
      ]
    },
    {
      "cell_type": "code",
      "execution_count": 12,
      "metadata": {
        "id": "rCBfGWvvVvHE",
        "colab": {
          "base_uri": "https://localhost:8080/"
        },
        "outputId": "e05beb1a-9685-440e-b2c7-1b1b52957e4a"
      },
      "outputs": [
        {
          "output_type": "stream",
          "name": "stdout",
          "text": [
            "()\n",
            "0.1\n"
          ]
        }
      ],
      "source": [
        "learn_rate = tf.constant(0.1)\n",
        "print(learn_rate.shape)\n",
        "print(learn_rate.numpy())"
      ]
    },
    {
      "cell_type": "markdown",
      "metadata": {
        "id": "ztR3d2DQYb-7"
      },
      "source": [
        "### функція ВТРАТ"
      ]
    },
    {
      "cell_type": "code",
      "execution_count": 13,
      "metadata": {
        "id": "L340MdiRS6Uk"
      },
      "outputs": [],
      "source": [
        "def Loss_func (X):\n",
        "  Y_loss = tf.reduce_sum(tf.pow(X,2))\n",
        "  return Y_loss"
      ]
    },
    {
      "cell_type": "code",
      "execution_count": 14,
      "metadata": {
        "id": "KEDMIp_lToD8",
        "colab": {
          "base_uri": "https://localhost:8080/"
        },
        "outputId": "b4284ecf-1291-4fc1-faeb-5c023b9f583a"
      },
      "outputs": [
        {
          "output_type": "stream",
          "name": "stdout",
          "text": [
            "73252.62\n"
          ]
        }
      ],
      "source": [
        "print(Loss_func(X).numpy())"
      ]
    },
    {
      "cell_type": "code",
      "execution_count": 15,
      "metadata": {
        "id": "IANscyVt6isU",
        "colab": {
          "base_uri": "https://localhost:8080/"
        },
        "outputId": "d61a4a90-1aa0-4691-fbf0-ec0a4aa960bc"
      },
      "outputs": [
        {
          "output_type": "stream",
          "name": "stdout",
          "text": [
            "Iterarion 0\n",
            "Y 46881.67\n",
            "Iterarion 10\n",
            "Y 540.50885\n",
            "Iterarion 20\n",
            "Y 6.2316437\n",
            "Iterarion 30\n",
            "Y 0.07184596\n",
            "Iterarion 40\n",
            "Y 0.0008283275\n",
            "Iterarion 45\n",
            "Y 8.894099e-05\n"
          ]
        }
      ],
      "source": [
        "for step in range (100):\n",
        "  with tf.GradientTape(watch_accessed_variables=True, persistent=True) as gfunc:\n",
        "    gfunc.watch(X)\n",
        "    yout = Loss_func(X)\n",
        "\n",
        "  G = gfunc.gradient(target=yout, sources=[X])\n",
        "  # print(G)\n",
        "  # print(G.numpy())\n",
        "  dX = G * learn_rate\n",
        "  #print(dX)\n",
        "  X.assign_sub(dX[0])\n",
        "  if step % 10 == 0:\n",
        "    print('Iterarion', step)\n",
        "    # print('X', X.numpy())\n",
        "    print('Y', Loss_func(X).numpy())\n",
        "  if Loss_func(X) < 0.0001:\n",
        "    print('Iterarion', step)\n",
        "    # print('X', X.numpy())\n",
        "    print('Y', Loss_func(X).numpy())\n",
        "    break\n"
      ]
    },
    {
      "cell_type": "code",
      "execution_count": null,
      "metadata": {
        "id": "VTl4vYR7Urxc"
      },
      "outputs": [],
      "source": []
    }
  ],
  "metadata": {
    "colab": {
      "provenance": []
    },
    "kernelspec": {
      "display_name": "Python 3 (ipykernel)",
      "language": "python",
      "name": "python3"
    },
    "language_info": {
      "codemirror_mode": {
        "name": "ipython",
        "version": 3
      },
      "file_extension": ".py",
      "mimetype": "text/x-python",
      "name": "python",
      "nbconvert_exporter": "python",
      "pygments_lexer": "ipython3",
      "version": "3.11.7"
    }
  },
  "nbformat": 4,
  "nbformat_minor": 0
}