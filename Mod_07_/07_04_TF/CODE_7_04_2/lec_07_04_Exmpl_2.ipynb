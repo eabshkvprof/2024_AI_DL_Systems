{
  "nbformat": 4,
  "nbformat_minor": 0,
  "metadata": {
    "colab": {
      "provenance": []
    },
    "kernelspec": {
      "name": "python3",
      "display_name": "Python 3"
    },
    "language_info": {
      "name": "python"
    }
  },
  "cells": [
    {
      "cell_type": "markdown",
      "source": [
        "# Модуль 7. TensorFlow\n",
        "## Лекція 04. Приклад 2. Градієнтний спуск /  Функція Розенброка"
      ],
      "metadata": {
        "id": "2mz94yLZZafw"
      }
    },
    {
      "cell_type": "markdown",
      "source": [
        "Завдання мінімізації функції (Розенброк) 2-і змінних\n",
        "\n",
        "$ z = 100(y-x^2)^2+ (1-x)^2$\n",
        "\n",
        "Точне рішення $ z=0, x=1, y = 1 $\n"
      ],
      "metadata": {
        "id": "eD4jgXQLZojD"
      }
    },
    {
      "cell_type": "code",
      "execution_count": 1,
      "metadata": {
        "id": "DqX9e0qY9rOs"
      },
      "outputs": [],
      "source": [
        "import tensorflow as tf\n",
        "from pprint import pprint"
      ]
    },
    {
      "cell_type": "code",
      "source": [
        "print(tf.executing_eagerly())"
      ],
      "metadata": {
        "id": "5OT9eXkxEPAu",
        "colab": {
          "base_uri": "https://localhost:8080/"
        },
        "outputId": "83963f17-6eca-4967-f9b5-2101831b4126"
      },
      "execution_count": 2,
      "outputs": [
        {
          "output_type": "stream",
          "name": "stdout",
          "text": [
            "True\n"
          ]
        }
      ]
    },
    {
      "cell_type": "code",
      "source": [
        "x = tf.Variable(2.0,name=\"x\")\n",
        "y = tf.Variable(2.0,name=\"y\")"
      ],
      "metadata": {
        "id": "rlr0eFwh-NBl"
      },
      "execution_count": 3,
      "outputs": []
    },
    {
      "cell_type": "code",
      "source": [
        "print('x=', x.numpy())\n",
        "print('y=', y.numpy())"
      ],
      "metadata": {
        "colab": {
          "base_uri": "https://localhost:8080/"
        },
        "id": "_tZaNslgGM4i",
        "outputId": "10122a4f-9efe-4da2-ad22-c2f83da603ed"
      },
      "execution_count": 4,
      "outputs": [
        {
          "output_type": "stream",
          "name": "stdout",
          "text": [
            "x= 2.0\n",
            "y= 2.0\n"
          ]
        }
      ]
    },
    {
      "cell_type": "code",
      "source": [
        "learnig_rate = .002"
      ],
      "metadata": {
        "id": "3wypQMEUKuqU"
      },
      "execution_count": 10,
      "outputs": []
    },
    {
      "cell_type": "markdown",
      "source": [
        "### Функція Розенброка"
      ],
      "metadata": {
        "id": "VS1CciilNqb3"
      }
    },
    {
      "cell_type": "code",
      "source": [
        "def test_function (a, b):\n",
        "  y = 100*(a - b*b)*(a - b*b)+(a - 1)*(a - 1)\n",
        "  return y"
      ],
      "metadata": {
        "id": "q-qxbaCUNmZe"
      },
      "execution_count": 11,
      "outputs": []
    },
    {
      "cell_type": "code",
      "source": [
        "print(test_function(1,1))\n",
        "print(test_function(x,y))"
      ],
      "metadata": {
        "colab": {
          "base_uri": "https://localhost:8080/"
        },
        "id": "2RneTgxmf7wx",
        "outputId": "32335248-9f92-4aed-c9f3-fe8da99d2672"
      },
      "execution_count": 12,
      "outputs": [
        {
          "output_type": "stream",
          "name": "stdout",
          "text": [
            "0\n",
            "tf.Tensor(0.19897306, shape=(), dtype=float32)\n"
          ]
        }
      ]
    },
    {
      "cell_type": "markdown",
      "source": [
        "### Loop"
      ],
      "metadata": {
        "id": "-j47UAhwOrYr"
      }
    },
    {
      "cell_type": "code",
      "source": [
        "for step in range (200):\n",
        "  with tf.GradientTape(watch_accessed_variables=True, persistent=True) as gfunc:\n",
        "    gfunc.watch([x, y])\n",
        "    yout = test_function(x, y)\n",
        "\n",
        "  gx , gy = gfunc.gradient(target=yout, sources=[x, y])\n",
        "  dx = -learnig_rate*gx\n",
        "  dy = -learnig_rate*gy\n",
        "  x.assign_add(dx)\n",
        "  y.assign_add(dy)\n",
        "\n",
        "  if step % 20 == 0:\n",
        "    print('Iterarion', step)\n",
        "    print('x, y', x.numpy(), y.numpy())\n",
        "    print('grad', gx.numpy(), gy.numpy())\n",
        "    print('z', test_function(x, y).numpy())\n",
        "  if test_function(x, y) < 0.0001:\n",
        "    print('Iterarion', step)\n",
        "    print('x, y', x.numpy(), y.numpy())\n",
        "    print('z', test_function(x, y).numpy())\n",
        "    break\n"
      ],
      "metadata": {
        "id": "0bnaCjqt_sZS",
        "colab": {
          "base_uri": "https://localhost:8080/"
        },
        "outputId": "f04d086b-4008-4780-a1b6-000e264ccc7b"
      },
      "execution_count": 14,
      "outputs": [
        {
          "output_type": "stream",
          "name": "stdout",
          "text": [
            "Iterarion 0\n",
            "x, y 0.9648712 0.9822426\n",
            "grad -0.05560267 -0.029224534\n",
            "z 0.0012345312\n",
            "Iterarion 20\n",
            "x, y 0.96703684 0.98334616\n",
            "grad -0.052391052 -0.027030367\n",
            "z 0.001087021\n",
            "Iterarion 40\n",
            "x, y 0.9690697 0.98438114\n",
            "grad -0.04929042 -0.025134524\n",
            "z 0.0009570852\n",
            "Iterarion 60\n",
            "x, y 0.97097796 0.985352\n",
            "grad -0.046272516 -0.023561973\n",
            "z 0.00084263185\n",
            "Iterarion 80\n",
            "x, y 0.97276914 0.9862623\n",
            "grad -0.043441772 -0.022078963\n",
            "z 0.0007418309\n",
            "Iterarion 100\n",
            "x, y 0.9744504 0.9871161\n",
            "grad -0.040771842 -0.02070965\n",
            "z 0.0006530542\n",
            "Iterarion 120\n",
            "x, y 0.97602844 0.98791677\n",
            "grad -0.038261414 -0.019431097\n",
            "z 0.00057487446\n",
            "Iterarion 140\n",
            "x, y 0.97750956 0.9886676\n",
            "grad -0.035933614 -0.018173091\n",
            "z 0.0005060306\n",
            "Iterarion 160\n",
            "x, y 0.9788995 0.9893716\n",
            "grad -0.03377688 -0.016935933\n",
            "z 0.00044541978\n",
            "Iterarion 180\n",
            "x, y 0.9802037 0.99003184\n",
            "grad -0.031696677 -0.015885117\n",
            "z 0.0003920592\n"
          ]
        }
      ]
    },
    {
      "cell_type": "code",
      "source": [],
      "metadata": {
        "id": "5Epj1ddoh9ES"
      },
      "execution_count": null,
      "outputs": []
    }
  ]
}