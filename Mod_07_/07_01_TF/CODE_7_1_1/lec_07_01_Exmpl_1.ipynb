{
  "cells": [
    {
      "cell_type": "markdown",
      "metadata": {
        "id": "CWlLmt_qH6U8"
      },
      "source": [
        "# Частина 7. TensorFlow\n",
        "## Лекція 01. Приклад 1. Тезори: типи, властивості, створення"
      ]
    },
    {
      "cell_type": "markdown",
      "metadata": {
        "id": "zBdrpRBPLVRl"
      },
      "source": [
        "### Імпорт TF"
      ]
    },
    {
      "cell_type": "code",
      "execution_count": 1,
      "metadata": {
        "colab": {
          "base_uri": "https://localhost:8080/"
        },
        "id": "QwoyvdB4Krky",
        "outputId": "dacd55b3-d550-4f4c-e014-1401849f42f3"
      },
      "outputs": [
        {
          "output_type": "stream",
          "name": "stdout",
          "text": [
            "2.15.0\n"
          ]
        }
      ],
      "source": [
        "import tensorflow as tf\n",
        "print(tf.__version__)"
      ]
    },
    {
      "cell_type": "code",
      "execution_count": 2,
      "metadata": {
        "colab": {
          "base_uri": "https://localhost:8080/"
        },
        "id": "-zrQQRIjKuYU",
        "outputId": "1e4c2be8-2ede-4373-ce63-36903d4643c9"
      },
      "outputs": [
        {
          "output_type": "stream",
          "name": "stdout",
          "text": [
            "True\n"
          ]
        }
      ],
      "source": [
        "print(tf.executing_eagerly() )"
      ]
    },
    {
      "cell_type": "code",
      "execution_count": 3,
      "metadata": {
        "id": "j9E0H9IyFYDH"
      },
      "outputs": [],
      "source": [
        "import numpy as np"
      ]
    },
    {
      "cell_type": "markdown",
      "metadata": {
        "id": "dPu10COMcuec"
      },
      "source": [
        "### **ТЕНЗОР**"
      ]
    },
    {
      "cell_type": "markdown",
      "metadata": {
        "id": "o_5LpdAzQEQd"
      },
      "source": [
        "\n",
        "Основний  об'єкт TensorFlow - **ТЕНЗОР** – в деякому сенсі спадкоємець багатовимірних масивів в мовах програмування (наприклад,  в пакеті *numpy*).\n",
        "\n",
        "Тезор можна уявляти як деяку колекцію (багатовимірний список **list**) скалярів, веторів, матриць та інших тензорів меншого рангу.\n",
        "Але, слід відзначити головну відмінність тензору від списку: **всі елементи тензору повинні бути одного типу**.\n",
        "\n",
        "Один з основних параметрів тензору, це його ранг (*rank*), який визначає його вимірність (кількість осей *axis*).\n",
        "#### Ранг  тензору\n",
        "| Ранг | Математичне представлення |\n",
        "| ---- | ------------------------- |\n",
        "| 0    | скаляр                    |\n",
        "| 1    | вектор                    |\n",
        "| 2    | матриця = вектор векторів |\n",
        "| 3    | тензор = вектор векторів векторів (3-вимірний масив) |\n",
        "| N    | тензор = вектор векторів ... векторів(N-вимірний масив) |\n",
        "\n",
        "Скаляр, це деяка змінна, наприклад $\\quad x$\n",
        "\n",
        "Вектор $\\vec x$- одновимірний список. Наприклад, вектор, що має 4 компоненти:\n",
        "$$\n",
        "\\begin{bmatrix}\n",
        "x_0, x_1, x_2, x_3\n",
        "\\end{bmatrix} \\Leftarrow \\Rightarrow \\vec{x}\n",
        "$$\n",
        "\n",
        "Матриця $X$, двовимірний список, або список списків. Наприклад, матриця розміром $3*4$, еквівалентна вектору із 3-х векторів:\n",
        "$$\n",
        "\\begin{bmatrix}\n",
        "\\begin{bmatrix} x_{0,0}, x_{0,1}, x_{0,2}, x_{0,3} \\end{bmatrix}\\\\\n",
        "\\begin{bmatrix} x_{1,0}, x_{1,1}, x_{1,2}, x_{1,3} \\end{bmatrix}\\\\\n",
        "\\begin{bmatrix} x_{2,0}, x_{2,1}, x_{2,2}, x_{2,3} \\end{bmatrix}\n",
        "\\end{bmatrix}\\Leftarrow \\Rightarrow \\begin{bmatrix}\\vec{x_0}\\\\\\vec{x_1}\\\\\\vec{x_2}\\end{bmatrix} \\Leftarrow \\Rightarrow X\n",
        "$$\n",
        "Тензор $\\mathcal T$ рангу 3 це список, що складається із списків, яки в свою чергу теж є списками. Наприклад, тензор розмром $3*3*3$ :\n",
        "$$\n",
        "\\begin{bmatrix}\n",
        "\\begin{bmatrix}\n",
        "\\begin{bmatrix} x_{0,0}, x_{0,1},x_{0,2} \\end{bmatrix}\\\\\n",
        "\\begin{bmatrix} x_{1,0}, x_{1,1},x_{1,2} \\end{bmatrix}\\\\\n",
        "\\begin{bmatrix} x_{2,0}, x_{2,1},x_{2,2} \\end{bmatrix}\n",
        "\\end{bmatrix}\\\\\n",
        "\\begin{bmatrix}\n",
        "\\begin{bmatrix} y_{0,0}, y_{0,1},y_{0,2} \\end{bmatrix}\\\\\n",
        "\\begin{bmatrix} x_{1,0}, y_{1,1},y_{1,2} \\end{bmatrix}\\\\\n",
        "\\begin{bmatrix} y_{2,0}, y_{2,1},y_{2,2} \\end{bmatrix}\n",
        "\\end{bmatrix}\\\\\n",
        "\\begin{bmatrix}\n",
        "\\begin{bmatrix} z_{0,0}, z_{0,1},z_{0,2} \\end{bmatrix}\\\\\n",
        "\\begin{bmatrix} z_{1,0}, z_{1,1},z_{1,2} \\end{bmatrix}\\\\\n",
        "\\begin{bmatrix} z_{2,0}, z_{2,1},z_{2,2} \\end{bmatrix}\n",
        "\\end{bmatrix}\n",
        "\\end{bmatrix}\\Leftarrow \\Rightarrow\n",
        "\\begin{bmatrix}\n",
        "\\begin{bmatrix}\\vec{x_0}\\\\\\vec{x_1}\\\\\\vec{x_1}\\end{bmatrix}\\\\\n",
        "\\begin{bmatrix}\\vec{y_0}\\\\\\vec{y_1}\\\\\\vec{y_1}\\end{bmatrix}\\\\\n",
        "\\begin{bmatrix}\\vec{z_0}\\\\\\vec{z_1}\\\\\\vec{z_1}\\end{bmatrix}\n",
        "\\end{bmatrix} \\Leftarrow \\Rightarrow\n",
        "\\begin{bmatrix}\n",
        "X \\\\ Y\\\\ Z\n",
        "\\end{bmatrix} \\Leftarrow \\Rightarrow \\mathcal T\n",
        "$$\n",
        "Та, нарешті, тензор $\\mathcal Q$ рангу 4 - це список, що складається із списків, які в свою чергу теж є списками списків. Наприклад, тензор розмром $2*3*2*4$ елементів:\n",
        "$$\n",
        "\\begin{bmatrix}\n",
        "\\begin{bmatrix}\n",
        "\\begin{bmatrix}\n",
        "\\begin{bmatrix} x_{0,0}, ..., x_{0,3} \\end{bmatrix}\\\\\n",
        "\\begin{bmatrix} x_{1,0}, ..., x_{1,3} \\end{bmatrix}\\\\\n",
        "\\end{bmatrix}\\\\\n",
        "\\begin{bmatrix}\n",
        "\\begin{bmatrix} y_{0,0}, ..., y_{0,3} \\end{bmatrix}\\\\\n",
        "\\begin{bmatrix} x_{1,0}, ..., y_{1,3} \\end{bmatrix}\\\\\n",
        "\\end{bmatrix}\\\\\n",
        "\\begin{bmatrix}\n",
        "\\begin{bmatrix} z_{0,0},...,z_{0,3} \\end{bmatrix}\\\\\n",
        "\\begin{bmatrix} z_{1,0},...,z_{1,3} \\end{bmatrix}\\\\\n",
        "\\end{bmatrix}\n",
        "\\end{bmatrix}\\\\\n",
        "\\begin{bmatrix}\n",
        "\\begin{bmatrix}\n",
        "\\begin{bmatrix} x_{0,0}, ..., x_{0,3} \\end{bmatrix}\\\\\n",
        "\\begin{bmatrix} x_{1,0}, ..., x_{1,3} \\end{bmatrix}\\\\\n",
        "\\end{bmatrix}\\\\\n",
        "\\begin{bmatrix}\n",
        "\\begin{bmatrix} y_{0,0}, ..., y_{0,3} \\end{bmatrix}\\\\\n",
        "\\begin{bmatrix} y_{1,0}, ..., y_{1,3} \\end{bmatrix}\\\\\n",
        "\\end{bmatrix}\\\\\n",
        "\\begin{bmatrix}\n",
        "\\begin{bmatrix} z_{0,0},...,z_{0,3} \\end{bmatrix}\\\\\n",
        "\\begin{bmatrix} z_{1,0},...,z_{1,3} \\end{bmatrix}\\\\\n",
        "\\end{bmatrix}\n",
        "\\end{bmatrix}\n",
        "\\end{bmatrix} \\Leftarrow \\Rightarrow\n",
        "\\begin{bmatrix}\n",
        "\\begin{bmatrix}\n",
        "\\begin{bmatrix}\\vec{x_0}\\\\\\vec{x_1}\\\\\\end{bmatrix}\\\\\n",
        "\\begin{bmatrix}\\vec{y_0}\\\\\\vec{y_1}\\\\\\end{bmatrix}\\\\\n",
        "\\begin{bmatrix}\\vec{z_0}\\\\\\vec{z_1}\\\\\\end{bmatrix}\n",
        "\\end{bmatrix} \\\\\n",
        "\\begin{bmatrix}\n",
        "\\begin{bmatrix}\\vec{x_0}\\\\\\vec{x_1}\\\\\\end{bmatrix}\\\\\n",
        "\\begin{bmatrix}\\vec{y_0}\\\\\\vec{y_1}\\\\\\end{bmatrix}\\\\\n",
        "\\begin{bmatrix}\\vec{z_0}\\\\\\vec{z_1}\\\\\\end{bmatrix}\n",
        "\\end{bmatrix}\n",
        "\\end{bmatrix}  \\Leftarrow \\Rightarrow\n",
        "\\begin{bmatrix}\n",
        "\\begin{bmatrix} X_0 \\\\ Y_0 \\\\ Z_0\n",
        "\\end{bmatrix} \\\\\n",
        "\\begin{bmatrix} X_1 \\\\ Y_1\\\\ Z_1\n",
        "\\end{bmatrix}\n",
        "\\end{bmatrix} \\Leftarrow \\Rightarrow\n",
        "\\begin{bmatrix}\n",
        "\\begin{bmatrix} \\mathcal T_0 \\\\ \\mathcal T_1\n",
        "\\end{bmatrix}\n",
        "\\end{bmatrix} \\Leftarrow \\Rightarrow \\mathcal Q\n",
        "$$"
      ]
    },
    {
      "cell_type": "markdown",
      "metadata": {
        "id": "5o-wqrsXdS_4"
      },
      "source": [
        "### **ВИЗНАЧЕННЯ ТЕНЗОРУ в TENSORFLOW**"
      ]
    },
    {
      "cell_type": "markdown",
      "metadata": {
        "id": "1_7YsHPmBQ8U"
      },
      "source": [
        "Усі тензорні об’єкти в Tensorflow мають наступні властивості:\n",
        "\n",
        "- ***name*** — ім'я тензору;\n",
        "- ***value*** — значення тензору;\n",
        "- ***rank*** — вимірність тензору ;\n",
        "- ***shape*** — кількість елементів, яку містить тензор у кожному вимірі;\n",
        "- ***dtype*** — тип даних, до якого належать усі елементи в тензорі.\n",
        "\n",
        "Тип елементу *dtype* повністю аналогічен *numpy*. Наприклад:\n",
        "\n",
        "- float128, float64, float32,\n",
        "- int64, int32, int16, int8\n",
        "- complex128, complex64\n",
        "- string (!! навіть строки)\n",
        "\n",
        "\n"
      ]
    },
    {
      "cell_type": "markdown",
      "metadata": {
        "id": "CZGIT-HILiC5"
      },
      "source": [
        "### Відмінності LIST <> Numpy Array <> Tensor"
      ]
    },
    {
      "cell_type": "code",
      "execution_count": 4,
      "metadata": {
        "id": "gBNC3JQFK2Sg"
      },
      "outputs": [],
      "source": [
        "# Python List\n",
        "m1 = [[1.0, 2.0], [3.0, 4.0]]"
      ]
    },
    {
      "cell_type": "code",
      "execution_count": 5,
      "metadata": {
        "colab": {
          "base_uri": "https://localhost:8080/"
        },
        "id": "k4Y0XxJhFqqN",
        "outputId": "ac2258db-d4af-4600-cd46-bfd4ff66e0a5"
      },
      "outputs": [
        {
          "output_type": "stream",
          "name": "stdout",
          "text": [
            "<class 'list'>\n"
          ]
        }
      ],
      "source": [
        "print(type(m1))"
      ]
    },
    {
      "cell_type": "code",
      "execution_count": 6,
      "metadata": {
        "colab": {
          "base_uri": "https://localhost:8080/"
        },
        "id": "LiWARjqRFwB3",
        "outputId": "c475a16a-1b7a-4205-8478-51da5caf30c0"
      },
      "outputs": [
        {
          "output_type": "stream",
          "name": "stdout",
          "text": [
            "<class 'numpy.ndarray'> (2, 2)\n"
          ]
        }
      ],
      "source": [
        "# Numpy Martrix\n",
        "m2 = np.array([[1.0, 2.0], [3.0, 4.0]], dtype=np.float32)\n",
        "print(type(m2), m2.shape)"
      ]
    },
    {
      "cell_type": "code",
      "execution_count": 7,
      "metadata": {
        "colab": {
          "base_uri": "https://localhost:8080/"
        },
        "id": "_GVQmO0qGTkI",
        "outputId": "25631aaf-ac45-4a61-fc95-9c02fc1f8e3f"
      },
      "outputs": [
        {
          "output_type": "stream",
          "name": "stdout",
          "text": [
            "<class 'tensorflow.python.framework.ops.EagerTensor'> (2, 2)\n"
          ]
        }
      ],
      "source": [
        "# Tensorflow Tensor\n",
        "m3 = tf.constant([[1.0, 2.0], [3.0, 4.0]])\n",
        "print(type(m3), m3.shape)"
      ]
    },
    {
      "cell_type": "markdown",
      "metadata": {
        "id": "hFsZB_xVIaMP"
      },
      "source": [
        "### Перетворення до тензору"
      ]
    },
    {
      "cell_type": "code",
      "execution_count": 8,
      "metadata": {
        "colab": {
          "base_uri": "https://localhost:8080/"
        },
        "id": "F3EzsCOmG3Hd",
        "outputId": "ca4b35fe-b41e-4ed1-87bf-e4f879869ba9"
      },
      "outputs": [
        {
          "output_type": "stream",
          "name": "stdout",
          "text": [
            "<class 'tensorflow.python.framework.ops.EagerTensor'> (2, 2)\n"
          ]
        }
      ],
      "source": [
        "t1 = tf.convert_to_tensor(m1, dtype=tf.float32)\n",
        "print(type(t1), t1.shape)"
      ]
    },
    {
      "cell_type": "code",
      "execution_count": 9,
      "metadata": {
        "colab": {
          "base_uri": "https://localhost:8080/"
        },
        "id": "inf6M2rYHtvF",
        "outputId": "f1b2e8ce-24bf-4c78-eee2-21e0efe80358"
      },
      "outputs": [
        {
          "output_type": "stream",
          "name": "stdout",
          "text": [
            "<class 'tensorflow.python.framework.ops.EagerTensor'> (2, 2)\n"
          ]
        }
      ],
      "source": [
        "t2 = tf.convert_to_tensor(m2, dtype=tf.float32)\n",
        "print(type(t2), t2.shape)"
      ]
    },
    {
      "cell_type": "code",
      "execution_count": 10,
      "metadata": {
        "colab": {
          "base_uri": "https://localhost:8080/"
        },
        "id": "S_u-lhTJH5Lv",
        "outputId": "ff77c35e-bfd4-49d0-99fb-f3e94ba10533"
      },
      "outputs": [
        {
          "output_type": "stream",
          "name": "stdout",
          "text": [
            "<class 'tensorflow.python.framework.ops.EagerTensor'> (2, 2)\n"
          ]
        }
      ],
      "source": [
        "t3 = tf.convert_to_tensor(m3, dtype=tf.float32)\n",
        "print(type(t3), t3.shape)"
      ]
    },
    {
      "cell_type": "markdown",
      "metadata": {
        "id": "Kwlm1wQtPRx5"
      },
      "source": [
        "### Приклади створення константних тензорів"
      ]
    },
    {
      "cell_type": "code",
      "execution_count": 11,
      "metadata": {
        "id": "8Df2fkAeIAUD"
      },
      "outputs": [],
      "source": [
        "scalar1 = tf.constant(2, dtype=tf.int8)\n",
        "scalvec = tf.constant(2, shape = (1), dtype=tf.int16)\n",
        "scalmatr = tf.constant(2, shape = (1,1), dtype=tf.int32)"
      ]
    },
    {
      "cell_type": "code",
      "execution_count": 12,
      "metadata": {
        "colab": {
          "base_uri": "https://localhost:8080/"
        },
        "id": "1CZMREOFQEGZ",
        "outputId": "a3752ef0-490e-4d4e-e2a8-f45bdbfb889a"
      },
      "outputs": [
        {
          "output_type": "stream",
          "name": "stdout",
          "text": [
            "tf.Tensor(2, shape=(), dtype=int8)\n",
            "tf.Tensor([2], shape=(1,), dtype=int16)\n",
            "tf.Tensor([[2]], shape=(1, 1), dtype=int32)\n"
          ]
        }
      ],
      "source": [
        "print(scalar1)\n",
        "print(scalvec)\n",
        "print(scalmatr)"
      ]
    },
    {
      "cell_type": "code",
      "execution_count": 13,
      "metadata": {
        "colab": {
          "base_uri": "https://localhost:8080/"
        },
        "id": "VLzkTAYMQ23a",
        "outputId": "524ce000-8223-409b-da11-d9e6ce0b8914"
      },
      "outputs": [
        {
          "output_type": "stream",
          "name": "stdout",
          "text": [
            "tf.Tensor(0, shape=(), dtype=int32)\n",
            "tf.Tensor(1, shape=(), dtype=int32)\n",
            "tf.Tensor(2, shape=(), dtype=int32)\n"
          ]
        }
      ],
      "source": [
        "# RANK - РАНГ\n",
        "print(tf.rank(scalar1))\n",
        "print(tf.rank(scalvec))\n",
        "print(tf.rank(scalmatr))"
      ]
    },
    {
      "cell_type": "code",
      "execution_count": 14,
      "metadata": {
        "colab": {
          "base_uri": "https://localhost:8080/"
        },
        "id": "3GWLEXe9V-_F",
        "outputId": "f57e41dc-2916-4492-f92a-c8e95e2824cc"
      },
      "outputs": [
        {
          "output_type": "stream",
          "name": "stdout",
          "text": [
            "()\n",
            "(1,)\n",
            "(1, 1)\n"
          ]
        }
      ],
      "source": [
        "# SHAPE - РОЗМІРНІСТЬ\n",
        "print(scalar1.shape)\n",
        "print(scalvec.shape)\n",
        "print(scalmatr.shape)"
      ]
    },
    {
      "cell_type": "code",
      "execution_count": 15,
      "metadata": {
        "id": "B1NdA3fNTq12"
      },
      "outputs": [],
      "source": [
        "vector1 = tf.constant([1, 2, 3, 4], dtype=tf.float32)\n",
        "vector2 = tf.constant([10, 20, 30, 40, 50], dtype=tf.float32)"
      ]
    },
    {
      "cell_type": "code",
      "execution_count": 16,
      "metadata": {
        "colab": {
          "base_uri": "https://localhost:8080/"
        },
        "id": "Xn9D77gQStWj",
        "outputId": "dd69119d-bd84-4a7b-cd93-4809dab40e80"
      },
      "outputs": [
        {
          "output_type": "stream",
          "name": "stdout",
          "text": [
            "tf.Tensor([1. 2. 3. 4.], shape=(4,), dtype=float32)\n",
            "Ранг vec1 tf.Tensor(1, shape=(), dtype=int32)\n",
            "Розмір vec1 (4,)\n",
            "tf.Tensor([10. 20. 30. 40. 50.], shape=(5,), dtype=float32)\n",
            "Ранг vec2 tf.Tensor(1, shape=(), dtype=int32)\n",
            "Розмір vec2 (5,)\n"
          ]
        }
      ],
      "source": [
        "print(vector1)\n",
        "print('Ранг vec1',tf.rank(vector1))\n",
        "print('Розмір vec1',vector1.shape)\n",
        "print(vector2)\n",
        "print('Ранг vec2',tf.rank(vector2))\n",
        "print('Розмір vec2',vector2.shape)"
      ]
    },
    {
      "cell_type": "code",
      "execution_count": 17,
      "metadata": {
        "id": "hEUVf-JbTuUS"
      },
      "outputs": [],
      "source": [
        "matrix1 = tf.constant([[1, 2, 3, 4], [3, 4, 5, 6], [6, 7, 8, 9]], dtype=tf.float64)\n",
        "matrix2 = tf.constant([[1, 2, 3], [3, 4, 5], [6, 7, 8], [7, 8, 9]], dtype=tf.float64)"
      ]
    },
    {
      "cell_type": "code",
      "execution_count": 18,
      "metadata": {
        "colab": {
          "base_uri": "https://localhost:8080/"
        },
        "id": "lU0obUoSTWjg",
        "outputId": "cf5adb03-219f-48e8-c7d7-3dce23bb3c76"
      },
      "outputs": [
        {
          "output_type": "stream",
          "name": "stdout",
          "text": [
            "tf.Tensor(\n",
            "[[1. 2. 3. 4.]\n",
            " [3. 4. 5. 6.]\n",
            " [6. 7. 8. 9.]], shape=(3, 4), dtype=float64)\n",
            "Ранг matr1 tf.Tensor(2, shape=(), dtype=int32)\n",
            "Розмір matr1 (3, 4)\n",
            "tf.Tensor(\n",
            "[[1. 2. 3.]\n",
            " [3. 4. 5.]\n",
            " [6. 7. 8.]\n",
            " [7. 8. 9.]], shape=(4, 3), dtype=float64)\n",
            "Ранг matr2 tf.Tensor(2, shape=(), dtype=int32)\n",
            "Розмір matr2 (4, 3)\n"
          ]
        }
      ],
      "source": [
        "print(matrix1)\n",
        "print('Ранг matr1',tf.rank(matrix1))\n",
        "print('Розмір matr1',matrix1.shape)\n",
        "print(matrix2)\n",
        "print('Ранг matr2',tf.rank(matrix2))\n",
        "print('Розмір matr2',matrix2.shape)"
      ]
    },
    {
      "cell_type": "markdown",
      "metadata": {
        "id": "nXijIrqSPavx"
      },
      "source": [
        "### Приклади створення вареативних тензорів"
      ]
    },
    {
      "cell_type": "code",
      "execution_count": 19,
      "metadata": {
        "id": "o9OznHtAUQzh"
      },
      "outputs": [],
      "source": [
        "vmatr1 = tf.Variable([[1, 2, 3, 4], [3, 4, 5, 6], [6, 7, 8, 9]], dtype=tf.float64)\n",
        "vmatr2 = tf.Variable([[1, 2, 3], [3, 4, 5], [6, 7, 8], [7, 8, 9]], dtype=tf.int32)"
      ]
    },
    {
      "cell_type": "code",
      "execution_count": 20,
      "metadata": {
        "colab": {
          "base_uri": "https://localhost:8080/"
        },
        "id": "gxlxqr6qUmTi",
        "outputId": "c1913ad0-dcc5-41c7-ccc2-923f90898f5b"
      },
      "outputs": [
        {
          "output_type": "stream",
          "name": "stdout",
          "text": [
            "<tf.Variable 'Variable:0' shape=(3, 4) dtype=float64, numpy=\n",
            "array([[1., 2., 3., 4.],\n",
            "       [3., 4., 5., 6.],\n",
            "       [6., 7., 8., 9.]])>\n",
            "Ранг vmatr1 tf.Tensor(2, shape=(), dtype=int32)\n",
            "Розмір vmatr1 (3, 4)\n",
            "<tf.Variable 'Variable:0' shape=(4, 3) dtype=int32, numpy=\n",
            "array([[1, 2, 3],\n",
            "       [3, 4, 5],\n",
            "       [6, 7, 8],\n",
            "       [7, 8, 9]], dtype=int32)>\n",
            "Ранг vmatr2 tf.Tensor(2, shape=(), dtype=int32)\n",
            "Розмір vmatr2 (4, 3)\n"
          ]
        }
      ],
      "source": [
        "print(vmatr1)\n",
        "print('Ранг vmatr1',tf.rank(vmatr1))\n",
        "print('Розмір vmatr1',vmatr1.shape)\n",
        "print(vmatr2)\n",
        "print('Ранг vmatr2',tf.rank(vmatr2))\n",
        "print('Розмір vmatr2',vmatr2.shape)"
      ]
    },
    {
      "cell_type": "markdown",
      "metadata": {
        "id": "3uKWSFDOdq6l"
      },
      "source": [
        "### Атрибути тензору"
      ]
    },
    {
      "cell_type": "code",
      "execution_count": 21,
      "metadata": {
        "id": "dSSOxROQUwvz"
      },
      "outputs": [],
      "source": [
        "tensor_rank_4 = tf.zeros([3, 2, 4, 5])"
      ]
    },
    {
      "cell_type": "code",
      "execution_count": 22,
      "metadata": {
        "colab": {
          "base_uri": "https://localhost:8080/"
        },
        "id": "Tp3O2FAjbFAi",
        "outputId": "9e0916b9-398b-4bdd-a1f1-47035bb5e8c9"
      },
      "outputs": [
        {
          "output_type": "stream",
          "name": "stdout",
          "text": [
            "Type of every element: <dtype: 'float32'>\n",
            "Number of axes: 4\n",
            "Shape of tensor: (3, 2, 4, 5)\n",
            "Elements along axis 0 of tensor: 3\n",
            "Elements along the last axis of tensor: 5\n",
            "Total number of elements (3*2*4*5):  120\n"
          ]
        }
      ],
      "source": [
        "print(\"Type of every element:\", tensor_rank_4.dtype)\n",
        "print(\"Number of axes:\", tensor_rank_4.ndim)\n",
        "print(\"Shape of tensor:\", tensor_rank_4.shape)\n",
        "print(\"Elements along axis 0 of tensor:\", tensor_rank_4.shape[0])\n",
        "print(\"Elements along the last axis of tensor:\", tensor_rank_4.shape[-1])\n",
        "print(\"Total number of elements (3*2*4*5): \", tf.size(tensor_rank_4).numpy())"
      ]
    },
    {
      "cell_type": "code",
      "execution_count": 23,
      "metadata": {
        "id": "NTWNWjjAbV9i"
      },
      "outputs": [],
      "source": [
        "tensor_rank_4 = tf.ones([3, 2, 4, 5])"
      ]
    },
    {
      "cell_type": "code",
      "execution_count": 24,
      "metadata": {
        "colab": {
          "base_uri": "https://localhost:8080/"
        },
        "id": "4H5lZlpD0xdY",
        "outputId": "8c30b5a5-b69f-4c1e-9f20-f986d623cbd4"
      },
      "outputs": [
        {
          "output_type": "stream",
          "name": "stdout",
          "text": [
            "[[[[1. 1. 1. 1. 1.]\n",
            "   [1. 1. 1. 1. 1.]\n",
            "   [1. 1. 1. 1. 1.]\n",
            "   [1. 1. 1. 1. 1.]]\n",
            "\n",
            "  [[1. 1. 1. 1. 1.]\n",
            "   [1. 1. 1. 1. 1.]\n",
            "   [1. 1. 1. 1. 1.]\n",
            "   [1. 1. 1. 1. 1.]]]]\n"
          ]
        }
      ],
      "source": [
        "print(tensor_rank_4[0:1].numpy())"
      ]
    },
    {
      "cell_type": "code",
      "execution_count": 25,
      "metadata": {
        "id": "MHCWjC0v0-2J"
      },
      "outputs": [],
      "source": [
        "tnrank4 = tf.constant([[[1,2,3],[4,5,6],[7,8,9],[10,11,12]],\n",
        "  [[13,14,15],[16,17,18],[19,20,21],[22,23,24]],\n",
        "  [[25,26,27],[28,29,30],[31,32,33],[34,35,36]]],dtype=tf.int8)"
      ]
    },
    {
      "cell_type": "code",
      "execution_count": 26,
      "metadata": {
        "colab": {
          "base_uri": "https://localhost:8080/"
        },
        "id": "etWZXoEP2xQi",
        "outputId": "76d4c06c-aedc-4625-f07a-02c05049818c"
      },
      "outputs": [
        {
          "output_type": "stream",
          "name": "stdout",
          "text": [
            "[ 6 18 30]\n"
          ]
        }
      ],
      "source": [
        "print(tnrank4[:,1,2].numpy())"
      ]
    }
  ],
  "metadata": {
    "accelerator": "TPU",
    "colab": {
      "provenance": []
    },
    "kernelspec": {
      "display_name": "Python 3 (ipykernel)",
      "language": "python",
      "name": "python3"
    },
    "language_info": {
      "codemirror_mode": {
        "name": "ipython",
        "version": 3
      },
      "file_extension": ".py",
      "mimetype": "text/x-python",
      "name": "python",
      "nbconvert_exporter": "python",
      "pygments_lexer": "ipython3",
      "version": "3.9.19"
    }
  },
  "nbformat": 4,
  "nbformat_minor": 0
}