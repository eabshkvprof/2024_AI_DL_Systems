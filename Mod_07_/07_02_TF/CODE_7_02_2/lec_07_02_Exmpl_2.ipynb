{
 "cells": [
  {
   "cell_type": "markdown",
   "metadata": {
    "id": "JFF8ekJZvxGn"
   },
   "source": [
    "# Модуль 7. TensorFlow\n",
    "## Лекція 02. Приклад 2. Лінійна алгебра"
   ]
  },
  {
   "cell_type": "markdown",
   "metadata": {
    "id": "bDbi4a_o16Tx"
   },
   "source": [
    "Операції лінійної алгебри надає модуль [**tf.linalg**](https://www.tensorflow.org/api_docs/python/tf/linalg)\n",
    "\n",
    "\n",
    "\n",
    "---\n",
    "\n"
   ]
  },
  {
   "cell_type": "markdown",
   "metadata": {
    "id": "uv3mzn_HHDlO"
   },
   "source": [
    "### Вирішення систем лінійних алгебраїчних рівняннь\n",
    "[tf.linalg.solve](https://www.tensorflow.org/api_docs/python/tf/linalg/solve)\n"
   ]
  },
  {
   "cell_type": "markdown",
   "metadata": {
    "id": "4gxfdXrzlRXd"
   },
   "source": [
    "#### Функція\n",
    "\n",
    "tf.linalg.solve(\n",
    "    **matrix**: Annotated[Any, TV_MatrixSolve_T],\n",
    "    **rhs**: Annotated[Any, TV_MatrixSolve_T],\n",
    "    **adjoint**: bool = False,\n",
    "    **name=None**\n",
    ") -> Annotated[Any, TV_MatrixSolve_T]\n",
    "\n",
    "Matrix — це тензор форми [..., M, M], внутрішні 2 виміри якого утворюють квадратні матриці. Rhs — тензор форми [..., M, K]. Результатом є тензорна форма [..., M, K]. Якщо adjoint має значення False, тоді кожна вихідна матриця задовольняє\n",
    "\n",
    " **matrix**[..., :, :] X **output**[..., :, :] = **rhs**[..., :, :].\n",
    "\n",
    " Якщо adjoint має значення True, тоді кожна вихідна матриця задовольняє\n",
    "\n",
    "adjoint(**matrix**[..., :, :]) X **output**[..., :, :] = **rhs**[..., :, :].\n",
    "\n",
    "Args\n",
    "- **matrix**\tA Tensor. Must be one of the following types: float64, float32, half, complex64, complex128. Shape is [..., M, M].\n",
    "\n",
    "- **rhs**\tA Tensor. Must have the same type as matrix. Shape is [..., M, K].\n",
    "\n",
    "- **adjoint**\tAn optional bool. Defaults to False. Boolean indicating whether to solve with matrix or its (block-wise) adjoint.\n",
    "\n",
    "- **name**\tA name for the operation (optional).\n",
    "Returns\n",
    "- A Tensor. Has the same type as matrix."
   ]
  },
  {
   "cell_type": "markdown",
   "metadata": {
    "id": "MpWclP2c-Xrn"
   },
   "source": [
    "Визначення версії TF"
   ]
  },
  {
   "cell_type": "code",
   "execution_count": 1,
   "metadata": {
    "colab": {
     "base_uri": "https://localhost:8080/"
    },
    "id": "DqX9e0qY9rOs",
    "outputId": "85b15e99-1e4c-412e-c928-de583d2cda0f"
   },
   "outputs": [
    {
     "name": "stdout",
     "output_type": "stream",
     "text": [
      "2.15.0\n"
     ]
    }
   ],
   "source": [
    "import tensorflow as tf # імпорт tensofflow\n",
    "import numpy as np # імпорт numpy\n",
    "import pprint as pprint # імпорт пакету посиленого друку\n",
    "print(tf.__version__) # версія TF"
   ]
  },
  {
   "cell_type": "markdown",
   "metadata": {
    "id": "33xh8qsDupUB"
   },
   "source": [
    "### Пакет квадратних матриць"
   ]
  },
  {
   "cell_type": "code",
   "execution_count": 2,
   "metadata": {
    "colab": {
     "base_uri": "https://localhost:8080/"
    },
    "id": "wAbdujhxpONU",
    "outputId": "8126685e-62a9-48ea-c703-6c5cbdcc2846"
   },
   "outputs": [
    {
     "name": "stdout",
     "output_type": "stream",
     "text": [
      "tf.Tensor([3 2 2], shape=(3,), dtype=int32)\n",
      "[[[  1.  -2.]\n",
      "  [ -3.   4.]]\n",
      "\n",
      " [[  5.  -6.]\n",
      "  [  7.   8.]]\n",
      "\n",
      " [[  9. -10.]\n",
      "  [-11.  12.]]]\n"
     ]
    }
   ],
   "source": [
    "# A = ... # shape 3 x 2 x 2\n",
    "A = tf.constant([[[1,-2],[-3,4]],[[5,-6],[7,8]],[[9,-10],[-11,12]]], dtype=tf.float32)\n",
    "print(tf.shape(A))\n",
    "print(A.numpy())"
   ]
  },
  {
   "cell_type": "markdown",
   "metadata": {
    "id": "Wbc4eZLru0Dd"
   },
   "source": [
    "### Пакет векторів правих частин"
   ]
  },
  {
   "cell_type": "code",
   "execution_count": 3,
   "metadata": {
    "colab": {
     "base_uri": "https://localhost:8080/"
    },
    "id": "jgAIybg5p6rV",
    "outputId": "3ec7d7f8-d492-43c1-8ba3-0c0ff65b54ff"
   },
   "outputs": [
    {
     "name": "stdout",
     "output_type": "stream",
     "text": [
      "tf.Tensor([3 2 1], shape=(3,), dtype=int32)\n",
      "[[[  1.]\n",
      "  [ -2.]]\n",
      "\n",
      " [[ -5.]\n",
      "  [  6.]]\n",
      "\n",
      " [[ -9.]\n",
      "  [-10.]]]\n"
     ]
    }
   ],
   "source": [
    "#B = ... # shape 3 x 2 x 1\n",
    "B = tf.constant([[[1],[-2]],[[-5],[6]],[[-9],[-10]]], dtype=tf.float32)\n",
    "print(tf.shape(B))\n",
    "print(B.numpy())"
   ]
  },
  {
   "cell_type": "code",
   "execution_count": 4,
   "metadata": {
    "id": "Bq1DTRRSpIb8"
   },
   "outputs": [],
   "source": [
    "# Вирішення 3-х лінійних систем розміром 2x2:\n",
    "X = tf.linalg.solve(A, B)\n"
   ]
  },
  {
   "cell_type": "code",
   "execution_count": 5,
   "metadata": {
    "colab": {
     "base_uri": "https://localhost:8080/"
    },
    "id": "X591Bcwcq7kI",
    "outputId": "f1ac06b7-b44b-4e69-b60a-0a1e43136dfc"
   },
   "outputs": [
    {
     "name": "stdout",
     "output_type": "stream",
     "text": [
      "tf.Tensor([3 2 1], shape=(3,), dtype=int32)\n",
      "[[[-0.0000000e+00]\n",
      "  [-5.0000000e-01]]\n",
      "\n",
      " [[-4.8780512e-02]\n",
      "  [ 7.9268295e-01]]\n",
      "\n",
      " [[ 1.0400010e+02]\n",
      "  [ 9.4500092e+01]]]\n"
     ]
    }
   ],
   "source": [
    "print(tf.shape(X))\n",
    "print(X.numpy())"
   ]
  },
  {
   "cell_type": "markdown",
   "metadata": {
    "id": "XPDqPgfKvZSJ"
   },
   "source": [
    "### Приклад 1\n",
    "\n",
    "Маємо 100 матриць  4x4 (тензор A1) та 100 4-вимірних векторів (тензор B1).  Тобто необхідно вирішити  100 різних лінійних систем . Необхідно використати формат [100,4,4] для матриці та [100,4,1] для пакету векторів правих частин."
   ]
  },
  {
   "cell_type": "code",
   "execution_count": 36,
   "metadata": {
    "colab": {
     "base_uri": "https://localhost:8080/"
    },
    "id": "WoyJNpAwuEGt",
    "outputId": "6dd12003-b3a1-4c26-cb20-77124249ad3d"
   },
   "outputs": [
    {
     "name": "stdout",
     "output_type": "stream",
     "text": [
      "Object A1 --> [100   4   4]\n"
     ]
    }
   ],
   "source": [
    "A1 = tf.random.normal([100, 4 ,4], 0, 100, tf.float32)\n",
    "print('Object A1 -->', tf.shape(A1).numpy())"
   ]
  },
  {
   "cell_type": "code",
   "execution_count": 37,
   "metadata": {
    "colab": {
     "base_uri": "https://localhost:8080/"
    },
    "id": "h1o2Q8Y7TXV7",
    "outputId": "098a0324-91db-46a1-dbab-6d40eab2aad8"
   },
   "outputs": [
    {
     "name": "stdout",
     "output_type": "stream",
     "text": [
      "Object B1 --> [100   4   1]\n"
     ]
    }
   ],
   "source": [
    "B1 = tf.random.normal([100, 4 , 1], 0, 20, tf.float32)\n",
    "print('Object B1 -->', tf.shape(B1).numpy())"
   ]
  },
  {
   "cell_type": "code",
   "execution_count": 38,
   "metadata": {
    "id": "HadLmtk2T3GI"
   },
   "outputs": [],
   "source": [
    "X1 = tf.linalg.solve(A1, B1)"
   ]
  },
  {
   "cell_type": "code",
   "execution_count": 9,
   "metadata": {
    "colab": {
     "base_uri": "https://localhost:8080/"
    },
    "id": "Xood-s5HT-Pg",
    "outputId": "597d8bf2-5a50-455d-da16-ae8a131820b4"
   },
   "outputs": [
    {
     "name": "stdout",
     "output_type": "stream",
     "text": [
      "tf.Tensor([100   4   1], shape=(3,), dtype=int32)\n",
      "[[-0.35240462]\n",
      " [ 0.58189464]\n",
      " [-0.45182198]\n",
      " [ 0.06966337]]\n"
     ]
    }
   ],
   "source": [
    "print(tf.shape(X1))\n",
    "print(X1[0].numpy())\n"
   ]
  },
  {
   "cell_type": "markdown",
   "metadata": {
    "id": "1p_JKAJrUu2G"
   },
   "source": [
    "### Приклад 2\n",
    "\n",
    "Маємо одну 4x4-матрицю A2 та 100 4-вимірних векторів B2.  Тобто необхідно вирішити  100 лінійних систем з однаковою матрицею. Необхідно використати формат [1,4,4] для матриці та [1,4,100] для пакету векторів правих частин. Або, спрощено, [4,4] та [4,100] відповідно."
   ]
  },
  {
   "cell_type": "code",
   "execution_count": 23,
   "metadata": {
    "colab": {
     "base_uri": "https://localhost:8080/"
    },
    "id": "rMbX6pMNUEvE",
    "outputId": "445f97ae-a206-4f74-e348-63479f7f4278"
   },
   "outputs": [
    {
     "name": "stdout",
     "output_type": "stream",
     "text": [
      "Object A2 --> [4 4]\n",
      "[[   7.2443404  101.91894    -45.502487     7.0334845]\n",
      " [  50.031918   197.67627     65.50794   -481.22183  ]\n",
      " [ 123.122116   -47.91781   -268.49185   -105.97589  ]\n",
      " [ 161.8969      -3.3252578  647.87555    197.0063   ]]\n"
     ]
    }
   ],
   "source": [
    "A2 = tf.random.normal([4 ,4], 0, 200, tf.float32)\n",
    "print('Object A2 -->', tf.shape(A2).numpy())\n",
    "print(A2.numpy())"
   ]
  },
  {
   "cell_type": "code",
   "execution_count": 28,
   "metadata": {
    "colab": {
     "base_uri": "https://localhost:8080/"
    },
    "id": "sZF4Q2qlVCR3",
    "outputId": "3198b1fb-99e0-4286-dfae-e93e1ced1db7"
   },
   "outputs": [
    {
     "name": "stdout",
     "output_type": "stream",
     "text": [
      "Object B2 --> [  4 100]\n",
      "[-6.6021185 -9.577134  46.866814   6.110441 ]\n"
     ]
    }
   ],
   "source": [
    "B2 = tf.random.normal([4, 100], 0, 20, tf.float32)\n",
    "print('Object B2 -->', tf.shape(B2).numpy())\n",
    "print(B2[:,0].numpy())"
   ]
  },
  {
   "cell_type": "code",
   "execution_count": 29,
   "metadata": {
    "id": "rZFOUGK-VMAn"
   },
   "outputs": [],
   "source": [
    "X2 = tf.linalg.solve(A2, B2)"
   ]
  },
  {
   "cell_type": "code",
   "execution_count": 31,
   "metadata": {
    "colab": {
     "base_uri": "https://localhost:8080/"
    },
    "id": "aj7DFEBvVQey",
    "outputId": "cd4aead7-d7a9-4d59-899a-94bc347ccce8"
   },
   "outputs": [
    {
     "name": "stdout",
     "output_type": "stream",
     "text": [
      "tf.Tensor([  4 100], shape=(2,), dtype=int32)\n",
      "[ 0.23259854 -0.1023673  -0.04785533 -0.00448027]\n"
     ]
    }
   ],
   "source": [
    "print(tf.shape(X2))\n",
    "print(X2[:,0].numpy())\n"
   ]
  },
  {
   "cell_type": "markdown",
   "metadata": {
    "id": "x1CkDd9BYeTj"
   },
   "source": [
    "---------"
   ]
  }
 ],
 "metadata": {
  "colab": {
   "provenance": []
  },
  "kernelspec": {
   "display_name": "Python 3 (ipykernel)",
   "language": "python",
   "name": "python3"
  },
  "language_info": {
   "codemirror_mode": {
    "name": "ipython",
    "version": 3
   },
   "file_extension": ".py",
   "mimetype": "text/x-python",
   "name": "python",
   "nbconvert_exporter": "python",
   "pygments_lexer": "ipython3",
   "version": "3.11.7"
  }
 },
 "nbformat": 4,
 "nbformat_minor": 4
}
