{
 "cells": [
  {
   "cell_type": "markdown",
   "metadata": {
    "id": "JFF8ekJZvxGn"
   },
   "source": [
    "# Модуль 7. TensorFlow\n",
    "## Лекція 02. Приклад 1. Операції із тензорами"
   ]
  },
  {
   "cell_type": "markdown",
   "metadata": {
    "id": "bDbi4a_o16Tx"
   },
   "source": [
    "Математичні оперції та функції надає модуль: [**tf.math**](https://www.tensorflow.org/api_docs/python/tf/math).\n",
    "Модуль включає:\n",
    "- Базові арифметичні операції, алгебраічні та тригонометрічні функції\n",
    "- Функції з комплексними змінними\n",
    "- Спеціальні математичні функції\n",
    "- Функції редукції\n",
    "- Функції сегментації\n",
    "\n",
    "Математика - повний аналог numpy.\n",
    "\n",
    "Оперції лінійної алгебри надає модуль [**tf.linalg**](https://www.tensorflow.org/api_docs/python/tf/linalg)\n",
    "\n",
    "\n",
    "\n",
    "---\n",
    "\n"
   ]
  },
  {
   "cell_type": "markdown",
   "metadata": {
    "id": "MpWclP2c-Xrn"
   },
   "source": [
    "Визначення версії TF"
   ]
  },
  {
   "cell_type": "code",
   "execution_count": 65,
   "metadata": {
    "colab": {
     "base_uri": "https://localhost:8080/"
    },
    "id": "DqX9e0qY9rOs",
    "outputId": "f09c9035-18f2-452a-a1fb-c743ffcba10d"
   },
   "outputs": [
    {
     "name": "stdout",
     "output_type": "stream",
     "text": [
      "2.15.0\n"
     ]
    }
   ],
   "source": [
    "import tensorflow as tf # імпорт tensofflow\n",
    "import numpy as np # імпорт numpy\n",
    "import pprint as pprint # імпорт пакету посиленого друку\n",
    "print(tf.__version__) # версія TF"
   ]
  },
  {
   "cell_type": "markdown",
   "metadata": {
    "id": "uv3mzn_HHDlO"
   },
   "source": [
    "### Арифметичні операції"
   ]
  },
  {
   "cell_type": "markdown",
   "metadata": {
    "id": "wYdE9x0E2WnA"
   },
   "source": [
    "Маємо константні тензори"
   ]
  },
  {
   "cell_type": "code",
   "execution_count": 66,
   "metadata": {
    "id": "rlr0eFwh-NBl"
   },
   "outputs": [],
   "source": [
    "scalar1 = tf.constant(2, dtype=tf.int8)\n",
    "scalar2 = tf.constant(2, shape = (1,1), dtype=tf.int16)\n",
    "vector1 = tf.constant([1, 2, 3, 4], dtype=tf.float32)\n",
    "vector2 = tf.constant([10, 20, 30, 40], dtype=tf.float32)\n",
    "matrix1 = tf.constant([[1, 2, 3, 4], [3, 4, 5, 6], [6, 7, 8, 9]], dtype=tf.float64)\n",
    "matrix2 = tf.constant([[1, 2, 3], [3, 4, 5], [6, 7, 8], [7, 8, 9]], dtype=tf.float64)"
   ]
  },
  {
   "cell_type": "markdown",
   "metadata": {
    "id": "vNnwLbUVIR1v"
   },
   "source": [
    "Додавання (покомпонентне)"
   ]
  },
  {
   "cell_type": "code",
   "execution_count": 70,
   "metadata": {
    "colab": {
     "base_uri": "https://localhost:8080/"
    },
    "id": "YufVyYm1VIgh",
    "outputId": "e590fd78-8d7e-4b02-f2a1-4728cc4f70cb"
   },
   "outputs": [
    {
     "name": "stdout",
     "output_type": "stream",
     "text": [
      "Value--> [11. 22. 33. 44.]\n",
      "Value--> [11. 22. 33. 44.]\n",
      "Value--> [6. 7. 8. 9.]\n"
     ]
    }
   ],
   "source": [
    "add_tensor_1 = tf.add(vector1,vector2)\n",
    "print('Value-->', add_tensor_1.numpy())\n",
    "add_tensor_2 = vector1 + vector2\n",
    "print('Value-->', add_tensor_2.numpy())\n",
    "add_tensor_22 = vector1 + 5\n",
    "print('Value-->', add_tensor_22.numpy())"
   ]
  },
  {
   "cell_type": "code",
   "execution_count": 73,
   "metadata": {
    "colab": {
     "base_uri": "https://localhost:8080/"
    },
    "id": "vG_bn-m3nsJr",
    "outputId": "87ec7a63-8af5-480b-cec3-a2c586690c1b"
   },
   "outputs": [
    {
     "name": "stdout",
     "output_type": "stream",
     "text": [
      "Value--> [6. 7. 8. 9.]\n"
     ]
    }
   ],
   "source": [
    "scalar_x = tf.constant(5, dtype=tf.float32)\n",
    "add_tensor_222 = vector1 + scalar_x\n",
    "print('Value-->', add_tensor_222.numpy())"
   ]
  },
  {
   "cell_type": "markdown",
   "metadata": {
    "id": "Zri-JsfB2Zo1"
   },
   "source": [
    "Віднімання (покомпонентне)"
   ]
  },
  {
   "cell_type": "code",
   "execution_count": 74,
   "metadata": {
    "colab": {
     "base_uri": "https://localhost:8080/"
    },
    "id": "FNuzNJ3s2CKg",
    "outputId": "c4b32ea0-90ee-47b4-dcc8-5f398599061e"
   },
   "outputs": [
    {
     "name": "stdout",
     "output_type": "stream",
     "text": [
      "Value--> [ -9. -18. -27. -36.]\n",
      "Value--> [ -9. -18. -27. -36.]\n",
      "Value--> [[-1.  0.  1.  2.]]\n"
     ]
    }
   ],
   "source": [
    "sub_tensor_1 = tf.subtract(vector1,vector2)\n",
    "print('Value-->', sub_tensor_1.numpy())\n",
    "sub_tensor_2 = vector1 - vector2\n",
    "print('Value-->', sub_tensor_1.numpy())\n",
    "# sub_tensor_3 = vector1 - scalar2\n",
    "sub_tensor_3 = vector1 - np.float32(scalar2)\n",
    "print('Value-->', sub_tensor_3.numpy())"
   ]
  },
  {
   "cell_type": "markdown",
   "metadata": {
    "id": "OpcGURzgXYwf"
   },
   "source": [
    "Множення скаляр Х  тензор [tf.math.scalar_mul](https://www.tensorflow.org/api_docs/python/tf/math/scalar_mul)\n",
    "\n",
    "tf.math.scalar_mul(scalar, x, name=None)"
   ]
  },
  {
   "cell_type": "code",
   "execution_count": 75,
   "metadata": {
    "colab": {
     "base_uri": "https://localhost:8080/"
    },
    "id": "0jwJDyzdi66e",
    "outputId": "fda16f99-7dab-4454-8501-9f89dd8d9138"
   },
   "outputs": [
    {
     "name": "stdout",
     "output_type": "stream",
     "text": [
      "a    --> 2\n",
      "b    --> [10. 20. 30. 40.]\n",
      "tf.Tensor([20. 40. 60. 80.], shape=(4,), dtype=float32)\n",
      "Value--> [20. 40. 60. 80.]\n",
      "tf.Tensor([20. 40. 60. 80.], shape=(4,), dtype=float32)\n",
      "Value--> [20. 40. 60. 80.]\n"
     ]
    }
   ],
   "source": [
    "mul_1 = tf.scalar_mul(np.float32(scalar1), vector2)\n",
    "# mul_1 = tf.scalar_mul(np.float32(scalar2), vector2) НЕ РАБОТАЕТ.\n",
    "print('a    -->', scalar1.numpy())\n",
    "print('b    -->', vector2.numpy())\n",
    "print(mul_1)\n",
    "print('Value-->', mul_1.numpy())\n",
    "\n",
    "mul_11  =  vector2 * 2\n",
    "print(mul_11)\n",
    "print('Value-->', mul_11.numpy())"
   ]
  },
  {
   "cell_type": "markdown",
   "metadata": {
    "id": "ekHnAj6_i8_k"
   },
   "source": [
    "Множення тензор Х тензор (покомпонентне) [**tf.math.multiply**](https://www.tensorflow.org/api_docs/python/tf/math/multiply)\n",
    "tf.math.multiply(x, y, name=None)"
   ]
  },
  {
   "cell_type": "code",
   "execution_count": 76,
   "metadata": {
    "colab": {
     "base_uri": "https://localhost:8080/"
    },
    "id": "tantrE3K2MZO",
    "outputId": "68f00b1f-16c0-4ac2-bb62-7bac25909081"
   },
   "outputs": [
    {
     "name": "stdout",
     "output_type": "stream",
     "text": [
      "a    --> [1. 2. 3. 4.]\n",
      "b    --> [10. 20. 30. 40.]\n",
      "Value--> [ 10.  40.  90. 160.]\n",
      "Value--> [ 10.  40.  90. 160.]\n"
     ]
    }
   ],
   "source": [
    "mul_2 = tf.multiply(vector1, vector2)\n",
    "mul_3 = vector1 * vector2\n",
    "print('a    -->', vector1.numpy())\n",
    "print('b    -->', vector2.numpy())\n",
    "print('Value-->', mul_2.numpy())\n",
    "print('Value-->', mul_3.numpy())"
   ]
  },
  {
   "cell_type": "markdown",
   "metadata": {
    "id": "WMc4pb0Nnk3-"
   },
   "source": [
    "Ділення тензор на тензор (покомпонентно)\n",
    "\n",
    "tf.math.divide(x, y, name=None)"
   ]
  },
  {
   "cell_type": "code",
   "execution_count": 77,
   "metadata": {
    "colab": {
     "base_uri": "https://localhost:8080/"
    },
    "id": "R2XEJqVxqm0l",
    "outputId": "19415e78-381c-4ffe-b3f1-640b8cb30ca5"
   },
   "outputs": [
    {
     "name": "stdout",
     "output_type": "stream",
     "text": [
      "a    --> [1. 2. 3. 4.]\n",
      "b    --> [10. 20. 30. 40.]\n",
      "Value--> [10. 10. 10. 10.]\n",
      "Value--> [10. 10. 10. 10.]\n",
      "Value--> [ 5. 10. 15. 20.]\n"
     ]
    }
   ],
   "source": [
    "div_2 = tf.divide(vector2, vector1)\n",
    "div_3 = vector2 / vector1 # ПОКОМПОНЕНТНО\n",
    "div_4 = vector2 / vector1[1]  # НА СКАЛЯР\n",
    "print('a    -->', vector1.numpy())\n",
    "print('b    -->', vector2.numpy())\n",
    "print('Value-->', div_2.numpy())\n",
    "print('Value-->', div_3.numpy())\n",
    "print('Value-->', div_4.numpy())"
   ]
  },
  {
   "cell_type": "markdown",
   "metadata": {
    "id": "xwTp_XfVo-vz"
   },
   "source": [
    "## Звуження тензорів dotproduct"
   ]
  },
  {
   "cell_type": "markdown",
   "metadata": {
    "id": "Xws9udqLsDC-"
   },
   "source": [
    "Звуження тензорів вдовж визначеним осям  [**tf.tensordot**](https://www.tensorflow.org/api_docs/python/tf/tensordot)\n",
    "\n",
    "tf.tensordot(a, b, axes, name=None)\n",
    "\n",
    "Tensordot  підсумовує добуток елементів з a і b за індексами, заданими axes.\n",
    "https://www.tensorflow.org/api_docs/python/tf/tensordot\n",
    "\n",
    "AXES:\n",
    "Either a scalar N, or a list or an int32 Tensor of shape [2, k]. If axes is a scalar, sum over the last N axes of a and the first N axes of b in order. If axes is a list or Tensor the first and second row contain the set of unique integers specifying axes along which the contraction is computed, for a and b, respectively. The number of axes for a and b must be equal. If axes=0, computes the outer product between a and b.\n"
   ]
  },
  {
   "cell_type": "markdown",
   "metadata": {
    "id": "LhDHgQ62rO5v"
   },
   "source": [
    "## Вектора (тензор рангу 1)\n"
   ]
  },
  {
   "cell_type": "code",
   "execution_count": 78,
   "metadata": {
    "colab": {
     "base_uri": "https://localhost:8080/"
    },
    "id": "UpgZnO-NSTuH",
    "outputId": "f9ee6899-f5b9-4b6a-c7ef-4defdfed10de"
   },
   "outputs": [
    {
     "name": "stdout",
     "output_type": "stream",
     "text": [
      "Vec_A --> [1 2 3] Ранг --> 1\n",
      "Vec_B --> [10 20 30] Ранг --> 1\n"
     ]
    }
   ],
   "source": [
    "Vec_A = tf.constant([1, 2, 3], tf.int32)\n",
    "Vec_B = tf.constant([10, 20, 30], tf.int32)\n",
    "print('Vec_A -->', Vec_A.numpy(), 'Ранг -->', tf.rank(Vec_A).numpy())\n",
    "print('Vec_B -->', Vec_B.numpy(), 'Ранг -->', tf.rank(Vec_B).numpy())"
   ]
  },
  {
   "cell_type": "markdown",
   "metadata": {
    "id": "ebsZ3cf8jJGe"
   },
   "source": [
    "Приклад 1.0: Поелементне множення двох векторів"
   ]
  },
  {
   "cell_type": "code",
   "execution_count": 79,
   "metadata": {
    "colab": {
     "base_uri": "https://localhost:8080/"
    },
    "id": "69M5Tci0jKAc",
    "outputId": "4c682a0a-8dfb-4288-d61a-11faa35c855b"
   },
   "outputs": [
    {
     "name": "stdout",
     "output_type": "stream",
     "text": [
      "Dot axis 0 --> [10 40 90]\n"
     ]
    }
   ],
   "source": [
    "vec_mul_ = tf.multiply(Vec_A, Vec_B)\n",
    "print('Dot axis 0 -->', vec_mul_.numpy())"
   ]
  },
  {
   "cell_type": "markdown",
   "metadata": {
    "id": "eWIWdANOigVv"
   },
   "source": [
    "Приклад 1.1: \"Векторне\" множення двох векторів (зовнішній добуток)"
   ]
  },
  {
   "cell_type": "code",
   "execution_count": 80,
   "metadata": {
    "colab": {
     "base_uri": "https://localhost:8080/"
    },
    "id": "B2BM-ruOSi-T",
    "outputId": "83e00da2-b4a7-48b8-969b-2c15a3b1c714"
   },
   "outputs": [
    {
     "name": "stdout",
     "output_type": "stream",
     "text": [
      "Dot axis 0 --> [[10 20 30]\n",
      " [20 40 60]\n",
      " [30 60 90]] Ранг --> 2\n"
     ]
    }
   ],
   "source": [
    "# \"Векторне\" множення\n",
    "vec_dot_0 = tf.tensordot(Vec_A, Vec_B, axes=0)\n",
    "print('Dot axis 0 -->', vec_dot_0.numpy(), 'Ранг -->', tf.rank(vec_dot_0).numpy())"
   ]
  },
  {
   "cell_type": "markdown",
   "metadata": {
    "id": "m76FkRaKi3ai"
   },
   "source": [
    "Приклад 1.2: Скалярне множення двох векторів"
   ]
  },
  {
   "cell_type": "code",
   "execution_count": 81,
   "metadata": {
    "colab": {
     "base_uri": "https://localhost:8080/"
    },
    "id": "rcS4jE9PraUe",
    "outputId": "45a74e51-bf19-477e-a32f-c2eb55579cee"
   },
   "outputs": [
    {
     "name": "stdout",
     "output_type": "stream",
     "text": [
      "Dot axis 1 --> 140 Ранг --> 0\n"
     ]
    }
   ],
   "source": [
    "# Скалярне множення\n",
    "vec_dot_1 = tf.tensordot(Vec_A, Vec_B, axes=1)\n",
    "print('Dot axis 1 -->', vec_dot_1.numpy(), 'Ранг -->', tf.rank(vec_dot_1).numpy())"
   ]
  },
  {
   "cell_type": "markdown",
   "metadata": {
    "id": "Qsqlhf6fVk6a"
   },
   "source": [
    "## 2. Матриця"
   ]
  },
  {
   "cell_type": "code",
   "execution_count": 82,
   "metadata": {
    "colab": {
     "base_uri": "https://localhost:8080/"
    },
    "id": "ZkPYc32czIQH",
    "outputId": "3d7b061b-b92f-4001-e0f0-47f20358ebe7"
   },
   "outputs": [
    {
     "name": "stdout",
     "output_type": "stream",
     "text": [
      "A Value--> [[1 2 3]\n",
      " [4 5 6]\n",
      " [7 8 9]]\n",
      "B Value--> [[10 20 30]\n",
      " [40 50 60]\n",
      " [70 80 90]]\n"
     ]
    }
   ],
   "source": [
    "# Маємо тензори рангу 2\n",
    "# A = tf.random.uniform([3, 3], 0, 10, tf.int32)\n",
    "# B = tf.random.uniform([3, 3], 10, 20, tf.int32)\n",
    "A = tf.constant([[1, 2, 3],[4, 5, 6],[7, 8, 9]], tf.int32)\n",
    "B = tf.constant([[10, 20, 30],[40, 50, 60],[70, 80, 90]], tf.int32)\n",
    "print('A Value-->', A.numpy())\n",
    "print('B Value-->', B.numpy())\n"
   ]
  },
  {
   "cell_type": "markdown",
   "metadata": {
    "id": "7sqoI3-RvZTf"
   },
   "source": [
    "Приклад 2.1: коли А і В є матрицями рангу 2 та  axes = 0 дає зовнішнє множення, повретається тензор порядку 4."
   ]
  },
  {
   "cell_type": "code",
   "execution_count": 83,
   "metadata": {
    "colab": {
     "base_uri": "https://localhost:8080/"
    },
    "id": "WW74M5gCymTy",
    "outputId": "2283108d-e962-4725-c384-1c2cb21fc575"
   },
   "outputs": [
    {
     "name": "stdout",
     "output_type": "stream",
     "text": [
      "Dot Shape --> [3 3 3 3]\n",
      "Value--> [[[[ 10  20  30]\n",
      "   [ 40  50  60]\n",
      "   [ 70  80  90]]\n",
      "\n",
      "  [[ 20  40  60]\n",
      "   [ 80 100 120]\n",
      "   [140 160 180]]\n",
      "\n",
      "  [[ 30  60  90]\n",
      "   [120 150 180]\n",
      "   [210 240 270]]]\n",
      "\n",
      "\n",
      " [[[ 40  80 120]\n",
      "   [160 200 240]\n",
      "   [280 320 360]]\n",
      "\n",
      "  [[ 50 100 150]\n",
      "   [200 250 300]\n",
      "   [350 400 450]]\n",
      "\n",
      "  [[ 60 120 180]\n",
      "   [240 300 360]\n",
      "   [420 480 540]]]\n",
      "\n",
      "\n",
      " [[[ 70 140 210]\n",
      "   [280 350 420]\n",
      "   [490 560 630]]\n",
      "\n",
      "  [[ 80 160 240]\n",
      "   [320 400 480]\n",
      "   [560 640 720]]\n",
      "\n",
      "  [[ 90 180 270]\n",
      "   [360 450 540]\n",
      "   [630 720 810]]]]\n",
      "Value--> 1,1,1,1 250\n"
     ]
    }
   ],
   "source": [
    "tdot_1 = tf.tensordot(A, B, axes=0)\n",
    "print('Dot Shape -->', tf.shape(tdot_1).numpy())\n",
    "print('Value-->', tdot_1.numpy())\n",
    "print('Value--> 1,1,1,1', tdot_1[1,1,1,1].numpy())"
   ]
  },
  {
   "cell_type": "markdown",
   "metadata": {
    "id": "MDfRtK3YZOX0"
   },
   "source": [
    "Приклад 2.2: коли А і В є матрицями рангу 2 та  axes = 1 внутрішнє (перекрестне) множення матриці А на В."
   ]
  },
  {
   "cell_type": "code",
   "execution_count": 84,
   "metadata": {
    "colab": {
     "base_uri": "https://localhost:8080/"
    },
    "id": "kd4uIFHcZPHT",
    "outputId": "1ce4ea9e-a955-4bbf-9d73-29fd207fd06a"
   },
   "outputs": [
    {
     "name": "stdout",
     "output_type": "stream",
     "text": [
      "Dot Shape --> [3 3]\n",
      "Value--> [[ 300  360  420]\n",
      " [ 660  810  960]\n",
      " [1020 1260 1500]]\n"
     ]
    }
   ],
   "source": [
    "tdot_1 = tf.tensordot(A, B, axes=1)\n",
    "print('Dot Shape -->', tf.shape(tdot_1).numpy())\n",
    "print('Value-->', tdot_1.numpy())"
   ]
  },
  {
   "cell_type": "code",
   "execution_count": null,
   "metadata": {
    "id": "MgBnLfM-cKKF"
   },
   "outputs": [],
   "source": [
    "#Перевірка\n",
    "print('Result', (A[0,:]*B[:,1]).numpy())\n",
    "print('Sum', tf.reduce_sum(A[0,:]*B[:,1]).numpy())"
   ]
  },
  {
   "cell_type": "markdown",
   "metadata": {
    "id": "m0Blj0gPvUv6"
   },
   "source": [
    "\n",
    "Приклад 2.3: коли А і В є матрицями рангу 2 та  axes = [[0], [1]] внутрішнє (перекрестне) множення матриці А на В."
   ]
  },
  {
   "cell_type": "code",
   "execution_count": 86,
   "metadata": {
    "colab": {
     "base_uri": "https://localhost:8080/"
    },
    "id": "k278h0tUz0qw",
    "outputId": "b93fea12-e286-46bc-e2c9-1935b0465780"
   },
   "outputs": [
    {
     "name": "stdout",
     "output_type": "stream",
     "text": [
      "Dot Shape --> [3 3]\n",
      "Value--> [[ 300  660 1020]\n",
      " [ 360  810 1260]\n",
      " [ 420  960 1500]]\n"
     ]
    }
   ],
   "source": [
    "tdot_2 = tf.tensordot(A, B, axes=[[0],[1]])\n",
    "print('Dot Shape -->', tf.shape(tdot_2).numpy())\n",
    "print('Value-->', tdot_2.numpy())"
   ]
  },
  {
   "cell_type": "code",
   "execution_count": null,
   "metadata": {
    "id": "ppjsjtZReIAc"
   },
   "outputs": [],
   "source": [
    "#Перевірка\n",
    "print('Result', (A[:,0]*B[:,1]).numpy())\n",
    "print('Sum', tf.reduce_sum(A[:,0]*B[:1]).numpy())"
   ]
  },
  {
   "cell_type": "markdown",
   "metadata": {
    "id": "jyR0WyWW44X8"
   },
   "source": [
    "Приклад 2.3 : коли А і В є матрицями рангу 2 та  axes = [[0], [1]] внутрішнє (перекрестне) множення матриці В на А."
   ]
  },
  {
   "cell_type": "code",
   "execution_count": 87,
   "metadata": {
    "colab": {
     "base_uri": "https://localhost:8080/"
    },
    "id": "cBfTm88Z0OuI",
    "outputId": "ee23e200-1a0e-4653-ee96-0c2840d11228"
   },
   "outputs": [
    {
     "name": "stdout",
     "output_type": "stream",
     "text": [
      "Dot Shape --> [3 3]\n",
      "Value--> [[ 300  360  420]\n",
      " [ 660  810  960]\n",
      " [1020 1260 1500]]\n"
     ]
    }
   ],
   "source": [
    "tdot_3 = tf.tensordot(A, B, axes=[[1],[0]])\n",
    "print('Dot Shape -->', tf.shape(tdot_3).numpy())\n",
    "print('Value-->', tdot_3.numpy())"
   ]
  },
  {
   "cell_type": "code",
   "execution_count": null,
   "metadata": {
    "id": "PkqRLMWi5j7_"
   },
   "outputs": [],
   "source": [
    "tdot_4 = tf.tensordot(A, B, axes=0)\n",
    "print('Dot Rank -->', tf.rank(tdot_4).numpy())\n",
    "print('Dot Shape -->', tf.shape(tdot_4).numpy())\n",
    "print('Value-->', tdot_4.numpy())"
   ]
  },
  {
   "cell_type": "markdown",
   "metadata": {
    "id": "WuBpHH6bVU0s"
   },
   "source": [
    "## 3-вимірний тензор"
   ]
  },
  {
   "cell_type": "markdown",
   "metadata": {
    "id": "sKhVaxLNvch2"
   },
   "source": [
    "\n",
    "Приклад 4: Припустимо, що $A_{i,j,k}$ та $B_{l,m,n}$ представляють два тензори рангу 3. Тоді dot(A, B, [[0], [2]]) - це тензор $C_{jklm}$ рангу 4, запис якого, що відповідає індексам $(j, k, l, m)$, задається наступним чином:\n",
    "$C_{jklm} = \\sum_i a_{ijk} b_{lmi}$.\n",
    "\n",
    "Загалом order(C) = order(A) + order(B) - 2*len(axes[0]).\n",
    "\n",
    "axes: Може бути або скаляр $N$, або список, або тензор типу int32[2, k]. Якщо axes є скаляром, підсумуйте останні $N$ осей $A$ та перші $N$ осі $B$ по порядку. Якщо axes — це список або тензор, перший і другий рядки містять набір унікальних цілих чисел, що визначають осі, уздовж яких обчислюється скорочення, для $A$ і $B$ відповідно. Кількість осей для $A$ і $B$ має бути рівною. Якщо axes=0, обчислюється зовнішній добуток між $A$ і $B$ ."
   ]
  },
  {
   "cell_type": "code",
   "execution_count": 98,
   "metadata": {
    "colab": {
     "base_uri": "https://localhost:8080/"
    },
    "id": "mylRkQKeUue6",
    "outputId": "51c62850-22d5-42a6-c238-2b4adcade948"
   },
   "outputs": [
    {
     "name": "stdout",
     "output_type": "stream",
     "text": [
      "Ранг C --> 3\n",
      "Ранг D --> 3\n",
      "C Value--> [[[ 1  2  3]\n",
      "  [ 4  5  6]\n",
      "  [ 7  8  9]]\n",
      "\n",
      " [[11 12 13]\n",
      "  [14 15 16]\n",
      "  [17 18 19]]\n",
      "\n",
      " [[21 22 23]\n",
      "  [24 25 26]\n",
      "  [27 28 29]]]\n",
      "D Value--> [[[ 10  20  30]\n",
      "  [ 40  50  60]\n",
      "  [ 70  80  90]]\n",
      "\n",
      " [[110 120 130]\n",
      "  [140 150 160]\n",
      "  [170 180 190]]\n",
      "\n",
      " [[210 220 230]\n",
      "  [240 250 260]\n",
      "  [270 280 290]]]\n"
     ]
    }
   ],
   "source": [
    "C = tf.constant([[[1,2,3],[4,5,6],[7,8,9]],\n",
    "                [[11,12,13],[14,15,16],[17,18,19]],\n",
    "                [[21,22,23],[24,25,26],[27,28,29]]], dtype=tf.int32)\n",
    "D = tf.constant([[[10,20,30],[40,50,60],[70,80,90]],\n",
    "                [[110,120,130],[140,150,160],[170,180,190]],\n",
    "                [[210,220,230],[240,250,260],[270,280,290]]], dtype=tf.int32)\n",
    "print('Ранг C -->', tf.rank(C).numpy())\n",
    "print('Ранг D -->', tf.rank(D).numpy())\n",
    "print('C Value-->', C.numpy())\n",
    "print('D Value-->', D.numpy())\n"
   ]
  },
  {
   "cell_type": "code",
   "execution_count": 100,
   "metadata": {
    "colab": {
     "base_uri": "https://localhost:8080/"
    },
    "id": "4AKBxidwVTnt",
    "outputId": "44996cc0-1abf-47f2-d8b8-6fca6ba8a9bf"
   },
   "outputs": [
    {
     "name": "stdout",
     "output_type": "stream",
     "text": [
      "Ранг Dot --> 6\n",
      "[[[  10   20   30]\n",
      "  [  40   50   60]\n",
      "  [  70   80   90]]\n",
      "\n",
      " [[ 110  220  330]\n",
      "  [ 440  550  660]\n",
      "  [ 770  880  990]]\n",
      "\n",
      " [[ 210  420  630]\n",
      "  [ 840 1050 1260]\n",
      "  [1470 1680 1890]]]\n"
     ]
    }
   ],
   "source": [
    "tdot_5 = tf.tensordot(C, D, axes=0)\n",
    "print('Ранг Dot -->', tf.rank(tdot_5).numpy())\n",
    "print(tdot_5[:,0,0,0].numpy())"
   ]
  },
  {
   "cell_type": "code",
   "execution_count": 101,
   "metadata": {
    "colab": {
     "base_uri": "https://localhost:8080/"
    },
    "id": "szxLsuacXqSU",
    "outputId": "747df75d-7abb-41e6-adfa-5e436a84f674"
   },
   "outputs": [
    {
     "name": "stdout",
     "output_type": "stream",
     "text": [
      "Ранг Dot --> 4\n",
      "[[[  860   920   980]\n",
      "  [ 1040  1100  1160]\n",
      "  [ 1220  1280  1340]]\n",
      "\n",
      " [[ 4160  4520  4880]\n",
      "  [ 5240  5600  5960]\n",
      "  [ 6320  6680  7040]]\n",
      "\n",
      " [[ 7460  8120  8780]\n",
      "  [ 9440 10100 10760]\n",
      "  [11420 12080 12740]]]\n"
     ]
    }
   ],
   "source": [
    "tdot_5 = tf.tensordot(C, D, axes=1)\n",
    "print('Ранг Dot -->', tf.rank(tdot_5).numpy())\n",
    "print(tdot_5[:,0].numpy())"
   ]
  },
  {
   "cell_type": "code",
   "execution_count": 111,
   "metadata": {
    "colab": {
     "base_uri": "https://localhost:8080/"
    },
    "id": "1ZoI3k3e6Iho",
    "outputId": "91d3611b-e087-450b-9d77-ac09f6b8097f"
   },
   "outputs": [
    {
     "name": "stdout",
     "output_type": "stream",
     "text": [
      "Ранг Tdot 51--> 6\n",
      "Ранг Tdot 52--> 4\n",
      "Ранг Tdot 53--> 4\n",
      "Ранг Tdot 54--> 4\n",
      "Ранг Tdot 54--> 4\n"
     ]
    }
   ],
   "source": [
    "tdot_51 = tf.tensordot(C, D, axes=0)\n",
    "tdot_52 = tf.tensordot(C, D, axes=1)\n",
    "tdot_53 = tf.tensordot(C, D, axes=((0),(1)))\n",
    "tdot_54 = tf.tensordot(C, D, axes=((0),(2)))\n",
    "tdot_55 = tf.tensordot(C, D, axes=((1),(2)))\n",
    "print('Ранг Tdot 51-->', tf.rank(tdot_51).numpy())\n",
    "print('Ранг Tdot 52-->', tf.rank(tdot_52).numpy())\n",
    "print('Ранг Tdot 53-->', tf.rank(tdot_53).numpy())\n",
    "print('Ранг Tdot 54-->', tf.rank(tdot_54).numpy())\n",
    "print('Ранг Tdot 54-->', tf.rank(tdot_55).numpy())"
   ]
  },
  {
   "cell_type": "code",
   "execution_count": 118,
   "metadata": {
    "colab": {
     "base_uri": "https://localhost:8080/"
    },
    "id": "K7AXIBxaTR0O",
    "outputId": "dddb1d42-ba1e-4bb7-9839-0f81e824ed60"
   },
   "outputs": [
    {
     "name": "stdout",
     "output_type": "stream",
     "text": [
      "52 -->   2900\n",
      "53 -->   9600\n",
      "54 -->   9200\n",
      "55 -->   3810\n"
     ]
    }
   ],
   "source": [
    "print('52 -->  ', tdot_52[0,1,2,1].numpy())\n",
    "print('53 -->  ', tdot_53[0,1,2,1].numpy())\n",
    "print('54 -->  ', tdot_54[0,1,2,1].numpy())\n",
    "print('55 -->  ', tdot_55[0,1,2,1].numpy())"
   ]
  },
  {
   "cell_type": "markdown",
   "metadata": {
    "id": "h_X3sF6zjABV"
   },
   "source": [
    "------------------------\n",
    "## Додаткові операції з тензорами\n"
   ]
  },
  {
   "cell_type": "markdown",
   "metadata": {
    "id": "r9bJjcU5XueX"
   },
   "source": [
    "- div(x, y, name=None)\tDivides the elements of two tensors\n",
    "- add_n(inputs, name=None)\tAdds multiple tensors\n",
    "- floormod(x, y, name=None)\tPerforms the modulo operation\n",
    "- abs(x, name=None)\tComputes the absolute value\n",
    "- negative(x, name=None)\tNegates the tensor's elements\n",
    "- sign(x, name=None)\tExtracts the signs of the tensor’s element\n",
    "- reciprocal(x, name=None)\tComputes the reciprocals"
   ]
  },
  {
   "cell_type": "markdown",
   "metadata": {
    "id": "idGvznwowO8R"
   },
   "source": [
    "#### Приклади операцій (функцій)"
   ]
  },
  {
   "cell_type": "code",
   "execution_count": 120,
   "metadata": {
    "colab": {
     "base_uri": "https://localhost:8080/"
    },
    "id": "uZmyMYCNweqp",
    "outputId": "113eda82-d490-467c-8989-6fd0cb8c5726"
   },
   "outputs": [
    {
     "name": "stdout",
     "output_type": "stream",
     "text": [
      "Vec_C --> [-3.3612895 -4.9744034  3.7511616 -9.86474    3.222124 ]\n",
      "Sig_C --> [-1. -1.  1. -1.  1.]\n",
      "Abs_C --> [3.3612895 4.9744034 3.7511616 9.86474   3.222124 ]\n",
      "Mod_C --> [2.6387105 1.0255966 0.7511616 2.1352596 0.2221241]\n"
     ]
    }
   ],
   "source": [
    "Vec_C = tf.random.uniform([5], -10, 10, tf.float32)\n",
    "print('Vec_C -->', Vec_C.numpy())\n",
    "sig_C = tf.sign(Vec_C)\n",
    "print('Sig_C -->', sig_C.numpy())\n",
    "abs_C = tf.abs(Vec_C)\n",
    "print('Abs_C -->', abs_C.numpy())\n",
    "mod_C = tf.math.floormod(Vec_C, 3) # remainder of division\n",
    "print('Mod_C -->', mod_C.numpy())"
   ]
  },
  {
   "cell_type": "markdown",
   "metadata": {
    "id": "TC7xa-gnDauB"
   },
   "source": [
    "### Операції (функції) типу REDUCE\n",
    "- tf.reduce_sum(m)   сума елементів тензору\n",
    "- tf.reduce_min(m)   мінімальне\n",
    "- tf.reduce_max(m)   максимальне\n",
    "- tf.reduce_mean(m)  середнє\n"
   ]
  },
  {
   "cell_type": "markdown",
   "metadata": {
    "id": "sTVnVvxB08oH"
   },
   "source": [
    "#### Приклади"
   ]
  },
  {
   "cell_type": "code",
   "execution_count": 121,
   "metadata": {
    "colab": {
     "base_uri": "https://localhost:8080/"
    },
    "id": "zQQ85-UBzILL",
    "outputId": "b9a46e3b-25f4-4b1d-8314-3234157fc849"
   },
   "outputs": [
    {
     "name": "stdout",
     "output_type": "stream",
     "text": [
      "Tensor A --> [36 79 26 83 56 85 25 79 87 47]\n",
      "Sum A --> 603\n",
      "Min A --> 25\n",
      "Idex min A --> 6\n",
      "Max A --> 87\n",
      "Idex max A --> 8\n",
      "Mean A --> 60\n"
     ]
    }
   ],
   "source": [
    "tens_A = tf.random.uniform([10], 0, 100, tf.int32)\n",
    "print('Tensor A -->', tens_A.numpy())\n",
    "sum_A = tf.reduce_sum(tens_A)\n",
    "print('Sum A -->', sum_A.numpy())\n",
    "min_A = tf.reduce_min(tens_A)\n",
    "print('Min A -->', min_A.numpy())\n",
    "ind_min = tf.argmin(tens_A)\n",
    "print('Idex min A -->', ind_min.numpy())\n",
    "max_A = tf.reduce_max(tens_A)\n",
    "print('Max A -->', max_A.numpy())\n",
    "ind_max = tf.argmax(tens_A)\n",
    "print('Idex max A -->', ind_max.numpy())\n",
    "mean_A = tf.reduce_mean(tens_A)\n",
    "print('Mean A -->', mean_A.numpy())"
   ]
  },
  {
   "cell_type": "code",
   "execution_count": 122,
   "metadata": {
    "colab": {
     "base_uri": "https://localhost:8080/"
    },
    "id": "ji4yc38a7jyP",
    "outputId": "2fc6189a-3914-4275-cfdf-10bfee0690e3"
   },
   "outputs": [
    {
     "name": "stdout",
     "output_type": "stream",
     "text": [
      "Tensor B --> [[35 99 72 61 23]\n",
      " [11 27 19 43 50]\n",
      " [65 73 41 86 93]\n",
      " [87 12 36 78 60]\n",
      " [38 62 55 58 45]]\n",
      "Sum B --> 1329\n",
      "Min B--> 11\n",
      "Idex min B ax0 --> [1 3 1 1 0]\n",
      "Idex min B ax1 --> [4 0 2 1 0]\n",
      "Max B --> 99\n",
      "Idex max B --> [3 0 0 2 2]\n",
      "Mean B --> 53\n"
     ]
    }
   ],
   "source": [
    "tens_B = tf.random.uniform([5,5], 0, 100, tf.int32)\n",
    "print('Tensor B -->', tens_B.numpy())\n",
    "sum_B = tf.reduce_sum(tens_B)\n",
    "print('Sum B -->', sum_B.numpy())\n",
    "min_B = tf.reduce_min(tens_B)\n",
    "print('Min B-->', min_B.numpy())\n",
    "ind_min_ax0 = tf.argmin(tens_B, axis = 0)\n",
    "print('Idex min B ax0 -->', ind_min_ax0.numpy())\n",
    "ind_min_ax1 = tf.argmin(tens_B, axis = 1)\n",
    "print('Idex min B ax1 -->', ind_min_ax1.numpy())\n",
    "\n",
    "max_B = tf.reduce_max(tens_B)\n",
    "print('Max B -->', max_B.numpy())\n",
    "ind_max = tf.argmax(tens_B)\n",
    "print('Idex max B -->', ind_max.numpy())\n",
    "mean_B = tf.reduce_mean(tens_B)\n",
    "print('Mean B -->', mean_B.numpy())"
   ]
  },
  {
   "cell_type": "code",
   "execution_count": null,
   "metadata": {
    "id": "jGEERX7l2YRF"
   },
   "outputs": [],
   "source": []
  }
 ],
 "metadata": {
  "colab": {
   "provenance": []
  },
  "kernelspec": {
   "display_name": "Python 3 (ipykernel)",
   "language": "python",
   "name": "python3"
  },
  "language_info": {
   "codemirror_mode": {
    "name": "ipython",
    "version": 3
   },
   "file_extension": ".py",
   "mimetype": "text/x-python",
   "name": "python",
   "nbconvert_exporter": "python",
   "pygments_lexer": "ipython3",
   "version": "3.11.7"
  }
 },
 "nbformat": 4,
 "nbformat_minor": 4
}
