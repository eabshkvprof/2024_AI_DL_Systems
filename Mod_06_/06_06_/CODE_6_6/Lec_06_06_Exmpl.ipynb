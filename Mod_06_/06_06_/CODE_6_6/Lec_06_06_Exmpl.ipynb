{
 "cells": [
  {
   "cell_type": "markdown",
   "metadata": {
    "id": "z2M1WNSPwdML"
   },
   "source": [
    "# Лекція 6.6. Об'єктно-орієнтоване програмування. Проектування класів."
   ]
  },
  {
   "cell_type": "markdown",
   "metadata": {
    "id": "5StYLyZx3nLO"
   },
   "source": [
    "# Об'єктно-орієнтоване програмування в Python\n",
    "Python має безліч вбудованих типів, наприклад, int, str тощо, які ми можемо використовувати в програмі. Але також Python дозволяє визначати власні типи за допомогою класів. Клас представляє деяку сутність. Конкретним втіленням класу є об'єкт.\n",
    "\n",
    "Можна ще провести таку аналогію. У нас у всіх є певне уявлення про людину, яка має ім'я, вік, якісь інші характеристики Людина може виконувати деякі дії - ходити, бігати, думати тощо. Тобто це уявлення, яке включає набір характеристик і дій, можна назвати класом. Конкретне втілення цього шаблону може відрізнятися, наприклад, одні люди мають одне ім'я, інші - інше ім'я. І реально існуюча людина представлятиме об'єкт цього класу.\n",
    "\n",
    "Клас визначається за допомогою ключового слова class:\n",
    "```\n",
    "class назва_класу:\n",
    "    атрибути_класу\n",
    "    методи_класу\n",
    "```\n"
   ]
  },
  {
   "cell_type": "markdown",
   "metadata": {
    "id": "ZgaN6MxE3122"
   },
   "source": [
    "Усередині класу визначаються його атрибути, які зберігають різні характеристики класу, і методи - функції класу.\n",
    "\n",
    "Створимо найпростіший клас:"
   ]
  },
  {
   "cell_type": "code",
   "execution_count": null,
   "metadata": {
    "id": "GHaBiz0Z3Aid"
   },
   "outputs": [],
   "source": [
    "class Person:\n",
    "    pass"
   ]
  },
  {
   "cell_type": "markdown",
   "metadata": {
    "id": "vkujtD8B34jr"
   },
   "source": [
    "У цьому випадку визначено клас Person, який умовно представляє людину. У цьому випадку в класі не визначається жодних методів або атрибутів. Однак оскільки в ньому має бути щось визначено, то як замінник функціоналу класу застосовується оператор pass. Цей оператор застосовується, коли синтаксично необхідно визначити деякий код, проте ми не хочемо його, і замість конкретного коду вставляємо оператор pass.\n",
    "\n",
    "Після створення класу можна визначити об'єкти цього класу. Наприклад:"
   ]
  },
  {
   "cell_type": "code",
   "execution_count": null,
   "metadata": {
    "colab": {
     "base_uri": "https://localhost:8080/"
    },
    "id": "qzJ_w6B539Ij",
    "outputId": "3928ebea-bfe6-4590-99dd-f4c009ca5c45"
   },
   "outputs": [
    {
     "name": "stdout",
     "output_type": "stream",
     "text": [
      "<class '__main__.Person'>\n"
     ]
    }
   ],
   "source": [
    "class Person:\n",
    "    pass\n",
    "\n",
    "tom = Person()      # визначення об'єкту tom\n",
    "bob = Person()      # визначення об'єкту bob\n",
    "print(type(tom))"
   ]
  },
  {
   "cell_type": "markdown",
   "metadata": {
    "id": "i3kCAv9o3-Z0"
   },
   "source": [
    "Після визначення класу Person створюються два об'єкти класу Person - tom і bob. Для створення об'єкта застосовується спеціальна функція - конструктор, яка називається за іменем класу і яка повертає об'єкт класу. Тобто в даному випадку виклик Person() являє собою виклик конструктора. Кожен клас за замовчуванням має конструктор без параметрів:"
   ]
  },
  {
   "cell_type": "code",
   "execution_count": null,
   "metadata": {
    "id": "9y_DXiNa4AYs"
   },
   "outputs": [],
   "source": [
    "tom = Person()      # Person() - виклик конструктора, який повертає об'єкт класу Person"
   ]
  },
  {
   "cell_type": "markdown",
   "metadata": {
    "id": "p03LnYOV4BwD"
   },
   "source": [
    "## Методи класів\n",
    "Методи класу фактично представляють функції, які визначені всередині класу і які визначають його поведінку. Наприклад, визначимо клас Person з одним методом:"
   ]
  },
  {
   "cell_type": "code",
   "execution_count": null,
   "metadata": {
    "colab": {
     "base_uri": "https://localhost:8080/"
    },
    "id": "kIxmk4qq4GsY",
    "outputId": "7b196dd8-c2f8-4e83-e36a-4d92c8e883a3"
   },
   "outputs": [
    {
     "name": "stdout",
     "output_type": "stream",
     "text": [
      "Привіт\n"
     ]
    }
   ],
   "source": [
    "class Person:       # визначення класу Person\n",
    "     def say_hello(self):\n",
    "        print(\"Привіт\")\n",
    "\n",
    "tom = Person()\n",
    "tom.say_hello()    # Привіт"
   ]
  },
  {
   "cell_type": "markdown",
   "metadata": {
    "id": "mly5n3Rg4HyR"
   },
   "source": [
    "Тут визначено метод say_hello(), який умовно виконує привітання - виводить рядок на консоль. Під час визначення методів будь-якого класу слід враховувати, що всі вони повинні приймати як перший параметр посилання на поточний об'єкт, який згідно з умовностями називається self. Через це посилання всередині класу ми можемо звернутися до функціональності поточного об'єкта. Але при самому виклику методу цей параметр не враховується.\n",
    "\n",
    "Використовуючи ім'я об'єкта, ми можемо звернутися до його методів. Для звернення до методів застосовується нотація крапки - після імені об'єкта ставиться крапка і після неї йде виклик методу:\n",
    "```\n",
    "об'єкт.метод([параметри методу])\n",
    "```\n",
    "\n",
    "Наприклад, звернення до методу say_hello() для виведення привітання на консоль:"
   ]
  },
  {
   "cell_type": "code",
   "execution_count": null,
   "metadata": {
    "colab": {
     "base_uri": "https://localhost:8080/"
    },
    "id": "e8_VjVqU4Nyz",
    "outputId": "4911cabe-2862-4c38-86fe-4fa4b8fa6292"
   },
   "outputs": [
    {
     "name": "stdout",
     "output_type": "stream",
     "text": [
      "Привіт\n"
     ]
    }
   ],
   "source": [
    "tom.say_hello()    # Привіт"
   ]
  },
  {
   "cell_type": "markdown",
   "metadata": {
    "id": "K40TIv5q4QQB"
   },
   "source": [
    "У підсумку ця програма виведе на консоль рядок \"Привіт\".\n",
    "\n",
    "Якщо метод має приймати інші параметри, то вони визначаються після параметра self, і під час виклику подібного методу для них необхідно передати значення:"
   ]
  },
  {
   "cell_type": "code",
   "execution_count": null,
   "metadata": {
    "colab": {
     "base_uri": "https://localhost:8080/"
    },
    "id": "eHsi9E6l4SfQ",
    "outputId": "0c9751e8-7cf5-43d8-e33e-119e2d6aa0a7"
   },
   "outputs": [
    {
     "name": "stdout",
     "output_type": "stream",
     "text": [
      "Привіт, друже!\n"
     ]
    }
   ],
   "source": [
    "class Person:       # визначення класу Person\n",
    "    def say(self, message):     # метод\n",
    "        print(message)\n",
    "\n",
    "tom = Person()\n",
    "tom.say(\"Привіт, друже!\")    # Привіт, друже!"
   ]
  },
  {
   "cell_type": "markdown",
   "metadata": {
    "id": "k8VWpkQd4Tby"
   },
   "source": [
    "Тут визначено метод say(). Він приймає два параметри: self і message. І для другого параметра - message при виклику методу необхідно передати значення."
   ]
  },
  {
   "cell_type": "markdown",
   "metadata": {
    "id": "l5jLtOA34YXA"
   },
   "source": [
    "## self\n",
    "Через ключове слово self можна звертатися всередині класу до функціональності поточного об'єкта:\n",
    "```\n",
    "self.атрибут    # звернення до атрибута\n",
    "self.метод      # звернення до методу\n",
    "```\n",
    "\n",
    "Наприклад, визначимо два методи в класі Person:"
   ]
  },
  {
   "cell_type": "code",
   "execution_count": null,
   "metadata": {
    "colab": {
     "base_uri": "https://localhost:8080/"
    },
    "id": "S3b2o6wc4WCW",
    "outputId": "4988a3c3-6ed9-4617-94b3-3020f7780204"
   },
   "outputs": [
    {
     "name": "stdout",
     "output_type": "stream",
     "text": [
      "Добрий день\n"
     ]
    }
   ],
   "source": [
    "class Person:\n",
    "\n",
    "    def say(self, message):\n",
    "        print(message)\n",
    "\n",
    "    def say_hello(self):\n",
    "        self.say(\"Добрий день\")  # звертаємося до вище визначеного методу say\n",
    "\n",
    "\n",
    "tom = Person()\n",
    "tom.say_hello()     # Добрий день"
   ]
  },
  {
   "cell_type": "markdown",
   "metadata": {
    "id": "4CjiLcoY4nwv"
   },
   "source": [
    "Тут в одному методі - say_hello() викликається інший метод - say():\n",
    "```\n",
    "self.say(\"Добрий день\")\n",
    "```\n",
    "Оскільки метод say() приймає крім self ще параметри (параметр message), то при виклику методу для цього параметра передається значення.\n",
    "\n",
    "Причому при виклику методу об'єкта нам обов'язково необхідно використовувати слово self, якщо ми його не використовуємо:"
   ]
  },
  {
   "cell_type": "code",
   "execution_count": null,
   "metadata": {
    "id": "ERMClJpj4rGu"
   },
   "outputs": [],
   "source": [
    "def say_hello(self):\n",
    "    say(\"Hello work\")  # ! Помилка"
   ]
  },
  {
   "cell_type": "markdown",
   "metadata": {
    "id": "_mc3pdph4zin"
   },
   "source": [
    "То ми зіткнемося з помилкою"
   ]
  },
  {
   "cell_type": "markdown",
   "metadata": {
    "id": "c1DRobTG42aF"
   },
   "source": [
    "## Конструктори\n",
    "Для створення об'єкта класу використовується конструктор. Так, вище, коли ми створювали об'єкти класу Person, ми використовували конструктор за замовчуванням, який не приймає параметрів і який неявно мають усі класи:\n"
   ]
  },
  {
   "cell_type": "code",
   "execution_count": null,
   "metadata": {
    "id": "NlcQ37oM41YT"
   },
   "outputs": [],
   "source": [
    "tom = Person()"
   ]
  },
  {
   "cell_type": "markdown",
   "metadata": {
    "id": "mhy4RWV247s2"
   },
   "source": [
    "Однак ми можемо явно визначити в класах конструктор за допомогою спеціального методу, який називається __init__() (по два прочерки з кожного боку). Наприклад, змінимо клас Person, додавши в нього конструктор:"
   ]
  },
  {
   "cell_type": "code",
   "execution_count": null,
   "metadata": {
    "colab": {
     "base_uri": "https://localhost:8080/"
    },
    "id": "484Uu5GN4-J9",
    "outputId": "a7c6cbeb-cb2b-48c6-b7a6-fd8790c959cc"
   },
   "outputs": [
    {
     "name": "stdout",
     "output_type": "stream",
     "text": [
      "Створення об'єкта Person\n",
      "Привіт\n"
     ]
    }
   ],
   "source": [
    "class Person:\n",
    "    # конструктор\n",
    "    def __init__(self):\n",
    "        print(\"Створення об'єкта Person\")\n",
    "\n",
    "    def say_hello(self):\n",
    "        print(\"Привіт\")\n",
    "\n",
    "\n",
    "tom = Person()      # Створення об'єкта Person\n",
    "tom.say_hello()     # Привіт"
   ]
  },
  {
   "cell_type": "markdown",
   "metadata": {
    "id": "z_UvmfV-4_d-"
   },
   "source": [
    "Отже, тут у коді класу Person визначено конструктор і метод say_hello(). Як перший параметр конструктор, як і методи, також приймає посилання на поточний об'єкт - self. Зазвичай конструктори застосовуються для визначення дій, які мають виконуватися під час створення об'єкта.\n",
    "\n",
    "Тепер під час створення об'єкта:"
   ]
  },
  {
   "cell_type": "code",
   "execution_count": null,
   "metadata": {
    "colab": {
     "base_uri": "https://localhost:8080/"
    },
    "id": "STOni2oz5Bhe",
    "outputId": "937f6e30-e1ca-4ef5-a817-072640a27cfc"
   },
   "outputs": [
    {
     "name": "stdout",
     "output_type": "stream",
     "text": [
      "Створення об'єкта Person\n"
     ]
    }
   ],
   "source": [
    "tom = Person()"
   ]
  },
  {
   "cell_type": "markdown",
   "metadata": {
    "id": "FVjuMOB65EjY"
   },
   "source": [
    "буде здійснюватися виклик конструктора __init__() з класу Person, який виведе на консоль рядок \"Створення об'єкта Person\"."
   ]
  },
  {
   "cell_type": "markdown",
   "metadata": {
    "id": "gsTb3yoh5IH0"
   },
   "source": [
    "## Атрибути об'єкта\n",
    "Атрибути зберігають стан об'єкта. Для визначення та встановлення атрибутів усередині класу можна застосовувати слово self. Наприклад, визначимо такий клас Person:"
   ]
  },
  {
   "cell_type": "code",
   "execution_count": null,
   "metadata": {
    "colab": {
     "base_uri": "https://localhost:8080/"
    },
    "id": "2xO6yS395EP8",
    "outputId": "e6628b99-6d2e-4e49-8fff-41c9038e1d2f"
   },
   "outputs": [
    {
     "name": "stdout",
     "output_type": "stream",
     "text": [
      "Tom\n",
      "1\n",
      "37\n"
     ]
    }
   ],
   "source": [
    "class Person:\n",
    "\n",
    "    def __init__(self, name, age):\n",
    "        self.name = name    # ім'я людини\n",
    "        self.age = 1        # вік людини\n",
    "\n",
    "tom = Person(\"Tom\")\n",
    "\n",
    "# звернення до атрибутів\n",
    "# отримання значень\n",
    "print(tom.name)     # Tom\n",
    "print(tom.age)      # 1\n",
    "# зміна значення\n",
    "tom.age = 37\n",
    "print(tom.age)      # 37"
   ]
  },
  {
   "cell_type": "markdown",
   "metadata": {
    "id": "sMKskSr35MQ6"
   },
   "source": [
    "Тепер конструктор класу Person приймає ще один параметр - name. Через цей параметр у конструктор буде передаватися ім'я створюваної людини.\n",
    "\n",
    "Усередині конструктора встановлюються два атрибути - name і age (умовно ім'я і вік людини):\n",
    "```\n",
    "def __init__(self, name):\n",
    "    self.name = name\n",
    "    self.age = 1\n",
    "```\n",
    "Атрибуту self.name присвоюється значення змінної name. Атрибут age отримує значення 1.\n",
    "\n",
    "Якщо ми визначили в класі конструктор __init__, ми вже не зможемо викликати конструктор за замовчуванням. Тепер нам треба викликати наш явно визначений конструктор __init__, в який необхідно передати значення для параметра name:"
   ]
  },
  {
   "cell_type": "code",
   "execution_count": null,
   "metadata": {
    "id": "3eIrQ87M5OFj"
   },
   "outputs": [],
   "source": [
    "tom = Person(\"Tom\")"
   ]
  },
  {
   "cell_type": "markdown",
   "metadata": {
    "id": "7FozrOiG5Unp"
   },
   "source": [
    "Далі за ім'ям об'єкта ми можемо звертатися до атрибутів об'єкта - отримувати і змінювати їхні значення:"
   ]
  },
  {
   "cell_type": "code",
   "execution_count": null,
   "metadata": {
    "colab": {
     "base_uri": "https://localhost:8080/"
    },
    "id": "6KDCoGIl5WnA",
    "outputId": "abdf38b9-ca00-4370-acdb-868d6989ab37"
   },
   "outputs": [
    {
     "name": "stdout",
     "output_type": "stream",
     "text": [
      "Tom\n"
     ]
    }
   ],
   "source": [
    "print(tom.name)     # отримання значення атрибута name\n",
    "tom.age = 37        # зміна значення атрибута age"
   ]
  },
  {
   "cell_type": "markdown",
   "metadata": {
    "id": "Pb-K0XJr5XwO"
   },
   "source": [
    "У принципі нам необов'язково визначати атрибути всередині класу - Python дає змогу зробити це динамічно поза кодом:"
   ]
  },
  {
   "cell_type": "code",
   "execution_count": null,
   "metadata": {
    "colab": {
     "base_uri": "https://localhost:8080/"
    },
    "id": "iNDMpg3A5Zyt",
    "outputId": "6c5e3ea7-c6e8-442c-b383-1451b83d9921"
   },
   "outputs": [
    {
     "name": "stdout",
     "output_type": "stream",
     "text": [
      "Microsoft\n"
     ]
    }
   ],
   "source": [
    "class Person:\n",
    "\n",
    "    def __init__(self, name):\n",
    "        self.name = name    # ім'я людини\n",
    "        self.age = 1        # вік людини\n",
    "\n",
    "\n",
    "tom = Person(\"Tom\")\n",
    "\n",
    "tom.company = \"Microsoft\"\n",
    "print(tom.company)  # Microsoft"
   ]
  },
  {
   "cell_type": "markdown",
   "metadata": {
    "id": "yOmqd-pt5bwd"
   },
   "source": [
    "Тут динамічно встановлюється атрибут company, який зберігає місце роботи людини. І після встановлення ми також можемо отримати його значення. Водночас подібне визначення загрожує помилками. Наприклад, якщо ми спробуємо звернутися до атрибута до його визначення, то програма згенерує помилку:"
   ]
  },
  {
   "cell_type": "code",
   "execution_count": null,
   "metadata": {
    "colab": {
     "base_uri": "https://localhost:8080/",
     "height": 162
    },
    "id": "rMWRnfy-5mcf",
    "outputId": "9f7d80bd-c9a0-4a54-8694-92e0ee5d8b90"
   },
   "outputs": [
    {
     "ename": "AttributeError",
     "evalue": "'Person' object has no attribute 'company'",
     "output_type": "error",
     "traceback": [
      "\u001b[0;31m---------------------------------------------------------------------------\u001b[0m",
      "\u001b[0;31mAttributeError\u001b[0m                            Traceback (most recent call last)",
      "\u001b[0;32m<ipython-input-20-eab571b0fd14>\u001b[0m in \u001b[0;36m<cell line: 2>\u001b[0;34m()\u001b[0m\n\u001b[1;32m      1\u001b[0m \u001b[0mtom\u001b[0m \u001b[0;34m=\u001b[0m \u001b[0mPerson\u001b[0m\u001b[0;34m(\u001b[0m\u001b[0;34m\"Tom\"\u001b[0m\u001b[0;34m)\u001b[0m\u001b[0;34m\u001b[0m\u001b[0;34m\u001b[0m\u001b[0m\n\u001b[0;32m----> 2\u001b[0;31m \u001b[0mprint\u001b[0m\u001b[0;34m(\u001b[0m\u001b[0mtom\u001b[0m\u001b[0;34m.\u001b[0m\u001b[0mcompany\u001b[0m\u001b[0;34m)\u001b[0m  \u001b[0;31m# ! Помилка - AttributeError: Person object has no attribute company\u001b[0m\u001b[0;34m\u001b[0m\u001b[0;34m\u001b[0m\u001b[0m\n\u001b[0m",
      "\u001b[0;31mAttributeError\u001b[0m: 'Person' object has no attribute 'company'"
     ]
    }
   ],
   "source": [
    "tom = Person(\"Tom\")\n",
    "print(tom.company)  # ! Помилка - AttributeError: Person object has no attribute company"
   ]
  },
  {
   "cell_type": "markdown",
   "metadata": {
    "id": "JuM-fGuX5oAy"
   },
   "source": [
    "Для звернення до атрибутів об'єкта всередині класу в його методах також застосовується слово self:"
   ]
  },
  {
   "cell_type": "code",
   "execution_count": null,
   "metadata": {
    "colab": {
     "base_uri": "https://localhost:8080/",
     "height": 305
    },
    "id": "cbQ8n68X5pzq",
    "outputId": "e895172c-e384-44f7-9aa4-7a638ab622ae"
   },
   "outputs": [
    {
     "ename": "NameError",
     "evalue": "name 'name' is not defined",
     "output_type": "error",
     "traceback": [
      "\u001b[0;31m---------------------------------------------------------------------------\u001b[0m",
      "\u001b[0;31mNameError\u001b[0m                                 Traceback (most recent call last)",
      "\u001b[0;32m<ipython-input-22-be6d8d32f574>\u001b[0m in \u001b[0;36m<cell line: 12>\u001b[0;34m()\u001b[0m\n\u001b[1;32m     10\u001b[0m \u001b[0;34m\u001b[0m\u001b[0m\n\u001b[1;32m     11\u001b[0m \u001b[0mtom\u001b[0m \u001b[0;34m=\u001b[0m \u001b[0mPerson\u001b[0m\u001b[0;34m(\u001b[0m\u001b[0;34m\"Tom\"\u001b[0m\u001b[0;34m)\u001b[0m\u001b[0;34m\u001b[0m\u001b[0;34m\u001b[0m\u001b[0m\n\u001b[0;32m---> 12\u001b[0;31m \u001b[0mtom\u001b[0m\u001b[0;34m.\u001b[0m\u001b[0mdisplay_info\u001b[0m\u001b[0;34m(\u001b[0m\u001b[0;34m)\u001b[0m      \u001b[0;31m# Ім'я: Tom  Вік: 1\u001b[0m\u001b[0;34m\u001b[0m\u001b[0;34m\u001b[0m\u001b[0m\n\u001b[0m",
      "\u001b[0;32m<ipython-input-22-be6d8d32f574>\u001b[0m in \u001b[0;36mdisplay_info\u001b[0;34m(self)\u001b[0m\n\u001b[1;32m      6\u001b[0m \u001b[0;34m\u001b[0m\u001b[0m\n\u001b[1;32m      7\u001b[0m     \u001b[0;32mdef\u001b[0m \u001b[0mdisplay_info\u001b[0m\u001b[0;34m(\u001b[0m\u001b[0mself\u001b[0m\u001b[0;34m)\u001b[0m\u001b[0;34m:\u001b[0m\u001b[0;34m\u001b[0m\u001b[0;34m\u001b[0m\u001b[0m\n\u001b[0;32m----> 8\u001b[0;31m         \u001b[0mprint\u001b[0m\u001b[0;34m(\u001b[0m\u001b[0;34mf\"Ім'я: {name}  Вік: {self.age}\"\u001b[0m\u001b[0;34m)\u001b[0m\u001b[0;34m\u001b[0m\u001b[0;34m\u001b[0m\u001b[0m\n\u001b[0m\u001b[1;32m      9\u001b[0m \u001b[0;34m\u001b[0m\u001b[0m\n\u001b[1;32m     10\u001b[0m \u001b[0;34m\u001b[0m\u001b[0m\n",
      "\u001b[0;31mNameError\u001b[0m: name 'name' is not defined"
     ]
    }
   ],
   "source": [
    "class Person:\n",
    "\n",
    "    def __init__(self, name):\n",
    "        self.name = name    # ім'я людини\n",
    "        self.age = 1        # вік людини\n",
    "\n",
    "    def display_info(self):\n",
    "        print(f\"Ім'я: {self.name}  Вік: {self.age}\")\n",
    "\n",
    "\n",
    "tom = Person(\"Tom\")\n",
    "tom.display_info()      # Ім'я: Tom  Вік: 1"
   ]
  },
  {
   "cell_type": "markdown",
   "metadata": {
    "id": "GlUjk_t85rgV"
   },
   "source": [
    "Тут визначається метод display_info(), який виводить інформацію на консоль. І для звернення в методі до атрибутів об'єкта застосовується слово self: self.name і self.age"
   ]
  },
  {
   "cell_type": "markdown",
   "metadata": {
    "id": "zV_YE1jt5vK9"
   },
   "source": [
    "## Створення об'єктів\n",
    "Вище створювався один об'єкт. Але подібним чином можна створювати й інші об'єкти класу"
   ]
  },
  {
   "cell_type": "code",
   "execution_count": null,
   "metadata": {
    "colab": {
     "base_uri": "https://localhost:8080/"
    },
    "id": "2Sjfahpe5tei",
    "outputId": "241f0530-389b-4c5c-c34f-88a9a5788239"
   },
   "outputs": [
    {
     "name": "stdout",
     "output_type": "stream",
     "text": [
      "Ім'я: Tom  Вік: 37\n",
      "Ім'я: Bob  Вік: 41\n"
     ]
    }
   ],
   "source": [
    "class Person:\n",
    "\n",
    "    def __init__(self, name):\n",
    "        self.name = name    # ім'я людини\n",
    "        self.age = 1        # вік людини\n",
    "\n",
    "    def display_info(self):\n",
    "        print(f\"Ім'я: {self.name}  Вік: {self.age}\")\n",
    "\n",
    "\n",
    "tom = Person(\"Tom\")\n",
    "tom.age = 37\n",
    "tom.display_info()      # Ім'я: Tom  Вік: 37\n",
    "\n",
    "bob = Person(\"Bob\")\n",
    "bob.age = 41\n",
    "bob.display_info()      # Ім'я: Bob  Вік: 41"
   ]
  },
  {
   "cell_type": "markdown",
   "metadata": {
    "id": "bS2zI6V750A9"
   },
   "source": [
    "Тут створюються два об'єкти класу Person: tom і bob. Вони відповідають визначенню класу Person, мають однаковий набір атрибутів і методів, однак їхній стан відрізнятиметься.\n",
    "\n",
    "Під час виконання програми Python динамічно визначатиме self - він представляє об'єкт, у якого викликається метод. Наприклад, у рядку:"
   ]
  },
  {
   "cell_type": "code",
   "execution_count": null,
   "metadata": {
    "colab": {
     "base_uri": "https://localhost:8080/"
    },
    "id": "RDuQnmlW51xp",
    "outputId": "c380932f-d69b-42f2-a60c-c6227ee488fc"
   },
   "outputs": [
    {
     "name": "stdout",
     "output_type": "stream",
     "text": [
      "Ім'я: Tom  Вік: 37\n"
     ]
    }
   ],
   "source": [
    "tom.display_info()      # Ім'я: Tom  Вік: 37"
   ]
  },
  {
   "cell_type": "markdown",
   "metadata": {
    "id": "o7budu1J5243"
   },
   "source": [
    "Це буде об'єкт tom, а при виклику"
   ]
  },
  {
   "cell_type": "code",
   "execution_count": null,
   "metadata": {
    "colab": {
     "base_uri": "https://localhost:8080/"
    },
    "id": "90JpVOpy56w6",
    "outputId": "1212b588-13a9-4d96-e323-c04854b43258"
   },
   "outputs": [
    {
     "name": "stdout",
     "output_type": "stream",
     "text": [
      "Ім'я: Bob  Вік: 41\n"
     ]
    }
   ],
   "source": [
    "bob.display_info()"
   ]
  },
  {
   "cell_type": "markdown",
   "metadata": {
    "id": "e4TDj2Eh584U"
   },
   "source": [
    "Це буде об'єкт bob"
   ]
  },
  {
   "cell_type": "markdown",
   "metadata": {
    "id": "6VAnUeUY6A55"
   },
   "source": [
    "# Інкапсуляція, атрибути та властивості\n",
    "За замовчуванням атрибути в класах є загальнодоступними, а це означає, що з будь-якого місця програми ми можемо отримати атрибут об'єкта і змінити його. Наприклад:"
   ]
  },
  {
   "cell_type": "code",
   "execution_count": null,
   "metadata": {
    "colab": {
     "base_uri": "https://localhost:8080/"
    },
    "id": "uNyCO3aU6M8J",
    "outputId": "fae97f06-5a0e-470d-ec9a-560296136f43"
   },
   "outputs": [
    {
     "name": "stdout",
     "output_type": "stream",
     "text": [
      "Ім'я: Людина-павук\tВік: -129\n",
      "Timovich\n"
     ]
    }
   ],
   "source": [
    "class Person:\n",
    "    def __init__(self, name):\n",
    "        self.name = name    # встановлюємо ім'я\n",
    "        self.age = 1        # встановлюємо вік\n",
    "\n",
    "    def display_info(self):\n",
    "        print(f\"Ім'я: {self.name}\\tВік: {self.age}\")\n",
    "\n",
    "\n",
    "tom = Person(\"Tom\")\n",
    "tom.name = \"Людина-павук\"       # змінюємо атрибут name\n",
    "tom.age = -129                  # змінюємо атрибут age\n",
    "tom.surname = \"Timovich\"\n",
    "tom.display_info()              # Ім'я: Людина-павук     Вік: -129\n",
    "print(tom.surname)"
   ]
  },
  {
   "cell_type": "markdown",
   "metadata": {
    "id": "YZGLoUYi6OVk"
   },
   "source": [
    "Але в цьому разі ми можемо, наприклад, присвоїти віку або імені людини некоректне значення, наприклад, вказати від'ємний вік. Така поведінка небажана, тому постає питання про контроль за доступом до атрибутів об'єкта.\n",
    "\n",
    "З цією проблемою тісно пов'язане поняття інкапсуляції. Інкапсуляція є фундаментальною концепцією об'єктно-орієнтованого програмування. Вона запобігає прямому доступу до атрибутів об'єкта з коду, що викликає.\n",
    "\n",
    "Щодо інкапсуляції безпосередньо в мові програмування Python приховати атрибути класу можна зробивши їх приватними або закритими та обмеживши доступ до них через спеціальні методи, які ще називаються властивостями.\n",
    "\n",
    "Змінимо вище визначений клас, визначивши в ньому властивості:"
   ]
  },
  {
   "cell_type": "code",
   "execution_count": null,
   "metadata": {
    "colab": {
     "base_uri": "https://localhost:8080/"
    },
    "id": "oHT38bXQ6QdE",
    "outputId": "b08e2008-0812-4f49-a95f-e980176bcff6"
   },
   "outputs": [
    {
     "name": "stdout",
     "output_type": "stream",
     "text": [
      "Ім'я: Tom\tВік: 1\n",
      "Неприпустимий вік\n",
      "Ім'я: Tom\tВік: 25\n",
      "25\n"
     ]
    }
   ],
   "source": [
    "class Person:\n",
    "    def __init__(self, name):\n",
    "        self.__name = name  # встановлюємо ім'я\n",
    "        self.__age = 1  # встановлюємо вік\n",
    "\n",
    "    def set_age(self, age):\n",
    "        if 1 < age < 110:\n",
    "            self.__age = age\n",
    "        else:\n",
    "            print(\"Неприпустимий вік\")\n",
    "\n",
    "    def get_age(self):\n",
    "        return self.__age\n",
    "\n",
    "    def get_name(self):\n",
    "        return self.__name\n",
    "\n",
    "    def display_info(self):\n",
    "        print(f\"Ім'я: {self.__name}\\tВік: {self.__age}\")\n",
    "\n",
    "\n",
    "tom = Person(\"Tom\")\n",
    "tom.display_info()  # Ім'я: Tom  Вік: 1\n",
    "tom.set_age(-3486)  # Неприпустимий вік\n",
    "tom.set_age(25)\n",
    "tom.display_info()  # Ім'я: Tom  Вік: 25"
   ]
  },
  {
   "cell_type": "code",
   "execution_count": null,
   "metadata": {
    "colab": {
     "base_uri": "https://localhost:8080/"
    },
    "id": "93A4e17wFLeh",
    "outputId": "36c59dae-32cc-4c3c-d11b-30f30ee5f867"
   },
   "outputs": [
    {
     "name": "stdout",
     "output_type": "stream",
     "text": [
      "Tom\n"
     ]
    }
   ],
   "source": [
    "print(tom._Person__name) # Звернути увагу на питання інкапсуляції"
   ]
  },
  {
   "cell_type": "markdown",
   "metadata": {
    "id": "AAQ3onIs6RtZ"
   },
   "source": [
    "Для створення приватного атрибута на початку його найменування ставиться подвійний прочерк: self.__name. До такого атрибута ми зможемо звернутися тільки з того ж класу. Але не зможемо звернутися поза цим класом. Наприклад, присвоєння значення цьому атрибуту нічого не дасть:\n",
    "```\n",
    "tom.__age = 43\n",
    "```\n",
    "Тому що в цьому випадку просто визначається динамічно новий атрибут __age, але він не має нічого спільного з атрибутом self.__age.\n",
    "\n",
    "А спроба отримати його значення призведе до помилки виконання (якщо раніше не була визначена змінна __age):"
   ]
  },
  {
   "cell_type": "code",
   "execution_count": null,
   "metadata": {
    "colab": {
     "base_uri": "https://localhost:8080/",
     "height": 144
    },
    "id": "wT1DyQCK6TTY",
    "outputId": "68e6db62-2ef8-48a2-f7e1-e3f742af042c"
   },
   "outputs": [
    {
     "ename": "AttributeError",
     "evalue": "'Person' object has no attribute '__age'",
     "output_type": "error",
     "traceback": [
      "\u001b[0;31m---------------------------------------------------------------------------\u001b[0m",
      "\u001b[0;31mAttributeError\u001b[0m                            Traceback (most recent call last)",
      "\u001b[0;32m<ipython-input-28-880053cab904>\u001b[0m in \u001b[0;36m<cell line: 1>\u001b[0;34m()\u001b[0m\n\u001b[0;32m----> 1\u001b[0;31m \u001b[0mprint\u001b[0m\u001b[0;34m(\u001b[0m\u001b[0mtom\u001b[0m\u001b[0;34m.\u001b[0m\u001b[0m__age\u001b[0m\u001b[0;34m)\u001b[0m\u001b[0;34m\u001b[0m\u001b[0;34m\u001b[0m\u001b[0m\n\u001b[0m",
      "\u001b[0;31mAttributeError\u001b[0m: 'Person' object has no attribute '__age'"
     ]
    }
   ],
   "source": [
    "print(tom.__age)"
   ]
  },
  {
   "cell_type": "markdown",
   "metadata": {
    "id": "xrI0kumu6ZkG"
   },
   "source": [
    "Однак все ж таки нам може знадобитися встановлювати вік користувача ззовні. Для цього створюються властивості. Використовуючи одну властивість, ми можемо отримати значення атрибута:"
   ]
  },
  {
   "cell_type": "code",
   "execution_count": null,
   "metadata": {
    "id": "8FGkWV7d6btF"
   },
   "outputs": [],
   "source": [
    "def get_age(self):\n",
    "    return self.__age"
   ]
  },
  {
   "cell_type": "markdown",
   "metadata": {
    "id": "SKr57u036cpf"
   },
   "source": [
    "Цей метод ще часто називають геттер або аксесор. Для зміни віку визначено іншу властивість:"
   ]
  },
  {
   "cell_type": "code",
   "execution_count": null,
   "metadata": {
    "id": "0Tsvbc1X6gyD"
   },
   "outputs": [],
   "source": [
    "def set_age(self, age):\n",
    "    if 1 < age < 110:\n",
    "        self.__age = age\n",
    "    else:\n",
    "        print(\"Неприпустимий вік\")"
   ]
  },
  {
   "cell_type": "markdown",
   "metadata": {
    "id": "d3CsUTjV6hFP"
   },
   "source": [
    "Цей метод ще називають сеттер або мьютейтор (mutator). Тут ми вже можемо вирішити залежно від умов, чи треба перевстановлювати вік.\n",
    "\n",
    "Необов'язково створювати для кожного приватного атрибута подібну пару властивостей. Так, у прикладі вище ім'я людини ми можемо встановити тільки з конструктора. А для отримання визначено метод get_name."
   ]
  },
  {
   "cell_type": "markdown",
   "metadata": {
    "id": "3Z3oCLlK6jQl"
   },
   "source": [
    "## Анотації властивостей\n",
    "Вище ми розглянули, як створювати властивості. Але Python має також ще один - більш елегантний спосіб визначення властивостей. Цей спосіб передбачає використання анотацій, яким передує символ @.\n",
    "\n",
    "Для створення властивості-геттера над властивістю ставиться анотація @property.\n",
    "\n",
    "Для створення властивості-сеттера над властивістю встановлюється анотація ім'я_властивості_геттера.setter.\n",
    "\n",
    "Перепишемо клас Person з використанням анотацій:"
   ]
  },
  {
   "cell_type": "code",
   "execution_count": null,
   "metadata": {
    "colab": {
     "base_uri": "https://localhost:8080/"
    },
    "id": "Jf_wEmV46n2P",
    "outputId": "2165047d-b380-467f-e447-a11ed588baff"
   },
   "outputs": [
    {
     "name": "stdout",
     "output_type": "stream",
     "text": [
      "Ім'я: Tom\tВік: 1\n",
      "Неприпустимий вік\n",
      "1\n",
      "Ім'я: Tom\tВік: 36\n"
     ]
    }
   ],
   "source": [
    "class Person:\n",
    "    def __init__(self, name):\n",
    "        self.__name = name  # встановлюємо ім'я\n",
    "        self.__age = 1  # встановлюємо вік\n",
    "\n",
    "    @property\n",
    "    def age(self):\n",
    "        return self.__age\n",
    "\n",
    "    @age.setter\n",
    "    def age(self, age):\n",
    "        if 1 < age < 110:\n",
    "            self.__age = age\n",
    "        else:\n",
    "            print(\"Неприпустимий вік\")\n",
    "\n",
    "    @property\n",
    "    def name(self):\n",
    "        return self.__name\n",
    "\n",
    "    def display_info(self):\n",
    "        print(f\"Ім'я: {self.__name}\\tВік: {self.__age}\")\n",
    "\n",
    "\n",
    "tom = Person(\"Tom\")\n",
    "\n",
    "tom.display_info()  # Ім'я: Tom  Вік: 1\n",
    "tom.age = -3486  # Неприпустимий вік\n",
    "print(tom.age)  # 1\n",
    "tom.age = 36\n",
    "tom.display_info()  # Ім'я: Tom  Вік: 36"
   ]
  },
  {
   "cell_type": "markdown",
   "metadata": {
    "id": "ndY6KwU06pMP"
   },
   "source": [
    "По-перше, варто звернути увагу, що властивість-сеттер визначається після властивості-геттера.\n",
    "\n",
    "По-друге, і сеттер, і геттер називаються однаково - age. І оскільки геттер називається age, то над сетером встановлюється анотація @age.setter.\n",
    "\n",
    "Після цього, що до геттера, що до сетера, ми звертаємося через вираз tom.age."
   ]
  },
  {
   "cell_type": "markdown",
   "metadata": {
    "id": "B4M_bZfEatu3"
   },
   "source": [
    "# Спадкування\n",
    "\n",
    "Спадкування дає змогу створювати новий клас на основі вже наявного класу. Поряд з інкапсуляцією успадкування є одним із наріжних каменів об'єктно-орієнтованого програмування.\n",
    "\n",
    "Ключовими поняттями успадкування є підклас і суперклас. Підклас успадковує від суперкласу всі публічні атрибути та методи. Суперклас ще називається базовим (base class) або батьківським (parent class), а підклас - похідним (derived class) або дочірнім (child class).\n",
    "\n",
    "Синтаксис для успадкування класів виглядає таким чином:\n",
    "```\n",
    "class підклас (суперклас):\n",
    "    методи_підкласу\n",
    "```\n",
    "\n",
    "Наприклад, у нас є клас Person, який представляє людину:"
   ]
  },
  {
   "cell_type": "code",
   "execution_count": null,
   "metadata": {
    "id": "Wsn33pVzaz2A"
   },
   "outputs": [],
   "source": [
    "class Person:\n",
    "\n",
    "    def __init__(self, name):\n",
    "        self.__name = name   # Ім'я людини\n",
    "\n",
    "    @property\n",
    "    def name(self):\n",
    "        return self.__name\n",
    "\n",
    "    def display_info(self):\n",
    "        print(f\"Ім'я: {self.__name} \")"
   ]
  },
  {
   "cell_type": "markdown",
   "metadata": {
    "id": "fe5533GibPUz"
   },
   "source": [
    "Припустимо, нам необхідний клас працівника, який працює на деякому підприємстві. Ми могли б створити з нуля новий клас, наприклад, клас Employee:"
   ]
  },
  {
   "cell_type": "code",
   "execution_count": null,
   "metadata": {
    "id": "XvfSD7jQbRDS"
   },
   "outputs": [],
   "source": [
    "class Employee:\n",
    "\n",
    "    def __init__(self, name):\n",
    "        self.__name = name  # ім'я працівника\n",
    "\n",
    "    @property\n",
    "    def name(self):\n",
    "        return self.__name\n",
    "\n",
    "    def display_info(self):\n",
    "        print(f\"Ім'я: {self.__name} \")\n",
    "\n",
    "    def work(self):\n",
    "        print(f\"{self.name} працює\")"
   ]
  },
  {
   "cell_type": "markdown",
   "metadata": {
    "id": "VJgS6CDubXit"
   },
   "source": [
    "Однак клас Employee може мати ті самі атрибути і методи, що й клас Person, оскільки працівник - це людина. Так, у вищезазначеному в класі Employee тільки додається метод works, весь інший код повторює функціонал класу Person. Але щоб не дублювати функціонал одного класу в іншому, у цьому випадку краще застосувати успадкування.\n",
    "\n",
    "Отже, успадкуємо клас Employee від класу Person:"
   ]
  },
  {
   "cell_type": "code",
   "execution_count": null,
   "metadata": {
    "colab": {
     "base_uri": "https://localhost:8080/"
    },
    "id": "UMZBMLfQbZNG",
    "outputId": "a0a8e14e-0b8d-4db2-da87-befaccc3c934"
   },
   "outputs": [
    {
     "name": "stdout",
     "output_type": "stream",
     "text": [
      "Tom\n",
      "Ім'я: Tom \n",
      "Tom працює\n"
     ]
    }
   ],
   "source": [
    "class Person:\n",
    "\n",
    "    def __init__(self, name):\n",
    "        self.__name = name   # ім'я людини\n",
    "\n",
    "    @property\n",
    "    def name(self):\n",
    "        return self.__name\n",
    "\n",
    "    def display_info(self):\n",
    "        print(f\"Ім'я: {self.__name} \")\n",
    "\n",
    "\n",
    "class Employee(Person):\n",
    "\n",
    "    def work(self):\n",
    "        print(f\"{self.name} працює\")\n",
    "\n",
    "\n",
    "tom = Employee(\"Tom\")\n",
    "print(tom.name)     # Tom\n",
    "tom.display_info()  # Ім'я: Tom\n",
    "tom.work()          # Tom працює"
   ]
  },
  {
   "cell_type": "markdown",
   "metadata": {
    "id": "OE-CZjbLbeVS"
   },
   "source": [
    "Клас Employee повністю переймає функціонал класу Person, лише додаючи метод work(). Відповідно при створенні об'єкта Employee ми можемо використовувати успадкований від Person конструктор:"
   ]
  },
  {
   "cell_type": "code",
   "execution_count": null,
   "metadata": {
    "id": "r0AOajGIbgTa"
   },
   "outputs": [],
   "source": [
    "tom = Employee(\"Tom\")"
   ]
  },
  {
   "cell_type": "markdown",
   "metadata": {
    "id": "b5h9qV1Ebhc4"
   },
   "source": [
    "І також можна звертатися до успадкованих атрибутів/властивостей і методів:"
   ]
  },
  {
   "cell_type": "code",
   "execution_count": null,
   "metadata": {
    "colab": {
     "base_uri": "https://localhost:8080/"
    },
    "id": "IasTfJbQbi9b",
    "outputId": "556b9c75-e1d6-4bc6-95ce-c5f18c976526"
   },
   "outputs": [
    {
     "name": "stdout",
     "output_type": "stream",
     "text": [
      "Tom\n",
      "Ім'я: Tom \n"
     ]
    }
   ],
   "source": [
    "print(tom.name)     # Tom\n",
    "tom.display_info()  # Ім'я: Tom"
   ]
  },
  {
   "cell_type": "markdown",
   "metadata": {
    "id": "9nqvEi_7bj6J"
   },
   "source": [
    "Однак, варто звернути увагу, що для Employee НЕ доступні закриті атрибути типу __name. Наприклад, ми НЕ можемо в методі work звернутися до приватного атрибута self.__name:"
   ]
  },
  {
   "cell_type": "code",
   "execution_count": null,
   "metadata": {
    "id": "PcWj81n-blPb"
   },
   "outputs": [],
   "source": [
    "def work(self):\n",
    "    print(f\"{self.__name} works\")   # ! Помилка"
   ]
  },
  {
   "cell_type": "markdown",
   "metadata": {
    "id": "9ktyvu-tcEhH"
   },
   "source": [
    "## Множинне успадкування\n",
    "Однією з відмінних рис мови Python є підтримка множинного успадкування, тобто один клас можна успадкувати від кількох класів:"
   ]
  },
  {
   "cell_type": "code",
   "execution_count": null,
   "metadata": {
    "colab": {
     "base_uri": "https://localhost:8080/"
    },
    "id": "Zog8MP7_cHjc",
    "outputId": "c805a0fb-f033-4ba8-e18d-4fef9b269d51"
   },
   "outputs": [
    {
     "name": "stdout",
     "output_type": "stream",
     "text": [
      "Працівник працює\n",
      "Студент навчається\n"
     ]
    }
   ],
   "source": [
    "# Клас працівника\n",
    "class Employee:\n",
    "    def work(self):\n",
    "        print(\"Працівник працює\")\n",
    "\n",
    "\n",
    "# Клас студента\n",
    "class Student:\n",
    "    def study(self):\n",
    "        print(\"Студент навчається\")\n",
    "\n",
    "\n",
    "class WorkingStudent(Employee, Student):        # Успадкування від класів Employee і Student\n",
    "    pass\n",
    "\n",
    "\n",
    "# Клас працюючого студента\n",
    "tom = WorkingStudent()\n",
    "tom.work()      # Працівник працює\n",
    "tom.study()     # Студент навчається"
   ]
  },
  {
   "cell_type": "markdown",
   "metadata": {
    "id": "J3H_nEGhcZW4"
   },
   "source": [
    "Тут визначено клас Employee, який представляє співробітника фірми, і клас Student, який представляє студента, що навчається. Клас WorkingStudent, який представляє студента, що працює, не визначає жодного функціоналу, тому в ньому визначено оператор pass. Клас WorkingStudent просто успадковує функціонал від двох класів Employee і Student. Відповідно в об'єкта цього класу ми можемо викликати методи обох класів.\n",
    "\n",
    "При цьому успадковані класи можуть бути складнішими за функціональністю, наприклад:"
   ]
  },
  {
   "cell_type": "code",
   "execution_count": null,
   "metadata": {
    "colab": {
     "base_uri": "https://localhost:8080/"
    },
    "id": "Wf8hoX1NcbOe",
    "outputId": "07507f29-1235-4c51-e45d-89449566fffc"
   },
   "outputs": [
    {
     "name": "stdout",
     "output_type": "stream",
     "text": [
      "Tom працює\n",
      "Tom навчається\n"
     ]
    }
   ],
   "source": [
    "class Employee:\n",
    "\n",
    "    def __init__(self, name):\n",
    "        self.__name = name\n",
    "\n",
    "    @property\n",
    "    def name(self):\n",
    "        return self.__name\n",
    "\n",
    "    def work(self):\n",
    "        print(f\"{self.name} працює\")\n",
    "\n",
    "\n",
    "class Student:\n",
    "\n",
    "    def __init__(self, name):\n",
    "        self.__name = name\n",
    "\n",
    "    @property\n",
    "    def name(self):\n",
    "        return self.__name\n",
    "\n",
    "    def study(self):\n",
    "        print(f\"{self.name} навчається\")\n",
    "\n",
    "\n",
    "class WorkingStudent(Employee, Student):\n",
    "    pass\n",
    "\n",
    "\n",
    "tom = WorkingStudent(\"Tom\")\n",
    "tom.work()      # Tom працює\n",
    "tom.study()     # Tom навчається"
   ]
  },
  {
   "cell_type": "markdown",
   "metadata": {
    "id": "-1X7iXwW78hP"
   },
   "source": [
    "## Перевизначення функціоналу базового класу\n",
    "\n",
    "В минулому розділі клас Employee повністю переймав функціонал класу Person:"
   ]
  },
  {
   "cell_type": "code",
   "execution_count": null,
   "metadata": {
    "id": "TtSn2caf76Ip"
   },
   "outputs": [],
   "source": [
    "class Person:\n",
    "\n",
    "    def __init__(self, name):\n",
    "        self.__name = name   # Ім'я людини\n",
    "\n",
    "    @property\n",
    "    def name(self):\n",
    "        return self.__name\n",
    "\n",
    "    def display_info(self):\n",
    "        print(f\"Ім'я: {self.__name} \")\n",
    "\n",
    "\n",
    "class Employee(Person):\n",
    "\n",
    "    def work(self):\n",
    "        print(f\"{self.name} працює\")"
   ]
  },
  {
   "cell_type": "markdown",
   "metadata": {
    "id": "_af2NdBy8Gqk"
   },
   "source": [
    "Але що, якщо ми хочемо щось змінити з цього функціоналу? Наприклад, додати працівнику через конструктор новий атрибут, який зберігатиме компанію, де він працює, або змінити реалізацію методу display_info. Python дозволяє перевизначити функціонал базового класу.\n",
    "\n",
    "Наприклад, змінимо класи таким чином:"
   ]
  },
  {
   "cell_type": "code",
   "execution_count": null,
   "metadata": {
    "colab": {
     "base_uri": "https://localhost:8080/"
    },
    "id": "F5S-mOm78IaS",
    "outputId": "8f7cc55e-f81d-49a5-ea9d-75b626e00561"
   },
   "outputs": [
    {
     "name": "stdout",
     "output_type": "stream",
     "text": [
      "Ім'я: Tom\n",
      "Компанія: Microsoft\n"
     ]
    }
   ],
   "source": [
    "class Person:\n",
    "\n",
    "    def __init__(self, name):\n",
    "        self.__name = name   # Ім'я людини\n",
    "\n",
    "    @property\n",
    "    def name(self):\n",
    "        return self.__name\n",
    "\n",
    "    def display_info(self):\n",
    "        print(f\"Ім'я: {self.__name}\")\n",
    "\n",
    "\n",
    "class Employee(Person):\n",
    "\n",
    "    def __init__(self, name, company):\n",
    "        super().__init__(name)\n",
    "        self.company = company\n",
    "\n",
    "    def display_info(self):\n",
    "        super().display_info()\n",
    "        print(f\"Компанія: {self.company}\")\n",
    "\n",
    "    def work(self):\n",
    "        print(f\"{self.name} працює\")\n",
    "\n",
    "\n",
    "tom = Employee(\"Tom\", \"Microsoft\")\n",
    "tom.display_info()  # Ім'я: Tom\n",
    "                    # Компанія: Microsoft"
   ]
  },
  {
   "cell_type": "code",
   "execution_count": null,
   "metadata": {
    "colab": {
     "base_uri": "https://localhost:8080/",
     "height": 144
    },
    "id": "5ZvgJd_DEq4M",
    "outputId": "06c16083-030c-4f71-bd1c-21f04a721a40"
   },
   "outputs": [
    {
     "ename": "AttributeError",
     "evalue": "'Person' object has no attribute '_Person__name'",
     "output_type": "error",
     "traceback": [
      "\u001b[0;31m---------------------------------------------------------------------------\u001b[0m",
      "\u001b[0;31mAttributeError\u001b[0m                            Traceback (most recent call last)",
      "\u001b[0;32m<ipython-input-56-dcbba1e526b9>\u001b[0m in \u001b[0;36m<cell line: 1>\u001b[0;34m()\u001b[0m\n\u001b[0;32m----> 1\u001b[0;31m \u001b[0mprint\u001b[0m\u001b[0;34m(\u001b[0m\u001b[0mtom\u001b[0m\u001b[0;34m.\u001b[0m\u001b[0m_Person__name\u001b[0m\u001b[0;34m)\u001b[0m\u001b[0;34m\u001b[0m\u001b[0;34m\u001b[0m\u001b[0m\n\u001b[0m",
      "\u001b[0;31mAttributeError\u001b[0m: 'Person' object has no attribute '_Person__name'"
     ]
    }
   ],
   "source": [
    "print(tom._Person__name)"
   ]
  },
  {
   "cell_type": "markdown",
   "metadata": {
    "id": "HfeUC5Ma8Kd7"
   },
   "source": [
    "Тут у класі Employee додається новий атрибут - self.company, який зберігає компанію працівника. Відповідно метод __init__() приймає три параметри: другий для встановлення імені і третій для встановлення компанії. Але якщо в базовому класі визначено конструктор за допомогою методу __init__, і ми хочемо в похідному класі змінити логіку конструктора, то в конструкторі похідного класу ми повинні викликати конструктор базового класу. Тобто в конструкторі Employee треба викликати конструктор класу Person.\n",
    "\n",
    "Для звернення до базового класу використовується вираз super(). Так, у конструкторі Employee виконується виклик:\n",
    "```\n",
    "super().__init__(name)\n",
    "```\n",
    "Цей вираз буде представляти виклик конструктора класу Person, в який передається ім'я працівника. І це логічно. Адже ім'я працівника встановлюється саме в конструкторі класу Person. У самому конструкторі Employee лише встановлюємо властивість company.\n",
    "\n",
    "Крім того, у класі Employee перевизначається метод display_info() - у нього додається виведення компанії працівника. Причому ми могли визначити цей метод таким чином:"
   ]
  },
  {
   "cell_type": "code",
   "execution_count": null,
   "metadata": {
    "id": "7kATKlot8MvR"
   },
   "outputs": [],
   "source": [
    "def display_info(self):\n",
    "    print(f\"Ім'я: {self.name}\")\n",
    "    print(f\"Компанія: {self.company}\")"
   ]
  },
  {
   "cell_type": "markdown",
   "metadata": {
    "id": "WWV84CNs8Shh"
   },
   "source": [
    "Але тоді рядок виведення імені повторював би код із класу Person. Якщо ця частина коду збігається з методом із класу Person, то немає сенсу повторюватися, тому знову ж таки за допомогою виразу super() звертаємося до реалізації методу display_info в класі Person:"
   ]
  },
  {
   "cell_type": "code",
   "execution_count": null,
   "metadata": {
    "id": "S2HpQUrc8UPR"
   },
   "outputs": [],
   "source": [
    "def display_info(self):\n",
    "    super().display_info()      # звернення до методу display_info в класі Person\n",
    "    print(f\"Company: {self.company}\")"
   ]
  },
  {
   "cell_type": "markdown",
   "metadata": {
    "id": "zaoSqmAT8VSt"
   },
   "source": [
    "Потім ми можемо викликати конструктор Employee для створення об'єкта цього класу і викликати метод display_info:"
   ]
  },
  {
   "cell_type": "code",
   "execution_count": null,
   "metadata": {
    "id": "BRyRO05P8XU_"
   },
   "outputs": [],
   "source": [
    "tom = Employee(\"Tom\", \"Microsoft\")\n",
    "tom.display_info()"
   ]
  },
  {
   "cell_type": "markdown",
   "metadata": {
    "id": "3BQWflI_8aTP"
   },
   "source": [
    "## Перевірка типу об'єкта\n",
    "\n",
    "Під час роботи з об'єктами буває необхідно залежно від їхнього типу виконати ті чи інші операції. І за допомогою вбудованої функції isinstance() ми можемо перевірити тип об'єкта. Ця функція приймає два параметри:\n",
    "```\n",
    "isinstance(object, type)\n",
    "```\n",
    "\n",
    "Перший параметр представляє об'єкт, а другий - тип, на приналежність до якого виконується перевірка. Якщо об'єкт представляє зазначений тип, то функція повертає True. Наприклад, візьмемо таку ієрархію класів Person-Employee/Student:"
   ]
  },
  {
   "cell_type": "code",
   "execution_count": null,
   "metadata": {
    "colab": {
     "base_uri": "https://localhost:8080/"
    },
    "id": "N_iNqBn58fWw",
    "outputId": "717a34ec-dab0-49a3-bd34-7245f0f4840f"
   },
   "outputs": [
    {
     "name": "stdout",
     "output_type": "stream",
     "text": [
      "Tom працює\n",
      "Bob навчається\n",
      "Sam нічого не робить\n"
     ]
    }
   ],
   "source": [
    "class Person:\n",
    "\n",
    "    def __init__(self, name):\n",
    "        self.__name = name   # Ім'я людини\n",
    "\n",
    "    @property\n",
    "    def name(self):\n",
    "        return self.__name\n",
    "\n",
    "    def do_nothing(self):\n",
    "        print(f\"{self.name} нічого не робить\")\n",
    "\n",
    "\n",
    "# Клас працівника\n",
    "class Employee(Person):\n",
    "\n",
    "    def work(self):\n",
    "        print(f\"{self.name} працює\")\n",
    "\n",
    "\n",
    "# Клас студента\n",
    "class Student(Person):\n",
    "\n",
    "    def study(self):\n",
    "        print(f\"{self.name} навчається\")\n",
    "\n",
    "\n",
    "def act(person):\n",
    "    if isinstance(person, Student):\n",
    "        person.study()\n",
    "    elif isinstance(person, Employee):\n",
    "        person.work()\n",
    "    elif isinstance(person, Person):\n",
    "        person.do_nothing()\n",
    "\n",
    "\n",
    "tom = Employee(\"Tom\")\n",
    "bob = Student(\"Bob\")\n",
    "sam = Person(\"Sam\")\n",
    "\n",
    "act(tom)    # Tom працює\n",
    "act(bob)    # Bob навчається\n",
    "act(sam)    # Sam нічого не робить"
   ]
  },
  {
   "cell_type": "markdown",
   "metadata": {
    "id": "3WSFgtA98mPv"
   },
   "source": [
    "Тут клас Employee визначає метод work(), а клас Student - метод study.\n",
    "\n",
    "Тут також визначена функція act, яка перевіряє за допомогою функції isinstance, чи представляє параметр person певний тип, і залежно від результатів перевірки звертається до певного методу об'єкта.\n"
   ]
  },
  {
   "cell_type": "markdown",
   "metadata": {
    "id": "FLFUokum8uH2"
   },
   "source": [
    "# Атрибути класів і статичні методи\n",
    "## Атрибути класу\n",
    "Крім атрибутів об'єктів у класі можна визначати атрибути класів. Подібні атрибути визначаються у вигляді змінних рівня класу. Наприклад:\n"
   ]
  },
  {
   "cell_type": "code",
   "execution_count": null,
   "metadata": {
    "colab": {
     "base_uri": "https://localhost:8080/"
    },
    "id": "Y2tYHUGx80RC",
    "outputId": "3bda4e90-f9df-458c-fa4f-ad464beaff4d"
   },
   "outputs": [
    {
     "name": "stdout",
     "output_type": "stream",
     "text": [
      "Людина\n",
      "Описує людину\n",
      "Клас людини\n"
     ]
    }
   ],
   "source": [
    "class Person:\n",
    "     type = \"Людина\"\n",
    "     description = \"Описує людину\"\n",
    "\n",
    "\n",
    "print(Person.type)          # Людина\n",
    "print(Person.description)   # Описує людину\n",
    "\n",
    "Person.type = \"Клас людини\"\n",
    "print(Person.type)          # Клас людини"
   ]
  },
  {
   "cell_type": "markdown",
   "metadata": {
    "id": "06LS-5sf80jW"
   },
   "source": [
    "Тут у класі Person визначено два атрибути: type, який зберігає ім'я класу, і description, який зберігає опис класу.\n",
    "\n",
    "Для звернення до атрибутів класу ми можемо використовувати ім'я класу, наприклад: Person.type, і, як і атрибути об'єкта, ми можемо отримувати та змінювати їхні значення.\n",
    "\n",
    "Подібні атрибути є спільними для всіх об'єктів класу:"
   ]
  },
  {
   "cell_type": "code",
   "execution_count": null,
   "metadata": {
    "colab": {
     "base_uri": "https://localhost:8080/"
    },
    "id": "tEpHdrga82GW",
    "outputId": "0386fde1-5d2e-4c51-d820-44931673cf60"
   },
   "outputs": [
    {
     "name": "stdout",
     "output_type": "stream",
     "text": [
      "Людина\n",
      "Людина\n",
      "Клас людини\n",
      "Клас людини\n"
     ]
    }
   ],
   "source": [
    "class Person:\n",
    "     type = \"Людина\"\n",
    "     def __init__(self, name):\n",
    "         self.name = name\n",
    "         self.__age = 2\n",
    "\n",
    "\n",
    "tom = Person(\"Tom\")\n",
    "bob = Person(\"Bob\")\n",
    "print(tom.type)     # Людина\n",
    "print(bob.type)     # Людина\n",
    "\n",
    "# Змінимо атрибут класу\n",
    "Person.type = \"Клас людини\"\n",
    "print(tom.type)     # Class Person\n",
    "print(bob.type)     # Class Person"
   ]
  },
  {
   "cell_type": "markdown",
   "metadata": {
    "id": "qi9zF-2083Kb"
   },
   "source": [
    "Атрибути класу можуть застосовуватися для таких ситуацій, коли нам треба визначити деякі загальні дані для всіх об'єктів. Наприклад:"
   ]
  },
  {
   "cell_type": "code",
   "execution_count": null,
   "metadata": {
    "colab": {
     "base_uri": "https://localhost:8080/"
    },
    "id": "R1FcHXEA86Co",
    "outputId": "0a3675d7-ae5b-493c-fa5e-35d2f101ad7e"
   },
   "outputs": [
    {
     "name": "stdout",
     "output_type": "stream",
     "text": [
      "Tom\n",
      "Undefined\n"
     ]
    }
   ],
   "source": [
    "class Person:\n",
    "    default_name = \"Undefined\"\n",
    "\n",
    "    def __init__(self, name):\n",
    "        if name:\n",
    "            self.name = name\n",
    "        else:\n",
    "            self.name = Person.default_name\n",
    "\n",
    "\n",
    "tom = Person(\"Tom\")\n",
    "bob = Person(\"\")\n",
    "print(tom.name)  # Tom\n",
    "print(bob.name)  # Undefined"
   ]
  },
  {
   "cell_type": "markdown",
   "metadata": {
    "id": "BfFkA_oR88XZ"
   },
   "source": [
    "У цьому випадку атрибут default_name зберігає ім'я за замовчуванням. І якщо в конструктор передано порожній рядок для імені, то атрибуту name передається значення атрибута класу default_name. Для звернення до атрибута класу всередині методів можна застосовувати ім'я класу\n",
    "```\n",
    "self.name = Person.default_name\n",
    "```\n"
   ]
  },
  {
   "cell_type": "markdown",
   "metadata": {
    "id": "I988G4Va9AWh"
   },
   "source": [
    "## Атрибут класу\n",
    "Можлива ситуація, коли атрибут класу й атрибут об'єкта збігається за іменем. Якщо в коді для атрибута об'єкта не задано значення, то для нього може застосовуватися значення атрибута класу:"
   ]
  },
  {
   "cell_type": "code",
   "execution_count": null,
   "metadata": {
    "colab": {
     "base_uri": "https://localhost:8080/"
    },
    "id": "7WRR16SJ87Bc",
    "outputId": "27a9932b-32b3-4fbc-cbec-162edc1d8644"
   },
   "outputs": [
    {
     "name": "stdout",
     "output_type": "stream",
     "text": [
      "Undefined\n",
      "Undefined\n",
      "Bob\n",
      "Undefined\n"
     ]
    }
   ],
   "source": [
    "class Person:\n",
    "    name = \"Undefined\"\n",
    "\n",
    "    def print_name(self):\n",
    "        print(self.name)\n",
    "\n",
    "\n",
    "tom = Person()\n",
    "bob = Person()\n",
    "tom.print_name()    # Undefined\n",
    "bob.print_name()    # Undefined\n",
    "\n",
    "bob.name = \"Bob\"\n",
    "bob.print_name()    # Bob\n",
    "tom.print_name()    # Undefined"
   ]
  },
  {
   "cell_type": "markdown",
   "metadata": {
    "id": "le_JBsbf9EeA"
   },
   "source": [
    "Тут метод print_name використовує атрибут об'єкт name, проте ніде в коді цей атрибут не встановлюється. Натомість на рівні класу задано атрибут name. Тож при першому зверненні до методу print_name, у ньому використовуватиметься значення атрибута класу:"
   ]
  },
  {
   "cell_type": "code",
   "execution_count": null,
   "metadata": {
    "colab": {
     "base_uri": "https://localhost:8080/"
    },
    "id": "9hLIC7U49GWW",
    "outputId": "79e7233f-8b9a-4295-997a-a30a22be4a3d"
   },
   "outputs": [
    {
     "name": "stdout",
     "output_type": "stream",
     "text": [
      "Undefined\n",
      "Undefined\n"
     ]
    }
   ],
   "source": [
    "tom = Person()\n",
    "bob = Person()\n",
    "tom.print_name()    # Undefined\n",
    "bob.print_name()    # Undefined"
   ]
  },
  {
   "cell_type": "markdown",
   "metadata": {
    "id": "3KLWNWvN9HpF"
   },
   "source": [
    "Однак далі ми можемо поміняти встановити атрибут об'єкта:"
   ]
  },
  {
   "cell_type": "code",
   "execution_count": null,
   "metadata": {
    "colab": {
     "base_uri": "https://localhost:8080/"
    },
    "id": "hzGywyZD9JNF",
    "outputId": "ced7db44-7624-48a1-ba75-c584e451aaee"
   },
   "outputs": [
    {
     "name": "stdout",
     "output_type": "stream",
     "text": [
      "Bob\n",
      "Undefined\n"
     ]
    }
   ],
   "source": [
    "bob.name = \"Bob\"\n",
    "bob.print_name()    # Bob\n",
    "tom.print_name()    # Undefined"
   ]
  },
  {
   "cell_type": "markdown",
   "metadata": {
    "id": "T4xjW8fV9KJW"
   },
   "source": [
    "Причому другий об'єкт - tom продовжить використовувати атрибут класу. І якщо ми змінимо атрибут класу, відповідно значення tom.name теж зміниться:"
   ]
  },
  {
   "cell_type": "code",
   "execution_count": null,
   "metadata": {
    "colab": {
     "base_uri": "https://localhost:8080/"
    },
    "id": "XFnyW0cy9MB-",
    "outputId": "d09e680a-df8f-411d-e16b-e03f576dfd80"
   },
   "outputs": [
    {
     "name": "stdout",
     "output_type": "stream",
     "text": [
      "Undefined\n",
      "Undefined\n",
      "Bob\n",
      "Якась людина\n"
     ]
    }
   ],
   "source": [
    "tom = Person()\n",
    "bob = Person()\n",
    "tom.print_name()    # Undefined\n",
    "bob.print_name()    # Undefined\n",
    "\n",
    "Person.name = \"Якась людина\"     # змінюємо значення атрибута класу\n",
    "bob.name = \"Bob\"                # встановлюємо атрибут об'єкта\n",
    "bob.print_name()    # Bob\n",
    "tom.print_name()    # Якась людина"
   ]
  },
  {
   "cell_type": "markdown",
   "metadata": {
    "id": "Lliqmznk9NrM"
   },
   "source": [
    "## Статичні методи\n",
    "Крім звичайних методів клас може визначати статичні методи. Таким методам передує анотація @staticmethod, і вони відносяться загалом до класу. Статичні методи зазвичай визначають поведінку, яка не залежить від конкретного об'єкта:"
   ]
  },
  {
   "cell_type": "code",
   "execution_count": null,
   "metadata": {
    "colab": {
     "base_uri": "https://localhost:8080/"
    },
    "id": "QtI_FZsu9SD-",
    "outputId": "451cfdaa-8baa-4ff0-ef64-d8a2f5699e6a"
   },
   "outputs": [
    {
     "name": "stdout",
     "output_type": "stream",
     "text": [
      "Людина\n",
      "Людина\n"
     ]
    }
   ],
   "source": [
    "class Person:\n",
    "    __type = \"Людина\"\n",
    "\n",
    "    @staticmethod\n",
    "    def print_type():\n",
    "        print(Person.__type)\n",
    "\n",
    "\n",
    "Person.print_type()     # Людина - звернення до статичного методу через ім'я класу\n",
    "\n",
    "tom = Person()\n",
    "tom.print_type()     # Людина - звернення до статичного методу через ім'я об'єкта"
   ]
  },
  {
   "cell_type": "markdown",
   "metadata": {
    "id": "0__8-Ucr9Vf5"
   },
   "source": [
    "У цьому випадку в класі Person визначено атрибут класу __type, який зберігає значення, загальне для всього класу - назву класу. Причому оскільки назва атрибута передує двом підкресленням, то цей атрибут буде приватним, що захистить від неприпустимої зміни.\n",
    "\n",
    "Також у класі Person визначено статичний метод print_type, який виводить на консоль значення атрибута __type. Дія цього методу не залежить від конкретного об'єкта і стосується загалом усього класу - незалежно від об'єкта на консоль виводитиметься одне й те саме значення атрибута __type. Тому такий метод можна зробити статичним."
   ]
  },
  {
   "cell_type": "markdown",
   "metadata": {
    "id": "qqI8iUUo9b5X"
   },
   "source": [
    "# Клас object. Строкове представлення об'єкта\n",
    "Починаючи з 3-ї версії в мові програмування Python усі класи неявно мають один загальний суперклас - object і всі класи за замовчуванням успадковують його методи.\n",
    "\n",
    "Одним з найбільш використовуваних методів класу object є метод __str__(). Коли необхідно отримати строкове представлення об'єкта або вивести об'єкт у вигляді рядка, то Python якраз викликає цей метод. І під час визначення класу гарною практикою вважається перевизначення цього методу.\n",
    "\n",
    "Наприклад, візьмемо клас Person і виведемо його строкове представлення:"
   ]
  },
  {
   "cell_type": "code",
   "execution_count": null,
   "metadata": {
    "colab": {
     "base_uri": "https://localhost:8080/"
    },
    "id": "B_q6TfmQ9XNl",
    "outputId": "c6da71d1-93a8-468f-9261-6bdabd4058e7"
   },
   "outputs": [
    {
     "name": "stdout",
     "output_type": "stream",
     "text": [
      "<__main__.Person object at 0x7f1d62bf8370>\n"
     ]
    }
   ],
   "source": [
    "class Person:\n",
    "    def __init__(self, name, age):\n",
    "        self.name = name  # встановлюємо ім'я\n",
    "        self.age = age  # встановлюємо вік\n",
    "\n",
    "    def display_info(self):\n",
    "        print(f\"Ім'я: {self.name}  Вік: {self.age}\")\n",
    "\n",
    "\n",
    "tom = Person(\"Tom\", 23)\n",
    "print(tom)"
   ]
  },
  {
   "cell_type": "markdown",
   "metadata": {
    "id": "lSBmEvaR9fRj"
   },
   "source": [
    "Під час запуску програма виведе щось на кшталт такого:\n",
    "```\n",
    "<__main__.Person object at 0x10a63dc00>\n",
    "```\n",
    "Це не дуже інформативна інформація про об'єкт. Ми, звісно, можемо вийти з положення, визначивши в класі Person додатковий метод, який виводить дані об'єкта - у прикладі вище це метод display_info.\n",
    "\n",
    "Але є й інший вихід - визначимо в класі Person метод __str__() (по два підкреслення з кожного боку):"
   ]
  },
  {
   "cell_type": "code",
   "execution_count": null,
   "metadata": {
    "colab": {
     "base_uri": "https://localhost:8080/"
    },
    "id": "oRFsJCgD9myQ",
    "outputId": "3317d60a-8a4b-478d-d6e5-73c06cab8660"
   },
   "outputs": [
    {
     "name": "stdout",
     "output_type": "stream",
     "text": [
      "Ім'я: Tom  Вік: 23\n",
      "Ім'я: Tom  Вік: 23\n"
     ]
    }
   ],
   "source": [
    "class Person:\n",
    "    def __init__(self, name, age):\n",
    "        self.name = name  # встановлюємо ім'я\n",
    "        self.age = age  # встановлюємо вік\n",
    "\n",
    "    def display_info(self):\n",
    "        print(self)\n",
    "        # print(self.__str__())     # або так\n",
    "\n",
    "    def __str__(self):\n",
    "        return f\"Ім'я: {self.name}  Вік: {self.age}\"\n",
    "\n",
    "tom = Person(\"Tom\", 23)\n",
    "print(tom)      # Ім'я: Tom  Вік: 23\n",
    "tom.display_info()  # Ім'я: Tom  Ві: 23"
   ]
  },
  {
   "cell_type": "markdown",
   "metadata": {
    "id": "X1_kBKzU9oM1"
   },
   "source": [
    "Метод __str__ має повертати рядок. І в цьому випадку ми повертаємо базову інформацію про людину. Якщо нам буде потрібно використовувати цю інформацію в інших методах класу, то ми можемо використовувати вираз self.__str__()"
   ]
  }
 ],
 "metadata": {
  "colab": {
   "provenance": []
  },
  "kernelspec": {
   "display_name": "Python 3 (ipykernel)",
   "language": "python",
   "name": "python3"
  },
  "language_info": {
   "codemirror_mode": {
    "name": "ipython",
    "version": 3
   },
   "file_extension": ".py",
   "mimetype": "text/x-python",
   "name": "python",
   "nbconvert_exporter": "python",
   "pygments_lexer": "ipython3",
   "version": "3.10.11"
  }
 },
 "nbformat": 4,
 "nbformat_minor": 4
}
