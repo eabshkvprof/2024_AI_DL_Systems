{
 "cells": [
  {
   "cell_type": "markdown",
   "metadata": {
    "id": "VK7It_rbwKaL"
   },
   "source": [
    "# Лекція 6.3. Файлові об'єкти. Визначення загальної структури програми"
   ]
  },
  {
   "cell_type": "markdown",
   "metadata": {
    "id": "IB4xyeUMys9u"
   },
   "source": [
    "# Файли\n",
    "Python підтримує безліч різних типів файлів, але умовно їх можна розділити на два види: текстові та бінарні. Текстові файли - це, наприклад, файли з розширенням csv, txt, html, загалом будь-які файли, які зберігають інформацію в текстовому вигляді. Бінарні файли - це зображення, аудіо та відеофайли тощо. Залежно від типу файлу робота з ним може трохи відрізнятися."
   ]
  },
  {
   "cell_type": "markdown",
   "metadata": {
    "id": "1J1U9mmmzzqb"
   },
   "source": [
    "Під час роботи з файлами необхідно дотримуватися певної послідовності операцій:\n",
    "1.   Відкриття файлу за допомогою методу open()\n",
    "2.   Читання файлу за допомогою методу read() або запис у файл за допомогою методу write()\n",
    "3. Закриття файлу методом close()"
   ]
  },
  {
   "cell_type": "markdown",
   "metadata": {
    "id": "dlQvvnuhz-YW"
   },
   "source": [
    "Щоб почати роботу з файлом, його треба відкрити за допомогою функції open(), яка має таке формальне визначення:\n",
    "\n",
    "```\n",
    "open(file, mode)\n",
    "```"
   ]
  },
  {
   "cell_type": "markdown",
   "metadata": {
    "id": "LQQRwgUb0Cdb"
   },
   "source": [
    "Перший параметр функції представляє шлях до файлу. Шлях файлу може бути абсолютним, тобто починатися з букви диска, наприклад, C://somedir/somefile.txt. Або може бути відносним, наприклад, somedir/somefile.txt - у цьому разі пошук файлу буде йти щодо розташування запущеного скрипта Python.\n",
    "Другий переданий аргумент - mode встановлює режим відкриття файлу залежно від того, що ми збираємося з ним робити. Існує 4 загальних режими:"
   ]
  },
  {
   "cell_type": "markdown",
   "metadata": {
    "id": "GJu7yt1r0HG9"
   },
   "source": [
    "1. r (Read). Файл відкривається для читання. Якщо файл не знайдено, то генерується виняток FileNotFoundError\n",
    "\n",
    "2. w (Write). Файл відкривається для запису. Якщо файл відсутній, то він створюється. Якщо подібний файл уже є, то він **створюється заново**, і відповідно старі дані в ньому **стираються**.\n",
    "\n",
    "3. a (Append). Файл відкривається для дозапису. Якщо файл відсутній, то він створюється. Якщо подібний файл уже є, то дані записуються в його кінець.\n",
    "\n",
    "4. b (Binary). Використовується для роботи з бінарними файлами. Застосовується разом з іншими режимами - w або r.\n",
    "\n",
    "Після завершення роботи з файлом його обов'язково потрібно закрити методом close(). Цей метод звільнить усі пов'язані з файлом ресурси, що використовуються."
   ]
  },
  {
   "cell_type": "code",
   "execution_count": null,
   "metadata": {
    "id": "LcUwBKmvylZo"
   },
   "outputs": [],
   "source": [
    "# Для прикладу відкриємо тектовий файл для запису\n",
    "myfile = open(\"hello.txt\", \"w\")\n",
    "\n",
    "myfile.close()"
   ]
  },
  {
   "cell_type": "markdown",
   "metadata": {
    "id": "HlFcp3pa0VH-"
   },
   "source": [
    "Під час відкриття файлу або в процесі роботи з ним ми можемо зіткнутися з різними винятками, наприклад, до нього немає доступу тощо. У цьому випадку програма випаде в помилку, а її виконання не дійде до виклику методу close, і відповідно файл не буде закрито."
   ]
  },
  {
   "cell_type": "markdown",
   "metadata": {
    "id": "HkS8YbL_0btY"
   },
   "source": [
    "У цьому випадку ми можемо обробляти винятки:"
   ]
  },
  {
   "cell_type": "code",
   "execution_count": null,
   "metadata": {
    "id": "WFK7Tq7R0Vxk"
   },
   "outputs": [],
   "source": [
    "try:\n",
    "    somefile = open(\"hello.txt\", \"w\")\n",
    "    try:\n",
    "        somefile.write(\"hello world\")\n",
    "    except Exception as e:\n",
    "        print(e)\n",
    "    finally:\n",
    "        somefile.close()\n",
    "except Exception as ex:\n",
    "    print(ex)"
   ]
  },
  {
   "cell_type": "markdown",
   "metadata": {
    "id": "v-xsGyS10eYg"
   },
   "source": [
    "У цьому разі вся робота з файлом йде у вкладеному блоці try. І якщо раптом виникне якесь виключення, то в будь-якому разі в блоці finally файл буде закрито.\n",
    "\n",
    "Однак є і більш зручна конструкція - конструкція with:"
   ]
  },
  {
   "cell_type": "code",
   "execution_count": null,
   "metadata": {
    "id": "idmRvzy00kPV"
   },
   "outputs": [],
   "source": [
    "with open(\"hello.txt\", \"w\") as file_obj:\n",
    "  file_obj.write(\"hello world\")"
   ]
  },
  {
   "cell_type": "markdown",
   "metadata": {
    "id": "9AJiQ1op01du"
   },
   "source": [
    "Ця конструкція визначає для відкритого файлу змінну file_obj і виконує набір інструкцій. Після їх виконання файл автоматично закривається. Навіть якщо під час виконання інструкцій у блоці with виникнуть будь-які винятки, то файл однаково закривається."
   ]
  },
  {
   "cell_type": "markdown",
   "metadata": {
    "id": "4ifO7mam08Xn"
   },
   "source": [
    "Щоб відкрити текстовий файл на запис, необхідно застосувати режим w (перезапис) або a (дозапис). Потім для запису застосовується метод write(str), у який передається записуваний рядок. Варто зазначити, що записується саме рядок, тому, якщо потрібно записати числа, дані інших типів, то їх попередньо потрібно конвертувати в рядок."
   ]
  },
  {
   "cell_type": "markdown",
   "metadata": {
    "id": "E0vllUAY1Eg4"
   },
   "source": [
    "Запишемо деяку інформацію у файл \"hello.txt\":"
   ]
  },
  {
   "cell_type": "code",
   "execution_count": null,
   "metadata": {
    "id": "xZX5lLBp0y-j"
   },
   "outputs": [],
   "source": [
    "with open(\"hello.txt\", \"a\") as file:\n",
    "    file.write(\"hello world\")"
   ]
  },
  {
   "cell_type": "markdown",
   "metadata": {
    "id": "oZMo6squ1Gay"
   },
   "source": [
    "Якщо ми відкриємо папку, в якій знаходиться поточний скрипт Python, то побачимо там файл hello.txt. Цей файл можна відкрити в будь-якому текстовому редакторі та за бажання змінити."
   ]
  },
  {
   "cell_type": "markdown",
   "metadata": {
    "id": "-4yIUgwj1We7"
   },
   "source": [
    "Тепер дозапишемо в цей файл ще один рядок:"
   ]
  },
  {
   "cell_type": "code",
   "execution_count": null,
   "metadata": {
    "id": "4naJBkgG1JE1"
   },
   "outputs": [],
   "source": [
    "with open(\"hello.txt\", \"a\") as file:\n",
    "    file.write(\"\\ngood bye, world\")"
   ]
  },
  {
   "cell_type": "markdown",
   "metadata": {
    "id": "3IXA7lTS1ZjB"
   },
   "source": [
    "Дозапис виглядає як додавання рядка до останнього символу у файлі, тому, якщо необхідно зробити запис з нового рядка, то можна використовувати ескейп-послідовність \"\\n\"."
   ]
  },
  {
   "cell_type": "markdown",
   "metadata": {
    "id": "hG7QFAtM1ddk"
   },
   "source": [
    "Ще один спосіб запису до файлу представляє стандартний метод print(), який застосовується для виведення даних на консоль:"
   ]
  },
  {
   "cell_type": "code",
   "execution_count": null,
   "metadata": {
    "id": "MTh8_bag1aH_"
   },
   "outputs": [],
   "source": [
    "with open(\"hello.txt\", \"a\") as hello_file:\n",
    "    print(\"Hello, world\", file=hello_file)"
   ]
  },
  {
   "cell_type": "markdown",
   "metadata": {
    "id": "Ra0QjjyJ1hW2"
   },
   "source": [
    "Для виведення даних у файл у метод print як другий параметр передається назва файлу через параметр file. А перший параметр представляє рядок, що записується у файл."
   ]
  },
  {
   "cell_type": "markdown",
   "metadata": {
    "id": "owCRHkB31h6M"
   },
   "source": [
    "Для читання файлу він відкривається з режимом r (Read), і потім ми можемо зчитати його вміст різними методами:\n",
    "1. readline(): зчитує один рядок із файлу\n",
    "2. read(): зчитує весь вміст файлу в один рядок\n",
    "3. readlines(): зчитує всі рядки файлу в список\n",
    "\n",
    "Наприклад, зчитаємо вище записаний файл порядково:"
   ]
  },
  {
   "cell_type": "code",
   "execution_count": null,
   "metadata": {
    "colab": {
     "base_uri": "https://localhost:8080/"
    },
    "id": "hMrLB7iO1j0o",
    "outputId": "bc554fe7-b985-491e-9a07-890094c419ca"
   },
   "outputs": [
    {
     "name": "stdout",
     "output_type": "stream",
     "text": [
      "hello worldhello worldhello world\n",
      "Hello, world\n"
     ]
    }
   ],
   "source": [
    "with open(\"hello.txt\", \"r\") as file:\n",
    "    for line in file:\n",
    "        print(line, end=\"\")"
   ]
  },
  {
   "cell_type": "markdown",
   "metadata": {
    "id": "oqO9Lb3S1zHm"
   },
   "source": [
    "Незважаючи на те, що ми явно не застосовуємо метод readline() для читання кожного рядка, але під час перебору файлу цей метод автоматично викликається для отримання кожного нового рядка. Тому в циклі вручну немає сенсу викликати метод readline. І оскільки рядки розділяються символом переведення рядка \"\\n\", то щоб унеможливити зайвого перенесення на інший рядок у функцію print передається значення end=\"\".\n",
    "\n",
    "Тепер явним чином викличемо метод readline() для читання окремих рядків:"
   ]
  },
  {
   "cell_type": "code",
   "execution_count": null,
   "metadata": {
    "colab": {
     "base_uri": "https://localhost:8080/"
    },
    "id": "hQjJGMhP11R2",
    "outputId": "7282f35c-9854-4533-9cb5-f37a74eab139"
   },
   "outputs": [
    {
     "name": "stdout",
     "output_type": "stream",
     "text": [
      "hello worldhello worldhello world\n",
      "Hello, world\n",
      "\n"
     ]
    }
   ],
   "source": [
    "with open(\"hello.txt\", \"r\") as file:\n",
    "    str1 = file.readline()\n",
    "    print(str1, end=\"\")\n",
    "    str2 = file.readline()\n",
    "    print(str2)"
   ]
  },
  {
   "cell_type": "markdown",
   "metadata": {
    "id": "Q4HKOxA32B6q"
   },
   "source": [
    "Метод readline можна використовувати для рядкового зчитування файлу в циклі while:"
   ]
  },
  {
   "cell_type": "code",
   "execution_count": null,
   "metadata": {
    "colab": {
     "base_uri": "https://localhost:8080/"
    },
    "id": "PvgwUMTF2D1f",
    "outputId": "37e630d2-bcec-4bd1-a0b6-5e4db0232a46"
   },
   "outputs": [
    {
     "name": "stdout",
     "output_type": "stream",
     "text": [
      "hello worldhello worldhello world\n",
      "Hello, world\n"
     ]
    }
   ],
   "source": [
    "with open(\"hello.txt\", \"r\") as file:\n",
    "    line = file.readline()\n",
    "    while line:\n",
    "        print(line, end=\"\")\n",
    "        line = file.readline()"
   ]
  },
  {
   "cell_type": "markdown",
   "metadata": {
    "id": "DvuevXZK2Ezy"
   },
   "source": [
    "Якщо файл невеликий, то його можна разом зчитати за допомогою методу read():"
   ]
  },
  {
   "cell_type": "code",
   "execution_count": null,
   "metadata": {
    "colab": {
     "base_uri": "https://localhost:8080/"
    },
    "id": "kpj6q_pV2GQH",
    "outputId": "8f26c214-560c-4bab-ae56-1f1b5293bf61"
   },
   "outputs": [
    {
     "name": "stdout",
     "output_type": "stream",
     "text": [
      "hello worldhello worldhello world\n",
      "Hello, world\n",
      "\n"
     ]
    }
   ],
   "source": [
    "with open(\"hello.txt\", \"r\") as file:\n",
    "    content = file.read()\n",
    "    print(content)"
   ]
  },
  {
   "cell_type": "markdown",
   "metadata": {
    "id": "hcSQNG1u2HBm"
   },
   "source": [
    "І також застосуємо метод readlines() для зчитування всього файлу в список рядків:"
   ]
  },
  {
   "cell_type": "code",
   "execution_count": null,
   "metadata": {
    "colab": {
     "base_uri": "https://localhost:8080/"
    },
    "id": "A0Pf3rCC2I4Z",
    "outputId": "d9d948e9-fa86-4b8e-9789-9a9a6b7445a5"
   },
   "outputs": [
    {
     "name": "stdout",
     "output_type": "stream",
     "text": [
      "hello world\n",
      "good bye, worldHello, world\n",
      "\n"
     ]
    }
   ],
   "source": [
    "with open(\"hello.txt\", \"r\") as file:\n",
    "    contents = file.readlines()\n",
    "    str1 = contents[0]\n",
    "    str2 = contents[1]\n",
    "    print(str1, end=\"\")\n",
    "    print(str2)"
   ]
  },
  {
   "cell_type": "markdown",
   "metadata": {
    "id": "2ed4ehlM2KLQ"
   },
   "source": [
    "Під час читання файлу ми можемо зіткнутися з тим, що його кодування не збігається з ASCII. У цьому випадку ми явно можемо вказати кодування за допомогою параметра encoding:"
   ]
  },
  {
   "cell_type": "code",
   "execution_count": null,
   "metadata": {
    "id": "9GvaitVK2Mt6"
   },
   "outputs": [],
   "source": [
    "filename = \"hello.txt\"\n",
    "with open(filename, encoding=\"utf8\") as file:\n",
    "    text = file.read()"
   ]
  },
  {
   "cell_type": "markdown",
   "metadata": {
    "id": "Bg40GyMd2P0f"
   },
   "source": [
    "Тепер напишемо невеликий скрипт, у якому записуватиме введений користувачем масив рядків і зчитуватиме його назад із файлу на консоль:"
   ]
  },
  {
   "cell_type": "code",
   "execution_count": null,
   "metadata": {
    "colab": {
     "base_uri": "https://localhost:8080/"
    },
    "id": "RnSHddT8CE9e",
    "outputId": "7b4a316b-b3d0-4463-9244-886b2743a0d5"
   },
   "outputs": [
    {
     "name": "stdout",
     "output_type": "stream",
     "text": [
      "Enter string: 1:Andrii\n",
      "Enter string: 2:Nikitenko\n",
      "Enter string: 3:Slava\n",
      "Enter string: 4:Ukraine\n",
      "Read data\n",
      "Andrii\n",
      "Nikitenko\n",
      "Slava\n",
      "Ukraine\n"
     ]
    }
   ],
   "source": [
    "filename=\"messages.txt\"\n",
    "messages=list()\n",
    "\n",
    "for i in range(4):\n",
    "  message = str(input(\"Enter string: \" + str(i+1) + \":\"))\n",
    "  messages.append(message)\n",
    "\n",
    "with open(\"messages.txt\",\"w\") as file:\n",
    "  for message in messages:\n",
    "    file.write(message+\"\\n\")\n",
    "\n",
    "print(\"Read data\")\n",
    "with open(\"messages.txt\",\"r\") as file:\n",
    "  for message in file:\n",
    "    print(message, end=\"\")"
   ]
  },
  {
   "cell_type": "markdown",
   "metadata": {
    "id": "nqGulFVK2tIb"
   },
   "source": [
    "# Файли CSV\n",
    "\n",
    "Одним із поширених файлових форматів, які зберігають у зручному вигляді інформацію, є формат csv. Кожен рядок у файлі csv представляє окремий запис або рядок, який складається з окремих стовпців, розділених комами. Власне тому формат і називається Comma Separated Values. Але хоча формат csv - це формат текстових файлів, Python для спрощення роботи з ним надає спеціальний вбудований модуль csv.\n",
    "\n",
    "У прикладі нижче у файл записується двовимірний список - фактично таблиця, де кожен рядок представляє одного користувача. А кожен користувач містить два поля - ім'я та вік. Тобто фактично таблиця з трьох рядків і двох стовпців.\n",
    "\n",
    "Під час відкриття файлу на запис як третій параметр вказується значення newline=\"\"\" - порожній рядок дає змогу коректно зчитувати рядки з файлу незалежно від операційної системи.\n",
    "\n",
    "Для запису нам треба отримати об'єкт writer, який повертається функцією csv.writer(file). У цю функцію передається відкритий файл. А власне запис здійснюється за допомогою методу writer.writerows(users) Цей метод приймає набір рядків. У нашому випадку це двовимірний список.\n",
    "\n",
    "Якщо необхідно додати один запис, який являє собою одновимірний список, наприклад, [\"Sam\", 31], то в цьому випадку можна викликати метод writer.writerow(user)\n",
    "\n",
    "У підсумку після виконання скрипта в тій самій папці опиниться файл users.csv, який матиме такий вміст:"
   ]
  },
  {
   "cell_type": "code",
   "execution_count": null,
   "metadata": {
    "id": "vRx8KOm12s0u"
   },
   "outputs": [],
   "source": [
    "import csv\n",
    "\n",
    "FILENAME = \"users.csv\"\n",
    "\n",
    "users = [\n",
    "    [\"Tom\", 28],\n",
    "    [\"Alice\", 23],\n",
    "    [\"Bob\", 34]\n",
    "]\n",
    "\n",
    "with open(FILENAME, \"w\", newline=\"\") as file:\n",
    "    writer = csv.writer(file)\n",
    "    writer.writerows(users)\n",
    "\n",
    "\n",
    "with open(FILENAME, \"a\", newline=\"\") as file:\n",
    "    user = [\"Sam\", 31]\n",
    "    writer = csv.writer(file)\n",
    "    writer.writerow(user)"
   ]
  },
  {
   "cell_type": "markdown",
   "metadata": {
    "id": "aCxxOF7P2-ve"
   },
   "source": [
    "Для читання з файлу нам навпаки потрібно створити об'єкт reader:"
   ]
  },
  {
   "cell_type": "code",
   "execution_count": null,
   "metadata": {
    "colab": {
     "base_uri": "https://localhost:8080/"
    },
    "id": "L2wXxr7E3AyC",
    "outputId": "f6716e93-dc55-48b0-bd4c-3a40837b3c39"
   },
   "outputs": [
    {
     "name": "stdout",
     "output_type": "stream",
     "text": [
      "Tom  -  28\n",
      "Alice  -  23\n",
      "Bob  -  34\n",
      "Sam  -  31\n"
     ]
    }
   ],
   "source": [
    "import csv\n",
    "\n",
    "FILENAME = \"users.csv\"\n",
    "\n",
    "with open(FILENAME, \"r\", newline=\"\") as file:\n",
    "    reader = csv.reader(file)\n",
    "    for row in reader:\n",
    "        print(row[0], \" - \", row[1])"
   ]
  },
  {
   "cell_type": "markdown",
   "metadata": {
    "id": "qDK6UNdS3CgL"
   },
   "source": [
    "## Робота зі словниками\n",
    "\n",
    "У прикладі вище кожен запис або рядок являв собою окремий список, наприклад, [\"Sam\", 31]. Але крім того, модуль csv має спеціальні додаткові можливості для роботи зі словниками. Зокрема, функція csv.DictWriter() повертає об'єкт writer, який дає змогу записувати у файл. А функція csv.DictReader() повертає об'єкт reader для читання з файлу. Наприклад:"
   ]
  },
  {
   "cell_type": "code",
   "execution_count": null,
   "metadata": {
    "colab": {
     "base_uri": "https://localhost:8080/"
    },
    "id": "fIsQNmLc3Ein",
    "outputId": "890f5031-0175-4193-c8bd-a109523a81d3"
   },
   "outputs": [
    {
     "name": "stdout",
     "output_type": "stream",
     "text": [
      "Tom - 28\n",
      "Alice - 23\n",
      "Bob - 34\n",
      "Sam - 41\n"
     ]
    }
   ],
   "source": [
    "import csv\n",
    "\n",
    "FILENAME = \"users.csv\"\n",
    "\n",
    "users = [\n",
    "    {\"name\": \"Tom\", \"age\": 28},\n",
    "    {\"name\": \"Alice\", \"age\": 23},\n",
    "    {\"name\": \"Bob\", \"age\": 34}\n",
    "]\n",
    "\n",
    "with open(FILENAME, \"w\", newline=\"\") as file:\n",
    "    columns = [\"name\", \"age\"]\n",
    "    writer = csv.DictWriter(file, fieldnames=columns)\n",
    "    writer.writeheader()\n",
    "\n",
    "    # запис декількох рядків\n",
    "    writer.writerows(users)\n",
    "\n",
    "    user = {\"name\" : \"Sam\", \"age\": 41}\n",
    "    # запис одного рядка\n",
    "    writer.writerow(user)\n",
    "\n",
    "with open(FILENAME, \"r\", newline=\"\") as file:\n",
    "    reader = csv.DictReader(file)\n",
    "    for row in reader:\n",
    "        print(row[\"name\"], \"-\", row[\"age\"])"
   ]
  },
  {
   "cell_type": "markdown",
   "metadata": {
    "id": "lAtTmCdv3gRY"
   },
   "source": [
    "Запис рядків також здійснюється за допомогою методів writerow() і writerows(). Але тепер кожен рядок являє собою окремий словник, і крім того, проводиться запис і заголовків стовпців за допомогою методу writeheader(), а в метод csv.DictWriter як другий параметр передається набір стовпців.\n",
    "\n",
    "Під час читання рядків, використовуючи назви стовпців, ми можемо звернутися до окремих значень усередині рядка: row[\"name\"]."
   ]
  },
  {
   "cell_type": "markdown",
   "metadata": {
    "id": "vPtxTzUV3iZa"
   },
   "source": [
    "# Бінарні файли\n",
    "\n",
    "Бінарні файли на відміну від текстових зберігають інформацію у вигляді набору байт. Для роботи з ними в Python необхідний вбудований модуль pickle. Цей модуль надає два методи:\n",
    "1. dump(obj, file): записує об'єкт obj у бінарний файл file\n",
    "2. load(file): зчитує дані з бінарного файлу в об'єкт\n",
    "\n",
    "Під час відкриття бінарного файлу на читання або запис також треба враховувати, що нам потрібно застосовувати режим \"b\" на додачу до режиму запису (\"w\") або читання (\"r\"). Припустимо, треба треба зберегти два об'єкти:"
   ]
  },
  {
   "cell_type": "code",
   "execution_count": null,
   "metadata": {
    "colab": {
     "base_uri": "https://localhost:8080/"
    },
    "id": "TCUZTzfV3fxT",
    "outputId": "c5e00633-d2d2-402c-e1d1-9cea71f8504a"
   },
   "outputs": [
    {
     "name": "stdout",
     "output_type": "stream",
     "text": [
      "Ім'я: Tom \tВік: 19\n"
     ]
    }
   ],
   "source": [
    "import pickle\n",
    "\n",
    "FILENAME = \"user.dat\"\n",
    "\n",
    "name = \"Tom\"\n",
    "age = 19\n",
    "\n",
    "with open(FILENAME, \"wb\") as file:\n",
    "    pickle.dump(name, file)\n",
    "    pickle.dump(age, file)\n",
    "\n",
    "with open(FILENAME, \"rb\") as file:\n",
    "    name = pickle.load(file)\n",
    "    age = pickle.load(file)\n",
    "    print(\"Ім'я:\", name, \"\\tВік:\", age)"
   ]
  },
  {
   "cell_type": "markdown",
   "metadata": {
    "id": "LX3L99Ae3yqB"
   },
   "source": [
    "За допомогою функції dump послідовно записуються два об'єкти. Тому під час читання файлу також послідовно за допомогою функції load ми можемо зчитати ці об'єкти.\n",
    "\n",
    "Подібним чином ми можемо зберігати і витягувати з файлу набори об'єктів:"
   ]
  },
  {
   "cell_type": "code",
   "execution_count": null,
   "metadata": {
    "colab": {
     "base_uri": "https://localhost:8080/"
    },
    "id": "UIYeFf3v34nT",
    "outputId": "2bb09e26-e0c4-434c-85d5-85155cf46b7c"
   },
   "outputs": [
    {
     "name": "stdout",
     "output_type": "stream",
     "text": [
      "Name: Tom \tAge: 28 \tMarried or not: True\n",
      "Name: Alice \tAge: 23 \tMarried or not: False\n",
      "Name: Bob \tAge: 34 \tMarried or not: False\n"
     ]
    }
   ],
   "source": [
    "import pickle\n",
    "\n",
    "FILENAME = \"users.dat\"\n",
    "\n",
    "users = [\n",
    "    [\"Tom\", 28, True],\n",
    "    [\"Alice\", 23, False],\n",
    "    [\"Bob\", 34, False]\n",
    "]\n",
    "\n",
    "with open(FILENAME, \"wb\") as file:\n",
    "    pickle.dump(users, file)\n",
    "\n",
    "\n",
    "with open(FILENAME, \"rb\") as file:\n",
    "    users_from_file = pickle.load(file)\n",
    "    for user in users_from_file:\n",
    "        print(\"Name:\", user[0], \"\\tAge:\", user[1], \"\\tMarried or not:\", user[2])"
   ]
  },
  {
   "cell_type": "markdown",
   "metadata": {
    "id": "IcfghKop4AA0"
   },
   "source": [
    "Залежно від того, який об'єкт ми записували функцією dump, той самий об'єкт буде повернуто функцією load під час зчитування файлу."
   ]
  },
  {
   "cell_type": "markdown",
   "metadata": {
    "id": "HM0W68Ef9FHb"
   },
   "source": [
    "## Модуль OS і робота з файловою системою\n",
    "\n"
   ]
  },
  {
   "cell_type": "markdown",
   "metadata": {
    "id": "sqbJQkbC9JdQ"
   },
   "source": [
    "Низку можливостей щодо роботи з каталогами та файлами надає вбудований модуль os. Хоча він містить багато функцій, розглянемо тільки основні з них:\n",
    "1. mkdir(): створюємо нову папку\n",
    "2. rmdir(): видаляємо папку\n",
    "3. rename(): змінюємо назву файлу\n",
    "4. remove(): видаляємо файл\n",
    "\n",
    "Для створення папки застосовується функція mkdir(), в яку передається шлях до створюваної папки:"
   ]
  },
  {
   "cell_type": "code",
   "execution_count": null,
   "metadata": {
    "id": "Kog782r69J1l"
   },
   "outputs": [],
   "source": [
    "import os\n",
    "\n",
    "# шлях відносно поточного скрипта\n",
    "os.mkdir(\"шлях відносно поточного скрипта\")\n",
    "# абсолютний шлях\n",
    "os.mkdir(\"/content/шлях відносно поточного скрипта/dir1\")\n",
    "os.mkdir(\"/content/шлях відносно поточного скрипта/dir2\")"
   ]
  },
  {
   "cell_type": "markdown",
   "metadata": {
    "id": "JGNDDfUa9R-J"
   },
   "source": [
    "Для видалення папки використовується функція rmdir(), в яку передано шлях до папки, що видаляється:"
   ]
  },
  {
   "cell_type": "code",
   "execution_count": null,
   "metadata": {
    "id": "RVRGLzz09XwP"
   },
   "outputs": [],
   "source": [
    "import os\n",
    "\n",
    "# шлях відносно поточного скрипта\n",
    "os.rmdir(\"/content/шлях відносно поточного скрипта/dir2\")\n",
    "# абсолютний шлях\n",
    "# os.rmdir(\"c://somedir/hello\")"
   ]
  },
  {
   "cell_type": "markdown",
   "metadata": {
    "id": "A0uIpVKn9Y3E"
   },
   "source": [
    "Для перейменування викликається функція rename(source, target), перший параметр якої - шлях до вихідного файлу, а другий - нове ім'я файлу. Як шляхи можуть використовуватися як абсолютні, так і відносні. Наприклад, нехай у папці C://SomeDir/ розташовується файл somefile.txt. Перейменуємо його на файл \"hello.txt\":"
   ]
  },
  {
   "cell_type": "code",
   "execution_count": null,
   "metadata": {
    "id": "0-AKC9Cf9bZp"
   },
   "outputs": [],
   "source": [
    "import os\n",
    "\n",
    "os.rename(\"/content/шлях відносно поточного скрипта/dir1\", \"/content/шлях відносно поточного скрипта/dir2\")"
   ]
  },
  {
   "cell_type": "markdown",
   "metadata": {
    "id": "1OUUIufG9dBL"
   },
   "source": [
    "Для видалення викликається функція remove(), в яку передається шлях до файлу:"
   ]
  },
  {
   "cell_type": "code",
   "execution_count": null,
   "metadata": {
    "id": "MwdUJn259enJ"
   },
   "outputs": [],
   "source": [
    "import os\n",
    "\n",
    "os.remove(\"/content/hello.txt\")"
   ]
  },
  {
   "cell_type": "markdown",
   "metadata": {
    "id": "1oXPSczY9faZ"
   },
   "source": [
    "Якщо ми спробуємо відкрити файл, який не існує, то Python викине виняток FileNotFoundError. Для відлову винятку ми можемо використовувати конструкцію try...except. Однак можна вже до відкриття файлу перевірити, існує він чи ні за допомогою методу os.path.exists(path). У цей метод передається шлях, який необхідно перевірити:"
   ]
  },
  {
   "cell_type": "code",
   "execution_count": null,
   "metadata": {
    "colab": {
     "base_uri": "https://localhost:8080/"
    },
    "id": "IQqIMmao9hI1",
    "outputId": "63b1b02e-2408-467c-bba2-e02584059309"
   },
   "outputs": [
    {
     "name": "stdout",
     "output_type": "stream",
     "text": [
      "Введите путь к файлу: /content/user.da\n",
      "Файл не існує\n"
     ]
    }
   ],
   "source": [
    "filename = input(\"Введите путь к файлу: \")\n",
    "if os.path.exists(filename):\n",
    "    print(\"Зазначений файл існує\")\n",
    "else:\n",
    "    print(\"Файл не існує\")"
   ]
  },
  {
   "cell_type": "markdown",
   "metadata": {
    "id": "qGqitXAm9icb"
   },
   "source": [
    "## Запис і читання архівних zip-файлів\n",
    "\n",
    "Zip представляє найбільш популярний формат архівації та стиснення файлів. І мова Python має вбудований модуль для роботи з ними - zipfile. За допомогою цього модуля можна створювати, зчитувати, записувати zip-файли, отримувати їхній вміст і додавати в них файли. Також підтримується шифрування, але не підтримується дешифрування.\n",
    "\n",
    "Для представлення zip-файлу в цьому модулі визначено клас ZipFile. Він має такий конструктор:\n",
    "\n",
    "\n",
    "```\n",
    "ZipFile(file, mode='r', compression=ZIP_STORED, allowZip64=True, compresslevel=None, *, strict_timestamps=True, metadata_encoding=None)\n",
    "```\n",
    "\n"
   ]
  },
  {
   "cell_type": "markdown",
   "metadata": {
    "id": "uuk_969O9tTy"
   },
   "source": [
    "Параметри:\n",
    "*   file: шлях до zip-файлу\n",
    "*   mode: режим відкриття файлу. Може набувати таких значень:\n",
    " * r: застосовується для читання наявного файлу\n",
    "\n",
    " * w: застосовується для запису нового файлу\n",
    "\n",
    " * a: застосовується для додавання у файл\n",
    "\n",
    "* compression: тип стиснення файлу під час запису. Може набувати значень:\n",
    "\n",
    " * ZIP_STORED: архівація без стиснення (значення за замовчуванням)\n",
    "\n",
    " * ZIP_DEFLATED: стандартний тип стиснення під час архівації в zip\n",
    "\n",
    " * ZIP_BZIP2: стиснення за допомогою способу BZIP2\n",
    "\n",
    " * ZIP_LZMA: стиснення за допомогою способу LZMA\n",
    "\n",
    "* allowZip64: якщо дорівнює True, то zip-файл може бути більшим за 4 Гб\n",
    "\n",
    "* compresslevel: рівень стиснення під час запису файлу. Для типів стиснення ZIP_STORED і ZIP_LZMA не застосовується. Для типу ZIP_DEFLATED допустимі значення від 0 до 9, а для типу ZIP_BZIP2 допустимі значення від 1 до 9.\n",
    "\n",
    "* strict_timestamps: при значенні False дає змогу працювати з zip-файлами, створеними раніше 01.01.1980 і пізніше 31.12.2107\n",
    "\n",
    "* metadata_encoding: застосовується для декодування метаданих zip-файлу (наприклад, коментарів)\n",
    "\n",
    "Для роботи з файлами цей клас надає низку методів (функції):\n",
    "\n",
    "* close(): закриває zip-файл\n",
    "* getinfo(): повертає інформацію про один файл з архіву у вигляді об'єкта ZipInfo\n",
    "* namelist(): повертає список файлів архіву\n",
    "* infolist(): повертає інформацію про всі файли з архіву у вигляді списку об'єктів ZipInfo\n",
    "* open(): надає доступ до одного з файлів в архіві\n",
    "* read(): зчитує файл з архіву в набір байтів\n",
    "* extract(): витягує з архіву один файл\n",
    "* extractall(): витягує всі елементи з архіву\n",
    "* setpassword(): встановлює пароль для zip-файлу\n",
    "* printdir(): виводить на консоль вміст архіву"
   ]
  },
  {
   "cell_type": "markdown",
   "metadata": {
    "id": "7mLmalLT-zW9"
   },
   "source": [
    "Для створення архівного файлу в конструктор ZipFile передається режим \"w\" або \"a\":"
   ]
  },
  {
   "cell_type": "code",
   "execution_count": null,
   "metadata": {
    "id": "i0XbVv1_-VwT"
   },
   "outputs": [],
   "source": [
    "from zipfile import ZipFile\n",
    "\n",
    "myzip = ZipFile(\"andrii.zip\", \"w\")"
   ]
  },
  {
   "cell_type": "markdown",
   "metadata": {
    "id": "6B3eyFHU-6pA"
   },
   "source": [
    "Після виконання коду в поточній папці буде створюватися порожній архівний файл \"andrii.zip\".\n",
    "Після закінчення роботи з архівом для його закриття застосовується метод close():"
   ]
  },
  {
   "cell_type": "code",
   "execution_count": null,
   "metadata": {
    "id": "WK_rjDIu-_v4"
   },
   "outputs": [],
   "source": [
    "from zipfile import ZipFile\n",
    "\n",
    "myzip = ZipFile(\"andrii.zip\", \"w\")\n",
    "myzip.close()"
   ]
  },
  {
   "cell_type": "markdown",
   "metadata": {
    "id": "1ec4EQLd_G2x"
   },
   "source": [
    "Але оскільки ZipFile також представляє менеджер контексту, то він підтримує вираз with, який визначає контекст і автоматично закриває файл після завершення контексту:"
   ]
  },
  {
   "cell_type": "code",
   "execution_count": null,
   "metadata": {
    "id": "ZyFxsC-c_I9e"
   },
   "outputs": [],
   "source": [
    "from zipfile import ZipFile\n",
    "\n",
    "with ZipFile(\"andrii.zip\", \"w\") as myzip:\n",
    "    pass"
   ]
  },
  {
   "cell_type": "markdown",
   "metadata": {
    "id": "V1t0Se88_KFL"
   },
   "source": [
    "Для запису файлів в архів застосовується файл write():\n",
    "\n",
    "\n",
    "```\n",
    "write(filename, arcname=None, compress_type=None, compresslevel=None)\n",
    "```\n",
    "\n"
   ]
  },
  {
   "cell_type": "markdown",
   "metadata": {
    "id": "ZcQYDx3p_ou0"
   },
   "source": [
    "Перший параметр представляє файл, який записується в архів. Другий параметр - arcname встановлює довільне ім'я для файлу всередині архіву (за замовчуванням це саме ім'я файлу). Третій параметр - compress_type представляє тип стиснення, а параметр compresslevel - рівень стиснення.\n",
    "\n",
    "Наприклад, запишемо в архів \"andrii.zip\" файл \"hello.txt\" (який, як припускається, знаходиться в тій самій папці, де і поточний скрипт python):"
   ]
  },
  {
   "cell_type": "code",
   "execution_count": null,
   "metadata": {
    "id": "lqq_w-4g_qsM"
   },
   "outputs": [],
   "source": [
    "from zipfile import ZipFile\n",
    "\n",
    "with ZipFile(\"andrii.zip\", \"w\") as myzip:\n",
    "    myzip.write(\"users.csv\")"
   ]
  },
  {
   "cell_type": "markdown",
   "metadata": {
    "id": "EslsoV2L_rgQ"
   },
   "source": [
    "Варто враховувати, що під час відкриття файлу в режимі \"w\" під час усіх наступних записів поточний вміст буде затиратися, тобто фактично архівний файл буде створюватися заново. Якщо нам необхідно додати, то необхідно визначати zip-файл у режимі \"a\":"
   ]
  },
  {
   "cell_type": "code",
   "execution_count": null,
   "metadata": {
    "id": "Pec2WYsg_trD"
   },
   "outputs": [],
   "source": [
    "from zipfile import ZipFile\n",
    "\n",
    "with ZipFile(\"andrii.zip\", \"a\") as myzip:\n",
    "    myzip.write(\"users.dat\")"
   ]
  },
  {
   "cell_type": "markdown",
   "metadata": {
    "id": "bnZ2NDWP_ut-"
   },
   "source": [
    "Варто зазначити, що за замовчуванням стиснення не застосовується. Але за необхідності можна застосувати який-небудь спосіб стиснення і рівень стиснення\""
   ]
  },
  {
   "cell_type": "code",
   "execution_count": null,
   "metadata": {
    "id": "xkHLRjQS_xBi"
   },
   "outputs": [],
   "source": [
    "from zipfile import ZipFile, ZIP_DEFLATED\n",
    "\n",
    "with ZipFile(\"andrii.zip\", \"w\", compression=ZIP_DEFLATED, compresslevel=3) as myzip:\n",
    "    myzip.write(\"user.dat\")"
   ]
  },
  {
   "cell_type": "markdown",
   "metadata": {
    "id": "OUa-n3QS_x8x"
   },
   "source": [
    "Необхідно враховувати, що якщо ми спробуємо додати в архів файли з уже наявними іменами, то консоль виведе попередження. Щоб уникнути наявності файлів з іменами, що дублюються, можна через другий параметр методу write явним чином визначити для них унікальне ім'я всередині архіву:"
   ]
  },
  {
   "cell_type": "code",
   "execution_count": null,
   "metadata": {
    "id": "hqA0hGy7_zqb"
   },
   "outputs": [],
   "source": [
    "from zipfile import ZipFile\n",
    "\n",
    "with ZipFile(\"andrii.zip\", \"a\") as myzip:\n",
    "    myzip.write(\"hello.txt\", \"hello1.txt\")\n",
    "    myzip.write(\"hello.txt\", \"hello2.txt\")\n",
    "    myzip.write(\"hello.txt\", \"hello3.txt\")"
   ]
  },
  {
   "cell_type": "markdown",
   "metadata": {
    "id": "1GE1QNjY_0jW"
   },
   "source": [
    "Метод infolist() повертає інформацію про файли в архіві у вигляді списку, де кожен окремий файл представлений об'єктом ZipInfo:"
   ]
  },
  {
   "cell_type": "code",
   "execution_count": null,
   "metadata": {
    "colab": {
     "base_uri": "https://localhost:8080/"
    },
    "id": "SWoQ-e5n_2MC",
    "outputId": "18f26f92-6257-419b-ee41-88b613f4ee75"
   },
   "outputs": [
    {
     "name": "stdout",
     "output_type": "stream",
     "text": [
      "[<ZipInfo filename='user.dat' compress_type=deflate filemode='-rw-r--r--' file_size=23 compress_size=20>]\n"
     ]
    }
   ],
   "source": [
    "from zipfile import ZipFile\n",
    "\n",
    "with ZipFile(\"andrii.zip\", \"a\") as myzip:\n",
    "    print(myzip.infolist())"
   ]
  },
  {
   "cell_type": "markdown",
   "metadata": {
    "id": "QBDuc1uu_261"
   },
   "source": [
    "Клас ZipInfo надає низку атрибутів для зберігання інформації про файл. Основні з них:\n",
    "1. filename: назва файлу\n",
    "2. date_time: дата і час останньої зміни файлу у вигляді кортежу у форматі (рік, місяць, день, година, хвилина, секунда)\n",
    "3. compress_type: тип стиснення\n",
    "4. compress_size: розмір після стиснення\n",
    "5. file_size: оригінальний розмір файлу до стиснення\n",
    "\n",
    "Отримаємо ці дані за кожним окремим файлом в архіві:"
   ]
  },
  {
   "cell_type": "code",
   "execution_count": null,
   "metadata": {
    "colab": {
     "base_uri": "https://localhost:8080/"
    },
    "id": "0Tm5-G5BAB0M",
    "outputId": "bb40219b-65c7-4987-f332-efc8ca1a4a5c"
   },
   "outputs": [
    {
     "name": "stdout",
     "output_type": "stream",
     "text": [
      "File Name: user.dat Date: (2024, 3, 4, 10, 1, 48) Size: 23\n"
     ]
    }
   ],
   "source": [
    "from zipfile import ZipFile\n",
    "\n",
    "with ZipFile(\"andrii.zip\", \"r\") as myzip:\n",
    "    for item in myzip.infolist():\n",
    "        print(f\"File Name: {item.filename} Date: {item.date_time} Size: {item.file_size}\")"
   ]
  },
  {
   "cell_type": "markdown",
   "metadata": {
    "id": "EDLzlbYPAFVC"
   },
   "source": [
    "За допомогою методу is_dir() можна перевірити, чи є елемент в архіві папкою:"
   ]
  },
  {
   "cell_type": "code",
   "execution_count": null,
   "metadata": {
    "colab": {
     "base_uri": "https://localhost:8080/"
    },
    "id": "dyQcLZVUAHJ8",
    "outputId": "43a0d948-a830-407f-be30-a573f968df6f"
   },
   "outputs": [
    {
     "name": "stdout",
     "output_type": "stream",
     "text": [
      "Файл: user.dat\n"
     ]
    }
   ],
   "source": [
    "from zipfile import ZipFile\n",
    "\n",
    "with ZipFile(\"andrii.zip\", \"r\") as myzip:\n",
    "    for item in myzip.infolist():\n",
    "        if(item.is_dir()):\n",
    "            print(f\"Папка: {item.filename}\")\n",
    "        else:\n",
    "            print(f\"Файл: {item.filename}\")"
   ]
  },
  {
   "cell_type": "markdown",
   "metadata": {
    "id": "hMCKvoTuAIIj"
   },
   "source": [
    "Якщо треба отримати тільки список імен файлів, що входять в архів, то застосовується метод namelist():"
   ]
  },
  {
   "cell_type": "code",
   "execution_count": null,
   "metadata": {
    "colab": {
     "base_uri": "https://localhost:8080/"
    },
    "id": "Z9iKC2M_AJ4q",
    "outputId": "9e5c27a3-2cb5-4cb5-c110-3d694e18d7ea"
   },
   "outputs": [
    {
     "name": "stdout",
     "output_type": "stream",
     "text": [
      "user.dat\n"
     ]
    }
   ],
   "source": [
    "from zipfile import ZipFile\n",
    "\n",
    "with ZipFile(\"andrii.zip\", \"r\") as myzip:\n",
    "    for item in myzip.namelist():\n",
    "        print(item)"
   ]
  },
  {
   "cell_type": "markdown",
   "metadata": {
    "id": "1aEH--hUAKkF"
   },
   "source": [
    "За допомогою методу getinfo() можна отримати дані по одному з архівованих файлів, передавши в метод його ім'я в архіві. Результат методу - об'єкт ZipInfo:"
   ]
  },
  {
   "cell_type": "code",
   "execution_count": null,
   "metadata": {
    "colab": {
     "base_uri": "https://localhost:8080/"
    },
    "id": "YSY6gO_BAM3R",
    "outputId": "bae662b4-311d-45f5-8f75-21ac9842708c"
   },
   "outputs": [
    {
     "name": "stdout",
     "output_type": "stream",
     "text": [
      "23\n"
     ]
    }
   ],
   "source": [
    "from zipfile import ZipFile\n",
    "\n",
    "with ZipFile(\"andrii.zip\", \"r\") as myzip:\n",
    "    try:\n",
    "        hello_file = myzip.getinfo(\"user.dat\")\n",
    "        print(hello_file.file_size)\n",
    "    except KeyError:\n",
    "        print(\"Зазначений файл відсутній\")"
   ]
  },
  {
   "cell_type": "markdown",
   "metadata": {
    "id": "rLKqG8arAOEZ"
   },
   "source": [
    "Якщо в архіві не виявиться елемента із зазначеним ім'ям, то метод згенерує помилку KeyError."
   ]
  },
  {
   "cell_type": "markdown",
   "metadata": {
    "id": "ijwqJhm0APat"
   },
   "source": [
    "Для вилучення всіх файлів з архіву застосовується метод extractall():\n",
    "\n",
    "\n",
    "```\n",
    "extractall(path=None, members=None, pwd=None)\n",
    "```\n",
    "\n",
    "\n"
   ]
  },
  {
   "cell_type": "markdown",
   "metadata": {
    "id": "NRz_5HUdATfT"
   },
   "source": [
    "Перший параметр методу встановлює каталог для вилучення архіву (за замовчуванням вилучення йде в поточний каталог). Параметр members представляє список рядків - список назв файлів, які треба витягти з архіву. І третій параметр - pwd представляє пароль, у разі якщо архів закритий паролем.\n",
    "\n",
    "Наприклад, витягнемо всі файли з архіву:"
   ]
  },
  {
   "cell_type": "code",
   "execution_count": null,
   "metadata": {
    "id": "jIIrLcD3AVfr"
   },
   "outputs": [],
   "source": [
    "from zipfile import ZipFile\n",
    "\n",
    "with ZipFile(\"andrii.zip\", \"r\") as myzip:\n",
    "    myzip.extractall()"
   ]
  },
  {
   "cell_type": "markdown",
   "metadata": {
    "id": "cDh3GOniAbTF"
   },
   "source": [
    "Витяг у певну папку:"
   ]
  },
  {
   "cell_type": "code",
   "execution_count": null,
   "metadata": {
    "id": "y-SsBxSJAWid"
   },
   "outputs": [],
   "source": [
    "with ZipFile(\"andrii.zip\", \"r\") as myzip:\n",
    "    myzip.extractall(path=\"andrii_folder\")"
   ]
  },
  {
   "cell_type": "markdown",
   "metadata": {
    "id": "TQi-jV6RAc07"
   },
   "source": [
    "Вилучення частини файлів:"
   ]
  },
  {
   "cell_type": "code",
   "execution_count": null,
   "metadata": {
    "id": "K9hBnZzdAf4N"
   },
   "outputs": [],
   "source": [
    "# витягуємо файли  \"hello.txt\", \"forest.jpg\" в папку \"andrii_folder_2\"\n",
    "myzip.extractall(path=\"metanit2\", members=[\"hello.txt\", \"forest.jpg\"])"
   ]
  },
  {
   "cell_type": "markdown",
   "metadata": {
    "id": "6oHLphnSAg2f"
   },
   "source": [
    "Для вилучення одного файлу застосовується метод extract(), у який як обов'язковий параметр передають ім'я файлу, що витягується:"
   ]
  },
  {
   "cell_type": "code",
   "execution_count": null,
   "metadata": {
    "id": "NNZkci6dAimq"
   },
   "outputs": [],
   "source": [
    "myzip.extract(\"hello.txt\")"
   ]
  },
  {
   "cell_type": "markdown",
   "metadata": {
    "id": "DN7l2sXNAkUn"
   },
   "source": [
    "Метод read() дає змогу зчитати вміст файлу з архіву в набір байтів:"
   ]
  },
  {
   "cell_type": "code",
   "execution_count": null,
   "metadata": {
    "id": "yielNRtXAjmz"
   },
   "outputs": [],
   "source": [
    "from zipfile import ZipFile\n",
    "\n",
    "with ZipFile(\"andrii.zip\", \"r\") as myzip:\n",
    "    content = myzip.read(\"hello5.txt\")\n",
    "    print(content)"
   ]
  },
  {
   "cell_type": "markdown",
   "metadata": {
    "id": "LD9SyGbDAnJA"
   },
   "source": [
    "Метод open() дає змогу відкривати окремі файли з архіву без безпосереднього їх вилучення:\n",
    "\n",
    "```\n",
    "open(name, mode='r', pwd=None, *, force_zip64=False)\n",
    "```"
   ]
  },
  {
   "cell_type": "markdown",
   "metadata": {
    "id": "ySIH484WApKM"
   },
   "source": [
    "Як перший обов'язковий параметр передається ім'я файлу всередині архіву. Другий параметр - mode встановлює режим відкриття. Параметр pwd задає пароль, якщо файл захищений паролем. І параметр force_zip64 при значенні True дає змогу відкривати файли більше 4 Гб.\n",
    "\n",
    "Цей файл може бути корисний для маніпулювання файлом, наприклад, для зчитування його вмісту або, навпаки, для запису в нього. Наприклад, відкриємо файл і зчитаємо його вміст:\n",
    "\n",
    "\n"
   ]
  },
  {
   "cell_type": "code",
   "execution_count": null,
   "metadata": {
    "id": "k9S4_ubdAyfu"
   },
   "outputs": [],
   "source": [
    "from zipfile import ZipFile\n",
    "\n",
    "with ZipFile(\"andrii.zip\", \"a\") as myzip:\n",
    "    # записуємо в архів новий файл \"hello5.txt\"\n",
    "    with myzip.open(\"hello5.txt\", \"w\") as hello_file:\n",
    "        encoded_str = bytes(\"Python...\", \"UTF-8\")\n",
    "        hello_file.write(encoded_str)"
   ]
  },
  {
   "cell_type": "markdown",
   "metadata": {
    "id": "MpBMsRI2f5Mw"
   },
   "source": [
    "# Example of docstring (function)"
   ]
  },
  {
   "cell_type": "code",
   "execution_count": null,
   "metadata": {
    "id": "yZ078uu1f4q3"
   },
   "outputs": [],
   "source": [
    "def calculate_area_of_rectangle(length, width):\n",
    "    '''\n",
    "    Returns the area of rectangle\n",
    "\n",
    "            Parameters:\n",
    "                    length (float): The length of the rectangle.\n",
    "                    width (float): The width of the rectangle.\n",
    "\n",
    "            Returns:\n",
    "                    float: The area of the rectangle.\n",
    "    '''\n",
    "    area = length * width\n",
    "    return area"
   ]
  }
 ],
 "metadata": {
  "colab": {
   "provenance": []
  },
  "kernelspec": {
   "display_name": "Python 3 (ipykernel)",
   "language": "python",
   "name": "python3"
  },
  "language_info": {
   "codemirror_mode": {
    "name": "ipython",
    "version": 3
   },
   "file_extension": ".py",
   "mimetype": "text/x-python",
   "name": "python",
   "nbconvert_exporter": "python",
   "pygments_lexer": "ipython3",
   "version": "3.10.11"
  }
 },
 "nbformat": 4,
 "nbformat_minor": 4
}
