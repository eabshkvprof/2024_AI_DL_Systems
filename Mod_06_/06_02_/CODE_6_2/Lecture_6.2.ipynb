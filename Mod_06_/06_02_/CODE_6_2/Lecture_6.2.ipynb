{
 "cells": [
  {
   "cell_type": "markdown",
   "metadata": {
    "id": "quHO1Ue6vwOe"
   },
   "source": [
    "# Лекція 6.2. Загальні пояття колекції та складних структур даних"
   ]
  },
  {
   "cell_type": "markdown",
   "metadata": {
    "id": "abKSbo6y5MoQ"
   },
   "source": [
    "#Рядки\n",
    "Python дозволяє вставляти в рядок значення інших змінних. Для цього всередині рядка змінні розміщуються у фігурних дужках {}, а перед усім рядком ставиться символ f:"
   ]
  },
  {
   "cell_type": "code",
   "execution_count": null,
   "metadata": {
    "colab": {
     "base_uri": "https://localhost:8080/"
    },
    "id": "258MUriW4pQW",
    "outputId": "6eaa0a3e-3d2f-4b7f-e7c3-bc857e7746e0"
   },
   "outputs": [
    {
     "name": "stdout",
     "output_type": "stream",
     "text": [
      "Ім'я: Андрій та вік: 37\n"
     ]
    }
   ],
   "source": [
    "userName = \"Андрій\"\n",
    "userAge = 37\n",
    "user = f\"Ім'я: {userName} та вік: {userAge}\"\n",
    "print(user)"
   ]
  },
  {
   "cell_type": "markdown",
   "metadata": {
    "id": "pzhw_P3P5OvR"
   },
   "source": [
    "Також ми можемо звернутися до окремих символів рядка за індексом у квадратних дужках:"
   ]
  },
  {
   "cell_type": "code",
   "execution_count": null,
   "metadata": {
    "colab": {
     "base_uri": "https://localhost:8080/",
     "height": 234
    },
    "id": "w4_n7KDg4pOi",
    "outputId": "a19fac4f-600e-4b20-ba6e-80dca1a43162"
   },
   "outputs": [
    {
     "name": "stdout",
     "output_type": "stream",
     "text": [
      "h\n",
      "w\n"
     ]
    },
    {
     "ename": "IndexError",
     "evalue": "string index out of range",
     "output_type": "error",
     "traceback": [
      "\u001b[0;31m---------------------------------------------------------------------------\u001b[0m",
      "\u001b[0;31mIndexError\u001b[0m                                Traceback (most recent call last)",
      "\u001b[0;32m<ipython-input-2-2b3fb53fd5f1>\u001b[0m in \u001b[0;36m<cell line: 7>\u001b[0;34m()\u001b[0m\n\u001b[1;32m      5\u001b[0m \u001b[0mprint\u001b[0m\u001b[0;34m(\u001b[0m\u001b[0mc6\u001b[0m\u001b[0;34m)\u001b[0m\u001b[0;34m\u001b[0m\u001b[0;34m\u001b[0m\u001b[0m\n\u001b[1;32m      6\u001b[0m \u001b[0;34m\u001b[0m\u001b[0m\n\u001b[0;32m----> 7\u001b[0;31m \u001b[0mc11\u001b[0m \u001b[0;34m=\u001b[0m \u001b[0mstring\u001b[0m\u001b[0;34m[\u001b[0m\u001b[0;36m11\u001b[0m\u001b[0;34m]\u001b[0m  \u001b[0;31m# помилка IndexError: string index out of range\u001b[0m\u001b[0;34m\u001b[0m\u001b[0;34m\u001b[0m\u001b[0m\n\u001b[0m\u001b[1;32m      8\u001b[0m \u001b[0mprint\u001b[0m\u001b[0;34m(\u001b[0m\u001b[0mc11\u001b[0m\u001b[0;34m)\u001b[0m\u001b[0;34m\u001b[0m\u001b[0;34m\u001b[0m\u001b[0m\n",
      "\u001b[0;31mIndexError\u001b[0m: string index out of range"
     ]
    }
   ],
   "source": [
    "string = \"hello world\"\n",
    "c0 = string[0]  # h\n",
    "print(c0)\n",
    "c6 = string[6]  # w\n",
    "print(c6)\n",
    "\n",
    "c11 = string[11]  # помилка IndexError: string index out of range\n",
    "print(c11)"
   ]
  },
  {
   "cell_type": "markdown",
   "metadata": {
    "id": "uFMQICpF5R4b"
   },
   "source": [
    "За допомогою циклу for можна перебрати всі символи рядка:"
   ]
  },
  {
   "cell_type": "code",
   "execution_count": null,
   "metadata": {
    "colab": {
     "base_uri": "https://localhost:8080/"
    },
    "id": "QRMneoxS4pMX",
    "outputId": "8208bbd1-f58b-43e5-dc7a-e1681ffb2c0b"
   },
   "outputs": [
    {
     "name": "stdout",
     "output_type": "stream",
     "text": [
      "h e l l o   w o r l d "
     ]
    }
   ],
   "source": [
    "string = \"hello world\"\n",
    "for char in string:\n",
    "    print(char, end = \" \")"
   ]
  },
  {
   "cell_type": "markdown",
   "metadata": {
    "id": "JN3l2v655Tga"
   },
   "source": [
    "За потреби ми можемо отримати з рядка не тільки окремі символи, а й підрядок."
   ]
  },
  {
   "cell_type": "code",
   "execution_count": null,
   "metadata": {
    "colab": {
     "base_uri": "https://localhost:8080/"
    },
    "id": "3iRWwThg4pKn",
    "outputId": "57c1a8d5-5b53-42f1-e20b-c2d5c353e4f8"
   },
   "outputs": [
    {
     "name": "stdout",
     "output_type": "stream",
     "text": [
      "hello\n",
      "llo\n",
      "lowr\n"
     ]
    }
   ],
   "source": [
    "string = \"hello world\"\n",
    "\n",
    "sub_string1 = string[:5]\n",
    "print(sub_string1)      # hello\n",
    "\n",
    "sub_string2 = string[2:5]\n",
    "print(sub_string2)      # llo\n",
    "\n",
    "sub_string3 = string[2:9:2]\n",
    "print(sub_string3)      # lowr"
   ]
  },
  {
   "cell_type": "markdown",
   "metadata": {
    "id": "goOv2oAP5Y3b"
   },
   "source": [
    "Однією з найпоширеніших операцій з рядками є їх об'єднання або конкатенація. Для об'єднання рядків застосовується операція додавання:"
   ]
  },
  {
   "cell_type": "code",
   "execution_count": null,
   "metadata": {
    "colab": {
     "base_uri": "https://localhost:8080/"
    },
    "id": "YZt7uD1Y4pIi",
    "outputId": "c2bbc760-f30d-408a-b338-aa938c693819"
   },
   "outputs": [
    {
     "name": "stdout",
     "output_type": "stream",
     "text": [
      "Andrii Nikitenko\n"
     ]
    }
   ],
   "source": [
    "name = \"Andrii\"\n",
    "surname = \"Nikitenko\"\n",
    "fullname = name + \" \" + surname\n",
    "print(fullname)"
   ]
  },
  {
   "cell_type": "markdown",
   "metadata": {
    "id": "qEquqrSh5b2z"
   },
   "source": [
    "Для повторення рядка певну кількість разів застосовується операція множення:"
   ]
  },
  {
   "cell_type": "code",
   "execution_count": null,
   "metadata": {
    "colab": {
     "base_uri": "https://localhost:8080/"
    },
    "id": "emXrafxw4pGT",
    "outputId": "117e91da-2607-4036-cc32-283197344b26"
   },
   "outputs": [
    {
     "name": "stdout",
     "output_type": "stream",
     "text": [
      "aaa\n",
      "hehehehe\n"
     ]
    }
   ],
   "source": [
    "print(\"a\" * 3)  # aaa\n",
    "print(\"he\" * 4)  # hehehehe"
   ]
  },
  {
   "cell_type": "markdown",
   "metadata": {
    "id": "tw8qui4S5fIi"
   },
   "source": [
    "Особливо слід звернути увагу на порівняння рядків. Під час порівняння рядків беруть до уваги символи та їхній регістр. Так, цифровий символ умовно менший, ніж будь-який алфавітний символ. Алфавітний символ у верхньому регістрі умовно менший, ніж алфавітні символи в нижньому регістрі. Наприклад:"
   ]
  },
  {
   "cell_type": "code",
   "execution_count": null,
   "metadata": {
    "colab": {
     "base_uri": "https://localhost:8080/"
    },
    "id": "-NR9HztZ4pDX",
    "outputId": "fd01f0da-bed0-4110-daa7-243938e37a1f"
   },
   "outputs": [
    {
     "name": "stdout",
     "output_type": "stream",
     "text": [
      "False\n",
      "True\n"
     ]
    }
   ],
   "source": [
    "str1 = \"1a\"\n",
    "str2 = \"aa\"\n",
    "str3 = \"Aa\"\n",
    "print(str1 > str2)  # False, оскільки перший символ у str1 - цифра\n",
    "print(str2 > str3)  # True, оскільки перший символ у str2 - у нижньому регістрі"
   ]
  },
  {
   "cell_type": "markdown",
   "metadata": {
    "id": "Yty_n2kb5hsr"
   },
   "source": [
    "Залежність від регістра не завжди бажана, оскільки по суті ми маємо справу з однаковими рядками. У цьому випадку перед порівнянням ми можемо привести обидва рядки до одного з регістрів.\n",
    "\n",
    "Функція lower() приводить рядок до нижнього регістру, а функція upper() - до верхнього."
   ]
  },
  {
   "cell_type": "code",
   "execution_count": null,
   "metadata": {
    "colab": {
     "base_uri": "https://localhost:8080/"
    },
    "id": "qmEPkbXe4o_Y",
    "outputId": "f36461c4-fe28-4220-b325-508b9b99e511"
   },
   "outputs": [
    {
     "name": "stdout",
     "output_type": "stream",
     "text": [
      "False\n",
      "True\n"
     ]
    }
   ],
   "source": [
    "str1 = \"Tom\"\n",
    "str2 = \"tom\"\n",
    "print(str1 == str2)  # False - рядки не рівні\n",
    "\n",
    "print(str1.lower() == str2.lower())  # True"
   ]
  },
  {
   "cell_type": "markdown",
   "metadata": {
    "id": "4AZP-NbE5z5B"
   },
   "source": [
    "Для отримання довжини рядка можна використовувати функцію len():"
   ]
  },
  {
   "cell_type": "code",
   "execution_count": null,
   "metadata": {
    "colab": {
     "base_uri": "https://localhost:8080/"
    },
    "id": "IV6k6TsG47Mj",
    "outputId": "4d79081f-e631-4c95-85a9-4e3eaaed748c"
   },
   "outputs": [
    {
     "name": "stdout",
     "output_type": "stream",
     "text": [
      "11\n"
     ]
    }
   ],
   "source": [
    "string = \"hello world\"\n",
    "length = len(string)\n",
    "print(length)   # 11"
   ]
  },
  {
   "cell_type": "markdown",
   "metadata": {
    "id": "8SY_3GoB53vZ"
   },
   "source": [
    "За допомогою виразу **term in string** можна знайти підрядок term у рядку string. Якщо підрядок знайдено, то вираз поверне значення True, інакше повертається значення False:"
   ]
  },
  {
   "cell_type": "code",
   "execution_count": null,
   "metadata": {
    "colab": {
     "base_uri": "https://localhost:8080/"
    },
    "id": "Di7Mm6hp49tP",
    "outputId": "bdc54c60-71e4-4ee0-b364-2246e0956b59"
   },
   "outputs": [
    {
     "name": "stdout",
     "output_type": "stream",
     "text": [
      "True\n",
      "False\n"
     ]
    }
   ],
   "source": [
    "string = \"hello world\"\n",
    "exist = \"hello\" in string\n",
    "print(exist)    # True\n",
    "\n",
    "exist = \"sword\" in string\n",
    "print(exist)    # False"
   ]
  },
  {
   "cell_type": "markdown",
   "metadata": {
    "id": "Qn51Fryy6gi8"
   },
   "source": [
    "Тепер розглянемо основні методи:"
   ]
  },
  {
   "cell_type": "code",
   "execution_count": null,
   "metadata": {
    "colab": {
     "base_uri": "https://localhost:8080/"
    },
    "id": "alQ7eKRd6lhU",
    "outputId": "96f15d11-3b57-4ef9-db60-937facfce2c0"
   },
   "outputs": [
    {
     "name": "stdout",
     "output_type": "stream",
     "text": [
      "Starts with: True, ends with False\n"
     ]
    }
   ],
   "source": [
    "file_name = \"hello.py\"\n",
    "\n",
    "starts_with_hello = file_name.startswith(\"hello\")\n",
    "ends_with_exe = file_name.endswith(\"exe\")\n",
    "print(\"Starts with: {0}, ends with {1}\".format(starts_with_hello, ends_with_exe))"
   ]
  },
  {
   "cell_type": "markdown",
   "metadata": {
    "id": "u1Blglp96oOX"
   },
   "source": [
    "Видалення пробілів на початку та в кінці рядка:"
   ]
  },
  {
   "cell_type": "code",
   "execution_count": null,
   "metadata": {
    "colab": {
     "base_uri": "https://localhost:8080/"
    },
    "id": "z3wnjU6b6nnh",
    "outputId": "97abf23e-d118-4390-9770-69552dc1f0e1"
   },
   "outputs": [
    {
     "name": "stdout",
     "output_type": "stream",
     "text": [
      "hello  world!\n"
     ]
    }
   ],
   "source": [
    "string = \"   hello  world!  \"\n",
    "string = string.strip()\n",
    "print(string)           # hello  world!"
   ]
  },
  {
   "cell_type": "markdown",
   "metadata": {
    "id": "3ymRRKjK6sQ5"
   },
   "source": [
    "Для заміни в рядку одного підрядка на інший застосовується метод replace():"
   ]
  },
  {
   "cell_type": "code",
   "execution_count": null,
   "metadata": {
    "colab": {
     "base_uri": "https://localhost:8080/"
    },
    "id": "RzLnq82S6w7d",
    "outputId": "8a107360-414c-4d6a-fb94-a265053ca631"
   },
   "outputs": [
    {
     "name": "stdout",
     "output_type": "stream",
     "text": [
      "+1 234 567 89 10\n",
      "+12345678910\n",
      "+1234-567-89-10\n"
     ]
    }
   ],
   "source": [
    "phone = \"+1-234-567-89-10\"\n",
    "\n",
    "# заміна дефісів на пробіл\n",
    "edited_phone = phone.replace(\"-\", \" \")\n",
    "print(edited_phone) # +1 234 567 89 10\n",
    "\n",
    "# видалення дефісів\n",
    "edited_phone = phone.replace(\"-\", \"\")\n",
    "print(edited_phone) # +12345678910\n",
    "\n",
    "# заміна тільки першого дефіса\n",
    "edited_phone = phone.replace(\"-\", \"\", 1)\n",
    "print(edited_phone) # +1234-567-89-10"
   ]
  },
  {
   "cell_type": "markdown",
   "metadata": {
    "id": "Myt7ju4D7BHK"
   },
   "source": [
    "Метод split() розбиває рядок на список підрядків залежно від роздільника. Як роздільник може виступати будь-який символ або послідовність символів. Цей метод має такі форми:"
   ]
  },
  {
   "cell_type": "code",
   "execution_count": null,
   "metadata": {
    "colab": {
     "base_uri": "https://localhost:8080/"
    },
    "id": "_tRlRAHI7A32",
    "outputId": "f333f413-a853-4597-f784-0b1676a438f7"
   },
   "outputs": [
    {
     "name": "stdout",
     "output_type": "stream",
     "text": [
      "['Це', 'був', 'величезний,', 'у', 'два', 'обхвати', 'дуб,', 'з', 'обламаними', 'гілками', 'і', 'з', 'обламаною', 'корою']\n",
      "дуб,\n",
      "['Це був величезний', ' у два обхвати дуб', ' з обламаними гілками і з обламаною корою']\n",
      " у два обхвати дуб\n",
      "['Це', 'був', 'величезний,', 'у', 'два', 'обхвати дуб, з обламаними гілками і з обламаною корою']\n",
      "обхвати дуб, з обламаними гілками і з обламаною корою\n"
     ]
    }
   ],
   "source": [
    "text = \"Це був величезний, у два обхвати дуб, з обламаними гілками і з обламаною корою\"\n",
    "# поділ за пробілами\n",
    "splitted_text = text.split()\n",
    "print(splitted_text)\n",
    "print(splitted_text[6])     # дуб,\n",
    "\n",
    "# розбиття за комами\n",
    "splitted_text = text.split(\",\")\n",
    "print(splitted_text)\n",
    "print(splitted_text[1])     # у два обхвати дуб\n",
    "\n",
    "# розбиття за першими п'ятьма пробілами\n",
    "splitted_text = text.split(\" \", 5)\n",
    "print(splitted_text)\n",
    "print(splitted_text[5])     # обхвати дуб, з обламаними гілками і з обламаною корою"
   ]
  },
  {
   "cell_type": "markdown",
   "metadata": {
    "id": "mOgtt8du7JOG"
   },
   "source": [
    "Під час розгляду найпростіших операцій з рядками було показано, як об'єднувати рядки за допомогою операції додавання. Іншу можливість для з'єднання рядків представляє метод join(): він об'єднує список рядків. Причому поточний рядок, у якого викликається цей метод, використовується як роздільник:"
   ]
  },
  {
   "cell_type": "code",
   "execution_count": null,
   "metadata": {
    "colab": {
     "base_uri": "https://localhost:8080/"
    },
    "id": "R8_yGgwO7JF8",
    "outputId": "b9cc148f-fc73-4b4f-8f58-f09ca5e9ff96"
   },
   "outputs": [
    {
     "name": "stdout",
     "output_type": "stream",
     "text": [
      "Слава Україні! Героям Слава!\n",
      "Слава | Україні! | Героям | Слава!\n"
     ]
    }
   ],
   "source": [
    "words = [\"Слава\", \"Україні!\", \"Героям\", \"Слава!\"]\n",
    "\n",
    "# роздільник - пробіл\n",
    "sentence = \" \".join(words)\n",
    "print(sentence)  # Слава Україні! Героям Слава!\n",
    "\n",
    "# роздільник - вертикальна риска\n",
    "sentence = \" | \".join(words)\n",
    "print(sentence)  # Слава | Україні! | Героям | Слава!"
   ]
  },
  {
   "cell_type": "markdown",
   "metadata": {
    "id": "pxZJ6sw07MLq"
   },
   "source": [
    "# Форматування рядків"
   ]
  },
  {
   "cell_type": "markdown",
   "metadata": {
    "id": "-JcTk0WX7a5s"
   },
   "source": [
    "У минулих темах було розглянуто, як можна вставляти в рядок деякі значення, випереджаючи рядок символом f:"
   ]
  },
  {
   "cell_type": "code",
   "execution_count": null,
   "metadata": {
    "colab": {
     "base_uri": "https://localhost:8080/"
    },
    "id": "7VAqknlX7MjO",
    "outputId": "0065a2e5-a3c2-48a3-8606-8105d97ce1ca"
   },
   "outputs": [
    {
     "name": "stdout",
     "output_type": "stream",
     "text": [
      "Добрий день, Andrii.\n",
      "Ім'я: Dmytro\t Вік: 23\n"
     ]
    }
   ],
   "source": [
    "first_name=\"Andrii\"\n",
    "text = f\"Добрий день, {first_name}.\"\n",
    "print(text)     # Добрий день, Andrii.\n",
    "\n",
    "name=\"Dmytro\"\n",
    "age=23\n",
    "info = f\"Ім'я: {name}\\t Вік: {age}\"\n",
    "print(info)     # Ім'я: Dmytro\t Вік: 23"
   ]
  },
  {
   "cell_type": "markdown",
   "metadata": {
    "id": "e8GDa8JM7eAU"
   },
   "source": [
    "Але також у Python є альтернативний спосіб, який надає метод format(). Цей метод дає змогу форматувати рядок, вставляючи в нього на місце плейсхолдерів певні значення."
   ]
  },
  {
   "cell_type": "markdown",
   "metadata": {
    "id": "MuKowowq7qga"
   },
   "source": [
    "У рядку, що форматується, ми можемо визначати параметри, у методі format() передавати для цих параметрів значення:"
   ]
  },
  {
   "cell_type": "code",
   "execution_count": null,
   "metadata": {
    "colab": {
     "base_uri": "https://localhost:8080/"
    },
    "id": "qtALGW6K7lgb",
    "outputId": "9f2dde3e-c6af-4805-c753-eed67199a3a8"
   },
   "outputs": [
    {
     "name": "stdout",
     "output_type": "stream",
     "text": [
      "Добрий день, Andrii.\n",
      "Ім'я: Дмитро\t Вік: 23\n"
     ]
    }
   ],
   "source": [
    "text = \"Добрий день, {first_name}.\".format(first_name=\"Andrii\")\n",
    "print(text)     # Добрий день, Andrii.\n",
    "\n",
    "info = \"Ім'я: {name}\\t Вік: {age}\".format(name=\"Дмитро\", age=23)\n",
    "print(info)     # Ім'я: Дмитро\t Вік: 23"
   ]
  },
  {
   "cell_type": "markdown",
   "metadata": {
    "id": "f39oftz_7sIh"
   },
   "source": [
    "Ми також можемо послідовно передавати в метод format набір аргументів, а в самому рядку, що форматується, вставляти ці аргументи, вказуючи у фігурних дужках їхній номер (нумерація починається з нуля):"
   ]
  },
  {
   "cell_type": "code",
   "execution_count": null,
   "metadata": {
    "colab": {
     "base_uri": "https://localhost:8080/"
    },
    "id": "TTKskzdU7uVp",
    "outputId": "7c229e20-f5fe-4745-f11b-6faeee4eb163"
   },
   "outputs": [
    {
     "name": "stdout",
     "output_type": "stream",
     "text": [
      "Ім'я: Андрій\t Вік: 23\n"
     ]
    }
   ],
   "source": [
    "info = \"Ім'я: {0}\\t Вік: {1}\".format(\"Андрій\", 23)\n",
    "print(info)     # Name: Bob  Age: 23\n",
    "\n",
    "text = \"Добрий день, {0} {0} {0}.\".format(\"Дмитро\")"
   ]
  },
  {
   "cell_type": "markdown",
   "metadata": {
    "id": "X-T38_xF7xN-"
   },
   "source": [
    "Ще один спосіб передавання формованих значень у рядок - використання підстановок або спеціальних плейсхолдерів, на місце яких вставляються певні значення. Для форматування ми можемо використовувати такі плейсхолдери:\n",
    "\n",
    "\n",
    "1. s: для вставки рядків\n",
    "2. d: для вставки цілих чисел\n",
    "3. f: для вставки дробових чисел. Для цього типу також можна визначити через крапку кількість знаків у дробовій частині.\n",
    "4. %: множить значення на 100 і додає знак відсотка\n",
    "5. e: виводить число в експоненціальному записі\n",
    "\n",
    "Під час виклику методу format у нього як аргументи передаються значення, які вставляються на місце плейсхолдерів:\n",
    "\n",
    "\n",
    "\n"
   ]
  },
  {
   "cell_type": "code",
   "execution_count": null,
   "metadata": {
    "colab": {
     "base_uri": "https://localhost:8080/"
    },
    "id": "4_OJRHrb7zKs",
    "outputId": "6ef7d136-25e6-4c25-d8af-796f783ffe84"
   },
   "outputs": [
    {
     "name": "stdout",
     "output_type": "stream",
     "text": [
      "Добрий день, Дмитро\n"
     ]
    }
   ],
   "source": [
    "welcome = \"Добрий день, {:s}\"\n",
    "name = \"Дмитро\"\n",
    "formatted_welcome = welcome.format(name)\n",
    "print(formatted_welcome)        # Добрий день, Дмитро"
   ]
  },
  {
   "cell_type": "markdown",
   "metadata": {
    "id": "0Y6MEZ8n8Flj"
   },
   "source": [
    "Форматування цілих чисел:"
   ]
  },
  {
   "cell_type": "code",
   "execution_count": null,
   "metadata": {
    "colab": {
     "base_uri": "https://localhost:8080/"
    },
    "id": "gRb1cuPK8IPk",
    "outputId": "170a7e33-4dfa-4895-bf53-9d0e3110e7ba"
   },
   "outputs": [
    {
     "name": "stdout",
     "output_type": "stream",
     "text": [
      "5 символів\n"
     ]
    }
   ],
   "source": [
    "source = \"{:d} символів\"\n",
    "number = 5\n",
    "target = source.format(number)\n",
    "print(target)   # 5 символів"
   ]
  },
  {
   "cell_type": "markdown",
   "metadata": {
    "id": "JKBH30BY8Mzw"
   },
   "source": [
    "Для дробових чисел, тобто таких, які представляють тип float, перед кодом плейсхолдера після крапки можна вказати, скільки знаків у дробовій частині ми хочемо вивести:"
   ]
  },
  {
   "cell_type": "code",
   "execution_count": null,
   "metadata": {
    "colab": {
     "base_uri": "https://localhost:8080/"
    },
    "id": "MDnISIQ28OOI",
    "outputId": "0082837f-2c67-422d-a0e0-8952d498023d"
   },
   "outputs": [
    {
     "name": "stdout",
     "output_type": "stream",
     "text": [
      "23.86\n",
      "23.859\n",
      "23.8590\n",
      "10,001.24\n"
     ]
    }
   ],
   "source": [
    "number = 23.8589578\n",
    "print(\"{:.2f}\".format(number))   # 23.86\n",
    "print(\"{:.3f}\".format(number))   # 23.859\n",
    "print(\"{:.4f}\".format(number))   # 23.8590\n",
    "print(\"{:,.2f}\".format(10001.23554))    # 10,001.24"
   ]
  },
  {
   "cell_type": "markdown",
   "metadata": {
    "id": "8SHgHHnv8UDd"
   },
   "source": [
    "Для виведення відсотків краще скористатися кодом \"%\":"
   ]
  },
  {
   "cell_type": "code",
   "execution_count": null,
   "metadata": {
    "colab": {
     "base_uri": "https://localhost:8080/"
    },
    "id": "e_QDaYLD8VPU",
    "outputId": "da8f9f62-14b0-4600-8c62-afa161daa629"
   },
   "outputs": [
    {
     "name": "stdout",
     "output_type": "stream",
     "text": [
      "12.345000%\n",
      "12%\n",
      "12.3%\n",
      "12.345000%\n",
      "12%\n",
      "12.3%\n"
     ]
    }
   ],
   "source": [
    "number = .12345\n",
    "print(\"{:%}\".format(number))        # 12.345000%\n",
    "print(\"{:.0%}\".format(number))      # 12%\n",
    "print(\"{:.1%}\".format(number))      # 12.3%\n",
    "\n",
    "print(f\"{number:%}\")        # 12.345000%\n",
    "print(f\"{number:.0%}\")      # 12%\n",
    "print(f\"{number:.1%}\")      # 12.3%"
   ]
  },
  {
   "cell_type": "markdown",
   "metadata": {
    "id": "guGhpbot8X5K"
   },
   "source": [
    "Для виведення числа в експоненціальному записі використовується плейсхолдер \"e\":"
   ]
  },
  {
   "cell_type": "code",
   "execution_count": null,
   "metadata": {
    "colab": {
     "base_uri": "https://localhost:8080/"
    },
    "id": "TSD1zH328XmN",
    "outputId": "21f1096a-e27f-46c4-9189-0a188fe11710"
   },
   "outputs": [
    {
     "name": "stdout",
     "output_type": "stream",
     "text": [
      "1.234568e+04\n",
      "1e+04\n",
      "1.2e+04\n",
      "1.234568e+04\n",
      "1e+04\n",
      "1.2e+04\n"
     ]
    }
   ],
   "source": [
    "number = 12345.6789\n",
    "print(\"{:e}\".format(number))        # 1.234568e+04\n",
    "print(\"{:.0e}\".format(number))      # 1e+04\n",
    "print(\"{:.1e}\".format(number))      # 1.2e+04\n",
    "\n",
    "print(f\"{number:e}\")        # 1.234568e+04\n",
    "print(f\"{number:.0e}\")      # 1e+04\n",
    "print(f\"{number:.1e}\")      # 1.2e+04"
   ]
  },
  {
   "cell_type": "markdown",
   "metadata": {
    "id": "c6_tRzmovaDj"
   },
   "source": [
    "# List (списки)\n",
    "Для створення списку застосовуються квадратні дужки [], усередині яких через кому перераховуються елементи списку. Наприклад, визначимо список чисел:"
   ]
  },
  {
   "cell_type": "code",
   "execution_count": null,
   "metadata": {
    "id": "u-W1MkxVtIQr"
   },
   "outputs": [],
   "source": [
    "numbers = [1, 2, 3, 4, 5]"
   ]
  },
  {
   "cell_type": "markdown",
   "metadata": {
    "id": "NpfV5TD-vaSl"
   },
   "source": [
    "Подібним чином можна визначати списки з даними інших типів, наприклад, визначимо список рядків:"
   ]
  },
  {
   "cell_type": "code",
   "execution_count": null,
   "metadata": {
    "id": "wSbLqM11tIOg"
   },
   "outputs": [],
   "source": [
    "people = [\"Tom\", \"Sam\", \"Bob\"]"
   ]
  },
  {
   "cell_type": "markdown",
   "metadata": {
    "id": "QU1BWqkDxDZt"
   },
   "source": [
    "Є два варіанти створення списків - вони ідентичні"
   ]
  },
  {
   "cell_type": "code",
   "execution_count": null,
   "metadata": {
    "id": "7lMw39GxtIMa"
   },
   "outputs": [],
   "source": [
    "numbers1 = []\n",
    "numbers2 = list()"
   ]
  },
  {
   "cell_type": "markdown",
   "metadata": {
    "id": "F8vkU2mo-JB8"
   },
   "source": [
    "# Додатково!\n",
    "Існує ще один спосіб створення списків *List comprehension*, дана функціональність надає більш короткий і лаконічний синтаксис для створення списків на основі інших наборів даних.\n",
    "### newlist = [expression for item in iterable (if condition)]"
   ]
  },
  {
   "cell_type": "markdown",
   "metadata": {
    "id": "0UKvEuXg-ovu"
   },
   "source": [
    "Припустимо, нам треба вибрати зі списку всі числа, які більші за 0"
   ]
  },
  {
   "cell_type": "code",
   "execution_count": null,
   "metadata": {
    "colab": {
     "base_uri": "https://localhost:8080/"
    },
    "id": "Rj_vr7D4-e0P",
    "outputId": "4dd8c377-ce3b-4435-dba3-d08795c57d0c"
   },
   "outputs": [
    {
     "name": "stdout",
     "output_type": "stream",
     "text": [
      "[1, 2, 3]\n"
     ]
    }
   ],
   "source": [
    "numbers = [-3, -2, -1, 0, 1, 2, 3]\n",
    "positive_numbers = []\n",
    "for n in numbers:\n",
    "    if n > 0:\n",
    "        positive_numbers.append(n)\n",
    "\n",
    "print(positive_numbers)     # [1, 2, 3]"
   ]
  },
  {
   "cell_type": "markdown",
   "metadata": {
    "id": "2uiX0rtQ-216"
   },
   "source": [
    "Тепер зробимо цю задачу за допомогою list comprehension"
   ]
  },
  {
   "cell_type": "code",
   "execution_count": null,
   "metadata": {
    "colab": {
     "base_uri": "https://localhost:8080/"
    },
    "id": "VnWmvVn_-w9v",
    "outputId": "65de9620-5880-40f1-eca1-c3d19ce96908"
   },
   "outputs": [
    {
     "name": "stdout",
     "output_type": "stream",
     "text": [
      "[1, 2, 3]\n"
     ]
    }
   ],
   "source": [
    "numbers = [-3, -2, -1, 0, 1, 2, 3]\n",
    "positive_numbers = [n for n in numbers if n > 0]\n",
    "\n",
    "print(positive_numbers)     # [1, 2, 3]"
   ]
  },
  {
   "cell_type": "code",
   "execution_count": null,
   "metadata": {
    "colab": {
     "base_uri": "https://localhost:8080/"
    },
    "id": "ljXvfdka_ATR",
    "outputId": "e7e5a22b-49e2-40ba-85bf-d792e3edfd6b"
   },
   "outputs": [
    {
     "name": "stdout",
     "output_type": "stream",
     "text": [
      "[-6, -4, -2, 0, 2, 4, 6]\n"
     ]
    }
   ],
   "source": [
    "numbers = [-3, -2, -1, 0, 1, 2, 3]\n",
    "new_numbers = [n * 2 for n in numbers]\n",
    "print(new_numbers)      # [-6, -4, -2, 0, 2, 4, 6]"
   ]
  },
  {
   "cell_type": "markdown",
   "metadata": {
    "id": "03s3XPUmxHlK"
   },
   "source": [
    "Список необов'язково повинен містити тільки однотипні об'єкти."
   ]
  },
  {
   "cell_type": "code",
   "execution_count": null,
   "metadata": {
    "id": "jzJljKsKtIJ4"
   },
   "outputs": [],
   "source": [
    "objects = [1, 2.6, \"Hello\", True]"
   ]
  },
  {
   "cell_type": "markdown",
   "metadata": {
    "id": "F-e01Le_xqtU"
   },
   "source": [
    "Для перевірки елементів списку можна використовувати стандартну функцію print, яка виводить вміст списку в читабельному вигляді:"
   ]
  },
  {
   "cell_type": "code",
   "execution_count": null,
   "metadata": {
    "colab": {
     "base_uri": "https://localhost:8080/"
    },
    "id": "HYGdNNLRtIHK",
    "outputId": "f66401ab-109f-4040-e4b0-8ed82d491083"
   },
   "outputs": [
    {
     "name": "stdout",
     "output_type": "stream",
     "text": [
      "[1, 2, 3, 4]\n",
      "['Андрій', 'Дмитро', 'Марк']\n"
     ]
    }
   ],
   "source": [
    "numbers = [1, 2, 3, 4]\n",
    "people = [\"Андрій\", \"Дмитро\", \"Марк\"]\n",
    "\n",
    "print(numbers)  # [1, 2, 3, 4]\n",
    "print(people)   # ['Андрій', 'Дмитро', 'Марк']"
   ]
  },
  {
   "cell_type": "markdown",
   "metadata": {
    "id": "4fEtxX_gxsN8"
   },
   "source": [
    "Конструктор list може приймати набір значень, на основі яких створюється список:"
   ]
  },
  {
   "cell_type": "code",
   "execution_count": null,
   "metadata": {
    "colab": {
     "base_uri": "https://localhost:8080/"
    },
    "id": "d9D2_2ZVtIEV",
    "outputId": "a9ec7804-a0b2-49b1-897c-8d79eafcfbab"
   },
   "outputs": [
    {
     "name": "stdout",
     "output_type": "stream",
     "text": [
      "[1, 2, 3, 4]\n",
      "['П', 'р', 'и', 'в', 'і', 'т']\n"
     ]
    }
   ],
   "source": [
    "numbers1 = [1, 2, 3, 4]\n",
    "numbers2 = list(numbers1)\n",
    "print(numbers2)  # [1, 2, 3, 4]\n",
    "\n",
    "letters = list(\"Привіт\")\n",
    "print(letters)      # ['П', 'р', 'и', 'в', 'і', 'т']"
   ]
  },
  {
   "cell_type": "markdown",
   "metadata": {
    "id": "JPWNqcFg2yF8"
   },
   "source": [
    "Якщо необхідно створити список, у якому повторюється одне й те саме значення кілька разів, то можна використати символ зірочки *, тобто фактично застосувати операцію множення до вже наявного списку:"
   ]
  },
  {
   "cell_type": "code",
   "execution_count": null,
   "metadata": {
    "colab": {
     "base_uri": "https://localhost:8080/"
    },
    "id": "gG9J9qSdtH_k",
    "outputId": "e5def122-c2dd-4241-bd55-7c6dc7a7230e"
   },
   "outputs": [
    {
     "name": "stdout",
     "output_type": "stream",
     "text": [
      "[5, 5, 5, 5, 5, 5]\n",
      "['Андрій', 'Андрій', 'Андрій']\n",
      "['Дмитро', 'Марк', 'Дмитро', 'Марк']\n"
     ]
    }
   ],
   "source": [
    "numbers = [5] * 6\n",
    "print(numbers)\n",
    "\n",
    "people = [\"Андрій\"] * 3\n",
    "print(people)\n",
    "\n",
    "students = [\"Дмитро\", \"Марк\"] * 2\n",
    "print(students)"
   ]
  },
  {
   "cell_type": "markdown",
   "metadata": {
    "id": "tTy2jPpH2zo2"
   },
   "source": [
    "Для звернення до елементів списку треба використовувати індекси, які представляють номер елемента у списку. Індекси починаються з нуля. Тобто перший елемент матиме індекс 0, другий елемент - індекс 1 і так далі. Для звернення до елементів з кінця можна використовувати від'ємні індекси, починаючи з -1. Тобто останній елемент матиме індекс -1, передостанній - -2 і так далі."
   ]
  },
  {
   "cell_type": "code",
   "execution_count": null,
   "metadata": {
    "colab": {
     "base_uri": "https://localhost:8080/"
    },
    "id": "50YhsrpOtH0t",
    "outputId": "a00ed18f-a2e1-4ba8-8cb7-6653438c33ee"
   },
   "outputs": [
    {
     "name": "stdout",
     "output_type": "stream",
     "text": [
      "Андрій\n",
      "Дмитро\n",
      "Марк\n",
      "Дмитро\n",
      "Марк\n",
      "Андрій\n"
     ]
    }
   ],
   "source": [
    "people = [\"Андрій\", \"Дмитро\", \"Марк\"]\n",
    "print(people[0])\n",
    "print(people[1])\n",
    "print(people[2])\n",
    "\n",
    "\n",
    "print(people[-2])\n",
    "print(people[-1])\n",
    "print(people[-3])"
   ]
  },
  {
   "cell_type": "markdown",
   "metadata": {
    "id": "YatQaGv723fp"
   },
   "source": [
    "Для зміни елемента списку достатньо присвоїти йому нове значення:"
   ]
  },
  {
   "cell_type": "code",
   "execution_count": null,
   "metadata": {
    "colab": {
     "base_uri": "https://localhost:8080/"
    },
    "id": "f1YKdOsJv_dt",
    "outputId": "371dea1e-94bd-4368-f8dc-e453c5af1fc3"
   },
   "outputs": [
    {
     "name": "stdout",
     "output_type": "stream",
     "text": [
      "Микола\n",
      "['Андрій', 'Микола', 'Марк']\n"
     ]
    }
   ],
   "source": [
    "people = [\"Андрій\", \"Дмитро\", \"Марк\"]\n",
    "\n",
    "people[1] = \"Микола\"\n",
    "print(people[1])\n",
    "print(people)"
   ]
  },
  {
   "cell_type": "markdown",
   "metadata": {
    "id": "QiPAaKIq26BH"
   },
   "source": [
    "Розкладання списку\n",
    "Python дозволяє розкласти список на окремі елементи:"
   ]
  },
  {
   "cell_type": "code",
   "execution_count": null,
   "metadata": {
    "colab": {
     "base_uri": "https://localhost:8080/"
    },
    "id": "jf3nhbb8wB4g",
    "outputId": "67eb75a4-7f5f-4f1f-d615-17aa83856284"
   },
   "outputs": [
    {
     "name": "stdout",
     "output_type": "stream",
     "text": [
      "Андрій\n",
      "Дмитро\n",
      "Марк\n"
     ]
    }
   ],
   "source": [
    "people = [\"Андрій\", \"Дмитро\", \"Марк\"]\n",
    "\n",
    "andrii, dmytro, mark = people\n",
    "\n",
    "print(andrii)\n",
    "print(dmytro)\n",
    "print(mark)"
   ]
  },
  {
   "cell_type": "markdown",
   "metadata": {
    "id": "OQ7VYyd03Bj-"
   },
   "source": [
    "Для перебору елементів можна використовувати як цикл for, так і цикл while.\n",
    "Перебір за допомогою циклу for:"
   ]
  },
  {
   "cell_type": "code",
   "execution_count": null,
   "metadata": {
    "colab": {
     "base_uri": "https://localhost:8080/"
    },
    "id": "iicc0acCwDHC",
    "outputId": "cdbedbc7-fb10-4436-927d-cfaaf256c7ba"
   },
   "outputs": [
    {
     "name": "stdout",
     "output_type": "stream",
     "text": [
      "Андрій\n",
      "Дмитро\n",
      "Марк\n"
     ]
    }
   ],
   "source": [
    "people = [\"Андрій\", \"Дмитро\", \"Марк\"]\n",
    "for person in people:\n",
    "    print(person)"
   ]
  },
  {
   "cell_type": "markdown",
   "metadata": {
    "id": "5dRG5vSP3GP9"
   },
   "source": [
    "Два списки вважаються рівними, якщо вони містять один і той самий набір елементів:"
   ]
  },
  {
   "cell_type": "code",
   "execution_count": null,
   "metadata": {
    "colab": {
     "base_uri": "https://localhost:8080/"
    },
    "id": "A15t76UdwFO0",
    "outputId": "f0b9cbf5-dd98-44d9-e38c-eee02d1dca5e"
   },
   "outputs": [
    {
     "name": "stdout",
     "output_type": "stream",
     "text": [
      "numbers1 equal to numbers2\n"
     ]
    }
   ],
   "source": [
    "numbers1 = [1, 2, 3, 4]\n",
    "numbers2 = list([1, 2, 3, 4])\n",
    "if numbers1 == numbers2:\n",
    "    print(\"numbers1 equal to numbers2\")\n",
    "else:\n",
    "    print(\"numbers1 is not equal to numbers2\")"
   ]
  },
  {
   "cell_type": "markdown",
   "metadata": {
    "id": "DDBnM_LL3Ipt"
   },
   "source": [
    "Якщо необхідно отримати якусь певну частину списку, то ми можемо застосовувати спеціальний синтаксис"
   ]
  },
  {
   "cell_type": "code",
   "execution_count": null,
   "metadata": {
    "colab": {
     "base_uri": "https://localhost:8080/"
    },
    "id": "F9WvMWIcwHIv",
    "outputId": "cc9144a0-a4e4-43e4-fd01-115d2d7c58a4"
   },
   "outputs": [
    {
     "name": "stdout",
     "output_type": "stream",
     "text": [
      "['Андрій', 'Дмитро', 'Марк']\n",
      "['Дмитро', 'Марк']\n",
      "['Дмитро', 'Тетяна', 'Анна']\n"
     ]
    }
   ],
   "source": [
    "people = [\"Андрій\", \"Дмитро\", \"Марк\", \"Тетяна\", \"Анастасія\", \"Анна\"]\n",
    "\n",
    "slice_people1 = people[:3]   # с 0 по 3\n",
    "print(slice_people1)   # ['Андрій', 'Дмитро', 'Марк']\n",
    "\n",
    "slice_people2 = people[1:3]   # с 1 по 3\n",
    "print(slice_people2)   # ['Дмитро', 'Марк']\n",
    "\n",
    "slice_people3 = people[1:6:2]   # с 1 по 6 з кроком 2\n",
    "print(slice_people3)   # ['Дмитро', 'Тетяна', 'Анна']"
   ]
  },
  {
   "cell_type": "markdown",
   "metadata": {
    "id": "9SOmYLjF3L_0"
   },
   "source": [
    "Для додавання елемента застосовуються методи append(), extend і insert, а для видалення - методи remove(), pop() і clear()."
   ]
  },
  {
   "cell_type": "code",
   "execution_count": null,
   "metadata": {
    "colab": {
     "base_uri": "https://localhost:8080/"
    },
    "id": "6mFdFLCHwKzV",
    "outputId": "8e9ae4c3-62a2-4ef4-9c51-6882407f3812"
   },
   "outputs": [
    {
     "name": "stdout",
     "output_type": "stream",
     "text": [
      "['Bill', 'Bob', 'Mike']\n",
      "[]\n"
     ]
    }
   ],
   "source": [
    "people = [\"Tom\", \"Bob\"]\n",
    "\n",
    "# додаємо в кінець списку\n",
    "people.append(\"Alice\")  # [\"Tom\", \"Bob\", \"Alice\"]\n",
    "# додаємо на другу позицію\n",
    "people.insert(1, \"Bill\")  # [\"Tom\", \"Bill\", \"Bob\", \"Alice\"]\n",
    "# додаємо набір елементів [\"Mike\", \"Sam\"]\n",
    "people.extend([\"Mike\", \"Sam\"])      # [\"Tom\", \"Bill\", \"Bob\", \"Alice\", \"Mike\", \"Sam\"]\n",
    "# отримуємо індекс елемента\n",
    "index_of_tom = people.index(\"Tom\")\n",
    "# видаляємо за цим індексом\n",
    "removed_item = people.pop(index_of_tom)     # [\"Bill\", \"Bob\", \"Alice\", \"Mike\", \"Sam\"]\n",
    "# видаляємо останній елемент\n",
    "last_item = people.pop()     # [\"Bill\", \"Bob\", \"Alice\", \"Mike\"]\n",
    "# видаляємо елемент \"Alice\"\n",
    "people.remove(\"Alice\")      # [\"Bill\", \"Bob\", \"Mike\"]\n",
    "print(people)       # [\"Bill\", \"Bob\", \"Mike\"]\n",
    "# видаляємо всі елементи\n",
    "people.clear()\n",
    "print(people)       # []"
   ]
  },
  {
   "cell_type": "markdown",
   "metadata": {
    "id": "y2LvGXlA3QYJ"
   },
   "source": [
    "Якщо певний елемент не знайдено, то методи remove та index генерують виняток. Щоб уникнути подібної ситуації, перед операцією з елементом можна перевіряти його наявність за допомогою ключового слова in:"
   ]
  },
  {
   "cell_type": "code",
   "execution_count": null,
   "metadata": {
    "colab": {
     "base_uri": "https://localhost:8080/"
    },
    "id": "4pixCCOtwMNc",
    "outputId": "a85f6912-55a6-4070-cc5e-650b90ecdf53"
   },
   "outputs": [
    {
     "name": "stdout",
     "output_type": "stream",
     "text": [
      "['Tom', 'Bob', 'Sam']\n"
     ]
    }
   ],
   "source": [
    "people = [\"Tom\", \"Bob\", \"Alice\", \"Sam\"]\n",
    "\n",
    "if \"Alice\" in people:\n",
    "    people.remove(\"Alice\")\n",
    "print(people)       # [\"Tom\", \"Bob\", \"Sam\"]"
   ]
  },
  {
   "cell_type": "markdown",
   "metadata": {
    "id": "U0TvrhX_3Shv"
   },
   "source": [
    "Python також підтримує ще один спосіб видалення елементів списку - за допомогою оператора del. Як параметр цьому оператору передається елемент, що видаляється, або набір елементів:"
   ]
  },
  {
   "cell_type": "code",
   "execution_count": null,
   "metadata": {
    "colab": {
     "base_uri": "https://localhost:8080/"
    },
    "id": "OoGhbMpmwNkc",
    "outputId": "6c0ff79c-6669-43a1-cd1b-3489169afbb3"
   },
   "outputs": [
    {
     "name": "stdout",
     "output_type": "stream",
     "text": [
      "['Tom', 'Alice', 'Sam', 'Bill', 'Kate', 'Mike']\n",
      "['Bill', 'Kate', 'Mike']\n",
      "['Bill']\n"
     ]
    }
   ],
   "source": [
    "people = [\"Tom\", \"Bob\", \"Alice\", \"Sam\", \"Bill\", \"Kate\", \"Mike\"]\n",
    "\n",
    "del people[1]\n",
    "print(people)\n",
    "del people[:3]\n",
    "print(people)\n",
    "del people[1:]\n",
    "print(people)"
   ]
  },
  {
   "cell_type": "markdown",
   "metadata": {
    "id": "Gi36Tav73UrN"
   },
   "source": [
    "Якщо необхідно дізнатися, скільки разів у списку присутній той чи інший елемент, то можна застосувати метод count():"
   ]
  },
  {
   "cell_type": "code",
   "execution_count": null,
   "metadata": {
    "colab": {
     "base_uri": "https://localhost:8080/"
    },
    "id": "YSdTs9rfwO1E",
    "outputId": "6da000f2-9f0d-4991-96c6-c5867b9b21dc"
   },
   "outputs": [
    {
     "name": "stdout",
     "output_type": "stream",
     "text": [
      "3\n"
     ]
    }
   ],
   "source": [
    "people = [\"Tom\", \"Bob\", \"Alice\", \"Tom\", \"Bill\", \"Tom\"]\n",
    "\n",
    "people_count = people.count(\"Tom\")\n",
    "print(people_count)      # 3"
   ]
  },
  {
   "cell_type": "markdown",
   "metadata": {
    "id": "DLrrOAek3Wk9"
   },
   "source": [
    "Для сортування за зростанням застосовується метод sort():"
   ]
  },
  {
   "cell_type": "code",
   "execution_count": null,
   "metadata": {
    "colab": {
     "base_uri": "https://localhost:8080/"
    },
    "id": "RlnNyRcKwQDo",
    "outputId": "fed06efb-d975-47e9-90e5-a4e259d3942d"
   },
   "outputs": [
    {
     "name": "stdout",
     "output_type": "stream",
     "text": [
      "['Alice', 'Bill', 'Bob', 'Sam', 'Tom']\n"
     ]
    }
   ],
   "source": [
    "people = [\"Tom\", \"Bob\", \"Alice\", \"Sam\", \"Bill\"]\n",
    "\n",
    "people.sort()\n",
    "print(people)      # [\"Alice\", \"Bill\", \"Bob\", \"Sam\", \"Tom\"]"
   ]
  },
  {
   "cell_type": "markdown",
   "metadata": {
    "id": "WRIo-T8r3ZbE"
   },
   "source": [
    "Якщо необхідно відсортувати дані у зворотному порядку, то ми можемо після сортування застосувати метод reverse():"
   ]
  },
  {
   "cell_type": "code",
   "execution_count": null,
   "metadata": {
    "colab": {
     "base_uri": "https://localhost:8080/"
    },
    "id": "8P8GELaqwROp",
    "outputId": "24f0a700-2db9-4060-cacb-51b0faebf053"
   },
   "outputs": [
    {
     "name": "stdout",
     "output_type": "stream",
     "text": [
      "['Tom', 'Sam', 'Bob', 'Bill', 'Alice']\n"
     ]
    }
   ],
   "source": [
    "people = [\"Tom\", \"Bob\", \"Alice\", \"Sam\", \"Bill\"]\n",
    "\n",
    "people.sort()\n",
    "people.reverse()\n",
    "print(people)      # [\"Tom\", \"Sam\", \"Bob\", \"Bill\", \"Alice\"]"
   ]
  },
  {
   "cell_type": "markdown",
   "metadata": {
    "id": "Ovn8Ir1w3den"
   },
   "source": [
    "Вбудовані функції Python min() і max() дають змогу знайти мінімальне і максимальне значення відповідно:"
   ]
  },
  {
   "cell_type": "code",
   "execution_count": null,
   "metadata": {
    "colab": {
     "base_uri": "https://localhost:8080/"
    },
    "id": "ZhVAPWVcwUQQ",
    "outputId": "e28bc9a3-6f5e-493e-d0f6-f409090f63ef"
   },
   "outputs": [
    {
     "name": "stdout",
     "output_type": "stream",
     "text": [
      "1\n",
      "21\n"
     ]
    }
   ],
   "source": [
    "numbers = [9, 21, 12, 1, 3, 15, 18]\n",
    "print(min(numbers))     # 1\n",
    "print(max(numbers))     # 21"
   ]
  },
  {
   "cell_type": "markdown",
   "metadata": {
    "id": "BPdmi_4h3emk"
   },
   "source": [
    "Для об'єднання списків застосовується операція додавання (+):"
   ]
  },
  {
   "cell_type": "code",
   "execution_count": null,
   "metadata": {
    "colab": {
     "base_uri": "https://localhost:8080/"
    },
    "id": "Wtsz0h1vwXxd",
    "outputId": "2dc87c83-169e-4183-b8d9-6896b2757471"
   },
   "outputs": [
    {
     "name": "stdout",
     "output_type": "stream",
     "text": [
      "['Tom', 'Bob', 'Alice', 'Tom', 'Sam', 'Tim', 'Bill']\n"
     ]
    }
   ],
   "source": [
    "people1 = [\"Tom\", \"Bob\", \"Alice\"]\n",
    "people2 = [\"Tom\", \"Sam\", \"Tim\", \"Bill\"]\n",
    "people3 = people1 + people2\n",
    "print(people3)   # [\"Tom\", \"Bob\", \"Alice\", \"Tom\", \"Sam\", \"Tim\", \"Bill\"]"
   ]
  },
  {
   "cell_type": "markdown",
   "metadata": {
    "id": "WTGbRVVu3lwT"
   },
   "source": [
    "Списки крім стандартних даних типу рядків, чисел, також можуть містити інші списки. Подібні списки можна асоціювати з таблицями, де вкладені списки виконують роль рядків. Наприклад:"
   ]
  },
  {
   "cell_type": "code",
   "execution_count": null,
   "metadata": {
    "colab": {
     "base_uri": "https://localhost:8080/"
    },
    "id": "7JUACWDUwZ58",
    "outputId": "3d7e9178-f500-4fa0-cd66-9870b54cd693"
   },
   "outputs": [
    {
     "name": "stdout",
     "output_type": "stream",
     "text": [
      "['Андрій', 20]\n",
      "Андрій\n",
      "20\n"
     ]
    }
   ],
   "source": [
    "people = [[\"Андрій\", 20], [\"Дмитро\", 31], [\"Марк\", 12]]\n",
    "\n",
    "print(people[0])         # ['Андрій', 20]\n",
    "print(people[0][0])      # Андрій\n",
    "print(people[0][1])      # 20"
   ]
  },
  {
   "cell_type": "code",
   "execution_count": null,
   "metadata": {
    "colab": {
     "base_uri": "https://localhost:8080/"
    },
    "id": "5UsFk43dweMc",
    "outputId": "96aef35b-4b8c-4ef9-83cb-47db1ae1b81e"
   },
   "outputs": [
    {
     "name": "stdout",
     "output_type": "stream",
     "text": [
      "Андрій | 20 | Дмитро | 31 | Марк | 12 | "
     ]
    }
   ],
   "source": [
    "people = [\n",
    "    [\"Андрій\", 20],\n",
    "    [\"Дмитро\", 31],\n",
    "    [\"Марк\", 12]\n",
    "]\n",
    "\n",
    "for person in people:\n",
    "    for item in person:\n",
    "        print(item, end=\" | \")"
   ]
  },
  {
   "cell_type": "code",
   "execution_count": null,
   "metadata": {
    "colab": {
     "base_uri": "https://localhost:8080/"
    },
    "id": "pnaWchh2wTKj",
    "outputId": "56bafa4f-94d1-4fb0-86db-92efd71ee647"
   },
   "outputs": [
    {
     "name": "stdout",
     "output_type": "stream",
     "text": [
      "['Bill', 'Sam', 'Tom', 'alice', 'bob']\n",
      "['alice', 'Bill', 'bob', 'Sam', 'Tom']\n"
     ]
    }
   ],
   "source": [
    "people = [\"Tom\", \"bob\", \"alice\", \"Sam\", \"Bill\"]\n",
    "\n",
    "people.sort()       # стандартне сортування\n",
    "print(people)      # [\"Bill\", \"Sam\", \"Tom\", \"alice\", \"bob\"]\n",
    "\n",
    "people.sort(key=str.lower)  # сортування без урахування регістра\n",
    "print(people)      # [\"alice\", \"Bill\", \"bob\", \"Sam\", \"Tom\"]"
   ]
  },
  {
   "cell_type": "markdown",
   "metadata": {
    "id": "O_iUOSMYlXQD"
   },
   "source": [
    "# Кортежі\n",
    "Кортеж (tuple) представляє послідовність елементів, яка багато в чому схожа на список за тим винятком, що кортеж є незмінним (immutable) типом. Тому ми не можемо додавати або видаляти елементи в кортежі, змінювати його.\n",
    "Для створення кортежу використовуються круглі дужки, в які поміщаються його значення, розділені комами:"
   ]
  },
  {
   "cell_type": "code",
   "execution_count": null,
   "metadata": {
    "colab": {
     "base_uri": "https://localhost:8080/"
    },
    "id": "7EoY5B47lKlm",
    "outputId": "70b707e3-cb9a-48e9-f7c2-609bf287581a"
   },
   "outputs": [
    {
     "name": "stdout",
     "output_type": "stream",
     "text": [
      "('Andrii', 30)\n"
     ]
    }
   ],
   "source": [
    "person = (\"Andrii\", 30)\n",
    "print(person) # (\"Andrii\", 30)"
   ]
  },
  {
   "cell_type": "markdown",
   "metadata": {
    "id": "kGrHgvxLlnB5"
   },
   "source": [
    "Також для визначення кортежу ми можемо просто перерахувати значення через кому без застосування дужок:"
   ]
  },
  {
   "cell_type": "code",
   "execution_count": null,
   "metadata": {
    "colab": {
     "base_uri": "https://localhost:8080/"
    },
    "id": "4tXPiixblpC1",
    "outputId": "1f6bacfa-8b1b-4dac-ae7c-da84b2f0596b"
   },
   "outputs": [
    {
     "name": "stdout",
     "output_type": "stream",
     "text": [
      "('Andrii',)\n"
     ]
    }
   ],
   "source": [
    "person = \"Andrii\",\n",
    "print(person) # (\"Andrii\", 30)"
   ]
  },
  {
   "cell_type": "markdown",
   "metadata": {
    "id": "Jp3eFTDWlulS"
   },
   "source": [
    "Якщо раптом кортеж складається з одного елемента, то після єдиного елемента кортежу необхідно поставити кому:"
   ]
  },
  {
   "cell_type": "code",
   "execution_count": null,
   "metadata": {
    "colab": {
     "base_uri": "https://localhost:8080/"
    },
    "id": "DXN5evlKlv1A",
    "outputId": "1c5069a5-da80-4029-f697-9646ce7b190f"
   },
   "outputs": [
    {
     "name": "stdout",
     "output_type": "stream",
     "text": [
      "<class 'str'>\n"
     ]
    }
   ],
   "source": [
    "#person = (\"Andrii\",)\n",
    "person = (\"Andrii\")\n",
    "print(type(person))"
   ]
  },
  {
   "cell_type": "markdown",
   "metadata": {
    "id": "Z2PmH-yll9TN"
   },
   "source": [
    "Для створення кортежу з іншого набору елементів, наприклад, зі списку, можна передати список у функцію tuple(), яка поверне кортеж:"
   ]
  },
  {
   "cell_type": "code",
   "execution_count": null,
   "metadata": {
    "colab": {
     "base_uri": "https://localhost:8080/"
    },
    "id": "llvVHS-RmAJr",
    "outputId": "09d3bb0c-f9f7-49ad-921a-f00347c97ee5"
   },
   "outputs": [
    {
     "name": "stdout",
     "output_type": "stream",
     "text": [
      "('Andrii', 30, 'DonNTU')\n"
     ]
    }
   ],
   "source": [
    "data = [\"Andrii\", 30, \"DonNTU\"]\n",
    "person = tuple(data)\n",
    "print(person)      # (\"Andrii\", 30, \"DonNTU\")"
   ]
  },
  {
   "cell_type": "markdown",
   "metadata": {
    "id": "MCw3L7NGmIbG"
   },
   "source": [
    "За допомогою вбудованої функції len() можна отримати довжину кортежу:"
   ]
  },
  {
   "cell_type": "code",
   "execution_count": null,
   "metadata": {
    "colab": {
     "base_uri": "https://localhost:8080/"
    },
    "id": "C9SzPJtimKTd",
    "outputId": "64ac6c49-ac19-4bf5-f04c-ca81e290ec67"
   },
   "outputs": [
    {
     "name": "stdout",
     "output_type": "stream",
     "text": [
      "3\n"
     ]
    }
   ],
   "source": [
    "data = [\"Andrii\", 30, \"DonNTU\"]\n",
    "print(len(data))     # 3"
   ]
  },
  {
   "cell_type": "markdown",
   "metadata": {
    "id": "gXitRemRmOM4"
   },
   "source": [
    "Звернення до елементів у кортежі відбувається також, як і в списку, за індексом. Індексація починається також з нуля при отриманні елементів з початку списку і з -1 при отриманні елементів з кінця списку:"
   ]
  },
  {
   "cell_type": "code",
   "execution_count": null,
   "metadata": {
    "colab": {
     "base_uri": "https://localhost:8080/"
    },
    "id": "e_-PRfNkmQ-c",
    "outputId": "801e90d7-8a7d-4440-e62c-967db6f1b830"
   },
   "outputs": [
    {
     "name": "stdout",
     "output_type": "stream",
     "text": [
      "Andrii\n",
      "30\n",
      "software developer\n"
     ]
    }
   ],
   "source": [
    "person = (\"Andrii\", 30, \"DonNTU\", \"software developer\")\n",
    "print(person[0]) # Andrii\n",
    "print(person[1]) # 30\n",
    "print(person[-1]) # software developer"
   ]
  },
  {
   "cell_type": "markdown",
   "metadata": {
    "id": "BsvA7vf0mdwb"
   },
   "source": [
    "Але оскільки кортеж - незмінний тип (immutable), то ми не зможемо змінити його елементи. Тобто наступний запис працювати не буде:"
   ]
  },
  {
   "cell_type": "code",
   "execution_count": null,
   "metadata": {
    "colab": {
     "base_uri": "https://localhost:8080/",
     "height": 144
    },
    "id": "D5y1166Bmfo7",
    "outputId": "31d89481-e7cd-4961-df0c-59d23c3eacfc"
   },
   "outputs": [
    {
     "ename": "TypeError",
     "evalue": "'tuple' object does not support item assignment",
     "output_type": "error",
     "traceback": [
      "\u001b[0;31m---------------------------------------------------------------------------\u001b[0m",
      "\u001b[0;31mTypeError\u001b[0m                                 Traceback (most recent call last)",
      "\u001b[0;32m<ipython-input-64-a31b864045fb>\u001b[0m in \u001b[0;36m<cell line: 1>\u001b[0;34m()\u001b[0m\n\u001b[0;32m----> 1\u001b[0;31m \u001b[0mperson\u001b[0m\u001b[0;34m[\u001b[0m\u001b[0;36m1\u001b[0m\u001b[0;34m]\u001b[0m \u001b[0;34m=\u001b[0m \u001b[0;34m\"Dmytro\"\u001b[0m\u001b[0;34m\u001b[0m\u001b[0;34m\u001b[0m\u001b[0m\n\u001b[0m",
      "\u001b[0;31mTypeError\u001b[0m: 'tuple' object does not support item assignment"
     ]
    }
   ],
   "source": [
    "person[1] = \"Dmytro\""
   ]
  },
  {
   "cell_type": "markdown",
   "metadata": {
    "id": "urGryXWmmlyS"
   },
   "source": [
    "За необхідності ми можемо розкласти кортеж на окремі змінні:"
   ]
  },
  {
   "cell_type": "code",
   "execution_count": null,
   "metadata": {
    "colab": {
     "base_uri": "https://localhost:8080/"
    },
    "id": "U8Ekn6ppmiAu",
    "outputId": "14776272-533a-4faa-de8b-12e1a1c0f953"
   },
   "outputs": [
    {
     "name": "stdout",
     "output_type": "stream",
     "text": [
      "Andrii\n",
      "30\n",
      "software developer\n",
      "DonNTU\n"
     ]
    }
   ],
   "source": [
    "name, age, company, position = (\"Andrii\", 30, \"DonNTU\", \"software developer\")\n",
    "print(name)         # Andrii\n",
    "print(age)          # 30\n",
    "print(position)     # software developer\n",
    "print(company)     # DonNTU"
   ]
  },
  {
   "cell_type": "markdown",
   "metadata": {
    "id": "s49q7_sZmt9W"
   },
   "source": [
    "Як і в списках, можна отримати частину кортежа у вигляді іншого кортежа"
   ]
  },
  {
   "cell_type": "code",
   "execution_count": null,
   "metadata": {
    "colab": {
     "base_uri": "https://localhost:8080/"
    },
    "id": "E9YmgzKcmwdl",
    "outputId": "07c61889-dd42-45d8-fe8c-f239374fd2f6"
   },
   "outputs": [
    {
     "name": "stdout",
     "output_type": "stream",
     "text": [
      "(30, 'DonNTU')\n",
      "('Andrii', 30, 'DonNTU')\n",
      "(30, 'DonNTU', 'software developer')\n"
     ]
    }
   ],
   "source": [
    "person = (\"Andrii\", 30, \"DonNTU\", \"software developer\")\n",
    "\n",
    "# отримаємо підкортеж з 1 по 3 елементи (не включаючи)\n",
    "print(person[1:3])     # (30, \"DonNTU\")\n",
    "\n",
    "# отримаємо підкортеж з 0 по 3 елементи (не включаючи)\n",
    "print(person[:3])     # (\"Andrii\", 30, \"DonNTU\")\n",
    "\n",
    "# отримаємо підкортеж з 1 по останній елемент\n",
    "print(person[1:])     # (30, \"DonNTU\", \"software developer\")"
   ]
  },
  {
   "cell_type": "markdown",
   "metadata": {
    "id": "INFZy1gXnAnc"
   },
   "source": [
    "Особливо зручно використовувати кортежі, коли необхідно повернути з функції одразу кілька значень. Коли функція повертає кілька значень, фактично вона повертає в кортеж:"
   ]
  },
  {
   "cell_type": "code",
   "execution_count": null,
   "metadata": {
    "colab": {
     "base_uri": "https://localhost:8080/"
    },
    "id": "sswvOV-Vm9mZ",
    "outputId": "846a4a27-925f-445b-cc13-65de8fabc330"
   },
   "outputs": [
    {
     "name": "stdout",
     "output_type": "stream",
     "text": [
      "('Andrii', 30, 'DonNTU')\n",
      "<class 'tuple'>\n"
     ]
    }
   ],
   "source": [
    "def get_user():\n",
    "    name = \"Andrii\"\n",
    "    age = 30\n",
    "    company = \"DonNTU\"\n",
    "    return name, age, company\n",
    "\n",
    "\n",
    "user = get_user()\n",
    "print(user)     # (\"Andrii\", 30, \"DonNTU\")\n",
    "print(type(user))"
   ]
  },
  {
   "cell_type": "markdown",
   "metadata": {
    "id": "SWTDhPgGnNeb"
   },
   "source": [
    "При передачі кортежу у функцію за допомогою оператора * його можна розкласти на окремі значення, які передаються параметрам функції:"
   ]
  },
  {
   "cell_type": "code",
   "execution_count": null,
   "metadata": {
    "colab": {
     "base_uri": "https://localhost:8080/"
    },
    "id": "l25l9kyNnNMP",
    "outputId": "d02636bc-5b32-44b3-821b-85fb8bb86a65"
   },
   "outputs": [
    {
     "name": "stdout",
     "output_type": "stream",
     "text": [
      "Ім'я: Andrii  Вік: 30  Компанія: DonNTU\n",
      "Ім'я: Dmytro  Вік: 54  Компанія: Google\n"
     ]
    }
   ],
   "source": [
    "def print_person(name, age, company):\n",
    "    print(f\"Ім'я: {name}  Вік: {age}  Компанія: {company}\")\n",
    "\n",
    "andrii = (\"Andrii\", 30)\n",
    "print_person(*andrii, \"DonNTU\")     # Ім'я: Andrii  Вік: 30  Компанія: DonNTU\n",
    "\n",
    "dmytro = (\"Dmytro\", 54, \"Google\")\n",
    "print_person(*dmytro)      # Ім'я: Dmytro  Вік: 54  Компанія: Google"
   ]
  },
  {
   "cell_type": "markdown",
   "metadata": {
    "id": "ggALWYfdnei4"
   },
   "source": [
    "Для перебору кортежу можна використовувати стандартні цикли for і while. За допомогою циклу for:"
   ]
  },
  {
   "cell_type": "code",
   "execution_count": null,
   "metadata": {
    "colab": {
     "base_uri": "https://localhost:8080/"
    },
    "id": "n8Hs1TtJnHHa",
    "outputId": "943143ba-8af4-4fdd-8e51-d8d600126830"
   },
   "outputs": [
    {
     "name": "stdout",
     "output_type": "stream",
     "text": [
      "Andrii\n",
      "30\n",
      "DonNTU\n",
      "Dmytro\n",
      "54\n",
      "Google\n"
     ]
    }
   ],
   "source": [
    "andrii = (\"Andrii\", 30, \"DonNTU\")\n",
    "for item in andrii:\n",
    "    print(item)\n",
    "\n",
    "# за допомогою циклу while\n",
    "dmytro = (\"Dmytro\", 54, \"Google\")\n",
    "\n",
    "i = 0\n",
    "while i < len(dmytro):\n",
    "    print(dmytro[i])\n",
    "    i += 1"
   ]
  },
  {
   "cell_type": "markdown",
   "metadata": {
    "id": "M-b4xctdntyv"
   },
   "source": [
    "Як для списку за допомогою виразу елемент in кортеж можна перевірити наявність елемента в кортежі:"
   ]
  },
  {
   "cell_type": "code",
   "execution_count": null,
   "metadata": {
    "colab": {
     "base_uri": "https://localhost:8080/"
    },
    "id": "C6aYuqWonvt1",
    "outputId": "6295d4e2-cb1d-4cca-9859-f5df958df7d9"
   },
   "outputs": [
    {
     "name": "stdout",
     "output_type": "stream",
     "text": [
      "Користувач має інше ім'я\n"
     ]
    }
   ],
   "source": [
    "user = (\"Andrii\", 30, \"DonNTU\")\n",
    "name = \"Dmytro\"\n",
    "if name in user:\n",
    "    print(\"Користувача звуть Андрій\")\n",
    "else:\n",
    "    print(\"Користувач має інше ім'я\")"
   ]
  },
  {
   "cell_type": "markdown",
   "metadata": {
    "id": "kQdpD2s5nv7k"
   },
   "source": [
    "# Множина\n",
    "Множина (set) представляє ще один вид набору, який зберігає тільки унікальні елементи. Для визначення множини використовуються фігурні дужки, в яких перераховуються елементи:"
   ]
  },
  {
   "cell_type": "code",
   "execution_count": null,
   "metadata": {
    "colab": {
     "base_uri": "https://localhost:8080/"
    },
    "id": "bdOefGSGpqs6",
    "outputId": "119a942b-1e7a-424d-f02d-4fe880636abf"
   },
   "outputs": [
    {
     "name": "stdout",
     "output_type": "stream",
     "text": [
      "{'Dmytro', 'Andrii', 'Eliza'}\n"
     ]
    }
   ],
   "source": [
    "users = {\"Andrii\", \"Dmytro\", \"Eliza\", \"Dmytro\"}\n",
    "print(users)    # {'Dmytro', 'Eliza', 'Andrii'}"
   ]
  },
  {
   "cell_type": "markdown",
   "metadata": {
    "id": "JogEwHvmqAoF"
   },
   "source": [
    "Також для визначення множини може застосовуватися функція set(), в яку передається список або кортеж елементів:"
   ]
  },
  {
   "cell_type": "code",
   "execution_count": null,
   "metadata": {
    "colab": {
     "base_uri": "https://localhost:8080/"
    },
    "id": "_ynrOpvtqBQs",
    "outputId": "aa0fb3f5-7f87-4723-a952-d1f0fde7a71d"
   },
   "outputs": [
    {
     "name": "stdout",
     "output_type": "stream",
     "text": [
      "{'Dmytro', 'Andrii', 'Eliza'}\n"
     ]
    }
   ],
   "source": [
    "people = [\"Andrii\", \"Dmytro\", \"Eliza\"]\n",
    "users = set(people)\n",
    "print(users)    # {'Dmytro', 'Eliza', 'Andrii'}"
   ]
  },
  {
   "cell_type": "markdown",
   "metadata": {
    "id": "AW9URRX4qQpt"
   },
   "source": [
    "Функцію set зручно застосовувати для створення порожньої множини:"
   ]
  },
  {
   "cell_type": "code",
   "execution_count": null,
   "metadata": {
    "id": "KSkM7AieqSc8"
   },
   "outputs": [],
   "source": [
    "users = set()"
   ]
  },
  {
   "cell_type": "markdown",
   "metadata": {
    "id": "NPIlClqzqUCA"
   },
   "source": [
    "Для отримання довжини множини застосовується вбудована функція len():"
   ]
  },
  {
   "cell_type": "code",
   "execution_count": null,
   "metadata": {
    "colab": {
     "base_uri": "https://localhost:8080/"
    },
    "id": "N-BI6yPIqXki",
    "outputId": "ad81bc74-da12-4710-962b-601dc1d39c51"
   },
   "outputs": [
    {
     "name": "stdout",
     "output_type": "stream",
     "text": [
      "3\n"
     ]
    }
   ],
   "source": [
    "users = {\"Andrii\", \"Dmytro\", \"Eliza\"}\n",
    "print(len(users))       # 3"
   ]
  },
  {
   "cell_type": "markdown",
   "metadata": {
    "id": "Wm3gYNKZqaGP"
   },
   "source": [
    "Для додавання одиночного елемента викликається метод add():"
   ]
  },
  {
   "cell_type": "code",
   "execution_count": null,
   "metadata": {
    "colab": {
     "base_uri": "https://localhost:8080/"
    },
    "id": "5jH9m_wkqcKO",
    "outputId": "2fbbef12-9b35-401c-c85f-7d793587d669"
   },
   "outputs": [
    {
     "name": "stdout",
     "output_type": "stream",
     "text": [
      "{'Sam'}\n"
     ]
    }
   ],
   "source": [
    "users = set()\n",
    "users.add(\"Sam\")\n",
    "print(users)"
   ]
  },
  {
   "cell_type": "markdown",
   "metadata": {
    "id": "tXAUluZoqdUM"
   },
   "source": [
    "Для видалення одного елемента викликається метод remove(), у який передається елемент, що видаляється. Але слід враховувати, що якщо такого елемента не виявиться в множині, то буде згенеровано помилку. Тому перед видаленням слід перевіряти на наявність елемента за допомогою оператора in:"
   ]
  },
  {
   "cell_type": "code",
   "execution_count": null,
   "metadata": {
    "colab": {
     "base_uri": "https://localhost:8080/",
     "height": 198
    },
    "id": "5sXD7wvZqfgQ",
    "outputId": "7c21ecd1-fd29-422e-80e1-b9bd574544a8"
   },
   "outputs": [
    {
     "ename": "KeyError",
     "evalue": "'Bob'",
     "output_type": "error",
     "traceback": [
      "\u001b[0;31m---------------------------------------------------------------------------\u001b[0m",
      "\u001b[0;31mKeyError\u001b[0m                                  Traceback (most recent call last)",
      "\u001b[0;32m<ipython-input-77-1bba8fbf678c>\u001b[0m in \u001b[0;36m<cell line: 6>\u001b[0;34m()\u001b[0m\n\u001b[1;32m      4\u001b[0m \u001b[0;34m\u001b[0m\u001b[0m\n\u001b[1;32m      5\u001b[0m \u001b[0musers\u001b[0m\u001b[0;34m.\u001b[0m\u001b[0mremove\u001b[0m\u001b[0;34m(\u001b[0m\u001b[0muser\u001b[0m\u001b[0;34m)\u001b[0m\u001b[0;34m\u001b[0m\u001b[0;34m\u001b[0m\u001b[0m\n\u001b[0;32m----> 6\u001b[0;31m \u001b[0musers\u001b[0m\u001b[0;34m.\u001b[0m\u001b[0mremove\u001b[0m\u001b[0;34m(\u001b[0m\u001b[0;34m\"Bob\"\u001b[0m\u001b[0;34m)\u001b[0m\u001b[0;34m\u001b[0m\u001b[0;34m\u001b[0m\u001b[0m\n\u001b[0m\u001b[1;32m      7\u001b[0m \u001b[0mprint\u001b[0m\u001b[0;34m(\u001b[0m\u001b[0musers\u001b[0m\u001b[0;34m)\u001b[0m    \u001b[0;31m# {'Dmytro', 'Eliza'}\u001b[0m\u001b[0;34m\u001b[0m\u001b[0;34m\u001b[0m\u001b[0m\n",
      "\u001b[0;31mKeyError\u001b[0m: 'Bob'"
     ]
    }
   ],
   "source": [
    "users = {\"Andrii\", \"Dmytro\", \"Eliza\"}\n",
    "\n",
    "user = \"Andrii\"\n",
    "\n",
    "users.remove(user)\n",
    "users.remove(\"Bob\")\n",
    "print(users)    # {'Dmytro', 'Eliza'}"
   ]
  },
  {
   "cell_type": "markdown",
   "metadata": {
    "id": "wP5br5xqqk1I"
   },
   "source": [
    "Також для видалення можна використовувати метод discard(), який не буде генерувати винятки за відсутності елемента:"
   ]
  },
  {
   "cell_type": "code",
   "execution_count": null,
   "metadata": {
    "colab": {
     "base_uri": "https://localhost:8080/"
    },
    "id": "vll99TeVqnGO",
    "outputId": "4fcd5de5-1cb3-4584-847f-fa5ba4957de2"
   },
   "outputs": [
    {
     "name": "stdout",
     "output_type": "stream",
     "text": [
      "{'Dmytro', 'Andrii', 'Eliza'}\n",
      "{'Dmytro', 'Eliza'}\n"
     ]
    }
   ],
   "source": [
    "users = {\"Andrii\", \"Dmytro\", \"Eliza\"}\n",
    "\n",
    "users.discard(\"Bob\")    # елемент \"Bob\" відсутній, і метод нічого не робить\n",
    "print(users)    #  {'Dmytro', 'Eliza', 'Andrii'}\n",
    "\n",
    "users.discard(\"Andrii\")    # елемент \"Andrii\" є, і метод видаляє елемент\n",
    "print(users)    # {'Dmytro', 'Eliza'}"
   ]
  },
  {
   "cell_type": "markdown",
   "metadata": {
    "id": "mr5N6Xsoqyc-"
   },
   "source": [
    "Для видалення всіх елементів викликається метод clear():"
   ]
  },
  {
   "cell_type": "code",
   "execution_count": null,
   "metadata": {
    "id": "HzqtovT2qyPR"
   },
   "outputs": [],
   "source": [
    "users.clear()"
   ]
  },
  {
   "cell_type": "markdown",
   "metadata": {
    "id": "xF3V2KZdq2Vn"
   },
   "source": [
    "Для перебору елементів можна використовувати цикл for:"
   ]
  },
  {
   "cell_type": "code",
   "execution_count": null,
   "metadata": {
    "colab": {
     "base_uri": "https://localhost:8080/"
    },
    "id": "rFeM2Q5Tq4zd",
    "outputId": "39831728-e7f8-440e-8934-61b77102fbaf"
   },
   "outputs": [
    {
     "name": "stdout",
     "output_type": "stream",
     "text": [
      "Dmytro\n",
      "Andrii\n",
      "Eliza\n"
     ]
    }
   ],
   "source": [
    "users = {\"Andrii\", \"Dmytro\", \"Eliza\"}\n",
    "\n",
    "for user in users:\n",
    "    print(user)"
   ]
  },
  {
   "cell_type": "markdown",
   "metadata": {
    "id": "wxmnf2btq70W"
   },
   "source": [
    "За допомогою методу copy() можна скопіювати вміст однієї множини в іншу змінну:"
   ]
  },
  {
   "cell_type": "code",
   "execution_count": null,
   "metadata": {
    "colab": {
     "base_uri": "https://localhost:8080/"
    },
    "id": "oCaNUu10q9lo",
    "outputId": "e0c2cedb-33a2-46c5-be9a-20bb3027093a"
   },
   "outputs": [
    {
     "name": "stdout",
     "output_type": "stream",
     "text": [
      "{'Dmytro', 'Andrii', 'Eliza'}\n"
     ]
    }
   ],
   "source": [
    "users = {\"Andrii\", \"Dmytro\", \"Eliza\"}\n",
    "students = users.copy()\n",
    "print(students)     # {\"Andrii\", \"Dmytro\", \"Eliza\"}"
   ]
  },
  {
   "cell_type": "markdown",
   "metadata": {
    "id": "JuRo5O55rEvt"
   },
   "source": [
    "Метод union() об'єднує дві множини і повертає нову множину:"
   ]
  },
  {
   "cell_type": "code",
   "execution_count": null,
   "metadata": {
    "colab": {
     "base_uri": "https://localhost:8080/"
    },
    "id": "FmjTGXDVrEXS",
    "outputId": "f0f80568-a50d-4981-b45e-616df4766093"
   },
   "outputs": [
    {
     "name": "stdout",
     "output_type": "stream",
     "text": [
      "{'Tetiana', 'Andrii', 'Mark', 'Eliza', 'Kate', 'Dmytro'}\n"
     ]
    }
   ],
   "source": [
    "users = {\"Andrii\", \"Dmytro\", \"Eliza\"}\n",
    "users2 = {\"Kate\", \"Tetiana\", \"Mark\"}\n",
    "\n",
    "users3 = users.union(users2)\n",
    "print(users3)   # {'Eliza', 'Kate', 'Andrii', 'Mark', 'Dmytro', 'Tetiana'}"
   ]
  },
  {
   "cell_type": "markdown",
   "metadata": {
    "id": "rNvIqpsTrb3a"
   },
   "source": [
    "Перетин множин дає змогу отримати тільки ті елементи, які є одночасно в обох множинах. Метод intersection() виконує операцію перетину множин і повертає нову множину:"
   ]
  },
  {
   "cell_type": "code",
   "execution_count": null,
   "metadata": {
    "colab": {
     "base_uri": "https://localhost:8080/"
    },
    "id": "JKXChxY6rY9s",
    "outputId": "4b456f51-69bb-401c-f4b5-64950434ff3d"
   },
   "outputs": [
    {
     "name": "stdout",
     "output_type": "stream",
     "text": [
      "{'Dmytro', 'Eliza'}\n"
     ]
    }
   ],
   "source": [
    "users = {\"Andrii\", \"Dmytro\", \"Eliza\"}\n",
    "users2 = {\"Eliza\", \"Dmytro\", \"Mark\"}\n",
    "\n",
    "users3 = users.intersection(users2)\n",
    "print(users3)   # {'Dmytro', 'Eliza'}"
   ]
  },
  {
   "cell_type": "markdown",
   "metadata": {
    "id": "0HPUIivyrl01"
   },
   "source": [
    "Замість методу intersection ми могли б використовувати операцію логічного множення:"
   ]
  },
  {
   "cell_type": "code",
   "execution_count": null,
   "metadata": {
    "colab": {
     "base_uri": "https://localhost:8080/"
    },
    "id": "6_9aBGsXrp71",
    "outputId": "3feb199b-7750-4ad9-eb26-b2bb5ca06048"
   },
   "outputs": [
    {
     "name": "stdout",
     "output_type": "stream",
     "text": [
      "{'Dmytro', 'Eliza'}\n"
     ]
    }
   ],
   "source": [
    "users = {\"Andrii\", \"Dmytro\", \"Eliza\"}\n",
    "users2 = {\"Eliza\", \"Dmytro\", \"Mark\"}\n",
    "\n",
    "print(users & users2)   # {'Dmytro', 'Eliza'}"
   ]
  },
  {
   "cell_type": "markdown",
   "metadata": {
    "id": "OIaP2S-Wrzsi"
   },
   "source": [
    "Модифікація методу - intersection_update() замінює пересіченими елементами першу множину:"
   ]
  },
  {
   "cell_type": "code",
   "execution_count": null,
   "metadata": {
    "colab": {
     "base_uri": "https://localhost:8080/"
    },
    "id": "_bsr4xxHr1yE",
    "outputId": "4bb23d19-3c14-496d-a901-3bfb8e7cb65a"
   },
   "outputs": [
    {
     "name": "stdout",
     "output_type": "stream",
     "text": [
      "{'Dmytro', 'Eliza'}\n"
     ]
    }
   ],
   "source": [
    "users = {\"Andrii\", \"Dmytro\", \"Eliza\"}\n",
    "users2 = {\"Eliza\", \"Dmytro\", \"Mark\"}\n",
    "users.intersection_update(users2)\n",
    "print(users)   # {'Dmytro', 'Eliza'}"
   ]
  },
  {
   "cell_type": "markdown",
   "metadata": {
    "id": "P2-v363Kr8rw"
   },
   "source": [
    "Ще одна операція - різниця множин повертає ті елементи, які є в першій множині, але відсутні в другій. Для отримання різниці множин можна використовувати метод difference або операцію віднімання:"
   ]
  },
  {
   "cell_type": "code",
   "execution_count": null,
   "metadata": {
    "colab": {
     "base_uri": "https://localhost:8080/"
    },
    "id": "66cgoTL4r_IT",
    "outputId": "1f23d119-49d0-4c94-9cd3-32cb5c6f64e9"
   },
   "outputs": [
    {
     "name": "stdout",
     "output_type": "stream",
     "text": [
      "{'Andrii'}\n",
      "{'Andrii'}\n"
     ]
    }
   ],
   "source": [
    "users = {\"Andrii\", \"Dmytro\", \"Eliza\"}\n",
    "users2 = {\"Eliza\", \"Dmytro\", \"Mark\"}\n",
    "\n",
    "users3 = users.difference(users2)\n",
    "print(users3)           # {'Andrii'}\n",
    "print(users - users2)   # {'Andrii'}"
   ]
  },
  {
   "cell_type": "markdown",
   "metadata": {
    "id": "EPZX0dPcsHvp"
   },
   "source": [
    "Окремий різновид різниці множин - симетрична різниця - проводиться за допомогою методу symmetric_difference() або за допомогою операції ^. Вона повертає всі елементи обох множин, за винятком спільних:"
   ]
  },
  {
   "cell_type": "code",
   "execution_count": null,
   "metadata": {
    "colab": {
     "base_uri": "https://localhost:8080/"
    },
    "id": "iG7A6eapsJlr",
    "outputId": "b59bb339-10b0-4440-c949-7d7fbd15670a"
   },
   "outputs": [
    {
     "name": "stdout",
     "output_type": "stream",
     "text": [
      "{'Bob', 'Mark', 'Andrii', 'Dmytro'}\n",
      "{'Bob', 'Mark', 'Andrii', 'Dmytro'}\n"
     ]
    }
   ],
   "source": [
    "users = {\"Andrii\", \"Dmytro\", \"Eliza\"}\n",
    "users2 = {\"Eliza\", \"Bob\", \"Mark\"}\n",
    "\n",
    "users3 = users.symmetric_difference(users2)\n",
    "print(users3)   # {'Mark', 'Andrii', 'Bob', 'Dmytro'}\n",
    "\n",
    "users4 = users ^ users2\n",
    "print(users4)   # {'Mark', 'Andrii', 'Bob', 'Dmytro'}"
   ]
  },
  {
   "cell_type": "markdown",
   "metadata": {
    "id": "A0VniyrBsZ96"
   },
   "source": [
    "Метод issubset дає змогу з'ясувати, чи є поточна множина підмножиною (тобто частиною) іншої множини:"
   ]
  },
  {
   "cell_type": "code",
   "execution_count": null,
   "metadata": {
    "colab": {
     "base_uri": "https://localhost:8080/"
    },
    "id": "vdFZ7YQysdQe",
    "outputId": "cc8df133-ef03-4ebb-f6f5-b1e1eea2f6b0"
   },
   "outputs": [
    {
     "name": "stdout",
     "output_type": "stream",
     "text": [
      "True\n",
      "False\n"
     ]
    }
   ],
   "source": [
    "users = {\"Tom\", \"Bob\", \"Alice\"}\n",
    "superusers = {\"Sam\", \"Tom\", \"Bob\", \"Alice\", \"Greg\"}\n",
    "\n",
    "print(users.issubset(superusers))   # True\n",
    "print(superusers.issubset(users))   # False"
   ]
  },
  {
   "cell_type": "markdown",
   "metadata": {
    "id": "-SBTvcOEsiWM"
   },
   "source": [
    "Метод issuperset, навпаки, повертає True, якщо поточна множина є надмножиною (тобто містить) для іншої множини:"
   ]
  },
  {
   "cell_type": "code",
   "execution_count": null,
   "metadata": {
    "colab": {
     "base_uri": "https://localhost:8080/"
    },
    "id": "BpGfmBWpsgFB",
    "outputId": "77f2bf13-8f61-43ec-8a46-27f4f01499dc"
   },
   "outputs": [
    {
     "name": "stdout",
     "output_type": "stream",
     "text": [
      "False\n",
      "True\n"
     ]
    }
   ],
   "source": [
    "users = {\"Tom\", \"Bob\", \"Alice\"}\n",
    "superusers = {\"Sam\", \"Tom\", \"Bob\", \"Alice\", \"Greg\"}\n",
    "\n",
    "print(users.issuperset(superusers))   # False\n",
    "print(superusers.issuperset(users))   # True"
   ]
  },
  {
   "cell_type": "markdown",
   "metadata": {
    "id": "pg9jT7d4skkY"
   },
   "source": [
    "Тип frozen set є видом множин, який не може бути змінений. Для його створення використовується функція frozenset:"
   ]
  },
  {
   "cell_type": "code",
   "execution_count": null,
   "metadata": {
    "id": "LSMZvUZXsmXu"
   },
   "outputs": [],
   "source": [
    "users = frozenset({\"Andrii\", \"Eliza\", \"Dmytro\"})"
   ]
  },
  {
   "cell_type": "markdown",
   "metadata": {
    "id": "SWICc1m6sng5"
   },
   "source": [
    "У функцію frozenset передається набір елементів - список, кортеж, інша множина.\n",
    "\n",
    "У таку множину ми не можемо додати нові елементи, як і видалити з неї вже наявні. Власне тому frozen set підтримує обмежений набір операцій:\n",
    "1) len(s): повертає довжину множини\n",
    "\n",
    "2) x in s: повертає True, якщо елемент x присутній у множині s\n",
    "\n",
    "3) x not in s: повертає True, якщо елемент x відсутній у множині s\n",
    "\n",
    "4) s.issubset(t): повертає True, якщо t містить множину s\n",
    "\n",
    "5) s.issuperset(t): повертає True, якщо t міститься в множині s\n",
    "\n",
    "6) s.union(t): повертає об'єднання множин s і t\n",
    "\n",
    "7) s.intersection(t): повертає перетин множин s і t\n",
    "\n",
    "8) s.difference(t): повертає різницю множин s і t\n",
    "\n",
    "9) s.copy(): повертає копію множини s"
   ]
  },
  {
   "cell_type": "markdown",
   "metadata": {
    "id": "b77Hft5ls_se"
   },
   "source": [
    "# Словник\n",
    "Словник (dictionary) у мові Python зберігає колекцію елементів, де кожен елемент має унікальний ключ і асоційоване з ним деяке значення.\n",
    "\n",
    "\n",
    "dictionary = { ключ1:значення1, ключ2:значення2, ....}\n",
    "\n",
    "У фігурних дужках через кому визначається послідовність елементів, де для кожного елемента спочатку вказується ключ і через двокрапку його значення."
   ]
  },
  {
   "cell_type": "code",
   "execution_count": null,
   "metadata": {
    "id": "zs7RSBfPs5k4"
   },
   "outputs": [],
   "source": [
    "users = {1: \"Andrii\", 2: \"Eliza\", 3: \"Dmytro\"}"
   ]
  },
  {
   "cell_type": "markdown",
   "metadata": {
    "id": "9gMw_AXktJqd"
   },
   "source": [
    "У словнику users як ключі використовуються числа, а як значення - рядки. Тобто елемент із ключем 1 має значення \"Tom\", елемент із ключем 2 - значення \"Bob\" тощо."
   ]
  },
  {
   "cell_type": "markdown",
   "metadata": {
    "id": "w86c8KOWtPaf"
   },
   "source": [
    "Інший приклад:"
   ]
  },
  {
   "cell_type": "code",
   "execution_count": null,
   "metadata": {
    "id": "BaG37v9itLzF"
   },
   "outputs": [],
   "source": [
    "emails = {\"andrii@gmail.com\": \"Andrii\", \"eliza@gmai.com\": \"Eliza\", \"dmytro@gmail.com\": \"Dmytro\"}"
   ]
  },
  {
   "cell_type": "markdown",
   "metadata": {
    "id": "EcYZkLAQtRHf"
   },
   "source": [
    "У словнику emails як ключі використовують рядки - електронні адреси користувачів і як значення теж рядки - імена користувачів.\n",
    "\n",
    "Але необов'язково ключі та рядки мають бути однотипними. Вони можуть представляти різні типи:"
   ]
  },
  {
   "cell_type": "code",
   "execution_count": null,
   "metadata": {
    "id": "Wg4cUssmtQ7m"
   },
   "outputs": [],
   "source": [
    "objects = {1: \"Andrii\", \"2\": True, 3: 100.6}"
   ]
  },
  {
   "cell_type": "markdown",
   "metadata": {
    "id": "U-fEo81-tW1o"
   },
   "source": [
    "Ми можемо також взагалі визначити порожній словник без елементів:"
   ]
  },
  {
   "cell_type": "code",
   "execution_count": null,
   "metadata": {
    "id": "fIvx-testaPC"
   },
   "outputs": [],
   "source": [
    "objects = {}\n",
    "# або так\n",
    "objects = dict()"
   ]
  },
  {
   "cell_type": "markdown",
   "metadata": {
    "id": "4q6LZ7oMtgR7"
   },
   "source": [
    "Незважаючи на те, що словник і список - несхожі за структурою типи, проте існує можливість для окремих видів списків перетворення їх у словник за допомогою вбудованої функції dict(). Для цього список повинен зберігати набір вкладених списків. Кожен вкладений список повинен складатися з двох елементів - під час конвертації в словник перший елемент стане ключем, а другий - значенням:"
   ]
  },
  {
   "cell_type": "code",
   "execution_count": null,
   "metadata": {
    "colab": {
     "base_uri": "https://localhost:8080/"
    },
    "id": "klgEbK9Mtfzf",
    "outputId": "2e8b5486-9af5-44f1-f081-f148efee10b5"
   },
   "outputs": [
    {
     "name": "stdout",
     "output_type": "stream",
     "text": [
      "{'+111123455': 'Andrii', '+384767557': 'Eliza', '+958758767': 'Tom'}\n"
     ]
    }
   ],
   "source": [
    "users_list = [\n",
    "    [\"+111123455\", \"Andrii\"],\n",
    "    [\"+384767557\", \"Eliza\"],\n",
    "    [\"+958758767\", \"Tom\"]\n",
    "]\n",
    "users_dict = dict(users_list)\n",
    "print(users_dict)      # {'+111123455': 'Andrii', '+384767557': 'Eliza', '+958758767': 'Tom'}"
   ]
  },
  {
   "cell_type": "markdown",
   "metadata": {
    "id": "ygz6Fs16t3Iy"
   },
   "source": [
    "Подібним чином можна перетворити в словник двовимірні кортежі, які своєю чергою містять кортежі з двох елементів:"
   ]
  },
  {
   "cell_type": "code",
   "execution_count": null,
   "metadata": {
    "colab": {
     "base_uri": "https://localhost:8080/"
    },
    "id": "PEX4uzTAt5Zk",
    "outputId": "ac7d92da-db2e-4802-8774-a15758851cd2"
   },
   "outputs": [
    {
     "name": "stdout",
     "output_type": "stream",
     "text": [
      "{'+111123455': 'Tom', '+384767557': 'Bob', '+958758767': 'Alice'}\n"
     ]
    }
   ],
   "source": [
    "users_tuple = (\n",
    "    (\"+111123455\", \"Tom\"),\n",
    "    (\"+384767557\", \"Bob\"),\n",
    "    (\"+958758767\", \"Alice\")\n",
    ")\n",
    "users_dict = dict(users_tuple)\n",
    "print(users_dict)"
   ]
  },
  {
   "cell_type": "markdown",
   "metadata": {
    "id": "OgGjd106t65T"
   },
   "source": [
    "Для звернення до елементів словника після його назви у квадратних дужках вказується ключ елемента:\n",
    "dictionary[ключ]"
   ]
  },
  {
   "cell_type": "code",
   "execution_count": null,
   "metadata": {
    "colab": {
     "base_uri": "https://localhost:8080/"
    },
    "id": "ICbMirE6t8yg",
    "outputId": "1d9144d5-7d89-4920-d4da-8741918fff4b"
   },
   "outputs": [
    {
     "name": "stdout",
     "output_type": "stream",
     "text": [
      "Andrii\n",
      "Bob Smith\n"
     ]
    }
   ],
   "source": [
    "users = {\n",
    "    \"+11111111\": \"Andrii\",\n",
    "    \"+33333333\": \"Eliza\",\n",
    "    \"+55555555\": \"Tom\"\n",
    "}\n",
    "\n",
    "# отримуємо елемент із ключем \"+1111111111\"\n",
    "print(users[\"+11111111\"])      # Andrii\n",
    "\n",
    "# встановлення значення елемента з ключем \"+3333333333\"\n",
    "users[\"+33333333\"] = \"Bob Smith\"\n",
    "print(users[\"+33333333\"])   # Bob Smith"
   ]
  },
  {
   "cell_type": "markdown",
   "metadata": {
    "id": "Z_3x22JyuAOo"
   },
   "source": [
    "Якщо під час встановлення значення елемента з таким ключем у словнику не виявиться, то відбудеться його додавання:"
   ]
  },
  {
   "cell_type": "code",
   "execution_count": null,
   "metadata": {
    "id": "BH530nQxuQVD"
   },
   "outputs": [],
   "source": [
    "users[\"+4444444\"] = \"Mark\""
   ]
  },
  {
   "cell_type": "markdown",
   "metadata": {
    "id": "cI5s36boubFr"
   },
   "source": [
    "Але якщо ми спробуємо отримати значення з ключем, якого немає в словнику, то Python згенерує помилку KeyError:"
   ]
  },
  {
   "cell_type": "code",
   "execution_count": null,
   "metadata": {
    "id": "qBdJyplIuc-C"
   },
   "outputs": [],
   "source": [
    "user = users[\"+4444444\"]    # KeyError"
   ]
  },
  {
   "cell_type": "markdown",
   "metadata": {
    "id": "dd6kNfixueaB"
   },
   "source": [
    "І щоб попередити цю ситуацію перед зверненням до елемента ми можемо перевіряти наявність ключа в словнику за допомогою виразу ключ in словник. Якщо ключ є в словнику, то цей вираз повертає True:"
   ]
  },
  {
   "cell_type": "code",
   "execution_count": null,
   "metadata": {
    "colab": {
     "base_uri": "https://localhost:8080/"
    },
    "id": "LI04CFZ6uhPi",
    "outputId": "71ab7835-4c09-4a53-a9ba-3ee99edafe2f"
   },
   "outputs": [
    {
     "name": "stdout",
     "output_type": "stream",
     "text": [
      "Mark\n"
     ]
    }
   ],
   "source": [
    "key = \"+4444444\"\n",
    "if key in users:\n",
    "    user = users[key]\n",
    "    print(user)\n",
    "else:\n",
    "    print(\"Елемент не знайдено\")"
   ]
  },
  {
   "cell_type": "markdown",
   "metadata": {
    "id": "pofSV-bsuixT"
   },
   "source": [
    "Також для отримання елементів можна використовувати метод get, який має дві форми:\n",
    "\n",
    "1) get(key): повертає зі словника елемент із ключем key. Якщо елемента з таким ключем немає, то повертає значення None\n",
    "\n",
    "2) get(key, default): повертає зі словника елемент із ключем key. Якщо елемента з таким ключем немає, то повертає значення за замовчуванням default"
   ]
  },
  {
   "cell_type": "code",
   "execution_count": null,
   "metadata": {
    "colab": {
     "base_uri": "https://localhost:8080/"
    },
    "id": "j_jgoAEpusFt",
    "outputId": "ebe58503-903f-48b3-e9f9-8e77df24f85c"
   },
   "outputs": [
    {
     "name": "stdout",
     "output_type": "stream",
     "text": [
      "Dmytro\n",
      "Eliza\n",
      "Unknown user\n"
     ]
    }
   ],
   "source": [
    "users = {\n",
    "    \"+11111111\": \"Andrii\",\n",
    "    \"+33333333\": \"Eliza\",\n",
    "    \"+55555555\": \"Dmytro\"\n",
    "}\n",
    "\n",
    "user1 = users.get(\"+55555555\")\n",
    "print(user1)    # Dmytro\n",
    "user2 = users.get(\"+33333333\", \"Unknown user\")\n",
    "print(user2)    # Eliza\n",
    "user3 = users.get(\"+44444444\", \"Unknown user\")\n",
    "print(user3)    # Unknown user"
   ]
  },
  {
   "cell_type": "markdown",
   "metadata": {
    "id": "ftB7_P4OuyDO"
   },
   "source": [
    "Для видалення елемента за ключем застосовується оператор del:"
   ]
  },
  {
   "cell_type": "code",
   "execution_count": null,
   "metadata": {
    "colab": {
     "base_uri": "https://localhost:8080/"
    },
    "id": "ARFK3jt8uzoy",
    "outputId": "5437c665-0dbf-4dcd-bcab-5d74dfa2bbf6"
   },
   "outputs": [
    {
     "name": "stdout",
     "output_type": "stream",
     "text": [
      "{'+11111111': 'Andrii', '+33333333': 'Eliza'}\n"
     ]
    }
   ],
   "source": [
    "users = {\n",
    "    \"+11111111\": \"Andrii\",\n",
    "    \"+33333333\": \"Eliza\",\n",
    "    \"+55555555\": \"Dmytro\"\n",
    "}\n",
    "\n",
    "del users[\"+55555555\"]\n",
    "print(users)    # {'+11111111': 'Andrii', '+33333333': 'Eliza'}"
   ]
  },
  {
   "cell_type": "markdown",
   "metadata": {
    "id": "WjqHdJHhu2qf"
   },
   "source": [
    "Але варто враховувати, що якщо такого ключа не виявиться в словнику, то буде викинуто виняток KeyError. Тому знову ж таки перед видаленням бажано перевіряти наявність елемента з цим ключем."
   ]
  },
  {
   "cell_type": "code",
   "execution_count": null,
   "metadata": {
    "colab": {
     "base_uri": "https://localhost:8080/"
    },
    "id": "95Tmxys4u4en",
    "outputId": "238f38d2-289c-4bb5-8da0-f9d2186d075f"
   },
   "outputs": [
    {
     "name": "stdout",
     "output_type": "stream",
     "text": [
      "Елемент із ключем +55555555 видалено\n"
     ]
    }
   ],
   "source": [
    "users = {\n",
    "    \"+11111111\": \"Andrii\",\n",
    "    \"+33333333\": \"Eliza\",\n",
    "    \"+55555555\": \"Dmytro\"\n",
    "}\n",
    "\n",
    "key = \"+55555555\"\n",
    "if key in users:\n",
    "    del users[key]\n",
    "    print(f\"Елемент із ключем {key} видалено\")\n",
    "else:\n",
    "    print(\"Елемент не знайдено\")"
   ]
  },
  {
   "cell_type": "markdown",
   "metadata": {
    "id": "o90x0xtTvHGs"
   },
   "source": [
    "Інший спосіб видалення представляє метод pop(). Він має дві форми:\n",
    "\n",
    "pop(key): видаляє елемент за ключем key і повертає видалений елемент. Якщо елемент з даним ключем відсутній, то генерується виняток KeyError\n",
    "\n",
    "pop(key, default): видаляє елемент за ключем key і повертає видалений елемент. Якщо елемент з даним ключем відсутній, то повертається значення default"
   ]
  },
  {
   "cell_type": "code",
   "execution_count": null,
   "metadata": {
    "id": "YUicE82FvJ5T"
   },
   "outputs": [],
   "source": [
    "users = {\n",
    "    \"+11111111\": \"Andrii\",\n",
    "    \"+33333333\": \"Eliza\",\n",
    "    \"+55555555\": \"Dmytro\"\n",
    "}\n",
    "key = \"+55555555\"\n",
    "user = users.pop(key)\n",
    "print(user)     # Dmytro\n",
    "\n",
    "user = users.pop(\"+4444444\", \"Unknown user\")\n",
    "print(user)     # Unknown user"
   ]
  },
  {
   "cell_type": "markdown",
   "metadata": {
    "id": "fPTy7BXZwGR8"
   },
   "source": [
    "Якщо необхідно видалити всі елементи, то в цьому разі можна скористатися методом clear():"
   ]
  },
  {
   "cell_type": "code",
   "execution_count": null,
   "metadata": {
    "id": "G18DKulHvQ3e"
   },
   "outputs": [],
   "source": [
    "users.clear()"
   ]
  },
  {
   "cell_type": "markdown",
   "metadata": {
    "id": "gtkmLdQHwIUj"
   },
   "source": [
    "Метод copy() копіює вміст словника, повертаючи новий словник:"
   ]
  },
  {
   "cell_type": "code",
   "execution_count": null,
   "metadata": {
    "colab": {
     "base_uri": "https://localhost:8080/"
    },
    "id": "gf-7R9m8wKa1",
    "outputId": "e2974456-2e57-481d-e4a0-4622ab40d9fb"
   },
   "outputs": [
    {
     "name": "stdout",
     "output_type": "stream",
     "text": [
      "{'+1111111': 'Andrii', '+3333333': 'Eliza', '+5555555': 'Dmytro'}\n"
     ]
    }
   ],
   "source": [
    "users = {\"+1111111\": \"Andrii\", \"+3333333\": \"Eliza\", \"+5555555\": \"Dmytro\"}\n",
    "students = users.copy()\n",
    "print(students)     # {'+1111111': 'Andrii', '+3333333': 'Eliza', '+5555555': 'Dmytro'}"
   ]
  },
  {
   "cell_type": "markdown",
   "metadata": {
    "id": "g_idLiUIwRqI"
   },
   "source": [
    "Метод update() об'єднує два словники:"
   ]
  },
  {
   "cell_type": "code",
   "execution_count": null,
   "metadata": {
    "colab": {
     "base_uri": "https://localhost:8080/"
    },
    "id": "Swh6zSHtwTK1",
    "outputId": "c4dc229f-60b2-47c0-c7ab-007d73482e47"
   },
   "outputs": [
    {
     "name": "stdout",
     "output_type": "stream",
     "text": [
      "{'+1111111': 'Andrii', '+3333333': 'Eliza', '+2222222': 'Dmytro', '+6666666': 'Mark'}\n",
      "{'+2222222': 'Dmytro', '+6666666': 'Mark'}\n"
     ]
    }
   ],
   "source": [
    "users = {\"+1111111\": \"Andrii\", \"+3333333\": \"Eliza\"}\n",
    "\n",
    "users2 = {\"+2222222\": \"Dmytro\", \"+6666666\": \"Mark\"}\n",
    "users.update(users2)\n",
    "\n",
    "print(users)    # {'+1111111': 'Andrii', '+3333333': 'Eliza', '+2222222': 'Dmytro', '+6666666': 'Mark'}\n",
    "print(users2)   # {'+2222222': 'Dmytro', '+6666666': 'Mark'}"
   ]
  },
  {
   "cell_type": "markdown",
   "metadata": {
    "id": "jdp2Jgc-waG_"
   },
   "source": [
    "При цьому словник users2 залишається без змін. Змінюється тільки словник users, до якого додаються елементи іншого словника. Але якщо необхідно, щоб обидва вихідні словники були без змін, а результатом об'єднання був якийсь третій словник, то можна попередньо скопіювати один словник в інший:"
   ]
  },
  {
   "cell_type": "code",
   "execution_count": null,
   "metadata": {
    "id": "maCqE6ktwbn_"
   },
   "outputs": [],
   "source": [
    "users3 = users.copy()\n",
    "users3.update(users2)"
   ]
  },
  {
   "cell_type": "markdown",
   "metadata": {
    "id": "3c_VAfYqwfi2"
   },
   "source": [
    "Для перебору словника можна скористатися циклом for:"
   ]
  },
  {
   "cell_type": "code",
   "execution_count": null,
   "metadata": {
    "colab": {
     "base_uri": "https://localhost:8080/"
    },
    "id": "VLlqZ7bqwhAG",
    "outputId": "e9f10256-3de0-4291-998b-48170abc33ee"
   },
   "outputs": [
    {
     "name": "stdout",
     "output_type": "stream",
     "text": [
      "Номер телефону: +11111111  Користувач: Andrii \n",
      "Номер телефону: +33333333  Користувач: Eliza \n",
      "Номер телефону: +55555555  Користувач: Dmytro \n"
     ]
    }
   ],
   "source": [
    "users = {\n",
    "    \"+11111111\": \"Andrii\",\n",
    "    \"+33333333\": \"Eliza\",\n",
    "    \"+55555555\": \"Dmytro\"\n",
    "}\n",
    "for key in users:\n",
    "    print(f\"Номер телефону: {key}  Користувач: {users[key]} \")"
   ]
  },
  {
   "cell_type": "markdown",
   "metadata": {
    "id": "2ZTX30KIwnvr"
   },
   "source": [
    "Під час перебору елементів ми отримуємо ключ поточного елемента і за ним можемо отримати сам елемент.\n",
    "\n",
    "Інший спосіб перебору елементів - використання методу items():"
   ]
  },
  {
   "cell_type": "code",
   "execution_count": null,
   "metadata": {
    "colab": {
     "base_uri": "https://localhost:8080/"
    },
    "id": "TXhIOC84wp3t",
    "outputId": "2cd74d7a-d5dd-4904-b5d3-ba8a4f78a9a2"
   },
   "outputs": [
    {
     "name": "stdout",
     "output_type": "stream",
     "text": [
      "Номер телефону: +11111111  Користувач: Andrii \n",
      "Номер телефону: +33333333  Користувач: Eliza \n",
      "Номер телефону: +55555555  Користувач: Dmytro \n"
     ]
    }
   ],
   "source": [
    "users = {\n",
    "    \"+11111111\": \"Andrii\",\n",
    "    \"+33333333\": \"Eliza\",\n",
    "    \"+55555555\": \"Dmytro\"\n",
    "}\n",
    "for key, value in users.items():\n",
    "    print(f\"Номер телефону: {key}  Користувач: {value} \")"
   ]
  },
  {
   "cell_type": "markdown",
   "metadata": {
    "id": "fWhNW6rEwvSr"
   },
   "source": [
    "Метод items() повертає набір кортежів. Кожен кортеж містить ключ і значення елемента, які під час перебору ми тут же можемо отримати у змінні key і value.\n",
    "\n",
    "Також існують окремо можливості перебору ключів і перебору значень. Для перебору ключів ми можемо викликати у словника метод keys():"
   ]
  },
  {
   "cell_type": "code",
   "execution_count": null,
   "metadata": {
    "colab": {
     "base_uri": "https://localhost:8080/"
    },
    "id": "TW_vyOqswxF2",
    "outputId": "fb1d8406-f987-49dd-e0a1-c5447ac52c32"
   },
   "outputs": [
    {
     "name": "stdout",
     "output_type": "stream",
     "text": [
      "+11111111\n",
      "+33333333\n",
      "+55555555\n"
     ]
    }
   ],
   "source": [
    "for key in users.keys():\n",
    "    print(key)"
   ]
  },
  {
   "cell_type": "markdown",
   "metadata": {
    "id": "NNgNdZc4wzjA"
   },
   "source": [
    "Щоправда, цей спосіб перебору не має сенсу, оскільки і без виклику методу keys() ми можемо перебрати ключі, як було показано вище.\n",
    "\n",
    "Для перебору тільки значень ми можемо викликати у словника метод values():"
   ]
  },
  {
   "cell_type": "code",
   "execution_count": null,
   "metadata": {
    "colab": {
     "base_uri": "https://localhost:8080/"
    },
    "id": "TDOvJ42Owurz",
    "outputId": "4a413220-a48a-4a5a-d658-18ee9511bb8f"
   },
   "outputs": [
    {
     "name": "stdout",
     "output_type": "stream",
     "text": [
      "Andrii\n",
      "Eliza\n",
      "Dmytro\n"
     ]
    }
   ],
   "source": [
    "for value in users.values():\n",
    "    print(value)"
   ]
  },
  {
   "cell_type": "markdown",
   "metadata": {
    "id": "VHcDmwOTw3eM"
   },
   "source": [
    "Крім найпростіших об'єктів на кшталт чисел і рядків словники також можуть зберігати і більш складні об'єкти - ті ж списки, кортежі або інші словники:"
   ]
  },
  {
   "cell_type": "code",
   "execution_count": null,
   "metadata": {
    "id": "gl17zsoRw5rm"
   },
   "outputs": [],
   "source": [
    "users = {\n",
    "    \"Andrii\": {\n",
    "        \"phone\": \"+971478745\",\n",
    "        \"email\": \"andrii12@gmail.com\"\n",
    "    },\n",
    "    \"Eliza\": {\n",
    "        \"phone\": \"+876390444\",\n",
    "        \"email\": \"eliza@gmail.com\",\n",
    "        \"skype\": \"eliza123\"\n",
    "    }\n",
    "}"
   ]
  },
  {
   "cell_type": "markdown",
   "metadata": {
    "id": "5-OzXofhxB5I"
   },
   "source": [
    "У цьому випадку значення кожного елемента словника своєю чергою представляє окремий словник.\n",
    "\n",
    "Для звернення до елементів вкладеного словника відповідно необхідно використовувати два ключі:"
   ]
  },
  {
   "cell_type": "code",
   "execution_count": null,
   "metadata": {
    "colab": {
     "base_uri": "https://localhost:8080/"
    },
    "id": "suJxMWQmxDde",
    "outputId": "6b002153-7206-4783-ea36-266243b2672b"
   },
   "outputs": [
    {
     "name": "stdout",
     "output_type": "stream",
     "text": [
      "{'phone': '+876390444', 'email': 'elizabeth@gmail.com', 'skype': 'eliza123'}\n"
     ]
    }
   ],
   "source": [
    "old_email = users[\"Andrii\"][\"email\"]\n",
    "users[\"Eliza\"][\"email\"] = \"elizabeth@gmail.com\"\n",
    "print(users[\"Eliza\"])     # {'phone': '+876390444', 'email': 'elizabeth@gmail.com', 'skype': 'eliza123'}"
   ]
  },
  {
   "cell_type": "markdown",
   "metadata": {
    "id": "pa8h6fynxJxV"
   },
   "source": [
    "Але якщо ми спробуємо отримати значення за ключем, який відсутній у словнику, Python згенерує виняток KeyError:"
   ]
  },
  {
   "cell_type": "code",
   "execution_count": null,
   "metadata": {
    "colab": {
     "base_uri": "https://localhost:8080/",
     "height": 144
    },
    "id": "nE6kqTiOxMpb",
    "outputId": "6f6fcda9-3990-4414-a852-3fc90a0443a2"
   },
   "outputs": [
    {
     "ename": "KeyError",
     "evalue": "'Tom'",
     "output_type": "error",
     "traceback": [
      "\u001b[0;31m---------------------------------------------------------------------------\u001b[0m",
      "\u001b[0;31mKeyError\u001b[0m                                  Traceback (most recent call last)",
      "\u001b[0;32m<ipython-input-115-3b126523702e>\u001b[0m in \u001b[0;36m<cell line: 1>\u001b[0;34m()\u001b[0m\n\u001b[0;32m----> 1\u001b[0;31m \u001b[0mtom_skype\u001b[0m \u001b[0;34m=\u001b[0m \u001b[0musers\u001b[0m\u001b[0;34m[\u001b[0m\u001b[0;34m\"Tom\"\u001b[0m\u001b[0;34m]\u001b[0m\u001b[0;34m[\u001b[0m\u001b[0;34m\"skype\"\u001b[0m\u001b[0;34m]\u001b[0m \u001b[0;31m# KeyError\u001b[0m\u001b[0;34m\u001b[0m\u001b[0;34m\u001b[0m\u001b[0m\n\u001b[0m",
      "\u001b[0;31mKeyError\u001b[0m: 'Tom'"
     ]
    }
   ],
   "source": [
    "tom_skype = users[\"Tom\"][\"skype\"] # KeyError"
   ]
  },
  {
   "cell_type": "markdown",
   "metadata": {
    "id": "SIcOEFlpxPt6"
   },
   "source": [
    "Щоб уникнути помилки, можна перевіряти наявність ключа в словнику:"
   ]
  },
  {
   "cell_type": "code",
   "execution_count": null,
   "metadata": {
    "colab": {
     "base_uri": "https://localhost:8080/",
     "height": 216
    },
    "id": "FcKJHVJSxRIu",
    "outputId": "b0de91ca-7198-4acd-8bb2-d810aeb5e5d3"
   },
   "outputs": [
    {
     "ename": "KeyError",
     "evalue": "'Tom'",
     "output_type": "error",
     "traceback": [
      "\u001b[0;31m---------------------------------------------------------------------------\u001b[0m",
      "\u001b[0;31mKeyError\u001b[0m                                  Traceback (most recent call last)",
      "\u001b[0;32m<ipython-input-116-362e6fcedcad>\u001b[0m in \u001b[0;36m<cell line: 2>\u001b[0;34m()\u001b[0m\n\u001b[1;32m      1\u001b[0m \u001b[0mkey\u001b[0m \u001b[0;34m=\u001b[0m \u001b[0;34m\"skype\"\u001b[0m\u001b[0;34m\u001b[0m\u001b[0;34m\u001b[0m\u001b[0m\n\u001b[0;32m----> 2\u001b[0;31m \u001b[0;32mif\u001b[0m \u001b[0mkey\u001b[0m \u001b[0;32min\u001b[0m \u001b[0musers\u001b[0m\u001b[0;34m[\u001b[0m\u001b[0;34m\"Tom\"\u001b[0m\u001b[0;34m]\u001b[0m\u001b[0;34m:\u001b[0m\u001b[0;34m\u001b[0m\u001b[0;34m\u001b[0m\u001b[0m\n\u001b[0m\u001b[1;32m      3\u001b[0m     \u001b[0mprint\u001b[0m\u001b[0;34m(\u001b[0m\u001b[0musers\u001b[0m\u001b[0;34m[\u001b[0m\u001b[0;34m\"Tom\"\u001b[0m\u001b[0;34m]\u001b[0m\u001b[0;34m[\u001b[0m\u001b[0;34m\"skype\"\u001b[0m\u001b[0;34m]\u001b[0m\u001b[0;34m)\u001b[0m\u001b[0;34m\u001b[0m\u001b[0;34m\u001b[0m\u001b[0m\n\u001b[1;32m      4\u001b[0m \u001b[0;32melse\u001b[0m\u001b[0;34m:\u001b[0m\u001b[0;34m\u001b[0m\u001b[0;34m\u001b[0m\u001b[0m\n\u001b[1;32m      5\u001b[0m     \u001b[0mprint\u001b[0m\u001b[0;34m(\u001b[0m\u001b[0;34m\"skype is not found\"\u001b[0m\u001b[0;34m)\u001b[0m\u001b[0;34m\u001b[0m\u001b[0;34m\u001b[0m\u001b[0m\n",
      "\u001b[0;31mKeyError\u001b[0m: 'Tom'"
     ]
    }
   ],
   "source": [
    "key = \"skype\"\n",
    "if key in users[\"Tom\"]:\n",
    "    print(users[\"Tom\"][\"skype\"])\n",
    "else:\n",
    "    print(\"skype is not found\")"
   ]
  },
  {
   "cell_type": "markdown",
   "metadata": {
    "id": "omPuE_8axRkM"
   },
   "source": [
    "У всьому іншому робота з комплексними і вкладеними словниками аналогічна роботі зі звичайними словниками."
   ]
  }
 ],
 "metadata": {
  "colab": {
   "provenance": []
  },
  "kernelspec": {
   "display_name": "Python 3 (ipykernel)",
   "language": "python",
   "name": "python3"
  },
  "language_info": {
   "codemirror_mode": {
    "name": "ipython",
    "version": 3
   },
   "file_extension": ".py",
   "mimetype": "text/x-python",
   "name": "python",
   "nbconvert_exporter": "python",
   "pygments_lexer": "ipython3",
   "version": "3.10.11"
  }
 },
 "nbformat": 4,
 "nbformat_minor": 4
}
