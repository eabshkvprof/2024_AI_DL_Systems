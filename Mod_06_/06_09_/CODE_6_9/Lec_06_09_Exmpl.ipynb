{
 "cells": [
  {
   "cell_type": "markdown",
   "metadata": {
    "id": "iXGyw4KRwuo5"
   },
   "source": [
    "# Лекція 6.9. Базові бібліотечні модулі. Пакети для роботи зі штучним інтелектом"
   ]
  },
  {
   "cell_type": "markdown",
   "metadata": {
    "id": "MNVDhsZ96rLb"
   },
   "source": [
    "# Вбудовані модулі Python\n",
    "## Модуль sys\n",
    "Модуль sys надає системі особливі параметри та функції. У цьому розділі ми розглянемо таке:\n",
    "1. sys.argv\n",
    "2. sys.executable\n",
    "3. sys.exit\n",
    "4. sys.modules\n",
    "5. sys.path\n",
    "6. sys.platform\n",
    "7. sys.stdin/stdout/stderr\n",
    "8. sys.prefix\n",
    "9. sys.version"
   ]
  },
  {
   "cell_type": "code",
   "execution_count": null,
   "metadata": {
    "id": "4GL9yZtB7xzH"
   },
   "outputs": [],
   "source": [
    "import sys"
   ]
  },
  {
   "cell_type": "markdown",
   "metadata": {
    "id": "VscbVDHQ7sBc"
   },
   "source": [
    "### sys.argv\n",
    "Значення sys.argv - це список аргументів командного рядка, які причетні до скрипта Python. Перший аргумент, argv[0], має аналогічне скрипту Python найменування. Залежно від платформи, на якій ви працюєте, перший аргумент може містити повний шлях до скрипта або до назви файлу. Для додаткових деталей зверніться до документації."
   ]
  },
  {
   "cell_type": "code",
   "execution_count": null,
   "metadata": {
    "colab": {
     "base_uri": "https://localhost:8080/"
    },
    "id": "6uqrNl-f6eDl",
    "outputId": "6991c81f-06f7-49fd-e8d5-34d7fc7317ec"
   },
   "outputs": [
    {
     "name": "stdout",
     "output_type": "stream",
     "text": [
      "['/usr/local/lib/python3.10/dist-packages/colab_kernel_launcher.py', '-f', '/root/.local/share/jupyter/runtime/kernel-ec6327a1-18b5-41a2-b89c-dca6f41a3771.json']\n"
     ]
    }
   ],
   "source": [
    "print(sys.argv)"
   ]
  },
  {
   "cell_type": "markdown",
   "metadata": {
    "id": "0qz4Vl1F711W"
   },
   "source": [
    "### sys.executable\n",
    "Значення sys.executable - це повний шлях до інтерпретатора Python. Це дуже корисно, коли ви використовуєте чийсь комп'ютер, і вам потрібно дізнатися, де встановлено Python. У деяких системах ця команда не спрацює, і видасть порожній рядок із написом None."
   ]
  },
  {
   "cell_type": "code",
   "execution_count": null,
   "metadata": {
    "colab": {
     "base_uri": "https://localhost:8080/"
    },
    "id": "-AdCQXW28IXc",
    "outputId": "77ddeda1-8435-41fe-bb82-be5e017eef42"
   },
   "outputs": [
    {
     "name": "stdout",
     "output_type": "stream",
     "text": [
      "/usr/bin/python3\n"
     ]
    }
   ],
   "source": [
    "print(sys.executable)"
   ]
  },
  {
   "cell_type": "markdown",
   "metadata": {
    "id": "2MkfuHSn8LAM"
   },
   "source": [
    "### sys.exit\n",
    "Ця функція дозволяє розробнику вийти з Python. Функція exit приймає необов'язковий аргумент, зазвичай ціле число, яке дає статус виходу. Нуль вважається як успішне завершення. Обов'язково перевірте, чи має ваша операційна система якісь особливі значення для своїх статусів виходу, щоб ви могли слідкувати за ними у своєму власному застосунку. Зверніть увагу на те, що коли ви викликаєте exit, це спричинить виняток SystemExit, який дозволяє функціям очищення працювати в кінцевих пунктах блоків try / except."
   ]
  },
  {
   "cell_type": "code",
   "execution_count": null,
   "metadata": {
    "colab": {
     "base_uri": "https://localhost:8080/",
     "height": 126
    },
    "id": "HRfmnpOS8Opw",
    "outputId": "2636aff8-0985-4fa3-c88f-6bfcab1da09a"
   },
   "outputs": [
    {
     "ename": "SystemExit",
     "evalue": "0",
     "output_type": "error",
     "traceback": [
      "An exception has occurred, use %tb to see the full traceback.\n",
      "\u001b[0;31mSystemExit\u001b[0m\u001b[0;31m:\u001b[0m 0\n"
     ]
    },
    {
     "name": "stderr",
     "output_type": "stream",
     "text": [
      "/usr/local/lib/python3.10/dist-packages/IPython/core/interactiveshell.py:3561: UserWarning: To exit: use 'exit', 'quit', or Ctrl-D.\n",
      "  warn(\"To exit: use 'exit', 'quit', or Ctrl-D.\", stacklevel=1)\n"
     ]
    }
   ],
   "source": [
    "sys.exit(0)"
   ]
  },
  {
   "cell_type": "markdown",
   "metadata": {
    "id": "BoEdyMUV8bw2"
   },
   "source": [
    "### sys.path\n",
    "Значення функції path модуля sys - це список рядків, які вказують шлях пошуку для модулів. Як правило, ця функція вказує Python, в яких локаціях дивитися, коли він намагається імпортувати модуль. Відповідно до документації Python, sys.path ініціалізується зі змінної оточення PYTHONPATH, плюс залежне від установки значення, вказане за замовчуванням."
   ]
  },
  {
   "cell_type": "code",
   "execution_count": null,
   "metadata": {
    "colab": {
     "base_uri": "https://localhost:8080/"
    },
    "id": "So9bckgl8beC",
    "outputId": "84af6e0d-a7ac-40d7-c924-8565141a620d"
   },
   "outputs": [
    {
     "name": "stdout",
     "output_type": "stream",
     "text": [
      "['/content', '/env/python', '/usr/lib/python310.zip', '/usr/lib/python3.10', '/usr/lib/python3.10/lib-dynload', '', '/usr/local/lib/python3.10/dist-packages', '/usr/lib/python3/dist-packages', '/usr/local/lib/python3.10/dist-packages/IPython/extensions', '/root/.ipython']\n"
     ]
    }
   ],
   "source": [
    "print(sys.path)"
   ]
  },
  {
   "cell_type": "markdown",
   "metadata": {
    "id": "Cx9a_ZUV8fxH"
   },
   "source": [
    "### sys.platform\n",
    "Значення sys.platform - ідентифікатор платформи. Ви можете використовувати sys.platform, щоб додавати модулі до sys.path, імпортувати різні модулі, залежно від платформи, або запускати різні частини коду."
   ]
  },
  {
   "cell_type": "code",
   "execution_count": null,
   "metadata": {
    "colab": {
     "base_uri": "https://localhost:8080/"
    },
    "id": "MNafRwjz8jm3",
    "outputId": "b3913af2-53e7-40a1-98f0-587af5f9026b"
   },
   "outputs": [
    {
     "name": "stdout",
     "output_type": "stream",
     "text": [
      "linux\n"
     ]
    }
   ],
   "source": [
    "print(sys.platform)"
   ]
  },
  {
   "cell_type": "markdown",
   "metadata": {
    "id": "5tpZZZGE8qrw"
   },
   "source": [
    "### sys.stdin / stdout / stderr\n",
    "Stdin, stdout і stderr зіставляються з файловими об'єктами, які відповідають стандартним входам, виходам і потокам помилок інтерпретатора відповідно. Функція stdin використовується для всіх входів, що використовуються інтерпретатором, за винятком скриптів, тоді як stdout використовується для виходів операторів print і expression. Головна причина, з якої я акцентую на цьому увагу, полягає в тому, що в якийсь момент вам потрібно буде переспрямувати stdout чи stderr або обидві функції до файлу, такого як log, або ж до будь-якого дисплея в користувацькому графічному інтерфейсі, створеному вами. Ви також можете перенаправити stdin, але з такими випадками я практично не стикався."
   ]
  },
  {
   "cell_type": "markdown",
   "metadata": {
    "id": "yy67V14f81c3"
   },
   "source": [
    "### sys.version\n",
    "Рядок, що містить номер версії інтерпретатора Python, а також додаткову інформацію про номер збірки та використаний компілятор. Цей рядок відображається під час запуску інтерактивного інтерпретатора. Не витягуйте з нього інформацію про версію, натомість використовуйте version_info та функції, що надаються модулем платформи."
   ]
  },
  {
   "cell_type": "code",
   "execution_count": null,
   "metadata": {
    "colab": {
     "base_uri": "https://localhost:8080/"
    },
    "id": "PoRj7rlx8xAu",
    "outputId": "a64a5f95-f6a8-4997-82a7-59d9dc06fa13"
   },
   "outputs": [
    {
     "name": "stdout",
     "output_type": "stream",
     "text": [
      "3.9.16 (main, Dec  7 2022, 01:11:51) \n",
      "[GCC 9.4.0]\n"
     ]
    }
   ],
   "source": [
    "print(sys.version)"
   ]
  },
  {
   "cell_type": "markdown",
   "metadata": {
    "id": "owZCBQ-O-XOf"
   },
   "source": [
    "### sys.prefix\n",
    "Рядок, що містить префікс каталогу, до якого встановлено незалежні від платформи файли Python; на Unix за замовчуванням це /usr/local. Його можна встановити під час збирання за допомогою аргументу --prefix до скрипту конфігурації."
   ]
  },
  {
   "cell_type": "code",
   "execution_count": null,
   "metadata": {
    "colab": {
     "base_uri": "https://localhost:8080/"
    },
    "id": "Mst_vURl-MEx",
    "outputId": "f05b355a-4eb3-4d41-a351-0c3ec4d8cbf0"
   },
   "outputs": [
    {
     "name": "stdout",
     "output_type": "stream",
     "text": [
      "/usr\n"
     ]
    }
   ],
   "source": [
    "print(sys.prefix)"
   ]
  },
  {
   "cell_type": "markdown",
   "metadata": {
    "id": "tzGumznm_ReQ"
   },
   "source": [
    "## Модуль math\n",
    "Вбудований модуль math у Python надає набір функцій для виконання математичних, тригонометричних і логарифмічних операцій. Деякі з основних функцій модуля:\n",
    "1. pow(num, power): піднесення числа num до степеня power\n",
    "2. sqrt(num): квадратний корінь числа num\n",
    "3. ceil(num): округлення числа до найближчого найбільшого цілого\n",
    "4. floor(num): округлення числа до найближчого найменшого цілого\n",
    "5. factorial(num): факторіал числа\n",
    "6. degrees(rad): переведення з радіан у градуси\n",
    "7. radians(grad): переведення з градусів у радіани\n",
    "8. cos(rad): косинус кута в радіанах\n",
    "9. sin(rad): синус кута в радіанах\n",
    "10. tan(rad): тангенс кута в радіанах\n",
    "11. acos(rad): арккосинус кута в радіанах\n",
    "12. asin(rad): арксинус кута в радіанах\n",
    "13. atan(rad): арктангенс кута в радіанах\n",
    "14. log(n, base): логарифм числа n за основою base\n",
    "15. log10(n): десятковий логарифм числа n"
   ]
  },
  {
   "cell_type": "code",
   "execution_count": null,
   "metadata": {
    "colab": {
     "base_uri": "https://localhost:8080/"
    },
    "id": "e69PlwNm_ozy",
    "outputId": "741ee42a-9b23-4697-d106-1bfb65f8d8dc"
   },
   "outputs": [
    {
     "name": "stdout",
     "output_type": "stream",
     "text": [
      "8.0\n",
      "8\n",
      "3.0\n",
      "5\n",
      "4\n",
      "179.9998479605043\n",
      "3.141592653589793\n",
      "0.5000000000000001\n",
      "1.0\n",
      "0.0\n",
      "3.0\n",
      "2.0\n"
     ]
    }
   ],
   "source": [
    "import math\n",
    "\n",
    "# піднесення числа 2 до степеня 3\n",
    "n1 = math.pow(2, 3)\n",
    "print(n1)  # 8\n",
    "\n",
    "# ту ж саму операцію можна виконати так\n",
    "n2 = 2**3\n",
    "print(n2)\n",
    "\n",
    "# квадратний корінь числа\n",
    "print(math.sqrt(9))  # 3\n",
    "\n",
    "# найближче найбільше ціле число\n",
    "print(math.ceil(4.56))  # 5\n",
    "\n",
    "# найближче найменше ціле число\n",
    "print(math.floor(4.56))  # 4\n",
    "\n",
    "# переведення з радіан у градуси\n",
    "print(math.degrees(3.14159))  # 180\n",
    "\n",
    "# переведення з градусів у радіани\n",
    "print(math.radians(180))   # 3.1415.....\n",
    "# косинус\n",
    "print(math.cos(math.radians(60)))  # 0.5\n",
    "# cинус\n",
    "print(math.sin(math.radians(90)))   # 1.0\n",
    "# тангенс\n",
    "print(math.tan(math.radians(0)))    # 0.0\n",
    "\n",
    "print(math.log(8,2))    # 3.0\n",
    "print(math.log10(100))    # 2.0"
   ]
  },
  {
   "cell_type": "markdown",
   "metadata": {
    "id": "9ctJVTkx_sh9"
   },
   "source": [
    "Також модуль math надає низку вбудованих констант, такі як PI та E:"
   ]
  },
  {
   "cell_type": "code",
   "execution_count": null,
   "metadata": {
    "colab": {
     "base_uri": "https://localhost:8080/"
    },
    "id": "QE7r2jsG_s2e",
    "outputId": "934ce691-4c64-4d74-af14-25aec7c0bb72"
   },
   "outputs": [
    {
     "name": "stdout",
     "output_type": "stream",
     "text": [
      "2827.4333882308138\n",
      "2.302585092994046\n"
     ]
    }
   ],
   "source": [
    "radius = 30\n",
    "# площа кола з радіусом 30\n",
    "area = math.pi * math.pow(radius, 2)\n",
    "print(area)\n",
    "\n",
    "# натуральний логарифм числа 10\n",
    "number = math.log(10, math.e)\n",
    "print(number)"
   ]
  },
  {
   "cell_type": "markdown",
   "metadata": {
    "id": "Aw2z_gKFAUQW"
   },
   "source": [
    "## Модуль Random\n",
    "\n",
    "Модуль random керує генерацією випадкових чисел. Його основні функції:\n",
    "\n",
    "1. random(): генерує випадкове число від 0.0 до 1.0\n",
    "2. randint(): повертає випадкове число з певного діапазону\n",
    "3. randrange(): повертає випадкове число з певного набору чисел\n",
    "4. shuffle(): перемішує список\n",
    "5. choice(): повертає випадковий елемент списку\n",
    "\n",
    "Функція random() повертає випадкове число з плаваючою крапкою в проміжку від 0.0 до 1.0. Якщо ж нам потрібне число з більшого діапазону, скажімо від 0 до 100, то ми можемо відповідно помножити результат функції random на 100.\n"
   ]
  },
  {
   "cell_type": "code",
   "execution_count": null,
   "metadata": {
    "colab": {
     "base_uri": "https://localhost:8080/"
    },
    "id": "-TSKeT7UAs3Z",
    "outputId": "e310c667-9b48-4db4-df13-ad5996e09185"
   },
   "outputs": [
    {
     "name": "stdout",
     "output_type": "stream",
     "text": [
      "0.4320457250640817\n",
      "65.19182275876932\n"
     ]
    }
   ],
   "source": [
    "import random\n",
    "#random.seed(42)\n",
    "number = random.random()  # значення від 0.0 до 1.0\n",
    "print(number)\n",
    "number = random.random() * 100  # значення від 0.0 до 100.0\n",
    "print(number)"
   ]
  },
  {
   "cell_type": "markdown",
   "metadata": {
    "id": "L1x3a_-fAumW"
   },
   "source": [
    "Функція randint(min, max) повертає випадкове ціле число в проміжку між двома значеннями min і max."
   ]
  },
  {
   "cell_type": "code",
   "execution_count": null,
   "metadata": {
    "colab": {
     "base_uri": "https://localhost:8080/"
    },
    "id": "sQGlCNq3Awog",
    "outputId": "e7d2b7a5-47d2-4864-9190-57e67a87df12"
   },
   "outputs": [
    {
     "name": "stdout",
     "output_type": "stream",
     "text": [
      "28\n"
     ]
    }
   ],
   "source": [
    "number = random.randint(20, 35)  # значення від 20 до 35\n",
    "print(number)"
   ]
  },
  {
   "cell_type": "markdown",
   "metadata": {
    "id": "nAocx3ceA1Ml"
   },
   "source": [
    "Функція randrange() повертає випадкове ціле число з певного набору чисел. Вона має три форми:\n",
    "\n",
    "1. randrange(stop): як набір чисел, з яких відбувається витяг випадкового значення, буде використовуватися діапазон від 0 до числа stop\n",
    "\n",
    "2. randrange(start, stop): набір чисел представляє діапазон від числа start до числа stop\n",
    "\n",
    "3. randrange(start, stop, step): набір чисел представляє діапазон від числа start до числа stop, при цьому кожне число в діапазоні відрізняється від попереднього на крок step"
   ]
  },
  {
   "cell_type": "code",
   "execution_count": null,
   "metadata": {
    "colab": {
     "base_uri": "https://localhost:8080/"
    },
    "id": "ZMZx8grRA05z",
    "outputId": "74b3f93c-12b1-4086-b0d7-afa2d77ef210"
   },
   "outputs": [
    {
     "name": "stdout",
     "output_type": "stream",
     "text": [
      "7\n",
      "6\n",
      "6\n"
     ]
    }
   ],
   "source": [
    "number = random.randrange(10)  # значення від 0 до 10 не включаючи\n",
    "print(number)\n",
    "number = random.randrange(2, 10)  # значення в діапазоні 2, 3, 4, 5, 6, 7, 8, 9\n",
    "print(number)\n",
    "number = random.randrange(2, 10, 2)  # значення в діапазоні 2, 4, 6, 8\n",
    "print(number)"
   ]
  },
  {
   "cell_type": "markdown",
   "metadata": {
    "id": "BVzjvETIA4s_"
   },
   "source": [
    "### Робота зі списком\n",
    "Для роботи зі списками в модулі random визначено дві функції: функція shuffle() перемішує список випадковим чином, а функція choice() повертає один випадковий елемент зі списку:"
   ]
  },
  {
   "cell_type": "code",
   "execution_count": null,
   "metadata": {
    "colab": {
     "base_uri": "https://localhost:8080/"
    },
    "id": "P59WQ3kZA7GZ",
    "outputId": "20044233-8b0c-464d-bf60-df2b2e120da9"
   },
   "outputs": [
    {
     "name": "stdout",
     "output_type": "stream",
     "text": [
      "[6, 4, 7, 1, 8, 2, 3, 5]\n",
      "2\n"
     ]
    }
   ],
   "source": [
    "numbers = [1, 2, 3, 4, 5, 6, 7, 8]\n",
    "random.shuffle(numbers)\n",
    "print(numbers)\n",
    "random_number = random.choice(numbers)\n",
    "print(random_number)"
   ]
  },
  {
   "cell_type": "markdown",
   "metadata": {
    "id": "9KI2l-wNBHKV"
   },
   "source": [
    "## Модуль datetime\n",
    "Основний функціонал для роботи з датами і часом зосереджений у модулі datetime у вигляді таких класів:\n",
    "\n",
    "1. date\n",
    "2. time\n",
    "3. datetime\n",
    "\n",
    "### Клас date\n",
    "Для роботи з датами скористаємося класом date, який визначено в модулі datetime. Для створення об'єкта date ми можемо використовувати конструктор date, який послідовно приймає три параметри: рік, місяць і день.\n",
    "\n",
    "```date(year, month, day)```\n",
    "\n",
    "Наприклад, створимо якусь дату:"
   ]
  },
  {
   "cell_type": "code",
   "execution_count": null,
   "metadata": {
    "colab": {
     "base_uri": "https://localhost:8080/"
    },
    "id": "20YyAWg-BMQE",
    "outputId": "1a832128-5688-459a-afe4-9db317749f99"
   },
   "outputs": [
    {
     "name": "stdout",
     "output_type": "stream",
     "text": [
      "2024-03-31\n"
     ]
    }
   ],
   "source": [
    "import datetime\n",
    "\n",
    "yesterday = datetime.date(2024,3, 31)\n",
    "print(yesterday)      # 2017-05-02"
   ]
  },
  {
   "cell_type": "markdown",
   "metadata": {
    "id": "KsalhwiKBbJq"
   },
   "source": [
    "Якщо необхідно отримати поточну дату, то можна скористатися методом today():"
   ]
  },
  {
   "cell_type": "code",
   "execution_count": null,
   "metadata": {
    "colab": {
     "base_uri": "https://localhost:8080/"
    },
    "id": "rJBBSWqMBcXJ",
    "outputId": "8250c799-0301-4155-c169-86bb8249950b"
   },
   "outputs": [
    {
     "name": "stdout",
     "output_type": "stream",
     "text": [
      "2024-04-01\n",
      "1.4.2024\n"
     ]
    }
   ],
   "source": [
    "from datetime import date\n",
    "\n",
    "today = date.today()\n",
    "print(today)\n",
    "print(\"{}.{}.{}\".format(today.day, today.month, today.year))"
   ]
  },
  {
   "cell_type": "markdown",
   "metadata": {
    "id": "i5YlyDEzBdzW"
   },
   "source": [
    "За допомогою властивостей day, month, year можна отримати відповідно день, місяць і рік\n",
    "\n",
    "### Клас time\n",
    "За роботу з часом відповідає клас time. Використовуючи його конструктор, можна створити об'єкт часу:\n",
    "\n",
    "```time([hour] [, min] [, sec] [, microsec])```\n",
    "\n",
    "Конструктор послідовно приймає години, хвилини, секунди та мікросекунди. Усі параметри необов'язкові, і якщо ми якийсь параметр не передамо, то відповідне значення ініціалізуватиметься нулем."
   ]
  },
  {
   "cell_type": "code",
   "execution_count": null,
   "metadata": {
    "colab": {
     "base_uri": "https://localhost:8080/"
    },
    "id": "GfRTWd7mBddY",
    "outputId": "09cae008-8c9c-4f44-ab76-55082bd9b3c1"
   },
   "outputs": [
    {
     "name": "stdout",
     "output_type": "stream",
     "text": [
      "00:00:00\n",
      "16:25:00\n",
      "16:25:45.000030\n"
     ]
    }
   ],
   "source": [
    "from datetime import time\n",
    "\n",
    "current_time = time()\n",
    "print(current_time)     # 00:00:00\n",
    "\n",
    "current_time = time(16, 25)\n",
    "print(current_time)     # 16:25:00\n",
    "\n",
    "current_time = time(16, 25, 45, 30)\n",
    "print(current_time)     # 16:25:45"
   ]
  },
  {
   "cell_type": "markdown",
   "metadata": {
    "id": "2MSKpoRnBmpQ"
   },
   "source": [
    "### Клас datetime\n",
    "Клас datetime з однойменного модуля об'єднує можливості роботи з датою і часом. Для створення об'єкта datetime можна використовувати такий конструктор:\n",
    "\n",
    "```datetime(year, month, day [, hour] [, min] [, sec] [, microsec])```\n",
    "\n",
    "Перші три параметри, що представляють рік, місяць і день, є обов'язковими. Решта необов'язкові, і якщо ми не вкажемо для них значення, то за замовчуванням вони ініціалізуються нулем."
   ]
  },
  {
   "cell_type": "code",
   "execution_count": null,
   "metadata": {
    "colab": {
     "base_uri": "https://localhost:8080/"
    },
    "id": "J636_uTQBmQt",
    "outputId": "3984dbe9-2692-46ba-8c40-f30be9a674f6"
   },
   "outputs": [
    {
     "name": "stdout",
     "output_type": "stream",
     "text": [
      "2017-05-10 00:00:00\n",
      "2017-05-10 04:30:00\n"
     ]
    }
   ],
   "source": [
    "from datetime import datetime\n",
    "\n",
    "deadline = datetime(2017, 5, 10)\n",
    "print(deadline)     # 2017-05-10 00:00:00\n",
    "\n",
    "deadline = datetime(2017, 5, 10, 4, 30)\n",
    "print(deadline)     # 2017-05-10 04:30:00"
   ]
  },
  {
   "cell_type": "markdown",
   "metadata": {
    "id": "my7k_iDpBuHH"
   },
   "source": [
    "Для отримання поточних дати і часу можна викликати метод now():"
   ]
  },
  {
   "cell_type": "code",
   "execution_count": null,
   "metadata": {
    "colab": {
     "base_uri": "https://localhost:8080/"
    },
    "id": "d87uZ0yIBvaz",
    "outputId": "e62083f3-52d7-47df-edb0-1c33b28c7041"
   },
   "outputs": [
    {
     "name": "stdout",
     "output_type": "stream",
     "text": [
      "2024-04-01 09:00:53.184143\n",
      "1-4.2024  9:0\n",
      "2024-04-01\n",
      "09:00:53.184143\n"
     ]
    }
   ],
   "source": [
    "now = datetime.now()\n",
    "print(now)\n",
    "\n",
    "print(\"{}-{}.{}  {}:{}\".format(now.day, now.month, now.year, now.hour, now.minute))\n",
    "\n",
    "print(now.date())\n",
    "print(now.time())"
   ]
  },
  {
   "cell_type": "markdown",
   "metadata": {
    "id": "XmADYAegBwhC"
   },
   "source": [
    "За допомогою властивостей day, month, year, hour, minute, second можна отримати окремі значення дати та часу. А через методи date() і time() можна отримати окремо дату і час відповідно.\n",
    "\n",
    "### Перетворення з рядка на дату\n",
    "З функціональності класу datetime слід зазначити метод strptime(), який дає змогу розпарсити рядок і перетворити його на дату. Цей метод приймає два параметри:\n",
    "\n",
    "```strptime(str, format)```\n",
    "\n",
    "Перший параметр str представляє строкове визначення дати і часу, а другий параметр - формат, який визначає, як різні частини дати і часу розташовані в цьому рядку.\n",
    "\n",
    "Для визначення формату ми можемо використовувати такі коди:\n",
    "\n",
    "1. %d: день місяця у вигляді числа\n",
    "\n",
    "2. %m: порядковий номер місяця\n",
    "\n",
    "3. %y: рік у вигляді 2-х чисел\n",
    "\n",
    "4. %Y: рік у вигляді 4-х чисел\n",
    "\n",
    "5. %H: година у 24-х годинному форматі\n",
    "\n",
    "6. %M: хвилина\n",
    "\n",
    "7. %S: секунда\n",
    "\n",
    "Застосуємо різні формати:"
   ]
  },
  {
   "cell_type": "code",
   "execution_count": null,
   "metadata": {
    "colab": {
     "base_uri": "https://localhost:8080/"
    },
    "id": "SOXukq85B03f",
    "outputId": "d2a801c3-eff7-4b23-bc24-411a5b1220fa"
   },
   "outputs": [
    {
     "name": "stdout",
     "output_type": "stream",
     "text": [
      "2017-05-22 00:00:00\n",
      "2017-05-22 12:30:00\n",
      "2017-05-22 12:30:00\n"
     ]
    }
   ],
   "source": [
    "deadline = datetime.strptime(\"22/05/2017\", \"%d/%m/%Y\")\n",
    "print(deadline)     # 2017-05-22 00:00:00\n",
    "\n",
    "deadline = datetime.strptime(\"22/05/2017 12:30\", \"%d/%m/%Y %H:%M\")\n",
    "print(deadline)     # 2017-05-22 12:30:00\n",
    "\n",
    "deadline = datetime.strptime(\"05-22-2017 12:30\", \"%m-%d-%Y %H:%M\")\n",
    "print(deadline)     # 2017-05-22 12:30:00"
   ]
  },
  {
   "cell_type": "markdown",
   "metadata": {
    "id": "Pr2LKW3uClrH"
   },
   "source": [
    "# Numpy\n",
    "NumPy - це open-source модуль для python, який надає загальні математичні та числові операції у вигляді пре-компільованих, швидких функцій. Вони об'єднуються у високорівневі пакети. Вони забезпечують функціонал, який можна порівняти з функціоналом MatLab. NumPy (Numeric Python) надає базові методи для маніпуляції з великими масивами та матрицями. SciPy (Scientific Python) розширює функціонал numpy величезною колекцією корисних алгоритмів, таких як мінімізація, перетворення Фур'є, регресія, та інші прикладні математичні техніки.\n",
    "\n",
    "Чим корисна бібліотека?\n",
    "1. Ефективні та зручні інструменти для роботи з числовими масивами (array)\n",
    "2. Математичні функції та константи (не потрібен модуль math стандартної бібліотеки)\n",
    "3. Робота з випадковими вибірками (не потрібен модуль random стандартної бібліотеки)\n",
    "4. Деякі базові речі з лінійної алгебри\n",
    "\n",
    "Чим відрізняється масив (array) від списку (list)?\n",
    "1. Список (базовий тип у Python) може містити елементи різних типів, мати довільну як завгодно складну структуру.\n",
    "При цьому продуктивність списків (швидкість їхньої обробки) нижча, ніж нам би хотілося. Особливо це відчувається під час роботи з великими даними (сотні тисяч елементів і більше).\n",
    "2. Для обробки списків нам завжди потрібен for-цикл, а for-цикли в Python працюють повільно (якщо йдеться про мільйони ітерацій, то це буде відчуватися).\n",
    "3. Масив (array) --- це новий тип даних, що надається бібліотекою NumPy.\n",
    "4. Масив --- це колекція елементів одного типу (основна відмінність!) довільної довжини. Масиви бувають одно-, дво- і багатовимірні, при цьому розмірність розуміється в математичному сенсі як розмірність простору.\n",
    "5. Одновимірний масив, на відміну від списку, більше схожий на вектор --- математичний об'єкт.\n",
    "6. Двовимірний масив --- це матриця в математичному сенсі.\n",
    "7. Для роботи з масивами в NumPy реалізовано безліч вбудованих функцій, що нагадують математичні операції над векторами і матрицями: поелементні (векторизовані) математичні операції, скалярний добуток, матричний добуток, норма тощо.\n",
    "8. Під час обробки NumPy-масивів не потрібні for-цикли. Їх використання, взагалі кажучи, не рекомендується через низьку продуктивність."
   ]
  },
  {
   "cell_type": "markdown",
   "metadata": {
    "id": "dmKbOGNGEdsB"
   },
   "source": [
    "# Імпорт модуля numpy\n",
    "Є кілька шляхів імпорту. Стандартний метод це - використовувати простий вираз:"
   ]
  },
  {
   "cell_type": "code",
   "execution_count": null,
   "metadata": {
    "id": "5AmlrU8PCp1n"
   },
   "outputs": [],
   "source": [
    "import numpy"
   ]
  },
  {
   "cell_type": "markdown",
   "metadata": {
    "id": "OquX3ZucEmmm"
   },
   "source": [
    "Проте, для великої кількості викликів функцій numpy, стає утомливо писати numpy.X знову і знову. Замість цього набагато легше зробити це так:"
   ]
  },
  {
   "cell_type": "code",
   "execution_count": null,
   "metadata": {
    "id": "W-FMsr0HElP4"
   },
   "outputs": [],
   "source": [
    "import numpy as np"
   ]
  },
  {
   "cell_type": "markdown",
   "metadata": {
    "id": "NSfMr9f5Ere6"
   },
   "source": [
    "Цей вираз дозволяє нам отримувати доступ до numpy об'єктів, використовуючи np.X замість numpy.X. Також можна імпортувати numpy прямо у простір імен, який використовується, щоб взагалі не використовувати функції через крапку, а викликати їх безпосередньо:"
   ]
  },
  {
   "cell_type": "code",
   "execution_count": null,
   "metadata": {
    "id": "5TL0LX70EtHz"
   },
   "outputs": [],
   "source": [
    "from numpy import *"
   ]
  },
  {
   "cell_type": "markdown",
   "metadata": {
    "id": "kMq8E0F7EuW_"
   },
   "source": [
    "Однак, цей варіант не вітається в програмуванні на python, оскільки прибирає деякі корисні структури, які модуль надає. До кінця цього туторіалу ми будемо використовувати другий варіант імпорту (import numpy as np)."
   ]
  },
  {
   "cell_type": "markdown",
   "metadata": {
    "id": "DbnRMDDBExgY"
   },
   "source": [
    "# Масиви\n",
    "Головною особливістю numpy є об'єкт array. Масиви схожі зі списками в python, за винятком того факту, що елементи масиву повинні мати однаковий тип даних, як float і int. З масивами можна проводити числові операції з великим обсягом інформації в рази швидше і, головне, набагато ефективніше ніж зі списками.\n",
    "\n",
    "Створення масиву зі списку:"
   ]
  },
  {
   "cell_type": "code",
   "execution_count": null,
   "metadata": {
    "colab": {
     "base_uri": "https://localhost:8080/"
    },
    "id": "S6AbmZicEz22",
    "outputId": "b33c8a73-f40a-4800-ab2b-89e3fc1f2503"
   },
   "outputs": [
    {
     "name": "stdout",
     "output_type": "stream",
     "text": [
      "[1. 4. 5. 8.]\n",
      "<class 'numpy.ndarray'>\n"
     ]
    }
   ],
   "source": [
    "import numpy as np\n",
    "\n",
    "a = np.array([1, 4, 5, 8], float)\n",
    "print(a)\n",
    "print(type(a))"
   ]
  },
  {
   "cell_type": "markdown",
   "metadata": {
    "id": "rfmId7xgFDVP"
   },
   "source": [
    "Тут функція array приймає два аргументи: список для конвертації в масив і тип для кожного елемента. До всіх елементів можна отримати доступ і маніпулювати ними так само, як ви б це робили зі звичайними списками:"
   ]
  },
  {
   "cell_type": "code",
   "execution_count": null,
   "metadata": {
    "colab": {
     "base_uri": "https://localhost:8080/"
    },
    "id": "QUURuwLKFFCa",
    "outputId": "eea0bf85-6fc5-47f5-c1c0-f2e92c4599c5"
   },
   "outputs": [
    {
     "name": "stdout",
     "output_type": "stream",
     "text": [
      "[5. 4.]\n",
      "8.0\n",
      "[5. 4. 5. 8.]\n"
     ]
    }
   ],
   "source": [
    "print(a[:2])\n",
    "print(a[3])\n",
    "a[0] = 5\n",
    "print(a)"
   ]
  },
  {
   "cell_type": "markdown",
   "metadata": {
    "id": "-Vjk2ViaFMSF"
   },
   "source": [
    "Масиви можуть бути і багатовимірними. На відміну від списків можна використовувати коми в дужках. Ось приклад двовимірного масиву (матриця):"
   ]
  },
  {
   "cell_type": "code",
   "execution_count": null,
   "metadata": {
    "colab": {
     "base_uri": "https://localhost:8080/"
    },
    "id": "XCB_J9jCFN3a",
    "outputId": "b3d56339-a2f1-4290-e9df-6133598382b7"
   },
   "outputs": [
    {
     "name": "stdout",
     "output_type": "stream",
     "text": [
      "[[1. 2. 3.]\n",
      " [4. 5. 6.]]\n",
      "1.0\n",
      "2.0\n"
     ]
    }
   ],
   "source": [
    "a = np.array([[1, 2, 3], [4, 5, 6]], float)\n",
    "print(a)\n",
    "print(a[0,0])\n",
    "print(a[0,1])"
   ]
  },
  {
   "cell_type": "markdown",
   "metadata": {
    "id": "n4RfCrZ7FU15"
   },
   "source": [
    "Array slicing працює з багатовимірними масивами аналогічно, як і з одновимірними, застосовуючи кожен зріз як фільтр для встановленого виміру. Використовуйте \":\" у вимірі для вказування використання всіх елементів цього виміру:"
   ]
  },
  {
   "cell_type": "code",
   "execution_count": null,
   "metadata": {
    "colab": {
     "base_uri": "https://localhost:8080/"
    },
    "id": "AUNFffHeFWT1",
    "outputId": "e33a2265-ed9b-4e2f-f933-c10c52baff35"
   },
   "outputs": [
    {
     "name": "stdout",
     "output_type": "stream",
     "text": [
      "[4. 5. 6.]\n",
      "[3. 6.]\n",
      "[[5. 6.]]\n"
     ]
    }
   ],
   "source": [
    "a = np.array([[1, 2, 3], [4, 5, 6]], float)\n",
    "print(a[1,:])\n",
    "print(a[:,2])\n",
    "print(a[-1:, -2:])"
   ]
  },
  {
   "cell_type": "markdown",
   "metadata": {
    "id": "jMZLGmB3Fdm7"
   },
   "source": [
    "Метод shape повертає кількість рядків і стовпців у матриці:"
   ]
  },
  {
   "cell_type": "code",
   "execution_count": null,
   "metadata": {
    "colab": {
     "base_uri": "https://localhost:8080/"
    },
    "id": "6f1FrzBo6QVF",
    "outputId": "81c6690b-47d0-40df-8016-41739beae921"
   },
   "outputs": [
    {
     "name": "stdout",
     "output_type": "stream",
     "text": [
      "[[1. 2. 3.]\n",
      " [4. 5. 6.]]\n"
     ]
    }
   ],
   "source": [
    "print(a)"
   ]
  },
  {
   "cell_type": "code",
   "execution_count": null,
   "metadata": {
    "colab": {
     "base_uri": "https://localhost:8080/"
    },
    "id": "Uwt_gMcFFe58",
    "outputId": "a384c71f-8a29-46f4-df46-bcbe743cd093"
   },
   "outputs": [
    {
     "name": "stdout",
     "output_type": "stream",
     "text": [
      "(2, 3)\n"
     ]
    }
   ],
   "source": [
    "print(a.shape)"
   ]
  },
  {
   "cell_type": "markdown",
   "metadata": {
    "id": "Izw_vRTJFhBa"
   },
   "source": [
    "Метод dtype повертає тип змінних, що зберігаються в масиві:"
   ]
  },
  {
   "cell_type": "code",
   "execution_count": null,
   "metadata": {
    "colab": {
     "base_uri": "https://localhost:8080/"
    },
    "id": "Wq0V-72CFimK",
    "outputId": "5d4c322b-7767-477b-d75b-5b43d5a02902"
   },
   "outputs": [
    {
     "name": "stdout",
     "output_type": "stream",
     "text": [
      "float64\n"
     ]
    }
   ],
   "source": [
    "print(a.dtype)"
   ]
  },
  {
   "cell_type": "markdown",
   "metadata": {
    "id": "g5yaOtOpFkZp"
   },
   "source": [
    "Тут float64, це числовий тип даних у numpy, який використовується для зберігання дійсних чисел подвійної точності. Так само як float у Python.\n",
    "\n",
    "Метод len повертає довжину першого виміру (осі):"
   ]
  },
  {
   "cell_type": "code",
   "execution_count": null,
   "metadata": {
    "colab": {
     "base_uri": "https://localhost:8080/"
    },
    "id": "ARBHLmVbFmjd",
    "outputId": "e13796bc-9a59-40c5-84d6-49d5664e602a"
   },
   "outputs": [
    {
     "name": "stdout",
     "output_type": "stream",
     "text": [
      "2\n"
     ]
    }
   ],
   "source": [
    "a = np.array([[1, 2, 3], [4, 5, 6]], float)\n",
    "print(len(a))"
   ]
  },
  {
   "cell_type": "markdown",
   "metadata": {
    "id": "uKcaVixeFqW4"
   },
   "source": [
    "Метод in використовується для перевірки на наявність елемента в масиві:"
   ]
  },
  {
   "cell_type": "code",
   "execution_count": null,
   "metadata": {
    "colab": {
     "base_uri": "https://localhost:8080/"
    },
    "id": "YFZB0oXiFogm",
    "outputId": "222cbfc7-980e-4d25-f2cf-2f2f1e344d20"
   },
   "outputs": [
    {
     "name": "stdout",
     "output_type": "stream",
     "text": [
      "True\n",
      "False\n"
     ]
    }
   ],
   "source": [
    "a = np.array([[1, 2, 3], [4, 5, 6]], float)\n",
    "print(2 in a)\n",
    "print(0 in a)"
   ]
  },
  {
   "cell_type": "markdown",
   "metadata": {
    "id": "ofB06NbMFyEm"
   },
   "source": [
    "Масиви можна переформувати за допомогою методу, який задає новий багатовимірний масив. Дотримуючись наступного прикладу, ми переформатуємо одновимірний масив із десяти елементів у двовимірний масив, що складається з п'яти рядків і двох стовпців:"
   ]
  },
  {
   "cell_type": "code",
   "execution_count": null,
   "metadata": {
    "colab": {
     "base_uri": "https://localhost:8080/"
    },
    "id": "UrIDINYIFzzW",
    "outputId": "32166443-2f49-44d7-dd8c-dec72f01e680"
   },
   "outputs": [
    {
     "name": "stdout",
     "output_type": "stream",
     "text": [
      "[0. 1. 2. 3. 4. 5. 6. 7. 8. 9.]\n",
      "[[0. 1.]\n",
      " [2. 3.]\n",
      " [4. 5.]\n",
      " [6. 7.]\n",
      " [8. 9.]]\n",
      "(5, 2)\n"
     ]
    }
   ],
   "source": [
    "a = np.array(range(10), float)\n",
    "print(a)\n",
    "a = a.reshape((5, 2))\n",
    "print(a)\n",
    "print(a.shape)"
   ]
  },
  {
   "cell_type": "markdown",
   "metadata": {
    "id": "Sg8dXNWIF_kW"
   },
   "source": [
    "Зверніть увагу, метод reshape створює новий масив, а не модифікує оригінальний.\n",
    "\n",
    "Майте на увазі, зв'язування імен у python працює і з масивами. Метод copy використовується для створення копії наявного масиву в пам'яті:"
   ]
  },
  {
   "cell_type": "code",
   "execution_count": null,
   "metadata": {
    "colab": {
     "base_uri": "https://localhost:8080/"
    },
    "id": "5BPtL_REGAxL",
    "outputId": "1f4de2dd-e02f-445a-9303-b3b3fb28f89d"
   },
   "outputs": [
    {
     "name": "stdout",
     "output_type": "stream",
     "text": [
      "[0. 2. 3.]\n",
      "[0. 2. 3.]\n",
      "[1. 2. 3.]\n"
     ]
    }
   ],
   "source": [
    "a = np.array([1, 2, 3], float)\n",
    "b = a\n",
    "c =  a.copy()\n",
    "a[0] = 0\n",
    "print(a)\n",
    "print(b)\n",
    "print(c)"
   ]
  },
  {
   "cell_type": "markdown",
   "metadata": {
    "id": "APDR45XLGGq1"
   },
   "source": [
    "Списки можна теж створювати з масивів:"
   ]
  },
  {
   "cell_type": "code",
   "execution_count": null,
   "metadata": {
    "colab": {
     "base_uri": "https://localhost:8080/"
    },
    "id": "hHUYCZ6jGIBJ",
    "outputId": "a5cb9711-ed3c-44e7-ca9c-e2bc9588a32f"
   },
   "outputs": [
    {
     "name": "stdout",
     "output_type": "stream",
     "text": [
      "[1.0, 2.0, 3.0]\n",
      "[1.0, 2.0, 3.0]\n"
     ]
    }
   ],
   "source": [
    "a = np.array([1, 2, 3], float)\n",
    "print(a.tolist())\n",
    "print(list(a))"
   ]
  },
  {
   "cell_type": "markdown",
   "metadata": {
    "id": "qTyF_ImTGcKD"
   },
   "source": [
    "Заповнення масиву однаковим значенням."
   ]
  },
  {
   "cell_type": "code",
   "execution_count": null,
   "metadata": {
    "colab": {
     "base_uri": "https://localhost:8080/"
    },
    "id": "M827KnoqGcru",
    "outputId": "8a2476e8-8203-426f-932a-c581d9a92eaf"
   },
   "outputs": [
    {
     "name": "stdout",
     "output_type": "stream",
     "text": [
      "[1. 2. 3.]\n",
      "None\n",
      "[0. 0. 0.]\n"
     ]
    }
   ],
   "source": [
    "a = np.array([1, 2, 3], float)\n",
    "print(a)\n",
    "print(a.fill(0))\n",
    "print(a)"
   ]
  },
  {
   "cell_type": "markdown",
   "metadata": {
    "id": "49p0CoQlGnuo"
   },
   "source": [
    "Транспонування масивів також можливе, при цьому створюється новий масив:"
   ]
  },
  {
   "cell_type": "code",
   "execution_count": null,
   "metadata": {
    "colab": {
     "base_uri": "https://localhost:8080/"
    },
    "id": "2YxFjD6lGq_d",
    "outputId": "fe9346ea-8562-4367-bd65-2d392177a46e"
   },
   "outputs": [
    {
     "name": "stdout",
     "output_type": "stream",
     "text": [
      "[[0. 1. 2.]\n",
      " [3. 4. 5.]]\n",
      "[[0. 3.]\n",
      " [1. 4.]\n",
      " [2. 5.]]\n"
     ]
    }
   ],
   "source": [
    "a = np.array(range(6), float).reshape((2, 3))\n",
    "print(a)\n",
    "print(a.transpose())"
   ]
  },
  {
   "cell_type": "markdown",
   "metadata": {
    "id": "W_ub_HzlGwKl"
   },
   "source": [
    "Багатовимірний масив можна переконвертувати в одновимірний за допомогою методу flatten:"
   ]
  },
  {
   "cell_type": "code",
   "execution_count": null,
   "metadata": {
    "colab": {
     "base_uri": "https://localhost:8080/"
    },
    "id": "ru6mDUT0Gxdn",
    "outputId": "e9163a8e-1844-4ea5-9d2d-c939747e3ccf"
   },
   "outputs": [
    {
     "name": "stdout",
     "output_type": "stream",
     "text": [
      "[[1. 2. 3.]\n",
      " [4. 5. 6.]]\n",
      "[1. 2. 3. 4. 5. 6.]\n"
     ]
    }
   ],
   "source": [
    "a = np.array([[1, 2, 3], [4, 5, 6]], float)\n",
    "print(a)\n",
    "print(a.flatten())"
   ]
  },
  {
   "cell_type": "markdown",
   "metadata": {
    "id": "38O6cgArG2RF"
   },
   "source": [
    "Два або більше масивів можна сконкатенувати за допомогою методу concatenate:"
   ]
  },
  {
   "cell_type": "code",
   "execution_count": null,
   "metadata": {
    "colab": {
     "base_uri": "https://localhost:8080/"
    },
    "id": "kIo8zJZHG37b",
    "outputId": "cb4119b5-dd3c-4f67-ff19-1a7e622c3f39"
   },
   "outputs": [
    {
     "name": "stdout",
     "output_type": "stream",
     "text": [
      "[1. 2. 3. 4. 5. 6. 7. 8. 9.]\n"
     ]
    }
   ],
   "source": [
    "a = np.array([1,2], float)\n",
    "b = np.array([3,4,5,6], float)\n",
    "c = np.array([7,8,9], float)\n",
    "print(np.concatenate((a, b, c)))"
   ]
  },
  {
   "cell_type": "markdown",
   "metadata": {
    "id": "9F-WkgzlG8Q4"
   },
   "source": [
    "Якщо масив не одновимірний, можна задати вісь, за якою відбуватиметься з'єднання. За замовчуванням (не задаючи значення осі), з'єднання відбуватиметься за першим виміром:"
   ]
  },
  {
   "cell_type": "code",
   "execution_count": null,
   "metadata": {
    "colab": {
     "base_uri": "https://localhost:8080/"
    },
    "id": "sbIArE7sG9xC",
    "outputId": "05222ea1-8792-4075-801e-11faa4421c8c"
   },
   "outputs": [
    {
     "name": "stdout",
     "output_type": "stream",
     "text": [
      "[[1. 2.]\n",
      " [3. 4.]\n",
      " [5. 6.]\n",
      " [7. 8.]]\n",
      "[[1. 2.]\n",
      " [3. 4.]\n",
      " [5. 6.]\n",
      " [7. 8.]]\n",
      "[[1. 2. 5. 6.]\n",
      " [3. 4. 7. 8.]]\n"
     ]
    }
   ],
   "source": [
    "a = np.array([[1, 2], [3, 4]], float)\n",
    "b = np.array([[5, 6], [7,8]], float)\n",
    "print(np.concatenate((a,b)))\n",
    "print(np.concatenate((a,b), axis=0))\n",
    "print(np.concatenate((a,b), axis=1))"
   ]
  },
  {
   "cell_type": "markdown",
   "metadata": {
    "id": "fRdGALgeHHue"
   },
   "source": [
    "Насамкінець, розмірність масиву може бути збільшена при використанні константи newaxis у квадратних дужках:"
   ]
  },
  {
   "cell_type": "code",
   "execution_count": null,
   "metadata": {
    "colab": {
     "base_uri": "https://localhost:8080/"
    },
    "id": "xR9ai_lcHSJf",
    "outputId": "8bf68495-f2e6-4c74-e5a6-f4b75d215ca5"
   },
   "outputs": [
    {
     "name": "stdout",
     "output_type": "stream",
     "text": [
      "[1. 2. 3.]\n",
      "[[1.]\n",
      " [2.]\n",
      " [3.]]\n",
      "(3, 1)\n",
      "[[[5. 6.]\n",
      "  [7. 8.]]]\n",
      "(1, 2, 2)\n"
     ]
    }
   ],
   "source": [
    "a = np.array([1, 2, 3], float)\n",
    "print(a)\n",
    "print(a[:,np.newaxis])\n",
    "print(a[:,np.newaxis].shape)\n",
    "print(b[np.newaxis,:])\n",
    "print(b[np.newaxis,:].shape)"
   ]
  },
  {
   "cell_type": "markdown",
   "metadata": {
    "id": "KRuCbaqPHhQb"
   },
   "source": [
    "Зауважте, тут кожен масив двовимірний; створений за допомогою newaxis має розмірність один. Метод newaxis підходить для зручного створення належно-вимірних масивів у векторній і матричній математиці."
   ]
  },
  {
   "cell_type": "markdown",
   "metadata": {
    "id": "-KNdVGzuHuxK"
   },
   "source": [
    "## Інші шляхи створення масивів\n",
    "\n",
    "Функція arange аналогічна функції range, але повертає масив:"
   ]
  },
  {
   "cell_type": "code",
   "execution_count": null,
   "metadata": {
    "colab": {
     "base_uri": "https://localhost:8080/"
    },
    "id": "uXHmzWcuHiiM",
    "outputId": "26e10478-c700-49d2-aa21-836136b88c4b"
   },
   "outputs": [
    {
     "name": "stdout",
     "output_type": "stream",
     "text": [
      "[0. 1. 2. 3. 4.]\n",
      "[1 3 5]\n"
     ]
    }
   ],
   "source": [
    "print(np.arange(5, dtype=float))\n",
    "print(np.arange(1, 6, 2, dtype=int))"
   ]
  },
  {
   "cell_type": "markdown",
   "metadata": {
    "id": "tPN9jEktH43a"
   },
   "source": [
    "Функції zeros і ones створюють нові масиви зі встановленою розмірністю, заповнені цими значеннями. Це, напевно, найпростіші у використанні функції для створення масивів:"
   ]
  },
  {
   "cell_type": "code",
   "execution_count": null,
   "metadata": {
    "colab": {
     "base_uri": "https://localhost:8080/"
    },
    "id": "sdlCnrSiH6M8",
    "outputId": "718890ea-67a3-4330-d8db-24b2b7de8599"
   },
   "outputs": [
    {
     "name": "stdout",
     "output_type": "stream",
     "text": [
      "[[1. 1. 1.]\n",
      " [1. 1. 1.]]\n",
      "[0 0 0 0 0 0 0]\n"
     ]
    }
   ],
   "source": [
    "print(np.ones((2,3), dtype=float))\n",
    "print(np.zeros(7, dtype=int))"
   ]
  },
  {
   "cell_type": "markdown",
   "metadata": {
    "id": "VmkWoZPHH_cF"
   },
   "source": [
    "Функції zeros_like і ones_like можуть перетворити вже створений масив, заповнивши його нулями та одиницями відповідно:"
   ]
  },
  {
   "cell_type": "code",
   "execution_count": null,
   "metadata": {
    "colab": {
     "base_uri": "https://localhost:8080/"
    },
    "id": "znVibwU8IBNq",
    "outputId": "9b66bcb9-75b6-4038-ae1f-7bc146f557bb"
   },
   "outputs": [
    {
     "name": "stdout",
     "output_type": "stream",
     "text": [
      "[[0. 0. 0.]\n",
      " [0. 0. 0.]]\n",
      "[[1. 1. 1.]\n",
      " [1. 1. 1.]]\n"
     ]
    }
   ],
   "source": [
    "a = np.array([[1, 2, 3], [4, 5, 6]], float)\n",
    "print(np.zeros_like(a))\n",
    "print(np.ones_like(a))"
   ]
  },
  {
   "cell_type": "markdown",
   "metadata": {
    "id": "j9cF6N2PIKGe"
   },
   "source": [
    "Також є деяка кількість функцій для створення спеціальних матриць. Для створення квадратної матриці з головною діагоналлю, яка заповнена одиницями, скористаємося методом identity:"
   ]
  },
  {
   "cell_type": "code",
   "execution_count": null,
   "metadata": {
    "colab": {
     "base_uri": "https://localhost:8080/"
    },
    "id": "oFJ5ivANILzs",
    "outputId": "e08dac3a-0e1c-4da3-e95a-ca3c9c487d78"
   },
   "outputs": [
    {
     "name": "stdout",
     "output_type": "stream",
     "text": [
      "[[1. 0. 0. 0. 0.]\n",
      " [0. 1. 0. 0. 0.]\n",
      " [0. 0. 1. 0. 0.]\n",
      " [0. 0. 0. 1. 0.]\n",
      " [0. 0. 0. 0. 1.]]\n"
     ]
    }
   ],
   "source": [
    "print(np.identity(5, dtype=float))"
   ]
  },
  {
   "cell_type": "markdown",
   "metadata": {
    "id": "mr3-35SwIO7v"
   },
   "source": [
    "Функція eye повертає матрицю з одиничками на к-атій діагоналі:"
   ]
  },
  {
   "cell_type": "code",
   "execution_count": null,
   "metadata": {
    "colab": {
     "base_uri": "https://localhost:8080/"
    },
    "id": "tnOqEHj-IQGs",
    "outputId": "c0064957-b1a7-45c8-c879-dd216ed04e27"
   },
   "outputs": [
    {
     "name": "stdout",
     "output_type": "stream",
     "text": [
      "[[1. 0. 0. 0.]\n",
      " [0. 1. 0. 0.]\n",
      " [0. 0. 1. 0.]\n",
      " [0. 0. 0. 1.]]\n"
     ]
    }
   ],
   "source": [
    "print(np.eye(4, k=0, dtype=float))"
   ]
  },
  {
   "cell_type": "markdown",
   "metadata": {
    "id": "pptUDJW7IS6j"
   },
   "source": [
    "## Математичні операції над масивами\n",
    "Коли для масивів ми використовуємо стандартні математичні операції, має дотримуватися принцип: елемент--елемент. Це означає, що масиви мають бути однакового розміру під час додавання, віднімання і тому подібних операцій:"
   ]
  },
  {
   "cell_type": "code",
   "execution_count": null,
   "metadata": {
    "colab": {
     "base_uri": "https://localhost:8080/"
    },
    "id": "V7K9SwO-IXd5",
    "outputId": "68884b42-7b79-41ea-907e-39ae3b340ce0"
   },
   "outputs": [
    {
     "name": "stdout",
     "output_type": "stream",
     "text": [
      "[6. 4. 9.]\n",
      "[-4.  0. -3.]\n",
      "[ 5.  4. 18.]\n",
      "[5. 1. 2.]\n",
      "[1. 0. 3.]\n",
      "[  5.   4. 216.]\n"
     ]
    }
   ],
   "source": [
    "a = np.array([1,2,3], float)\n",
    "b = np.array([5,2,6], float)\n",
    "print(a + b)\n",
    "print(a - b)\n",
    "print(a * b)\n",
    "print(b / a)\n",
    "print(a % b)\n",
    "print(b**a)"
   ]
  },
  {
   "cell_type": "markdown",
   "metadata": {
    "id": "Jni-fGzxIpC8"
   },
   "source": [
    "Для двовимірних масивів, множення залишається поелементним і не відповідає множенню матриць. Для цього існують спеціальні функції, які ми вивчимо пізніше."
   ]
  },
  {
   "cell_type": "code",
   "execution_count": null,
   "metadata": {
    "colab": {
     "base_uri": "https://localhost:8080/"
    },
    "id": "zXg2c938Ipc9",
    "outputId": "a3ec565e-4f23-4326-b62d-1bde364bca05"
   },
   "outputs": [
    {
     "name": "stdout",
     "output_type": "stream",
     "text": [
      "[[ 2.  0.]\n",
      " [ 3. 12.]]\n"
     ]
    }
   ],
   "source": [
    "a = np.array([[1,2], [3,4]], float)\n",
    "b = np.array([[2,0], [1,3]], float)\n",
    "print(a * b)"
   ]
  },
  {
   "cell_type": "markdown",
   "metadata": {
    "id": "mMzP8hz5IuuF"
   },
   "source": [
    "У разі невідповідності в розмірі викидаються помилки:"
   ]
  },
  {
   "cell_type": "code",
   "execution_count": null,
   "metadata": {
    "colab": {
     "base_uri": "https://localhost:8080/",
     "height": 180
    },
    "id": "YCoxdSLbIwFJ",
    "outputId": "846d294a-cbde-4168-8055-b4a67fc2d195"
   },
   "outputs": [
    {
     "ename": "ValueError",
     "evalue": "operands could not be broadcast together with shapes (3,) (2,) ",
     "output_type": "error",
     "traceback": [
      "\u001b[0;31m---------------------------------------------------------------------------\u001b[0m",
      "\u001b[0;31mValueError\u001b[0m                                Traceback (most recent call last)",
      "\u001b[0;32m<ipython-input-64-02089d693029>\u001b[0m in \u001b[0;36m<cell line: 3>\u001b[0;34m()\u001b[0m\n\u001b[1;32m      1\u001b[0m \u001b[0ma\u001b[0m \u001b[0;34m=\u001b[0m \u001b[0mnp\u001b[0m\u001b[0;34m.\u001b[0m\u001b[0marray\u001b[0m\u001b[0;34m(\u001b[0m\u001b[0;34m[\u001b[0m\u001b[0;36m1\u001b[0m\u001b[0;34m,\u001b[0m\u001b[0;36m2\u001b[0m\u001b[0;34m,\u001b[0m\u001b[0;36m3\u001b[0m\u001b[0;34m]\u001b[0m\u001b[0;34m,\u001b[0m \u001b[0mfloat\u001b[0m\u001b[0;34m)\u001b[0m\u001b[0;34m\u001b[0m\u001b[0;34m\u001b[0m\u001b[0m\n\u001b[1;32m      2\u001b[0m \u001b[0mb\u001b[0m \u001b[0;34m=\u001b[0m \u001b[0mnp\u001b[0m\u001b[0;34m.\u001b[0m\u001b[0marray\u001b[0m\u001b[0;34m(\u001b[0m\u001b[0;34m[\u001b[0m\u001b[0;36m4\u001b[0m\u001b[0;34m,\u001b[0m\u001b[0;36m5\u001b[0m\u001b[0;34m]\u001b[0m\u001b[0;34m,\u001b[0m \u001b[0mfloat\u001b[0m\u001b[0;34m)\u001b[0m\u001b[0;34m\u001b[0m\u001b[0;34m\u001b[0m\u001b[0m\n\u001b[0;32m----> 3\u001b[0;31m \u001b[0mprint\u001b[0m\u001b[0;34m(\u001b[0m\u001b[0ma\u001b[0m \u001b[0;34m+\u001b[0m \u001b[0mb\u001b[0m\u001b[0;34m)\u001b[0m\u001b[0;34m\u001b[0m\u001b[0;34m\u001b[0m\u001b[0m\n\u001b[0m",
      "\u001b[0;31mValueError\u001b[0m: operands could not be broadcast together with shapes (3,) (2,) "
     ]
    }
   ],
   "source": [
    "a = np.array([1,2,3], float)\n",
    "b = np.array([4,5], float)\n",
    "print(a + b)"
   ]
  },
  {
   "cell_type": "markdown",
   "metadata": {
    "id": "L6w_4wpWI2Ui"
   },
   "source": [
    "Однак, якщо розмірність масивів не збігається, вони будуть перетворені для виконання математичних операцій. Це часто означає, що менший масив буде використано кілька разів для завершення операцій. Розглянемо такий приклад:"
   ]
  },
  {
   "cell_type": "code",
   "execution_count": null,
   "metadata": {
    "colab": {
     "base_uri": "https://localhost:8080/"
    },
    "id": "fZWKLHMHI30v",
    "outputId": "d861aef3-bfce-4170-c9e0-6d78a5539624"
   },
   "outputs": [
    {
     "name": "stdout",
     "output_type": "stream",
     "text": [
      "[[1. 2.]\n",
      " [3. 4.]\n",
      " [5. 6.]]\n",
      "[-1.  3.]\n",
      "[[0. 5.]\n",
      " [2. 7.]\n",
      " [4. 9.]]\n"
     ]
    }
   ],
   "source": [
    "a = np.array([[1, 2], [3, 4], [5, 6]], float)\n",
    "b = np.array([-1, 3], float)\n",
    "print(a)\n",
    "print(b)\n",
    "print(a + b)"
   ]
  },
  {
   "cell_type": "markdown",
   "metadata": {
    "id": "ZCFVNQxCJGEz"
   },
   "source": [
    "На додачу до стандартних операторів, у numpy включено бібліотеку стандартних математичних функцій, які можуть бути застосовані поелементно до масивів. Власне функції: abs, sign, sqrt, log, log10, exp, sin, cos, tan, arcsin, arccos, arctan, sinh, cosh, tanh, arcsinh, arccosh, arctanh."
   ]
  },
  {
   "cell_type": "code",
   "execution_count": null,
   "metadata": {
    "colab": {
     "base_uri": "https://localhost:8080/"
    },
    "id": "Jeqauvg1JB_U",
    "outputId": "738fab76-f9e7-45a5-9e32-c0fb55ad3b61"
   },
   "outputs": [
    {
     "name": "stdout",
     "output_type": "stream",
     "text": [
      "[1. 2. 3.]\n"
     ]
    }
   ],
   "source": [
    "a = np.array([1, 4, 9], float)\n",
    "print(np.sqrt(a))"
   ]
  },
  {
   "cell_type": "markdown",
   "metadata": {
    "id": "SSACdR9EJMEV"
   },
   "source": [
    "Функції floor, ceil і rint повертають нижні, верхні або найближчі (округлене) значення:"
   ]
  },
  {
   "cell_type": "code",
   "execution_count": null,
   "metadata": {
    "colab": {
     "base_uri": "https://localhost:8080/"
    },
    "id": "NK1LUFIbJOQG",
    "outputId": "ef174c4d-c108-4e01-9324-92dce32b3cd4"
   },
   "outputs": [
    {
     "name": "stdout",
     "output_type": "stream",
     "text": [
      "[1. 1. 1.]\n",
      "[2. 2. 2.]\n",
      "[1. 2. 2.]\n"
     ]
    }
   ],
   "source": [
    "a = np.array([1.1, 1.5, 1.9], float)\n",
    "print(np.floor(a))\n",
    "print(np.ceil(a))\n",
    "print(np.rint(a))"
   ]
  },
  {
   "cell_type": "markdown",
   "metadata": {
    "id": "oB6TDSwAJZov"
   },
   "source": [
    "Також у numpy включено дві важливі математичні константи:"
   ]
  },
  {
   "cell_type": "code",
   "execution_count": null,
   "metadata": {
    "colab": {
     "base_uri": "https://localhost:8080/"
    },
    "id": "BLBBhD3ZJbL2",
    "outputId": "559ebdd6-6684-499c-9616-f1610b54acd4"
   },
   "outputs": [
    {
     "name": "stdout",
     "output_type": "stream",
     "text": [
      "3.141592653589793\n",
      "2.718281828459045\n"
     ]
    }
   ],
   "source": [
    "print(np.pi)\n",
    "print(np.e)"
   ]
  },
  {
   "cell_type": "markdown",
   "metadata": {
    "id": "dIRgws6PJgYb"
   },
   "source": [
    "## Перебір елементів масиву\n",
    "\n",
    "Проводити ітерацію масивів можна аналогічно спискам:"
   ]
  },
  {
   "cell_type": "code",
   "execution_count": null,
   "metadata": {
    "colab": {
     "base_uri": "https://localhost:8080/"
    },
    "id": "4J8AyyPEJkRG",
    "outputId": "df93cd88-9aa4-499a-c3bb-96762a89c08f"
   },
   "outputs": [
    {
     "name": "stdout",
     "output_type": "stream",
     "text": [
      "1\n",
      "4\n",
      "5\n"
     ]
    }
   ],
   "source": [
    "a = np.array([1, 4, 5], int)\n",
    "for x in a:\n",
    "  print(x)"
   ]
  },
  {
   "cell_type": "markdown",
   "metadata": {
    "id": "XNUw_gFaJon_"
   },
   "source": [
    "Для багатовимірних масивів ітерація проводитиметься за першою віссю, так, що кожен прохід циклу повертатиме \"рядок\" масиву:"
   ]
  },
  {
   "cell_type": "code",
   "execution_count": null,
   "metadata": {
    "colab": {
     "base_uri": "https://localhost:8080/"
    },
    "id": "2Gtzcu3PJqIu",
    "outputId": "e4062f2c-4667-40a0-d84e-5433241f03cb"
   },
   "outputs": [
    {
     "name": "stdout",
     "output_type": "stream",
     "text": [
      "[1. 2.]\n",
      "[3. 4.]\n",
      "[5. 6.]\n"
     ]
    }
   ],
   "source": [
    "a = np.array([[1, 2], [3, 4], [5, 6]], float)\n",
    "for x in a:\n",
    "  print(x)"
   ]
  },
  {
   "cell_type": "markdown",
   "metadata": {
    "id": "W3k9inKJJwxN"
   },
   "source": [
    "Множинне присвоювання також доступне під час ітерації:"
   ]
  },
  {
   "cell_type": "code",
   "execution_count": null,
   "metadata": {
    "colab": {
     "base_uri": "https://localhost:8080/"
    },
    "id": "zw9bnD25JyWV",
    "outputId": "13956dd1-bb4c-48e0-f56b-fcf5ba26e402"
   },
   "outputs": [
    {
     "name": "stdout",
     "output_type": "stream",
     "text": [
      "2.0\n",
      "12.0\n",
      "30.0\n"
     ]
    }
   ],
   "source": [
    "a = np.array([[1, 2], [3, 4], [5, 6]], float)\n",
    "for (x, y) in a:\n",
    "  print(x * y)"
   ]
  },
  {
   "cell_type": "markdown",
   "metadata": {
    "id": "BKfmpbbGJ2O0"
   },
   "source": [
    "## Базові операції над масивами\n",
    "\n",
    "Для отримання будь-яких властивостей масивів існує багато функцій. Елементи можуть бути підсумовані або перемножені:"
   ]
  },
  {
   "cell_type": "code",
   "execution_count": null,
   "metadata": {
    "colab": {
     "base_uri": "https://localhost:8080/"
    },
    "id": "ieGmxSLSJ46o",
    "outputId": "29cb204f-23c6-40d8-ada5-c55bc0f35ec4"
   },
   "outputs": [
    {
     "name": "stdout",
     "output_type": "stream",
     "text": [
      "9.0\n",
      "24.0\n"
     ]
    }
   ],
   "source": [
    "a = np.array([2, 4, 3], float)\n",
    "print(a.sum())\n",
    "print(a.prod())"
   ]
  },
  {
   "cell_type": "markdown",
   "metadata": {
    "id": "qLMNEE-9J_YQ"
   },
   "source": [
    "У цьому прикладі були використані функції масиву. Також можна використовувати власні функції numpy:"
   ]
  },
  {
   "cell_type": "code",
   "execution_count": null,
   "metadata": {
    "colab": {
     "base_uri": "https://localhost:8080/"
    },
    "id": "NzU6WgMgKAmM",
    "outputId": "67756ec3-608f-451e-c93b-7e799a517ec0"
   },
   "outputs": [
    {
     "name": "stdout",
     "output_type": "stream",
     "text": [
      "9.0\n",
      "24.0\n"
     ]
    }
   ],
   "source": [
    "print(np.sum(a))\n",
    "print(np.prod(a))"
   ]
  },
  {
   "cell_type": "markdown",
   "metadata": {
    "id": "xedjwddeKFZE"
   },
   "source": [
    "Для більшості випадків можуть використовуватися обидва варіанти.\n",
    "Деякі функції дають можливість оперувати статистичними даними. Це функції mean (середнє арифметичне), варіація і девіація:"
   ]
  },
  {
   "cell_type": "code",
   "execution_count": null,
   "metadata": {
    "colab": {
     "base_uri": "https://localhost:8080/"
    },
    "id": "7rOPMVrpKG53",
    "outputId": "961be4b7-bbda-458a-ebbb-4057db0b44dc"
   },
   "outputs": [
    {
     "name": "stdout",
     "output_type": "stream",
     "text": [
      "4.0\n",
      "12.666666666666666\n",
      "3.559026084010437\n"
     ]
    }
   ],
   "source": [
    "a = np.array([2, 1, 9], float)\n",
    "print(a.mean())\n",
    "print(a.var())\n",
    "print(a.std())"
   ]
  },
  {
   "cell_type": "markdown",
   "metadata": {
    "id": "qCLy50qbKNCO"
   },
   "source": [
    "Можна знайти мінімум і максимум у масиві:"
   ]
  },
  {
   "cell_type": "code",
   "execution_count": null,
   "metadata": {
    "colab": {
     "base_uri": "https://localhost:8080/"
    },
    "id": "mHeAae1bKOlp",
    "outputId": "6839d868-50d5-42d0-ffeb-fcb6235b4115"
   },
   "outputs": [
    {
     "name": "stdout",
     "output_type": "stream",
     "text": [
      "1.0\n",
      "9.0\n"
     ]
    }
   ],
   "source": [
    "a = np.array([2, 1, 9], float)\n",
    "print(a.min())\n",
    "print(a.max())"
   ]
  },
  {
   "cell_type": "markdown",
   "metadata": {
    "id": "imFm6cbXKT2O"
   },
   "source": [
    "Функції argmin і argmax повертають індекс мінімального або максимального елемента:"
   ]
  },
  {
   "cell_type": "code",
   "execution_count": null,
   "metadata": {
    "colab": {
     "base_uri": "https://localhost:8080/"
    },
    "id": "69is_17-KVEt",
    "outputId": "8ad13e6a-83ca-429d-97b2-5e59bca20db3"
   },
   "outputs": [
    {
     "name": "stdout",
     "output_type": "stream",
     "text": [
      "1\n",
      "2\n"
     ]
    }
   ],
   "source": [
    "a = np.array([2, 1, 9], float)\n",
    "print(a.argmin())\n",
    "print(a.argmax())"
   ]
  },
  {
   "cell_type": "markdown",
   "metadata": {
    "id": "q0pnnbGFKbP-"
   },
   "source": [
    "Для багатовимірних масивів кожна з функцій може прийняти додатковий аргумент axis і залежно від його значення виконувати функції за певною віссю, поміщаючи результати виконання в масив:"
   ]
  },
  {
   "cell_type": "code",
   "execution_count": null,
   "metadata": {
    "colab": {
     "base_uri": "https://localhost:8080/"
    },
    "id": "Ie6FfLaJKdey",
    "outputId": "2d0a1743-e7aa-4313-dd21-3092d9897945"
   },
   "outputs": [
    {
     "name": "stdout",
     "output_type": "stream",
     "text": [
      "[2. 2.]\n",
      "[1. 1. 4.]\n",
      "[ 0. -1.  3.]\n",
      "[3. 5.]\n"
     ]
    }
   ],
   "source": [
    "a = np.array([[0, 2], [3, -1], [3, 5]], float)\n",
    "print(a.mean(axis=0))\n",
    "print(a.mean(axis=1))\n",
    "print(a.min(axis=1))\n",
    "print(a.max(axis=0))"
   ]
  },
  {
   "cell_type": "markdown",
   "metadata": {
    "id": "ZEyqOK_pKnHu"
   },
   "source": [
    "Як і списки, масиви можна відсортувати:"
   ]
  },
  {
   "cell_type": "code",
   "execution_count": null,
   "metadata": {
    "colab": {
     "base_uri": "https://localhost:8080/"
    },
    "id": "YOpHisKcKoj4",
    "outputId": "21fac71d-48eb-47d1-af5f-da53280dc236"
   },
   "outputs": [
    {
     "name": "stdout",
     "output_type": "stream",
     "text": [
      "[-1.0, 0.0, 2.0, 5.0, 6.0]\n",
      "[-1.  0.  2.  5.  6.]\n"
     ]
    }
   ],
   "source": [
    "a = np.array([6, 2, 5, -1, 0], float)\n",
    "print(sorted(a))\n",
    "a.sort()\n",
    "print(a)"
   ]
  },
  {
   "cell_type": "markdown",
   "metadata": {
    "id": "Ut0c4imbK9IR"
   },
   "source": [
    "## Векторна та матрична математика\n",
    "\n",
    "NumPy забезпечує багато функцій для роботи з векторами та матрицями. Функція dot повертає скалярний добуток векторів:\n"
   ]
  },
  {
   "cell_type": "code",
   "execution_count": null,
   "metadata": {
    "colab": {
     "base_uri": "https://localhost:8080/"
    },
    "id": "aktY5ocnLBK2",
    "outputId": "ff919239-177f-471c-eedc-3bb112cafdbc"
   },
   "outputs": [
    {
     "name": "stdout",
     "output_type": "stream",
     "text": [
      "5.0\n"
     ]
    }
   ],
   "source": [
    "a = np.array([1, 2, 3], float)\n",
    "b = np.array([0, 1, 1], float)\n",
    "print(np.dot(a, b))"
   ]
  },
  {
   "cell_type": "markdown",
   "metadata": {
    "id": "L36KloIRLAFR"
   },
   "source": [
    "Функція dot також може множити матриці:"
   ]
  },
  {
   "cell_type": "code",
   "execution_count": null,
   "metadata": {
    "colab": {
     "base_uri": "https://localhost:8080/"
    },
    "id": "wd0sLkTkLGXA",
    "outputId": "6ddd80d4-5be9-4178-94dc-7d7b900c06d7"
   },
   "outputs": [
    {
     "name": "stdout",
     "output_type": "stream",
     "text": [
      "[[0. 1.]\n",
      " [2. 3.]]\n",
      "[ 6. 11.]\n",
      "[ 3. 13.]\n",
      "[[ 4.  0.]\n",
      " [14.  2.]]\n",
      "[[2. 4.]\n",
      " [0. 4.]]\n"
     ]
    }
   ],
   "source": [
    "a = np.array([[0, 1], [2, 3]], float)\n",
    "b = np.array([2, 3], float)\n",
    "c = np.array([[1, 1], [4, 0]], float)\n",
    "print(a)\n",
    "print(np.dot(b, a))\n",
    "print(np.dot(a, b))\n",
    "print(np.dot(a, c))\n",
    "print(np.dot(c, a))"
   ]
  },
  {
   "cell_type": "markdown",
   "metadata": {
    "id": "Y6wZDrRdLSk7"
   },
   "source": [
    "Також можна отримати скалярний, тензорний і зовнішній добуток матриць і векторів. Зауважимо, що для векторів внутрішній і скалярний добуток збігається."
   ]
  },
  {
   "cell_type": "code",
   "execution_count": null,
   "metadata": {
    "colab": {
     "base_uri": "https://localhost:8080/"
    },
    "id": "eQuFdjq-LGUh",
    "outputId": "2eef76c8-cd99-48d2-ab7a-807ec801af92"
   },
   "outputs": [
    {
     "name": "stdout",
     "output_type": "stream",
     "text": [
      "[[2. 2. 1.]\n",
      " [8. 8. 4.]\n",
      " [0. 0. 0.]]\n",
      "10.0\n"
     ]
    }
   ],
   "source": [
    "a = np.array([1, 4, 0], float)\n",
    "b = np.array([2, 2, 1], float)\n",
    "print(np.outer(a, b))\n",
    "print(np.inner(a, b))"
   ]
  },
  {
   "cell_type": "markdown",
   "metadata": {
    "id": "DCuIwJrYLZRc"
   },
   "source": [
    "NumPy також надає набір вбудованих функцій і методів для роботи з лінійною алгеброю. Це все можна знайти в під-модулі linalg. Цими модулями також можна оперувати з виродженими і невиродженими матрицями. Визначник матриці шукається таким чином:"
   ]
  },
  {
   "cell_type": "code",
   "execution_count": null,
   "metadata": {
    "colab": {
     "base_uri": "https://localhost:8080/"
    },
    "id": "jsAzktH3LbmO",
    "outputId": "d8038354-ff07-4747-b741-4c2bee0f3f46"
   },
   "outputs": [
    {
     "name": "stdout",
     "output_type": "stream",
     "text": [
      "[[4. 2. 0.]\n",
      " [9. 3. 7.]\n",
      " [1. 2. 1.]]\n",
      "-48.00000000000003\n"
     ]
    }
   ],
   "source": [
    "a = np.array([[4, 2, 0], [9, 3, 7], [1, 2, 1]], float)\n",
    "print(a)\n",
    "print(np.linalg.det(a))"
   ]
  },
  {
   "cell_type": "markdown",
   "metadata": {
    "id": "vw7UxklGLglj"
   },
   "source": [
    "Також можна знайти власний вектор і власне значення матриці:"
   ]
  },
  {
   "cell_type": "code",
   "execution_count": null,
   "metadata": {
    "colab": {
     "base_uri": "https://localhost:8080/"
    },
    "id": "ZvASIWlJLiWQ",
    "outputId": "fb7f6c5e-8437-4ed8-d995-b021d2c7ed28"
   },
   "outputs": [
    {
     "name": "stdout",
     "output_type": "stream",
     "text": [
      "[ 8.85591316  1.9391628  -2.79507597]\n",
      "[[-0.3663565  -0.54736745  0.25928158]\n",
      " [-0.88949768  0.5640176  -0.88091903]\n",
      " [-0.27308752  0.61828231  0.39592263]]\n"
     ]
    }
   ],
   "source": [
    "vals, vecs = np.linalg.eig(a)\n",
    "print(vals)\n",
    "print(vecs)"
   ]
  },
  {
   "cell_type": "markdown",
   "metadata": {
    "id": "8uSb_kU9LnEA"
   },
   "source": [
    "Невироджена матриця може бути знайдена так:"
   ]
  },
  {
   "cell_type": "code",
   "execution_count": null,
   "metadata": {
    "colab": {
     "base_uri": "https://localhost:8080/"
    },
    "id": "DApC0-WQLoiQ",
    "outputId": "7f80c68b-d745-4e26-9be9-039a1cd3416f"
   },
   "outputs": [
    {
     "name": "stdout",
     "output_type": "stream",
     "text": [
      "[[ 0.22916667  0.04166667 -0.29166667]\n",
      " [ 0.04166667 -0.08333333  0.58333333]\n",
      " [-0.3125      0.125       0.125     ]]\n",
      "[[1.00000000e+00 5.55111512e-17 0.00000000e+00]\n",
      " [0.00000000e+00 1.00000000e+00 2.22044605e-16]\n",
      " [0.00000000e+00 1.38777878e-17 1.00000000e+00]]\n"
     ]
    }
   ],
   "source": [
    "b = np.linalg.inv(a)\n",
    "print(b)\n",
    "print(np.dot(a, b))"
   ]
  },
  {
   "cell_type": "markdown",
   "metadata": {
    "id": "Tnzhm_hZ-LqI"
   },
   "source": [
    "# Векторизація\n",
    "Процес застосування операцій до всього масиву, а не до окремих елементів\n"
   ]
  },
  {
   "cell_type": "code",
   "execution_count": null,
   "metadata": {
    "colab": {
     "base_uri": "https://localhost:8080/"
    },
    "id": "Gr83L2VQ-1ez",
    "outputId": "ff71c05b-0a65-4bdb-c4f4-cd3ae41a5991"
   },
   "outputs": [
    {
     "name": "stdout",
     "output_type": "stream",
     "text": [
      "1\n",
      "[ 1  4  9 16 25 36]\n"
     ]
    }
   ],
   "source": [
    "a = np.array([1,2,3,4,5,6])\n",
    "\n",
    "squared = a**2\n",
    "squared_first_element = a[0]**2\n",
    "print(squared_first_element)\n",
    "print(squared)"
   ]
  },
  {
   "cell_type": "markdown",
   "metadata": {
    "id": "TDpqBB3f-UUb"
   },
   "source": [
    "# Broadcasting\n",
    "Механізм який дозволяє виконувати операції між масивами різних розмірностей або форм БЕЗ явного копіювання даних."
   ]
  },
  {
   "cell_type": "code",
   "execution_count": null,
   "metadata": {
    "id": "UD0MlM2b-gQY"
   },
   "outputs": [],
   "source": [
    "a = np.array([1,2,3])\n",
    "b = np.array([[4], [5], [6]])\n",
    "\n",
    "result = a + b # операція з використанням broadcasting"
   ]
  },
  {
   "cell_type": "code",
   "execution_count": null,
   "metadata": {
    "colab": {
     "base_uri": "https://localhost:8080/"
    },
    "id": "1utQYfor-ut-",
    "outputId": "f6d8bfe7-2397-4172-efa5-4912700e0eb4"
   },
   "outputs": [
    {
     "data": {
      "text/plain": [
       "array([[5, 6, 7],\n",
       "       [6, 7, 8],\n",
       "       [7, 8, 9]])"
      ]
     },
     "execution_count": 86,
     "metadata": {},
     "output_type": "execute_result"
    }
   ],
   "source": [
    "result"
   ]
  }
 ],
 "metadata": {
  "colab": {
   "provenance": []
  },
  "kernelspec": {
   "display_name": "Python 3 (ipykernel)",
   "language": "python",
   "name": "python3"
  },
  "language_info": {
   "codemirror_mode": {
    "name": "ipython",
    "version": 3
   },
   "file_extension": ".py",
   "mimetype": "text/x-python",
   "name": "python",
   "nbconvert_exporter": "python",
   "pygments_lexer": "ipython3",
   "version": "3.10.11"
  }
 },
 "nbformat": 4,
 "nbformat_minor": 4
}
