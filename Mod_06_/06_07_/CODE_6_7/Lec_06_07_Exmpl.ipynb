{
 "cells": [
  {
   "cell_type": "markdown",
   "metadata": {
    "id": "2HpXziDhwlCS"
   },
   "source": [
    "# Лекція 6.7. Можливості перевантаження операторів. Визначення понять об’єктів ітерування, ітератора та генератора"
   ]
  },
  {
   "cell_type": "markdown",
   "metadata": {
    "id": "xq3U4unqPuXL"
   },
   "source": [
    "# Перевантаження операторів\n",
    "Перевантаження операторів у Python - це можливість за допомогою спеціальних методів у класах перевизначати різні оператори мови. Імена таких методів включають подвійне підкреслення спереду і ззаду.\n",
    "\n",
    "Під операторами в даному контексті розуміються не тільки знаки +, -, *, /, що забезпечують операції додавання, віднімання тощо, а й також специфіка синтаксису мови, що забезпечує операції створення об'єкта, виклику об'єкта як функції, звернення до елемента об'єкта за індексом, виведення об'єкта та інше.\n",
    "Ми вже використовували низку вбудованих методів. Це\n",
    "\n",
    "```__init__()``` - конструктор об'єктів класу, викликається при створенні об'єктів"
   ]
  },
  {
   "cell_type": "code",
   "execution_count": null,
   "metadata": {
    "id": "t1337Ry4Pqve"
   },
   "outputs": [],
   "source": [
    "class A:\n",
    "  def __init__(self, value=0):\n",
    "    self.field=value\n",
    "\n",
    "a = A()\n",
    "\n",
    "b = A(3)"
   ]
  },
  {
   "cell_type": "markdown",
   "metadata": {
    "id": "eYdav7yoQfZe"
   },
   "source": [
    "```__del__()``` - деструктор об'єктів класу, викликається під час видалення об'єктів\n",
    "\n",
    "```__str__()``` - перетворення об'єкта до рядкового подання, викликається, коли об'єкт передається функціям print() і str()\n",
    "\n",
    "```__add__()``` - метод перевантаження оператора додавання, викликається, коли об'єкт бере участь в операції додавання будучи операндом з лівого боку"
   ]
  },
  {
   "cell_type": "code",
   "execution_count": null,
   "metadata": {
    "colab": {
     "base_uri": "https://localhost:8080/"
    },
    "id": "HELCsnXyQWwf",
    "outputId": "a90cada4-2f5e-4b7c-d8ad-cf804ceb2034"
   },
   "outputs": [
    {
     "name": "stdout",
     "output_type": "stream",
     "text": [
      "A: Qty ***\n",
      "B: ********\n"
     ]
    }
   ],
   "source": [
    "class Stars:\n",
    "  def __init__(self, n):\n",
    "    self.qty= \"*\" * n\n",
    "\n",
    "  def __add__(self, n):\n",
    "    return self.qty + '*' * n\n",
    "\n",
    "  def __str__(self):\n",
    "    return \"Qty \" + self.qty\n",
    "\n",
    "a = Stars(3)\n",
    "\n",
    "b = a + 5\n",
    "\n",
    "print(\"A:\",a)\n",
    "print(\"B:\",b)"
   ]
  },
  {
   "cell_type": "markdown",
   "metadata": {
    "id": "-lLjTHVzRMyN"
   },
   "source": [
    "```__setattr__()``` - викликається, коли атрибуту об'єкта виконується присвоювання"
   ]
  },
  {
   "cell_type": "code",
   "execution_count": null,
   "metadata": {
    "id": "7My6e8heROJt"
   },
   "outputs": [],
   "source": [
    "class A:\n",
    "  def __init__(self, v):\n",
    "    self.field = v\n",
    "\n",
    "  def __setattr__(self, attr, value):\n",
    "    if attr == 'field':\n",
    "      self.__dict__[attr] = value\n",
    "    else:\n",
    "      raise AttributeError\n",
    "\n",
    "a = A(15)\n",
    "\n",
    "a.field = -3"
   ]
  },
  {
   "cell_type": "markdown",
   "metadata": {
    "id": "fqM7BTGPRhVt"
   },
   "source": [
    "У Python багато інших методів перевантаження операторів.\n",
    "\n",
    "Насправді перевантаження операторів у користувацьких класах використовується не так часто, якщо не брати до уваги конструктора. Але сам факт наявності такої особливості об'єктно-орієнтованого програмування вимагає окремого розгляду теми.\n",
    "\n",
    "Але для короткого прикладу розглянемо деякі з цих методів на прикладі двовимірного вектора, для якого перевизначимо деякі методи:"
   ]
  },
  {
   "cell_type": "code",
   "execution_count": null,
   "metadata": {
    "id": "c0xcHCfZRiBP"
   },
   "outputs": [],
   "source": [
    "import math\n",
    "\n",
    "class Vector2D:\n",
    "    def __init__(self, x, y):\n",
    "        self.x = x\n",
    "        self.y = y\n",
    "\n",
    "    def __repr__(self):\n",
    "        return 'Vector2D({}, {})'.format(self.x, self.y)\n",
    "\n",
    "    def __str__(self):\n",
    "        return '({}, {})'.format(self.x, self.y)\n",
    "\n",
    "    def __add__(self, other):\n",
    "        return Vector2D(self.x + other.x, self.y + other.y)\n",
    "\n",
    "    def __iadd__(self, other):\n",
    "        self.x += other.x\n",
    "        self.y += other.y\n",
    "        return self\n",
    "\n",
    "    def __sub__(self, other):\n",
    "        return Vector2D(self.x - other.x, self.y - other.y)\n",
    "\n",
    "    def __isub__(self, other):\n",
    "        self.x -= other.x\n",
    "        self.y -= other.y\n",
    "        return self\n",
    "\n",
    "    def __abs__(self):\n",
    "        return math.hypot(self.x, self.y)\n",
    "\n",
    "    def __bool__(self):\n",
    "        return self.x != 0 or self.y != 0\n",
    "\n",
    "    def __neg__(self):\n",
    "        return Vector2D(-self.x, -self.y)"
   ]
  },
  {
   "cell_type": "code",
   "execution_count": null,
   "metadata": {
    "colab": {
     "base_uri": "https://localhost:8080/"
    },
    "id": "IHAKIXdzSTIR",
    "outputId": "bc62bf30-51ea-4dd6-dc55-dd896ca00f9a"
   },
   "outputs": [
    {
     "name": "stdout",
     "output_type": "stream",
     "text": [
      "(3, 4)\n",
      "5.0\n",
      "(8, 10)\n",
      "(-2, -2)\n",
      "(-3, -4)\n",
      "(8, 10)\n",
      "True\n",
      "False\n",
      "(0, 0)\n"
     ]
    }
   ],
   "source": [
    "x = Vector2D(3, 4) # Створення об'єкту x\n",
    "print(x) # __str__ (3, 4)\n",
    "print(abs(x)) #__abs__ 5.0\n",
    "y = Vector2D(5, 6) # Створення об'єкту y\n",
    "print(x + y) # __add__ (8, 10)\n",
    "print(x - y) # __sub__ (-2, -2)\n",
    "print(-x) # __neg__ (-3, -4)\n",
    "x += y # __iadd__, якщо немає імплементації, викликає __add__\n",
    "print(x) # (8, 10)\n",
    "print(bool(x)) # __bool__ True\n",
    "z = Vector2D(0, 0) # Створення об'єкту z\n",
    "print(bool(z)) # __bool__ False\n",
    "print(-z) # __neg__ (0,0)"
   ]
  },
  {
   "cell_type": "markdown",
   "metadata": {
    "id": "wY68WcYNULVG"
   },
   "source": [
    "# Ітератори та генератори\n",
    "\n",
    "Генератори та ітератори являють собою інструменти, які, як правило, використовуються для потокової обробки даних.\n",
    "\n",
    "У багатьох сучасних мовах програмування використовують такі сутності як ітератори. Основне їхнє призначення - це спрощення навігації по елементах об'єкта, який, як правило, являє собою деяку колекцію (список, словник тощо). Мова Python, у цьому випадку, не виняток і в ній теж є підтримка ітераторів. Ітератор являє собою об'єкт перечислювач, який для даного об'єкта видає наступний елемент, або кидає виняток, якщо елементів більше немає.\n",
    "\n",
    "Основне місце використання ітераторів - це цикл for. Якщо ви перебираєте елементи в деякому списку або символи в рядку за допомогою циклу for, то, фактично, це означає, що під час кожної ітерації циклу відбувається звернення до ітератора, який міститься в рядку/списку, з вимогою видати наступний елемент, якщо елементів в об'єкті більше немає, то ітератор генерує виняток, що обробляється в рамках циклу for непомітно для користувача.\n",
    "\n",
    "Наведемо кілька прикладів, які допоможуть краще зрозуміти цю концепцію. Для початку виведемо елементи довільного списку на екран."
   ]
  },
  {
   "cell_type": "code",
   "execution_count": null,
   "metadata": {
    "colab": {
     "base_uri": "https://localhost:8080/"
    },
    "id": "wuHdYI2nV9YJ",
    "outputId": "6b213efe-2a04-46ac-83f1-d161db43ed27"
   },
   "outputs": [
    {
     "name": "stdout",
     "output_type": "stream",
     "text": [
      "1 2 3 4 5 "
     ]
    }
   ],
   "source": [
    "num_list = [1, 2, 3, 4, 5]\n",
    "for i in num_list:\n",
    "  print(i, end=\" \")"
   ]
  },
  {
   "cell_type": "markdown",
   "metadata": {
    "id": "p_wTbzxBWFEn"
   },
   "source": [
    "Як уже було сказано, об'єкти, елементи яких можна перебирати в циклі for, містять у собі об'єкт ітератор, для того, щоб його отримати, необхідно використати функцію iter(), а для вилучення наступного елемента з ітератора - функцію next()."
   ]
  },
  {
   "cell_type": "code",
   "execution_count": null,
   "metadata": {
    "colab": {
     "base_uri": "https://localhost:8080/"
    },
    "id": "Bo-aS8HuWFXA",
    "outputId": "49a7df0d-3c3b-4f6f-d000-061b954484e5"
   },
   "outputs": [
    {
     "name": "stdout",
     "output_type": "stream",
     "text": [
      "1\n",
      "2\n",
      "3\n",
      "4\n",
      "5\n"
     ]
    }
   ],
   "source": [
    "itr = iter(num_list)\n",
    "print(next(itr))\n",
    "print(next(itr))\n",
    "print(next(itr))\n",
    "print(next(itr))\n",
    "print(next(itr))\n",
    "# print(next(itr))"
   ]
  },
  {
   "cell_type": "markdown",
   "metadata": {
    "id": "N1zLAd-yWP7K"
   },
   "source": [
    "Як видно з наведеного вище прикладу, виклик функції next(itr) щоразу повертає наступний елемент зі списку, а коли ці елементи закінчуються, генерується виняток StopIteration."
   ]
  },
  {
   "cell_type": "markdown",
   "metadata": {
    "id": "HAemFTq7WUUz"
   },
   "source": [
    "## Створення власних ітераторів\n",
    "Якщо потрібно обійти елементи всередині об'єкта вашого власного класу, необхідно побудувати свій ітератор. Створимо клас, об'єкт якого буде ітератором, що видає певну кількість одиниць, яку користувач задає під час створення об'єкта. Такий клас буде містити конструктор, що приймає на вхід кількість одиниць і метод __next__(), без нього екземпляри цього класу не будуть ітераторами."
   ]
  },
  {
   "cell_type": "code",
   "execution_count": null,
   "metadata": {
    "id": "B8zJbBRIWSUC"
   },
   "outputs": [],
   "source": [
    "class SimpleIterator:\n",
    "    def __init__(self, limit):\n",
    "        self.limit = limit\n",
    "        self.counter = 0\n",
    "\n",
    "    def __next__(self):\n",
    "        if self.counter < self.limit:\n",
    "            self.counter += 1\n",
    "            return 1\n",
    "        else:\n",
    "          raise StopIteration\n",
    "\n",
    "s_iter1 = SimpleIterator(3)\n",
    "print(next(s_iter1))\n",
    "print(next(s_iter1))\n",
    "print(next(s_iter1))\n",
    "# print(next(s_iter1))"
   ]
  },
  {
   "cell_type": "markdown",
   "metadata": {
    "id": "uQkch0RtWfPV"
   },
   "source": [
    "У нашому прикладі під час четвертого виклику функції next() буде викинуто виняток StopIteration. Якщо ми хочемо, щоб з даним об'єктом можна було працювати в циклі for, то в клас SimpleIterator потрібно додати метод __iter__(), який повертає ітератор, в даному випадку цей метод повинен повертати self."
   ]
  },
  {
   "cell_type": "code",
   "execution_count": null,
   "metadata": {
    "colab": {
     "base_uri": "https://localhost:8080/"
    },
    "id": "8i8oYvUAWglY",
    "outputId": "eff16879-d494-4a59-f724-617a6b0e65cb"
   },
   "outputs": [
    {
     "name": "stdout",
     "output_type": "stream",
     "text": [
      "1 1 1 1 1 "
     ]
    }
   ],
   "source": [
    "class SimpleIterator:\n",
    "    def __iter__(self):\n",
    "        return self\n",
    "\n",
    "    def __init__(self, limit):\n",
    "        self.limit = limit\n",
    "        self.counter = 0\n",
    "\n",
    "    def __next__(self):\n",
    "        if self.counter < self.limit:\n",
    "            self.counter += 1\n",
    "            return 1\n",
    "        else:\n",
    "            raise StopIteration\n",
    "\n",
    "s_iter2 = SimpleIterator(5)\n",
    "for i in s_iter2:\n",
    "    print(i, end=\" \")"
   ]
  },
  {
   "cell_type": "markdown",
   "metadata": {
    "id": "SdCxLB3IWhqG"
   },
   "source": [
    "# Генератори\n",
    "Генератори дозволяють значно спростити роботу з конструювання ітераторів. У попередніх прикладах, для побудови ітератора і роботи з ним, ми створювали окремий клас. Генератор - це функція, яка будучи викликаною у функції next() повертає наступний об'єкт згідно з алгоритмом її роботи. Замість ключового слова return у генераторі використовується yield. Найпростіше роботу генератора подивитися на прикладі. Напишемо функцію, яка генерує необхідну нам кількість одиниць."
   ]
  },
  {
   "cell_type": "code",
   "execution_count": null,
   "metadata": {
    "colab": {
     "base_uri": "https://localhost:8080/"
    },
    "id": "mlxBk_ieWlvs",
    "outputId": "53df0a75-324b-4f62-928e-0ebe2bfd2402"
   },
   "outputs": [
    {
     "name": "stdout",
     "output_type": "stream",
     "text": [
      "1\n",
      "1\n",
      "1\n",
      "1\n",
      "1\n"
     ]
    }
   ],
   "source": [
    "def simple_generator(val):\n",
    "   while val > 0:\n",
    "       val -= 1\n",
    "       yield 1\n",
    "\n",
    "gen_iter = simple_generator(5)\n",
    "print(next(gen_iter))\n",
    "print(next(gen_iter))\n",
    "print(next(gen_iter))\n",
    "print(next(gen_iter))\n",
    "print(next(gen_iter))\n",
    "#print(next(gen_iter))"
   ]
  },
  {
   "cell_type": "markdown",
   "metadata": {
    "id": "xGb3ElKbWn9c"
   },
   "source": [
    "Ця функція працюватиме так само, як клас SimpleIterator із попереднього прикладу.\n",
    "\n",
    "Ключовим моментом для розуміння роботи генераторів є те, що під час виклику yield функція не припиняє свою роботу, а \"заморожується\" до чергової ітерації, що запускається функцією next(). Якщо ви у своєму генераторі, десь використовуєте ключове слово return, то дійшовши до цього місця, буде викинуто виняток StopIteration, а якщо після ключового слова return помістити будь-яку інформацію, то вона буде додана до опису StopIteration."
   ]
  }
 ],
 "metadata": {
  "colab": {
   "provenance": []
  },
  "kernelspec": {
   "display_name": "Python 3 (ipykernel)",
   "language": "python",
   "name": "python3"
  },
  "language_info": {
   "codemirror_mode": {
    "name": "ipython",
    "version": 3
   },
   "file_extension": ".py",
   "mimetype": "text/x-python",
   "name": "python",
   "nbconvert_exporter": "python",
   "pygments_lexer": "ipython3",
   "version": "3.10.11"
  }
 },
 "nbformat": 4,
 "nbformat_minor": 4
}
