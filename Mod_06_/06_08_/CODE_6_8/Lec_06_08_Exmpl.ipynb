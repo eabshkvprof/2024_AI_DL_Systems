{
 "cells": [
  {
   "cell_type": "markdown",
   "metadata": {
    "id": "3ZolZuZCv_ya"
   },
   "source": [
    "# Лекція 6.8. Убудовані функції та вбудовані класи виняткових ситуацій"
   ]
  },
  {
   "cell_type": "markdown",
   "metadata": {
    "id": "q63A_acNRkHw"
   },
   "source": [
    "# Оброблення помилок і винятків\n",
    "## Конструкція try...except...finally\n",
    "\n",
    "Під час програмування Python ми можемо зіткнутися з двома типами помилок. Перший тип становлять синтаксичні помилки (syntax error). Вони з'являються внаслідок порушення синтаксису мови програмування під час написання вихідного коду. За наявності таких помилок програма не може бути скомпільована. Під час роботи в будь-якому середовищі розроблення, наприклад, у PyCharm, IDE сама може відстежувати синтаксичні помилки і якимось чином їх виділяти.\n",
    "\n",
    "Другий тип помилок представляють помилки виконання (runtime error). Вони з'являються у вже скомпільованій програмі в процесі її виконання. Подібні помилки ще називаються винятками. Наприклад, у минулих лекціях ми розглядали перетворення рядка в число:"
   ]
  },
  {
   "cell_type": "code",
   "execution_count": null,
   "metadata": {
    "colab": {
     "base_uri": "https://localhost:8080/"
    },
    "id": "CL66PhTKRIvV",
    "outputId": "15a0c0f3-d957-484f-c3d0-994100d28b2a"
   },
   "outputs": [
    {
     "name": "stdout",
     "output_type": "stream",
     "text": [
      "1\n",
      "<class 'int'>\n"
     ]
    }
   ],
   "source": [
    "string = \"1\"\n",
    "number = int(string)\n",
    "print(number)\n",
    "print(type(number))"
   ]
  },
  {
   "cell_type": "markdown",
   "metadata": {
    "id": "So3yQpVsRsW5"
   },
   "source": [
    "Цей скрипт успішно скомпілюється і виконається, оскільки рядок \"1\" цілком може бути конвертований у число. Однак візьмемо інший приклад:"
   ]
  },
  {
   "cell_type": "code",
   "execution_count": null,
   "metadata": {
    "colab": {
     "base_uri": "https://localhost:8080/",
     "height": 180
    },
    "id": "G_vdrTXERkp3",
    "outputId": "66d142a5-a164-457d-9466-911690b5d8d0"
   },
   "outputs": [
    {
     "ename": "ValueError",
     "evalue": "invalid literal for int() with base 10: 'привіт'",
     "output_type": "error",
     "traceback": [
      "\u001b[0;31m---------------------------------------------------------------------------\u001b[0m",
      "\u001b[0;31mValueError\u001b[0m                                Traceback (most recent call last)",
      "\u001b[0;32m<ipython-input-3-3cc4d9ef3889>\u001b[0m in \u001b[0;36m<cell line: 2>\u001b[0;34m()\u001b[0m\n\u001b[1;32m      1\u001b[0m \u001b[0mstring\u001b[0m \u001b[0;34m=\u001b[0m \u001b[0;34m\"привіт\"\u001b[0m\u001b[0;34m\u001b[0m\u001b[0;34m\u001b[0m\u001b[0m\n\u001b[0;32m----> 2\u001b[0;31m \u001b[0mnumber\u001b[0m \u001b[0;34m=\u001b[0m \u001b[0mint\u001b[0m\u001b[0;34m(\u001b[0m\u001b[0mstring\u001b[0m\u001b[0;34m)\u001b[0m\u001b[0;34m\u001b[0m\u001b[0;34m\u001b[0m\u001b[0m\n\u001b[0m\u001b[1;32m      3\u001b[0m \u001b[0mprint\u001b[0m\u001b[0;34m(\u001b[0m\u001b[0mnumber\u001b[0m\u001b[0;34m)\u001b[0m\u001b[0;34m\u001b[0m\u001b[0;34m\u001b[0m\u001b[0m\n",
      "\u001b[0;31mValueError\u001b[0m: invalid literal for int() with base 10: 'привіт'"
     ]
    }
   ],
   "source": [
    "string = \"привіт\"\n",
    "number = int(string)\n",
    "print(number)"
   ]
  },
  {
   "cell_type": "markdown",
   "metadata": {
    "id": "IdRboBVvRtnb"
   },
   "source": [
    "Під час виконання цього скрипта буде викинуто виняток ValueError, оскільки рядок \"hello\" не можна перетворити на число:\n",
    "```\n",
    "ValueError: invalid literal for int() with base 10: 'hello'\n",
    "```\n",
    "З одного боку, тут очевидно, що рядок не представляє число, але ми можемо мати справу з введенням користувача, який також може ввести не зовсім те, що ми очікуємо:"
   ]
  },
  {
   "cell_type": "code",
   "execution_count": null,
   "metadata": {
    "colab": {
     "base_uri": "https://localhost:8080/",
     "height": 198
    },
    "id": "6fo830EgRzpZ",
    "outputId": "1a795bbf-68c7-4c99-f335-18c44827428b"
   },
   "outputs": [
    {
     "name": "stdout",
     "output_type": "stream",
     "text": [
      "Введіть число: dfgdfgdfg\n"
     ]
    },
    {
     "ename": "ValueError",
     "evalue": "invalid literal for int() with base 10: 'dfgdfgdfg'",
     "output_type": "error",
     "traceback": [
      "\u001b[0;31m---------------------------------------------------------------------------\u001b[0m",
      "\u001b[0;31mValueError\u001b[0m                                Traceback (most recent call last)",
      "\u001b[0;32m<ipython-input-5-87b4f0e71508>\u001b[0m in \u001b[0;36m<cell line: 2>\u001b[0;34m()\u001b[0m\n\u001b[1;32m      1\u001b[0m \u001b[0mstring\u001b[0m \u001b[0;34m=\u001b[0m \u001b[0minput\u001b[0m\u001b[0;34m(\u001b[0m\u001b[0;34m\"Введіть число: \"\u001b[0m\u001b[0;34m)\u001b[0m\u001b[0;34m\u001b[0m\u001b[0;34m\u001b[0m\u001b[0m\n\u001b[0;32m----> 2\u001b[0;31m \u001b[0mnumber\u001b[0m \u001b[0;34m=\u001b[0m \u001b[0mint\u001b[0m\u001b[0;34m(\u001b[0m\u001b[0mstring\u001b[0m\u001b[0;34m)\u001b[0m\u001b[0;34m\u001b[0m\u001b[0;34m\u001b[0m\u001b[0m\n\u001b[0m\u001b[1;32m      3\u001b[0m \u001b[0mprint\u001b[0m\u001b[0;34m(\u001b[0m\u001b[0mnumber\u001b[0m\u001b[0;34m)\u001b[0m\u001b[0;34m\u001b[0m\u001b[0;34m\u001b[0m\u001b[0m\n",
      "\u001b[0;31mValueError\u001b[0m: invalid literal for int() with base 10: 'dfgdfgdfg'"
     ]
    }
   ],
   "source": [
    "string = input(\"Введіть число: \")\n",
    "number = int(string)\n",
    "print(number)"
   ]
  },
  {
   "cell_type": "markdown",
   "metadata": {
    "id": "AWrXaZ-yR7nE"
   },
   "source": [
    "При виникненні винятку робота програми переривається, і щоб уникнути подібної поведінки та обробляти винятки, в Python є конструкція try..except.\n",
    "\n",
    "## try..except\n",
    "\n",
    "Конструкція try..except має таке формальне визначення:\n",
    "```\n",
    "try:\n",
    "    інструкції\n",
    "except [Тип_винятку]:\n",
    "    інструкції\n",
    "```\n",
    "\n",
    "Увесь основний код, у якому потенційно може виникнути виняток, поміщається після ключового слова try. Якщо в цьому коді генерується виняток, то робота коду в блоці try переривається, і виконання переходить у блок except.\n",
    "\n",
    "Після ключового слова except опціонально можна вказати, яке виняток буде оброблятися (наприклад, ValueError або KeyError). Після слова except на наступному рядку йдуть інструкції блоку except, що виконуються у разі виникнення винятку.\n",
    "\n",
    "Розглянемо обробку винятку на прикладі перетворення рядка в число:"
   ]
  },
  {
   "cell_type": "code",
   "execution_count": null,
   "metadata": {
    "colab": {
     "base_uri": "https://localhost:8080/"
    },
    "id": "OcRWCYx6R9oW",
    "outputId": "1b7ed046-82c6-4576-92ac-621e27b68238"
   },
   "outputs": [
    {
     "name": "stdout",
     "output_type": "stream",
     "text": [
      "Введіть число: a\n",
      "Перетворення пройшло невдало\n",
      "Завершення програми\n"
     ]
    }
   ],
   "source": [
    "try:\n",
    "    number = int(input(\"Введіть число: \"))\n",
    "    print(\"Введене число:\", number)\n",
    "except:\n",
    "    print(\"Error! You need to enter a number, not a string\")\n",
    "\n",
    "print(\"Завершення програми\")"
   ]
  },
  {
   "cell_type": "markdown",
   "metadata": {
    "id": "x0GSVzYuSKgE"
   },
   "source": [
    "## Блок finally\n",
    "\n",
    "Під час обробки винятків також можна використовувати необов'язковий блок finally. Відмінною особливістю цього блоку є те, що він виконується незалежно від того, чи було згенеровано виняток:\n"
   ]
  },
  {
   "cell_type": "code",
   "execution_count": null,
   "metadata": {
    "colab": {
     "base_uri": "https://localhost:8080/"
    },
    "id": "NwrlAsOLSKRH",
    "outputId": "ccd85485-36a5-4948-fa6d-d8d3fcd88ebc"
   },
   "outputs": [
    {
     "name": "stdout",
     "output_type": "stream",
     "text": [
      "Введіть число: 12\n",
      "Введене число: 12\n",
      "Блок try завершив виконання\n",
      "Завершення програми\n"
     ]
    }
   ],
   "source": [
    "try:\n",
    "    number = int(input(\"Введіть число: \"))\n",
    "    print(\"Введене число:\", number)\n",
    "except:\n",
    "    print(\"Перетворення пройшло невдало\")\n",
    "finally:\n",
    "    print(\"Блок try завершив виконання\")\n",
    "print(\"Завершення програми\")"
   ]
  },
  {
   "cell_type": "markdown",
   "metadata": {
    "id": "ZKd9c6NISReV"
   },
   "source": [
    "Як правило, блок finally застосовується для звільнення використовуваних ресурсів, наприклад, для закриття файлів."
   ]
  },
  {
   "cell_type": "markdown",
   "metadata": {
    "id": "5VkPfNuzST0h"
   },
   "source": [
    "## Except і обробка різних типів винятків\n",
    "## Вбудовані типи винятків\n",
    "\n",
    "У прикладі вище оброблялися відразу всі винятки, які можуть виникнути в коді. Однак ми можемо конкретизувати тип оброблюваного виключення, вказавши його після слова except:\n"
   ]
  },
  {
   "cell_type": "code",
   "execution_count": null,
   "metadata": {
    "colab": {
     "base_uri": "https://localhost:8080/"
    },
    "id": "JerwRWRTScF8",
    "outputId": "3b5e72d7-f742-40ab-e182-f46ef36fbc3e"
   },
   "outputs": [
    {
     "name": "stdout",
     "output_type": "stream",
     "text": [
      "Введіть число: sdsdg\n",
      "Перетворення пройшло невдало\n",
      "Завершення програми\n"
     ]
    }
   ],
   "source": [
    "try:\n",
    "    number = int(input(\"Введіть число: \"))\n",
    "    print(\"Введене число:\", number)\n",
    "except ValueError:\n",
    "    print(\"Перетворення пройшло невдало\")\n",
    "print(\"Завершення програми\")"
   ]
  },
  {
   "cell_type": "markdown",
   "metadata": {
    "id": "PyHV77TWSccp"
   },
   "source": [
    "У цьому випадку блок execpt обробляє тільки винятки типу ValueError, які можуть виникнути в разі невдалого перетворення рядка в число.\n",
    "\n",
    "У Python є такі базові типи винятків:\n",
    "1. BaseException: базовий тип для всіх вбудованих винятків\n",
    "\n",
    "2. Exception: базовий тип, який зазвичай застосовується для створення своїх типів винятків\n",
    "\n",
    "3. ArithmeticError: базовий тип для винятків, пов'язаних з арифметичними операціями (OverflowError, ZeroDivisionError, FloatingPointError).\n",
    "\n",
    "4. BufferError: тип винятку, що виникає при неможливості виконати операцію з буфером\n",
    "\n",
    "5. LookupError: базовий тип для винятків, що виникають при зверненні в колекціях за некоректним ключем або індексом (наприклад, IndexError, KeyError)\n",
    "\n",
    "Від цих класів успадковуються всі конкретні типи винятків. Python має досить великий список вбудованих винятків. Весь цей список можна подивитися в документації. Перерахуємо ті, що зустрічаються найчастіше:\n",
    "1. IndexError: виняток виникає, якщо індекс під час звернення до елемента колекції знаходиться поза допустимим діапазоном\n",
    "\n",
    "2. KeyError: виникає, якщо в словнику відсутній ключ, за яким відбувається звернення до елемента словника.\n",
    "\n",
    "3. OverflowError: виникає, якщо результат арифметичної операції не може бути представлений поточним числовим типом (зазвичай типом float).\n",
    "\n",
    "4. RecursionError: виникає, якщо перевищено допустиму глибину рекурсії.\n",
    "\n",
    "5. TypeError: виникає, якщо операція або функція застосовується до значення неприпустимого типу.\n",
    "\n",
    "6. ValueError: виникає, якщо операція або функція отримують об'єкт коректного типу з некоректним значенням.\n",
    "\n",
    "7. ZeroDivisionError: виникає під час ділення на нуль.\n",
    "\n",
    "8. NotImplementedError: тип винятку для вказівки, що якісь методи класу не реалізовані\n",
    "\n",
    "9. ModuleNotFoundError: виникає при неможливості знайти модуль при його імпорті директивою import\n",
    "\n",
    "10. OSError: тип винятків, що генеруються при виникненні помилок системи (наприклад, неможливо знайти файл, пам'ять диска заповнена тощо).\n",
    "\n",
    "І якщо ситуація така, що в програмі можуть бути згенеровані різні типи винятків, то ми можемо їх обробити окремо, використовуючи додаткові вирази except. І при виникненні виключення Python буде шукати потрібний блок except, який обробляє даний тип виключення:"
   ]
  },
  {
   "cell_type": "code",
   "execution_count": null,
   "metadata": {
    "colab": {
     "base_uri": "https://localhost:8080/"
    },
    "id": "Td9AS5lBSxeB",
    "outputId": "897e8af1-a650-4f2f-e476-6e170f5fb22a"
   },
   "outputs": [
    {
     "name": "stdout",
     "output_type": "stream",
     "text": [
      "Введіть перше число: 1\n",
      "Введіть друге число: 0\n",
      "Спроба ділення числа на нуль\n",
      "Завершення програми\n"
     ]
    }
   ],
   "source": [
    "try:\n",
    "    number1 = int(input(\"Введіть перше число: \"))\n",
    "    number2 = int(input(\"Введіть друге число: \"))\n",
    "    print(\"Результат ділення:\", number1/number2)\n",
    "except ValueError:\n",
    "    print(\"Перетворення пройшло невдало\")\n",
    "except ZeroDivisionError:\n",
    "    print(\"Спроба ділення числа на нуль\")\n",
    "except BaseException:\n",
    "    print(\"Загальне виключення\")\n",
    "print(\"Завершення програми\")"
   ]
  },
  {
   "cell_type": "markdown",
   "metadata": {
    "id": "PFpH2MMyTIxv"
   },
   "source": [
    "Якщо виникне виняток унаслідок перетворення рядка на число, то його буде оброблено блоком except ValueError. Якщо ж друге число дорівнюватиме нулю, тобто буде ділення на нуль, тоді виникне виняток ZeroDivisionError, і його буде оброблено блоком except ZeroDivisionError.\n",
    "\n",
    "Тип BaseException представляє загальне виключення, під яке потрапляють усі виняткові ситуації. Тому в даному випадку будь-яке виключення, яке не представляє тип ValueError або ZeroDivisionError, буде опрацьоване в блоці except BaseException:.\n",
    "\n",
    "Однак, якщо в програмі виникає виняток типу, для якого немає відповідного блоку except, то програма не зможе знайти відповідний блок except і згенерує виняток. Наприклад, у такому випадку:"
   ]
  },
  {
   "cell_type": "code",
   "execution_count": null,
   "metadata": {
    "colab": {
     "base_uri": "https://localhost:8080/",
     "height": 234
    },
    "id": "7NnrVyFUTKmZ",
    "outputId": "4fdb1d23-983d-498e-aaa9-43e6564d5234"
   },
   "outputs": [
    {
     "name": "stdout",
     "output_type": "stream",
     "text": [
      "Введіть перше число: asf\n"
     ]
    },
    {
     "ename": "ValueError",
     "evalue": "invalid literal for int() with base 10: 'asf'",
     "output_type": "error",
     "traceback": [
      "\u001b[0;31m---------------------------------------------------------------------------\u001b[0m",
      "\u001b[0;31mValueError\u001b[0m                                Traceback (most recent call last)",
      "\u001b[0;32m<ipython-input-11-6f04e6be858d>\u001b[0m in \u001b[0;36m<cell line: 1>\u001b[0;34m()\u001b[0m\n\u001b[1;32m      1\u001b[0m \u001b[0;32mtry\u001b[0m\u001b[0;34m:\u001b[0m\u001b[0;34m\u001b[0m\u001b[0;34m\u001b[0m\u001b[0m\n\u001b[0;32m----> 2\u001b[0;31m     \u001b[0mnumber1\u001b[0m \u001b[0;34m=\u001b[0m \u001b[0mint\u001b[0m\u001b[0;34m(\u001b[0m\u001b[0minput\u001b[0m\u001b[0;34m(\u001b[0m\u001b[0;34m\"Введіть перше число: \"\u001b[0m\u001b[0;34m)\u001b[0m\u001b[0;34m)\u001b[0m\u001b[0;34m\u001b[0m\u001b[0;34m\u001b[0m\u001b[0m\n\u001b[0m\u001b[1;32m      3\u001b[0m     \u001b[0mnumber2\u001b[0m \u001b[0;34m=\u001b[0m \u001b[0mint\u001b[0m\u001b[0;34m(\u001b[0m\u001b[0minput\u001b[0m\u001b[0;34m(\u001b[0m\u001b[0;34m\"Введіть друге число: \"\u001b[0m\u001b[0;34m)\u001b[0m\u001b[0;34m)\u001b[0m\u001b[0;34m\u001b[0m\u001b[0;34m\u001b[0m\u001b[0m\n\u001b[1;32m      4\u001b[0m     \u001b[0mprint\u001b[0m\u001b[0;34m(\u001b[0m\u001b[0;34m\"Результат ділення:\"\u001b[0m\u001b[0;34m,\u001b[0m \u001b[0mnumber1\u001b[0m\u001b[0;34m/\u001b[0m\u001b[0mnumber2\u001b[0m\u001b[0;34m)\u001b[0m\u001b[0;34m\u001b[0m\u001b[0;34m\u001b[0m\u001b[0m\n\u001b[1;32m      5\u001b[0m \u001b[0;32mexcept\u001b[0m \u001b[0mZeroDivisionError\u001b[0m\u001b[0;34m:\u001b[0m\u001b[0;34m\u001b[0m\u001b[0;34m\u001b[0m\u001b[0m\n",
      "\u001b[0;31mValueError\u001b[0m: invalid literal for int() with base 10: 'asf'"
     ]
    }
   ],
   "source": [
    "try:\n",
    "    number1 = int(input(\"Введіть перше число: \"))\n",
    "    number2 = int(input(\"Введіть друге число: \"))\n",
    "    print(\"Результат ділення:\", number1/number2)\n",
    "except ZeroDivisionError:\n",
    "    print(\"Спроба ділення числа на нуль\")\n",
    "print(\"Завершення програми\")"
   ]
  },
  {
   "cell_type": "markdown",
   "metadata": {
    "id": "sxv3O7DATLjY"
   },
   "source": [
    "Тут передбачено обробку ділення на нуль за допомогою блоку except ZeroDivisionError. Однак якщо користувач замість числа введе некорвертоване в число в рядок, то виникне виняток типу ValueError, для якого немає відповідного блоку except. І тому програма аварійно завершить своє виконання.\n",
    "\n",
    "Python дозволяє в одному блоці except опрацьовувати одразу кілька типів винятків. У цьому випадку всі типи винятку передаються в дужках:"
   ]
  },
  {
   "cell_type": "code",
   "execution_count": null,
   "metadata": {
    "colab": {
     "base_uri": "https://localhost:8080/"
    },
    "id": "ZBVYVnD0TO8L",
    "outputId": "f61ec326-4132-44c1-bc2e-4f95d7e17e7e"
   },
   "outputs": [
    {
     "name": "stdout",
     "output_type": "stream",
     "text": [
      "Введіть перше число: 123\n",
      "Введіть друге число: sdfsdf\n",
      "Спроба ділення числа на нуль або некоректне введення\n",
      "Завершення програми\n"
     ]
    }
   ],
   "source": [
    "try:\n",
    "    number1 = int(input(\"Введіть перше число: \"))\n",
    "    number2 = int(input(\"Введіть друге число: \"))\n",
    "    print(\"Результат ділення:\", number1/number2)\n",
    "except (ZeroDivisionError, ValueError):    #  обробка двох типів винятків - ZeroDivisionError и ValueError\n",
    "    print(\"Спроба ділення числа на нуль або некоректне введення\")\n",
    "\n",
    "print(\"Завершення програми\")"
   ]
  },
  {
   "cell_type": "markdown",
   "metadata": {
    "id": "Z42k0zGJTQCA"
   },
   "source": [
    "## Отримання інформації про виключення\n",
    "За допомогою оператора as ми можемо передати всю інформацію про виняток у змінну, яку потім можна використовувати в блоці except:\n"
   ]
  },
  {
   "cell_type": "code",
   "execution_count": null,
   "metadata": {
    "colab": {
     "base_uri": "https://localhost:8080/"
    },
    "id": "UefXQ8yGTXRq",
    "outputId": "760b29bc-b0d1-410b-d093-e883d741e9cd"
   },
   "outputs": [
    {
     "name": "stdout",
     "output_type": "stream",
     "text": [
      "Введіть число: wfsdfsdf\n",
      "Відомості про виключення invalid literal for int() with base 10: 'wfsdfsdf'\n",
      "Завершення програми\n"
     ]
    }
   ],
   "source": [
    "try:\n",
    "    number = int(input(\"Введіть число: \"))\n",
    "    print(\"Введене число:\", number)\n",
    "except ValueError as e:\n",
    "    print(\"Відомості про виключення\", e)\n",
    "print(\"Завершення програми\")"
   ]
  },
  {
   "cell_type": "markdown",
   "metadata": {
    "id": "VSY-4cjvTZhE"
   },
   "source": [
    "# Генерація винятків і створення своїх типів винятків\n",
    "## Генерація винятків і оператор raise\n",
    "\n",
    "Іноді виникає необхідність вручну згенерувати те чи інше виключення. Для цього застосовується оператор raise. Наприклад, згенеруємо виняток\n",
    "\n"
   ]
  },
  {
   "cell_type": "code",
   "execution_count": null,
   "metadata": {
    "colab": {
     "base_uri": "https://localhost:8080/"
    },
    "id": "r4yncz2dTr9y",
    "outputId": "d440b4ed-dd05-4923-98b0-a5a759346bcf"
   },
   "outputs": [
    {
     "name": "stdout",
     "output_type": "stream",
     "text": [
      "Введіть перше число: 123\n",
      "Введіть друге число: 0\n",
      "с=0\n",
      "Завершення програми\n"
     ]
    }
   ],
   "source": [
    "try:\n",
    "    number1 = int(input(\"Введіть перше число: \"))\n",
    "    number2 = int(input(\"Введіть друге число: \"))\n",
    "    if number2 == 0:\n",
    "        raise Exception(\"с=0\")\n",
    "    print(\"Результат ділення двох чисел:\", number1/number2)\n",
    "except ValueError:\n",
    "    print(\"Введено некоректні дані\")\n",
    "except Exception as e:\n",
    "    print(e)\n",
    "print(\"Завершення програми\")"
   ]
  },
  {
   "cell_type": "markdown",
   "metadata": {
    "id": "dG1M9HQnTsSf"
   },
   "source": [
    "Оператору raise передається об'єкт BaseException - у цьому випадку об'єкт Exception. У конструктор цього типу можна йому передати повідомлення, яке потім можна вивести користувачеві. У підсумку, якщо number2 дорівнюватиме 0, то спрацює оператор raise, який згенерує виняток. У підсумку керування програмою перейде до блоку except, який обробляє винятки типу Exception"
   ]
  },
  {
   "cell_type": "markdown",
   "metadata": {
    "id": "iAn1cwZLTwP3"
   },
   "source": [
    "## Створення своїх типів винятків\n",
    "\n",
    "У мові Python ми не обмежені тільки вбудованими типами винятків і можемо, застосовуючи успадкування, за необхідності створювати свої типи винятків. Наприклад, візьмемо наступний клас Person:"
   ]
  },
  {
   "cell_type": "code",
   "execution_count": null,
   "metadata": {
    "id": "X3w5bi7QTwAQ"
   },
   "outputs": [],
   "source": [
    "class Person:\n",
    "    def __init__(self, name, age):\n",
    "        self.__name = name  # встановлюємо ім'я\n",
    "        self.__age = age   # встановлюємо вік\n",
    "\n",
    "    def display_info(self):\n",
    "        print(f\"Ім'я: {self.__name}  Вік: {self.__age}\")"
   ]
  },
  {
   "cell_type": "markdown",
   "metadata": {
    "id": "qy1xCeilT3np"
   },
   "source": [
    "Тут клас Person у конструкторі отримує значення для імені та віку і присвоює їх приватним змінним name і age. Однак при створенні об'єкта Person ми можемо передати в конструктор некоректне з точки зору логіки значення - наприклад, від'ємне число. Одним зі способів розв'язання цієї ситуації є генерація винятку під час передавання некоректних значень.\n",
    "\n",
    "Отже, визначимо такий код програми:"
   ]
  },
  {
   "cell_type": "code",
   "execution_count": null,
   "metadata": {
    "colab": {
     "base_uri": "https://localhost:8080/"
    },
    "id": "13ZJ9d9qTvDD",
    "outputId": "54d135ea-b21a-424c-9cc3-3d7552cecf44"
   },
   "outputs": [
    {
     "name": "stdout",
     "output_type": "stream",
     "text": [
      "Ім'я: Tom  Вік: 37\n",
      "Недопустиме значення: -23. Вік має бути в діапазоні від 1 до 110\n"
     ]
    }
   ],
   "source": [
    "class PersonAgeException(Exception):\n",
    "    def __init__(self, age, minage, maxage):\n",
    "        self.age = age\n",
    "        self.minage = minage\n",
    "        self.maxage = maxage\n",
    "\n",
    "    def __str__(self):\n",
    "        return f\"Недопустиме значення: {self.age}. \" \\\n",
    "               f\"Вік має бути в діапазоні від {self.minage} до {self.maxage}\"\n",
    "\n",
    "\n",
    "class Person:\n",
    "    def __init__(self, name, age):\n",
    "        self.__name = name  # встановлюємо ім'я\n",
    "        minage, maxage = 1, 110\n",
    "        if minage < age < maxage:   # встановлюємо вік, якщо передано коректне значення\n",
    "            self.__age = age\n",
    "        else:                       # інакше генеруємо виняток\n",
    "            raise PersonAgeException(age, minage, maxage)\n",
    "\n",
    "    def display_info(self):\n",
    "        print(f\"Ім'я: {self.__name}  Вік: {self.__age}\")\n",
    "\n",
    "try:\n",
    "    tom = Person(\"Tom\", 37)\n",
    "    tom.display_info()  # Ім'я: Tom Вік: 37\n",
    "\n",
    "    bob = Person(\"Bob\", -23)\n",
    "    bob.display_info()\n",
    "except PersonAgeException as e:\n",
    "    print(e)    # Неприпустиме значення: -23. Вік має бути в діапазоні від 1 до 110"
   ]
  },
  {
   "cell_type": "markdown",
   "metadata": {
    "id": "VtVQUj3aT5o0"
   },
   "source": [
    "На початку тут визначено клас PersonAgeException, який успадковується від класу Exception. Як правило, власні класи винятків успадковуються від класу Exception. Клас PersonAgeException призначений для винятків, пов'язаних із віком користувача.\n",
    "\n",
    "У конструкторі PersonAgeException отримуємо три значення - власне некоректне значення, яке послужило причиною виключення, а також мінімальне і максимальне значення віку.\n"
   ]
  },
  {
   "cell_type": "code",
   "execution_count": null,
   "metadata": {
    "id": "NDEz1FXGT8B9"
   },
   "outputs": [],
   "source": [
    "class PersonAgeException(Exception):\n",
    "    def __init__(self, age, minage, maxage):\n",
    "        self.age = age\n",
    "        self.minage = minage\n",
    "        self.maxage = maxage\n",
    "\n",
    "    def __str__(self):\n",
    "        return f\"Недопустиме значення: {self.age}. \" \\\n",
    "               f\"Вік має бути в діапазоні від {self.minage} до {self.maxage}\""
   ]
  },
  {
   "cell_type": "markdown",
   "metadata": {
    "id": "t6VR1L61T8_L"
   },
   "source": [
    "У функції __str__ визначаємо текстове представлення класу - по суті повідомлення про помилку.\n",
    "\n",
    "У конструкторі класу Persoon перевіряємо передане для віку користувача значення. І якщо це значення не відповідає певному діапазону, то генеруємо виняток типу PersonAgeException:\n",
    "```\n",
    "raise PersonAgeException(age, minage, maxage)\n",
    "```\n",
    "При застосуванні класу Person нам слід враховувати, що конструктор класу може згенерувати виняток при передачі некоректного значення. Тому створення об'єктів Person обгортається в конструкцію try...except:"
   ]
  },
  {
   "cell_type": "code",
   "execution_count": null,
   "metadata": {
    "colab": {
     "base_uri": "https://localhost:8080/"
    },
    "id": "xSVHnZZ-UDQ2",
    "outputId": "34640499-0a33-4c3c-db82-a2a15c6f56ae"
   },
   "outputs": [
    {
     "name": "stdout",
     "output_type": "stream",
     "text": [
      "Ім'я: Tom  Вік: 37\n",
      "Недопустиме значення: -23. Вік має бути в діапазоні від 1 до 110\n"
     ]
    }
   ],
   "source": [
    "try:\n",
    "    tom = Person(\"Tom\", 37)\n",
    "    tom.display_info()  # Ім'я: Tom Вік: 37\n",
    "\n",
    "    bob = Person(\"Bob\", -23)  # Генерується виняток типу PersonAgeException\n",
    "    bob.display_info()\n",
    "except PersonAgeException as e:\n",
    "    print(e)    # Неприпустиме значення: -23. Вік має бути в діапазоні від 1 до 110"
   ]
  },
  {
   "cell_type": "markdown",
   "metadata": {
    "id": "JDn6rc5yUE0_"
   },
   "source": [
    "І якщо під час виклику конструктора Person буде згенеровано виняток типу PersonAgeException, то керування програмою перейде до блоку except, який обробляє винятки типу PersonAgeException у вигляді виведення інформації про виняток на консоль."
   ]
  }
 ],
 "metadata": {
  "colab": {
   "provenance": []
  },
  "kernelspec": {
   "display_name": "Python 3 (ipykernel)",
   "language": "python",
   "name": "python3"
  },
  "language_info": {
   "codemirror_mode": {
    "name": "ipython",
    "version": 3
   },
   "file_extension": ".py",
   "mimetype": "text/x-python",
   "name": "python",
   "nbconvert_exporter": "python",
   "pygments_lexer": "ipython3",
   "version": "3.10.11"
  }
 },
 "nbformat": 4,
 "nbformat_minor": 4
}
