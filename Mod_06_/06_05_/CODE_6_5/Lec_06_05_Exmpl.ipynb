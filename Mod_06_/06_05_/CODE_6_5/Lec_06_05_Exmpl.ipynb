{
 "cells": [
  {
   "cell_type": "markdown",
   "metadata": {
    "id": "3f50ga71wUg-"
   },
   "source": [
    "# Лекція 6.5. Інтерпретація скриптів. Модулі та типові пакети"
   ]
  },
  {
   "cell_type": "markdown",
   "metadata": {
    "id": "0uo4HJ8C7SMe"
   },
   "source": [
    "# Модулі\n",
    "\n",
    "Модуль у мові Python являє собою окремий файл із кодом, який можна повторно використовувати в інших програмах.\n",
    "\n",
    "Для створення модуля необхідно створити власне файл із розширенням *.py, який представлятиме модуль. Назва файлу представлятиме назву модуля. Потім у цьому файлі треба визначити одну або кілька функцій.\n",
    "\n",
    "Припустимо, основний файл програми називається main.py. І ми хочемо підключити до нього зовнішні модулі.\n",
    "\n",
    "Для цього спочатку визначимо новий модуль: створимо в тій самій папці, де знаходиться main.py, новий файл, який назвемо message.py. Якщо використовується PyCharm або інша IDE, то обидва файли просто поміщаються в один проєкт.\n",
    "\n",
    "Відповідно модуль називатиметься message. Визначимо в ньому такий код:"
   ]
  },
  {
   "cell_type": "code",
   "execution_count": null,
   "metadata": {
    "id": "yYBL_-BZ38jm"
   },
   "outputs": [],
   "source": [
    "hello = \"Hello all\"\n",
    "\n",
    "\n",
    "def print_message(text):\n",
    "    print(f\"Message: {text}\")"
   ]
  },
  {
   "cell_type": "code",
   "execution_count": null,
   "metadata": {
    "id": "KEptOCIDls-l"
   },
   "outputs": [],
   "source": [
    "with open(\"message.py\", \"w\") as file:\n",
    "    file.write('hello = \"Hello all\"\\n\\n')\n",
    "    file.write('def print_message(text):\\n')\n",
    "    file.write('    print(f\"Message: {text}\")\\n')"
   ]
  },
  {
   "cell_type": "markdown",
   "metadata": {
    "id": "gipHzThN8XaJ"
   },
   "source": [
    "Тут визначено змінну hello і функцію print_message, яка як параметр отримує деякий текст і виводить його на консоль.\n",
    "\n",
    "В основному файлі програми - main.py використовуємо цей модуль:"
   ]
  },
  {
   "cell_type": "code",
   "execution_count": null,
   "metadata": {
    "colab": {
     "base_uri": "https://localhost:8080/"
    },
    "id": "kD7wsDQe8XB4",
    "outputId": "b3cb09a7-a784-491d-9ebf-57c9b85a4dd4"
   },
   "outputs": [
    {
     "name": "stdout",
     "output_type": "stream",
     "text": [
      "Hello all\n",
      "Message: Hello work\n"
     ]
    }
   ],
   "source": [
    "import message      # підключаємо модуль message\n",
    "# виводимо значення змінної hello\n",
    "print(message.hello)        # Hello all\n",
    "# звертаємося до функії print_message\n",
    "message.print_message(\"Hello work\")  # Message: Hello work"
   ]
  },
  {
   "cell_type": "markdown",
   "metadata": {
    "id": "37A7bKh88nGw"
   },
   "source": [
    "Для використання модуля його треба імпортувати за допомогою оператора import, після якого вказується ім'я модуля: import message.\n",
    "\n",
    "Щоб звертатися до функціональності модуля, нам потрібно отримати його простір імен. За замовчуванням він збігатиметься з іменем модуля, тобто в нашому випадку також називатиметься message.\n",
    "\n",
    "Отримавши простір імен модуля, ми зможемо звернутися до його функцій за схемою\n",
    "\n",
    "простір_імен.функція\n",
    "Наприклад, звернення до функції print_message() з модуля message:"
   ]
  },
  {
   "cell_type": "code",
   "execution_count": null,
   "metadata": {
    "colab": {
     "base_uri": "https://localhost:8080/"
    },
    "id": "zPi6Pgvi8aue",
    "outputId": "6f715fdf-efd9-4496-9b21-f15da935a313"
   },
   "outputs": [
    {
     "name": "stdout",
     "output_type": "stream",
     "text": [
      "Message: Hello work\n"
     ]
    }
   ],
   "source": [
    "message.print_message(\"Hello work\")"
   ]
  },
  {
   "cell_type": "markdown",
   "metadata": {
    "id": "8QqL7Z4b8pSO"
   },
   "source": [
    "І після цього ми можемо запустити головний скрипт main.py, і він задіє модуль message.py."
   ]
  },
  {
   "cell_type": "markdown",
   "metadata": {
    "id": "lghFDREF8wls"
   },
   "source": [
    "## Підключення функціональності модуля в глобальний простір імен\n",
    "Інший варіант налаштування передбачає імпорт функціональності модуля в глобальний простір імен поточного модуля за допомогою ключового слова from:"
   ]
  },
  {
   "cell_type": "code",
   "execution_count": null,
   "metadata": {
    "colab": {
     "base_uri": "https://localhost:8080/"
    },
    "id": "3OOFmfGB8rex",
    "outputId": "26a2afeb-9a2d-419d-a773-3a4ad484d737"
   },
   "outputs": [
    {
     "name": "stdout",
     "output_type": "stream",
     "text": [
      "Message: Hello work\n"
     ]
    }
   ],
   "source": [
    "from message import print_message\n",
    "\n",
    "# звертаємося до функції print_message з модуля message\n",
    "print_message(\"Hello work\")  # Message: Hello work\n",
    "\n",
    "# змінна hello з модуля message не доступна, оскільки вона не імпортована\n",
    "# print(message.hello)\n",
    "# print(hello)"
   ]
  },
  {
   "cell_type": "markdown",
   "metadata": {
    "id": "UWb09owq8zHK"
   },
   "source": [
    "У цьому разі ми імпортуємо з модуля message у глобальний простір імен функцію print_message(). Тому ми зможемо її використовувати без вказівки простору імен модуля так, як якщо б вона була визначена в цьому ж файлі.\n",
    "\n",
    "Усі інші функції, змінні з модуля недоступні (як наприклад, у прикладі вище змінна hello). Якщо ми хочемо їх також використовувати, то їх можна підключити окремо:"
   ]
  },
  {
   "cell_type": "code",
   "execution_count": null,
   "metadata": {
    "colab": {
     "base_uri": "https://localhost:8080/"
    },
    "id": "MBUiPqPU81K8",
    "outputId": "85de2819-b72a-473c-cefe-0665f2c6777c"
   },
   "outputs": [
    {
     "name": "stdout",
     "output_type": "stream",
     "text": [
      "Message: Hello work\n",
      "Hello all\n"
     ]
    }
   ],
   "source": [
    "from message import print_message\n",
    "from message import hello\n",
    "\n",
    "# звертаємося до функції print_message з модуля message\n",
    "print_message(\"Hello work\")  # Message: Hello work\n",
    "\n",
    "# звертаємося до змінної hello з модуля message\n",
    "print(hello)    # Hello all"
   ]
  },
  {
   "cell_type": "markdown",
   "metadata": {
    "id": "6G3Wsi5I82SO"
   },
   "source": [
    "Якщо необхідно імпортувати в глобальний простір імен увесь функціонал, то замість назв окремих функцій і змінних можна використовувати символ зірочки *:"
   ]
  },
  {
   "cell_type": "code",
   "execution_count": null,
   "metadata": {
    "colab": {
     "base_uri": "https://localhost:8080/"
    },
    "id": "viZ9ZA8784Dn",
    "outputId": "01df8224-3a5b-4bdc-8c58-319a63d27956"
   },
   "outputs": [
    {
     "name": "stdout",
     "output_type": "stream",
     "text": [
      "Message: Hello work\n",
      "Hello all\n"
     ]
    }
   ],
   "source": [
    "from message import *\n",
    "\n",
    "# звертаємося до функції print_message з модуля message\n",
    "print_message(\"Hello work\")  # Message: Hello work\n",
    "\n",
    "# звертаємося до змінної hello з модуля message\n",
    "print(hello)    # Hello all"
   ]
  },
  {
   "cell_type": "markdown",
   "metadata": {
    "id": "2cjQWuhg82KJ"
   },
   "source": [
    "Але варто зазначити, що імпорт у глобальний простір імен загрожує колізіями імен функцій. Наприклад, якщо у нас у тому самому файлі визначено функцію з тим самим ім'ям до її виклику, то буде викликатися функція, яка визначена останньою:"
   ]
  },
  {
   "cell_type": "code",
   "execution_count": null,
   "metadata": {
    "colab": {
     "base_uri": "https://localhost:8080/"
    },
    "id": "37Xc1q3E88E-",
    "outputId": "84ac61f9-6ecd-4aee-ce2f-04853f65cdc9"
   },
   "outputs": [
    {
     "name": "stdout",
     "output_type": "stream",
     "text": [
      "Message: Hello work\n",
      "Text: Hello work\n"
     ]
    }
   ],
   "source": [
    "from message import *\n",
    "\n",
    "print_message(\"Hello work\")  # Message: Hello work - застосовується функція з модуля message\n",
    "\n",
    "def print_message(some_text):\n",
    "    print(f\"Text: {some_text}\")\n",
    "\n",
    "print_message(\"Hello work\")  # Text: Hello work - застосовується функція з поточного файлу"
   ]
  },
  {
   "cell_type": "markdown",
   "metadata": {
    "id": "dqe9DAjJ8-MZ"
   },
   "source": [
    "Таким чином, однойменна функція поточного файлу приховує функцію з підключеного модуля.\n",
    "\n",
    "## Встановлення псевдонімів\n",
    "Під час імпорту модуля та його функціональності ми можемо встановити для них псевдоніми. Для цього застосовується ключове слово as, після якого вказується псевдонім. Наприклад, встановимо псевдонім для модуля:"
   ]
  },
  {
   "cell_type": "code",
   "execution_count": null,
   "metadata": {
    "colab": {
     "base_uri": "https://localhost:8080/"
    },
    "id": "8d6A_Jzf9CJE",
    "outputId": "4ecda11b-8e2b-4675-996e-aed8753546d2"
   },
   "outputs": [
    {
     "name": "stdout",
     "output_type": "stream",
     "text": [
      "Hello all\n",
      "Message: Hello work\n"
     ]
    }
   ],
   "source": [
    "import message as mes\n",
    "\n",
    "print(mes.hello)        # Hello all\n",
    "mes.print_message(\"Hello work\")  # Message: Hello work"
   ]
  },
  {
   "cell_type": "markdown",
   "metadata": {
    "id": "gLaM4Mdh9DrK"
   },
   "source": [
    "У цьому разі простір імен називатиметься mes, і через цей псевдонім можна звертатися до функціональності модуля.\n",
    "\n",
    "Подібним чином можна встановити псевдоніми для окремої функціональності модуля:"
   ]
  },
  {
   "cell_type": "code",
   "execution_count": null,
   "metadata": {
    "colab": {
     "base_uri": "https://localhost:8080/"
    },
    "id": "cNfmNkL29F3k",
    "outputId": "c311e5c6-5c42-4973-cb4b-ba7830562d7c"
   },
   "outputs": [
    {
     "name": "stdout",
     "output_type": "stream",
     "text": [
      "Hello all\n",
      "Message: Hello work\n"
     ]
    }
   ],
   "source": [
    "from message import print_message as display\n",
    "from message import hello as welcome\n",
    "\n",
    "print(welcome)          # Hello all - змінна hello з модуля message\n",
    "display(\"Hello work\")   # Message: Hello work - функція print_message з модуля message"
   ]
  },
  {
   "cell_type": "markdown",
   "metadata": {
    "id": "E3CfSUR29HFu"
   },
   "source": [
    "Тут для функції print_message з модуля message встановлюється псевдонім display, а для змінної hello - псевдонім welcome. І через ці псевдоніми ми зможемо до них звертатися.\n",
    "\n",
    "Псевдоніми можуть бути корисними, коли нас не влаштовують імена функцій і змінних, наприклад, вони надто довгі, і ми хочемо їх скоротити, або ми хочемо дати їм більш описові, з нашої точки зору, імена. Або якщо в поточному файлі вже є функціональність із тими самими іменами, і за допомогою встановлення псевдонімів ми можемо уникнути конфлікту імен. Наприклад:"
   ]
  },
  {
   "cell_type": "code",
   "execution_count": null,
   "metadata": {
    "colab": {
     "base_uri": "https://localhost:8080/"
    },
    "id": "E_1O8UXp9JPE",
    "outputId": "7d1c4a1f-2009-41b5-cd93-187ff32aad34"
   },
   "outputs": [
    {
     "name": "stdout",
     "output_type": "stream",
     "text": [
      "Message: Hello work\n",
      "Text: Hello work\n"
     ]
    }
   ],
   "source": [
    "from message import print_message as display\n",
    "\n",
    "def print_message(some_text):\n",
    "    print(f\"Text: {some_text}\")\n",
    "\n",
    "# функція print_message з модуля message\n",
    "display(\"Hello work\")       # Message: Hello work\n",
    "\n",
    "# функція print_message з поточного файлу\n",
    "print_message(\"Hello work\")  # Text: Hello work"
   ]
  },
  {
   "cell_type": "markdown",
   "metadata": {
    "id": "venF-B2v9Kue"
   },
   "source": [
    "## Ім'я модуля\n",
    "У прикладі вище модуль main.py, який є головним, використовує модуль message.py. Під час запуску модуля main.py програма виконає всю необхідну роботу. Однак, якщо ми запустимо окремо модуль message.py сам по собі, то нічого на консолі не побачимо. Адже модуль message просто визначає функцію та змінну і не виконує жодних інших дій. Але ми можемо зробити так, щоб модуль message.py міг використовуватися як сам по собі, так і підключатися в інші модулі.\n",
    "\n",
    "Під час виконання модуля середовище визначає його ім'я і присвоює його глобальній змінній __name__ (з обох боків по два підкреслення). Якщо модуль є таким, що запускається, то його ім'я дорівнює __main__ (також по два підкреслення з кожного боку). Якщо модуль використовується в іншому модулі, то в момент виконання його ім'я аналогічне назві файлу без розширення py. І ми можемо це використовувати. Так, змінимо вміст файлу message.py:"
   ]
  },
  {
   "cell_type": "code",
   "execution_count": null,
   "metadata": {
    "id": "0-FHncV39KWN"
   },
   "outputs": [],
   "source": [
    "hello = \"Hello all\"\n",
    "\n",
    "\n",
    "def print_message(text):\n",
    "    print(f\"Message: {text}\")\n",
    "\n",
    "\n",
    "def main():\n",
    "    print_message(hello)\n",
    "\n",
    "\n",
    "if __name__ == \"__main__\":\n",
    "    main()"
   ]
  },
  {
   "cell_type": "markdown",
   "metadata": {
    "id": "_U6ukNrG9PWd"
   },
   "source": [
    "У цьому випадку в модуль message.py для тестування функціональності модуля додано функцію main. І ми можемо одразу запустити файл message.py окремо від усіх і протестувати код.\n",
    "\n",
    "Слід звернути увагу на виклик функції main:"
   ]
  },
  {
   "cell_type": "code",
   "execution_count": null,
   "metadata": {
    "id": "WcUxYOS_9Rgh"
   },
   "outputs": [],
   "source": [
    "if __name__ == \"__main__\":\n",
    "    main()"
   ]
  },
  {
   "cell_type": "markdown",
   "metadata": {
    "id": "cXD1hQ0q9Tbz"
   },
   "source": [
    "Змінна __name__ вказує на ім'я модуля. Для головного модуля, який безпосередньо запускається, ця змінна завжди матиме значення __main__ незалежно від імені файлу.\n",
    "\n",
    "Тому, якщо ми запускатимемо скрипт message.py окремо, сам по собі, то Python привласнить змінній __name__ значення __main__, далі у виразі if викличе функцію main із цього самого файлу.\n",
    "\n",
    "Однак якщо ми запускатимемо інший скрипт, а цей - message.py - підключатимемо як допоміжний, для message.py змінна __name__ матиме значення message. І відповідно метод main у файлі message.py не працюватиме.\n",
    "\n",
    "Цей підхід із перевіркою імені модуля є більш рекомендованим підходом, ніж просто виклик методу main.\n",
    "\n",
    "У файлі main.py також можна зробити перевірку на те, чи є модуль головним (хоча в принципі це необов'язково):"
   ]
  },
  {
   "cell_type": "code",
   "execution_count": null,
   "metadata": {
    "id": "zRgTpeBW9Vaa"
   },
   "outputs": [],
   "source": [
    "import message\n",
    "\n",
    "\n",
    "def main():\n",
    "    message.print_message(\"Hello work\")  # Message: Hello work\n",
    "\n",
    "\n",
    "if __name__ == \"__main__\":\n",
    "    main()"
   ]
  },
  {
   "cell_type": "markdown",
   "metadata": {
    "id": "3AP9f0Nq9XEh"
   },
   "source": [
    "Python надає низку вбудованих модулів, які ми можемо використовувати у своїх програмах."
   ]
  },
  {
   "cell_type": "markdown",
   "metadata": {
    "id": "vl7ryQn_BXs-"
   },
   "source": [
    "# Додаткова інформація\n",
    "\n",
    "Щоб конвертувати файл Jupyter Notebook (.ipynb) у файл вихідного коду Python (.py), можна скористатися інструментом командного рядка nbconvert, який постачається з Jupyter Notebook.\n",
    "\n",
    "Ось як виконати конвертацію:\n",
    "\n",
    "Відкрийте термінал або командний рядок.\n",
    "\n",
    "Перейдіть у директорію, де знаходиться ваш файл .ipynb. Для цього можна використовувати команду \"cd\" у терміналі.\n",
    "\n",
    "Запустіть команду nbconvert, вказавши ім'я файлу .ipynb і формат, у який потрібно виконати конвертацію (у цьому випадку - .py). Для цього введіть таку команду:\n",
    "```\n",
    "jupyter nbconvert --to python filename.ipynb\n",
    "```\n",
    "\n",
    "Де \"filename.ipynb\" - ім'я файлу Jupyter Notebook, який ви хочете конвертувати у файл вихідного коду Python.\n",
    "\n",
    "Після виконання команди новий файл з ім'ям \"filename.py\" буде створено в тій самій директорії, де знаходиться файл .ipynb. Файл .py міститиме весь код на Python з файлу .ipynb у вигляді виконуваного скрипта мовою Python.\n",
    "\n",
    "Зверніть увагу, що під час конвертації можуть загубитися деякі елементи форматування, як-от стилізація тексту або зображення, тому перед запуском конвертації рекомендується зберегти копію оригінального файлу .ipynb."
   ]
  }
 ],
 "metadata": {
  "colab": {
   "provenance": []
  },
  "kernelspec": {
   "display_name": "Python 3 (ipykernel)",
   "language": "python",
   "name": "python3"
  },
  "language_info": {
   "codemirror_mode": {
    "name": "ipython",
    "version": 3
   },
   "file_extension": ".py",
   "mimetype": "text/x-python",
   "name": "python",
   "nbconvert_exporter": "python",
   "pygments_lexer": "ipython3",
   "version": "3.10.11"
  }
 },
 "nbformat": 4,
 "nbformat_minor": 4
}
