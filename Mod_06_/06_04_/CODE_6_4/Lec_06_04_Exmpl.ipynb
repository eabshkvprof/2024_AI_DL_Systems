{
 "cells": [
  {
   "cell_type": "markdown",
   "metadata": {
    "id": "TS7u-XPXa8lk"
   },
   "source": [
    "# Лекція 6.4. Функціональне програмування"
   ]
  },
  {
   "cell_type": "markdown",
   "metadata": {
    "id": "0LxCFuPoCtz8"
   },
   "source": [
    "Перша функція приймає параметр \"ім'я\" та виводе повідомлення з цим параметром."
   ]
  },
  {
   "cell_type": "code",
   "execution_count": null,
   "metadata": {
    "colab": {
     "base_uri": "https://localhost:8080/"
    },
    "id": "1KTa8smDCSmS",
    "outputId": "d3e4b58d-f102-4222-b98f-cf2d7e0c3ca8"
   },
   "outputs": [
    {
     "name": "stdout",
     "output_type": "stream",
     "text": [
      "Добрий день, Андрій\n",
      "Добрий день, Том\n",
      "Добрий день, Анна\n"
     ]
    }
   ],
   "source": [
    "def say_hello(name):\n",
    "    print(f\"Добрий день, {name}\")\n",
    "\n",
    "say_hello(\"Андрій\")\n",
    "say_hello(\"Том\")\n",
    "say_hello(\"Анна\")"
   ]
  },
  {
   "cell_type": "markdown",
   "metadata": {
    "id": "jH8YEOOFC2H3"
   },
   "source": [
    "Деякі параметри ми можемо зробити не обов'язковими. Якщо функція має декілька параметрів, то необов'язкові повинні йти позаду"
   ]
  },
  {
   "cell_type": "code",
   "execution_count": null,
   "metadata": {
    "colab": {
     "base_uri": "https://localhost:8080/"
    },
    "id": "L5Lw0mpACsu8",
    "outputId": "b5ebf42e-774b-48ee-e952-c78efbe67ae0"
   },
   "outputs": [
    {
     "name": "stdout",
     "output_type": "stream",
     "text": [
      "Добрий день, Андрій\n",
      "Добрий день, Том\n",
      "Ім'я: Andrii та вік: 18\n",
      "Ім'я: Том та вік: 37\n"
     ]
    }
   ],
   "source": [
    "def say_hello(name=\"Андрій\"):\n",
    "    print(f\"Добрий день, {name}\")\n",
    "\n",
    "\n",
    "say_hello()\n",
    "say_hello(\"Том\")\n",
    "\n",
    "def print_person(name, age = 18):\n",
    "    print(f\"Ім'я: {name} та вік: {age}\")\n",
    "\n",
    "\n",
    "print_person(\"Andrii\")\n",
    "print_person(\"Том\", 37)"
   ]
  },
  {
   "cell_type": "markdown",
   "metadata": {
    "id": "NxKMNFj2DMLQ"
   },
   "source": [
    "У прикладах вище при виклику функції значення передаються параметрами функції за позицією. Але також можна передавати значення параметрам за іменем. Для цього при виклику функції вказується ім'я параметра і йому присвоюється значення:"
   ]
  },
  {
   "cell_type": "code",
   "execution_count": null,
   "metadata": {
    "colab": {
     "base_uri": "https://localhost:8080/"
    },
    "id": "f8ycHxZJDLgv",
    "outputId": "6bfc1f1d-52b1-414e-b0f6-44bd5b2b9bed"
   },
   "outputs": [
    {
     "name": "stdout",
     "output_type": "stream",
     "text": [
      "Ім'я: Андрій та вік: 22\n"
     ]
    }
   ],
   "source": [
    "def print_person(name, age):\n",
    "    print(f\"Ім'я: {name} та вік: {age}\")\n",
    "\n",
    "\n",
    "print_person(age = 22, name = \"Андрій\")"
   ]
  },
  {
   "cell_type": "markdown",
   "metadata": {
    "id": "duiWntx2CtM9"
   },
   "source": [
    "За допомогою символу зірочки можна визначити параметр, через який можна передавати невизначену кількість значень. Це може бути корисно, коли ми хочемо, щоб функція отримувала кілька значень, але ми точно не знаємо, скільки саме. Наприклад, визначимо функцію підрахунку суми чисел:"
   ]
  },
  {
   "cell_type": "code",
   "execution_count": null,
   "metadata": {
    "colab": {
     "base_uri": "https://localhost:8080/"
    },
    "id": "3QNBlgaSEAii",
    "outputId": "f981a455-8fad-4b75-8106-98d07a203e34"
   },
   "outputs": [
    {
     "name": "stdout",
     "output_type": "stream",
     "text": [
      "Сума = 15\n",
      "Сума = 18\n"
     ]
    }
   ],
   "source": [
    "def sum(*numbers):\n",
    "    result = 0\n",
    "    for n in numbers:\n",
    "        result += n\n",
    "    print(f\"Сума = {result}\")\n",
    "\n",
    "\n",
    "sum(1, 2, 3, 4, 5)\n",
    "sum(3, 4, 5, 6)"
   ]
  },
  {
   "cell_type": "markdown",
   "metadata": {
    "id": "gQNKs2CmGWl6"
   },
   "source": [
    "Після оператора return може йти і складний обчислювальний вираз, результат якого буде повертатися з функції. Наприклад, визначимо функцію, яка збільшує число вдвічі:"
   ]
  },
  {
   "cell_type": "code",
   "execution_count": null,
   "metadata": {
    "colab": {
     "base_uri": "https://localhost:8080/"
    },
    "id": "DbiRg4kcGV-D",
    "outputId": "bdbc692c-c16a-4f2e-d9a5-b73aec275f0c"
   },
   "outputs": [
    {
     "name": "stdout",
     "output_type": "stream",
     "text": [
      "20\n"
     ]
    }
   ],
   "source": [
    "def double(number):\n",
    "    return 2 * number\n",
    "\n",
    "print(double(10))"
   ]
  },
  {
   "cell_type": "markdown",
   "metadata": {
    "id": "S_C_svWeGZjq"
   },
   "source": [
    "Оператор return не тільки повертає значення, а й здійснює вихід із функції. Тому він повинен визначатися після інших інструкцій. Наприклад"
   ]
  },
  {
   "cell_type": "code",
   "execution_count": null,
   "metadata": {
    "colab": {
     "base_uri": "https://localhost:8080/"
    },
    "id": "hMyXxAvYGZ96",
    "outputId": "168fd897-ffb0-442c-bdae-6fa1e9ee3d7d"
   },
   "outputs": [
    {
     "name": "stdout",
     "output_type": "stream",
     "text": [
      "Glory to Ukraine!\n"
     ]
    }
   ],
   "source": [
    "def get_message():\n",
    "    return \"Glory to Ukraine!\"\n",
    "    print(\"End of the function\")\n",
    "\n",
    "print(get_message())"
   ]
  },
  {
   "cell_type": "markdown",
   "metadata": {
    "id": "x15LXmhGGoi6"
   },
   "source": [
    "Глобальний контекст передбачає, що змінна є глобальною, вона визначена поза будь-якою з функцій і доступна будь-якій функції в програмі."
   ]
  },
  {
   "cell_type": "code",
   "execution_count": null,
   "metadata": {
    "colab": {
     "base_uri": "https://localhost:8080/"
    },
    "id": "vMAsRTZdGoOi",
    "outputId": "a4956567-fec8-4eca-f63e-365370c808da"
   },
   "outputs": [
    {
     "name": "stdout",
     "output_type": "stream",
     "text": [
      "Hello Tom\n",
      "Good bye Tom\n"
     ]
    }
   ],
   "source": [
    "name = \"Tom\"\n",
    "\n",
    "\n",
    "def say_hi():\n",
    "    print(\"Hello\", name)\n",
    "\n",
    "\n",
    "def say_bye():\n",
    "    print(\"Good bye\", name)\n",
    "\n",
    "say_hi()\n",
    "say_bye()"
   ]
  },
  {
   "cell_type": "markdown",
   "metadata": {
    "id": "6adg7gjkIehx"
   },
   "source": [
    "Є ще один варіант визначення змінної, коли локальна змінна приховує глобальну з тим самим іменем:"
   ]
  },
  {
   "cell_type": "code",
   "execution_count": null,
   "metadata": {
    "colab": {
     "base_uri": "https://localhost:8080/"
    },
    "id": "wR-0IRJvIeCl",
    "outputId": "571ea262-5e87-4db4-9f17-3a1e667265c8"
   },
   "outputs": [
    {
     "name": "stdout",
     "output_type": "stream",
     "text": [
      "Hello Bob\n",
      "Good bye Tom\n"
     ]
    }
   ],
   "source": [
    "name = \"Tom\"\n",
    "\n",
    "\n",
    "def say_hi():\n",
    "    name = \"Bob\"\n",
    "    print(\"Hello\", name)\n",
    "\n",
    "\n",
    "def say_bye():\n",
    "    print(\"Good bye\", name)\n",
    "\n",
    "\n",
    "say_hi()\n",
    "say_bye()"
   ]
  },
  {
   "cell_type": "markdown",
   "metadata": {
    "id": "7ZNrhyuYImRL"
   },
   "source": [
    "Якщо ж ми хочемо змінити в локальній функції глобальну змінну, а не визначити локальну, то необхідно використовувати ключове слово global:"
   ]
  },
  {
   "cell_type": "code",
   "execution_count": null,
   "metadata": {
    "colab": {
     "base_uri": "https://localhost:8080/"
    },
    "id": "1EYSf7q1Il1D",
    "outputId": "913d3173-95b2-4d94-a8a4-5b2bc7e400ea"
   },
   "outputs": [
    {
     "name": "stdout",
     "output_type": "stream",
     "text": [
      "Hello Bob\n",
      "Good bye Bob\n"
     ]
    }
   ],
   "source": [
    "name = \"Tom\"\n",
    "\n",
    "\n",
    "def say_hi():\n",
    "    global name\n",
    "    name = \"Bob\"\n",
    "    print(\"Hello\", name)\n",
    "\n",
    "\n",
    "def say_bye():\n",
    "    print(\"Good bye\", name)\n",
    "\n",
    "\n",
    "say_hi()\n",
    "say_bye()"
   ]
  },
  {
   "cell_type": "markdown",
   "metadata": {
    "id": "6w70jGS5IuNT"
   },
   "source": [
    "Під час присвоєння значення у вкладеній функції: n = 25 створюватиметься нова змінна n, яка приховає змінну n з навколишньої зовнішньої функції outer. У підсумку ми отримаємо при виведенні два різних числа. Щоб у вкладеній функції вказати, що ідентифікатор у вкладеній функції буде представляти змінну з навколишньої функції, застосовується вираз nonlocal:"
   ]
  },
  {
   "cell_type": "code",
   "execution_count": null,
   "metadata": {
    "colab": {
     "base_uri": "https://localhost:8080/"
    },
    "id": "x9Utv2yfIt_x",
    "outputId": "39e2bd3b-6373-43ce-ec58-f681b123531c"
   },
   "outputs": [
    {
     "name": "stdout",
     "output_type": "stream",
     "text": [
      "25\n",
      "25\n"
     ]
    }
   ],
   "source": [
    "def outer():  # зовнішня функція\n",
    "    n = 5\n",
    "\n",
    "    def inner():    # вкладена функція\n",
    "        nonlocal n  # вказуємо, що n - це змінна з навколишньої функції\n",
    "        n = 25\n",
    "        print(n)\n",
    "\n",
    "    inner()\n",
    "    print(n)\n",
    "\n",
    "\n",
    "outer()"
   ]
  },
  {
   "cell_type": "markdown",
   "metadata": {
    "id": "T5sDcPDONDj1"
   },
   "source": [
    "Приклад роботи зарезервованого слова yield"
   ]
  },
  {
   "cell_type": "code",
   "execution_count": null,
   "metadata": {
    "colab": {
     "base_uri": "https://localhost:8080/"
    },
    "id": "RTY30pDcNBod",
    "outputId": "0da14602-4ae2-4efc-a745-73b6d061d134"
   },
   "outputs": [
    {
     "name": "stdout",
     "output_type": "stream",
     "text": [
      "1\n",
      "4\n",
      "9\n",
      "16\n",
      "25\n",
      "36\n",
      "49\n",
      "64\n",
      "81\n",
      "100\n"
     ]
    }
   ],
   "source": [
    "def nextSquare():\n",
    "    i = 1\n",
    "\n",
    "    # Нескінченний цикл для генерації квадратів\n",
    "    while True:\n",
    "        yield i*i #return\n",
    "        i += 1  # Починається наступне виконання\n",
    "        # З цього моменту\n",
    "\n",
    "\n",
    "# Код для тестування вищезгаданої функції\n",
    "for num in nextSquare():\n",
    "    if num > 100:\n",
    "        break\n",
    "    print(num)"
   ]
  },
  {
   "cell_type": "markdown",
   "metadata": {
    "id": "2gmO9WaKm_q3"
   },
   "source": [
    "# Рекурсія\n",
    "Це спосіб організації циклічного процесу шляхом виклику рекурсивної функції. Рекурсивна функція - це функція, яка містить код виклику самої себе з метою організації циклічного процесу. За допомогою рекурсивних функцій можна з мінімальним обсягом коду розв'язувати деякі задачі, оминувши використання (оголошення) зайвих структур даних. Рекурсію можна розглядати як альтернативу циклам та ітераціям."
   ]
  },
  {
   "cell_type": "code",
   "execution_count": null,
   "metadata": {
    "colab": {
     "base_uri": "https://localhost:8080/"
    },
    "id": "sxQTOpw1ZgtP",
    "outputId": "176788e0-0ef7-437d-abd4-50a9710dc2d3"
   },
   "outputs": [
    {
     "name": "stdout",
     "output_type": "stream",
     "text": [
      "Move disk 1 from A to C\n",
      "Move disk 2 from A to B\n",
      "Move disk 1 from C to B\n",
      "Move disk 3 from A to C\n",
      "Move disk 1 from B to A\n",
      "Move disk 2 from B to C\n",
      "Move disk 1 from A to C\n",
      "Move disk 4 from A to B\n",
      "Move disk 1 from C to B\n",
      "Move disk 2 from C to A\n",
      "Move disk 1 from B to A\n",
      "Move disk 3 from C to B\n",
      "Move disk 1 from A to C\n",
      "Move disk 2 from A to B\n",
      "Move disk 1 from C to B\n",
      "Move disk 5 from A to C\n",
      "Move disk 1 from B to A\n",
      "Move disk 2 from B to C\n",
      "Move disk 1 from A to C\n",
      "Move disk 3 from B to A\n",
      "Move disk 1 from C to B\n",
      "Move disk 2 from C to A\n",
      "Move disk 1 from B to A\n",
      "Move disk 4 from B to C\n",
      "Move disk 1 from A to C\n",
      "Move disk 2 from A to B\n",
      "Move disk 1 from C to B\n",
      "Move disk 3 from A to C\n",
      "Move disk 1 from B to A\n",
      "Move disk 2 from B to C\n",
      "Move disk 1 from A to C\n"
     ]
    }
   ],
   "source": [
    "'''\n",
    "У наведеній реалізації n позначає кількість дисків у початковому стеку, source - початковий стержень, auxiliary - запасний стержень і target - кінцевий стержень.\n",
    "Функція hanoiTowers() викликається рекурсивно: спочатку переміщується n-1 диск з початкового на допоміжний кілочок,\n",
    "потім переміщується найбільший диск з початкового на кінцевий, а потім ще n-1 диск з допоміжного на кінцевий кілочок.\n",
    "'''\n",
    "\n",
    "def hanoiTowers(n, source, auxiliary, target):\n",
    "    if n == 1:\n",
    "        print(\"Move disk 1 from {} to {}\".format(source, target))\n",
    "        return\n",
    "    hanoiTowers(n - 1, source, target, auxiliary)\n",
    "    print(\"Move disk {} from {} to {}\".format(n, source, target))\n",
    "    hanoiTowers(n - 1, auxiliary, source, target)\n",
    "\n",
    "hanoiTowers(5, 'A', 'B', 'C')"
   ]
  },
  {
   "cell_type": "markdown",
   "metadata": {
    "id": "YRiy8l7jnvsn"
   },
   "source": [
    "Ще один приклад рекурсивної функції - послідовність Фібоначчі. Ця реалізація використовує рекурсію для обчислення n-го члена послідовності Фібоначчі. Функція фібоначчі приймає на вхід ціле число n і повертає n-й член послідовності.\n",
    "\n",
    "Базовим випадком є коли n дорівнює 0 або 1, в цьому випадку функція повертає n. Для всіх інших значень n, функція рекурсивно викликає сама себе з n-1 і n-2 на вході, і повертає суму двох отриманих значень.\n",
    "\n",
    "Ось приклад використання функції фібоначчі:"
   ]
  },
  {
   "cell_type": "code",
   "execution_count": null,
   "metadata": {
    "colab": {
     "base_uri": "https://localhost:8080/"
    },
    "id": "WUzhvp6Snu6G",
    "outputId": "783727a8-5889-4980-9b2e-f545ba75f376"
   },
   "outputs": [
    {
     "data": {
      "text/plain": [
       "5"
      ]
     },
     "execution_count": 1,
     "metadata": {},
     "output_type": "execute_result"
    }
   ],
   "source": [
    "def fibonacci(n):\n",
    "    # базовий сценарій\n",
    "    if n == 0 or n == 1:\n",
    "        return n\n",
    "\n",
    "    # рекурсивний сценарій\n",
    "    else:\n",
    "        return fibonacci(n-1) + fibonacci(n-2)\n",
    "\n",
    "fibonacci(5)"
   ]
  },
  {
   "cell_type": "markdown",
   "metadata": {
    "id": "4lkxaoKOc1Rp"
   },
   "source": [
    "# Анонімні функції"
   ]
  },
  {
   "cell_type": "markdown",
   "metadata": {
    "id": "Jc14L7uoc9uN"
   },
   "source": [
    "Лямбда-вирази в мові Python являють собою невеликі анонімні функції, які визначаються за допомогою оператора lambda. Формальне визначення лямбда-виразу:\n",
    "```\n",
    "lambda [параметри] : інструкція\n",
    "```"
   ]
  },
  {
   "cell_type": "code",
   "execution_count": null,
   "metadata": {
    "colab": {
     "base_uri": "https://localhost:8080/"
    },
    "id": "tSa9GYLUc3IR",
    "outputId": "00623109-2933-4088-e756-5221661dff47"
   },
   "outputs": [
    {
     "name": "stdout",
     "output_type": "stream",
     "text": [
      "hello\n"
     ]
    }
   ],
   "source": [
    "message = lambda: print(\"hello\")\n",
    "\n",
    "message()"
   ]
  },
  {
   "cell_type": "markdown",
   "metadata": {
    "id": "cUjDC7cGdVWb"
   },
   "source": [
    "Тут лямбда-вираз присвоюється змінній message. Цей лямбда-вираз не має параметрів, нічого не повертає і просто виводить рядок \"hello\" на консоль. І через змінну message ми можемо викликати цей лямбда-вираз як звичайну функцію. Фактично він аналогічний такій функції:"
   ]
  },
  {
   "cell_type": "code",
   "execution_count": null,
   "metadata": {
    "colab": {
     "base_uri": "https://localhost:8080/"
    },
    "id": "phETWs9udXdN",
    "outputId": "3cbf2538-8210-47ae-ba36-021010577b01"
   },
   "outputs": [
    {
     "name": "stdout",
     "output_type": "stream",
     "text": [
      "hello\n"
     ]
    }
   ],
   "source": [
    "def message():\n",
    "    print(\"hello\")\n",
    "\n",
    "message()"
   ]
  },
  {
   "cell_type": "markdown",
   "metadata": {
    "id": "uIRu_RetdZg6"
   },
   "source": [
    "Якщо лямбда-вираз має параметри, то вони визначаються після ключового слова lambda. Якщо лямбда-вираз повертає якийсь результат, то він вказується після двокрапки. Наприклад, визначимо лямбда-вираз, який повертає квадрат числа:"
   ]
  },
  {
   "cell_type": "code",
   "execution_count": null,
   "metadata": {
    "colab": {
     "base_uri": "https://localhost:8080/"
    },
    "id": "uZBdtKO7dcfA",
    "outputId": "eda88c45-e80c-4df5-9281-4399591b2269"
   },
   "outputs": [
    {
     "name": "stdout",
     "output_type": "stream",
     "text": [
      "16\n",
      "25\n"
     ]
    }
   ],
   "source": [
    "square = lambda n: n * n\n",
    "\n",
    "print(square(4))\n",
    "print(square(5))"
   ]
  },
  {
   "cell_type": "markdown",
   "metadata": {
    "id": "ET53G-VUddrW"
   },
   "source": [
    "У цьому випадку лямбда-вираз приймає один параметр - n. Праворуч від двокрапки йде значення, що повертається, - n* n. Цей лямбда-вираз аналогічний до такої функції:"
   ]
  },
  {
   "cell_type": "code",
   "execution_count": null,
   "metadata": {
    "id": "YDrWAT4Zdfs9"
   },
   "outputs": [],
   "source": [
    "def square2(n):\n",
    "    return n * n"
   ]
  },
  {
   "cell_type": "markdown",
   "metadata": {
    "id": "gjT3n69QdiIj"
   },
   "source": [
    "Аналогічним чином можна створювати лямбда-вирази, які приймають кілька параметрів:"
   ]
  },
  {
   "cell_type": "code",
   "execution_count": null,
   "metadata": {
    "colab": {
     "base_uri": "https://localhost:8080/"
    },
    "id": "CMiPLo8ldmIw",
    "outputId": "bc457276-e12f-4295-e0a1-14ba0347738b"
   },
   "outputs": [
    {
     "name": "stdout",
     "output_type": "stream",
     "text": [
      "9\n",
      "11\n"
     ]
    }
   ],
   "source": [
    "sum = lambda a, b: a + b\n",
    "\n",
    "print(sum(4, 5))\n",
    "print(sum(5, 6))"
   ]
  },
  {
   "cell_type": "markdown",
   "metadata": {
    "id": "jRVRV11mdnsq"
   },
   "source": [
    "Хоча лямбда-вирази дають змогу дещо скоротити визначення функцій, проте вони обмежені тим, що вони можуть виконувати лише одну інструкцію. Однак вони можуть бути доволі зручними в тих випадках, коли необхідно використовувати функцію для передачі як параметр або повернення до іншої функції. Наприклад, передача лямбда-виразу як параметра:"
   ]
  },
  {
   "cell_type": "code",
   "execution_count": null,
   "metadata": {
    "colab": {
     "base_uri": "https://localhost:8080/"
    },
    "id": "KYzTYxxLdrDN",
    "outputId": "a1daff6c-298c-4884-e087-d8ca23636779"
   },
   "outputs": [
    {
     "name": "stdout",
     "output_type": "stream",
     "text": [
      "result = 9\n",
      "result = 20\n"
     ]
    }
   ],
   "source": [
    "def do_operation(a, b, operation):\n",
    "    result = operation(a, b)\n",
    "    print(f\"result = {result}\")\n",
    "\n",
    "do_operation(5, 4, lambda a, b: a + b)\n",
    "do_operation(5, 4, lambda a, b: a * b)"
   ]
  },
  {
   "cell_type": "markdown",
   "metadata": {
    "id": "TWaF7QdPdsT9"
   },
   "source": [
    "У цьому випадку нам немає необхідності визначати функції, щоб передати їх як параметр, як у минулій статті.\n",
    "\n",
    "Те ж саме стосується і повернення лямбда-виразів із функцій:"
   ]
  },
  {
   "cell_type": "code",
   "execution_count": null,
   "metadata": {
    "colab": {
     "base_uri": "https://localhost:8080/"
    },
    "id": "DZl1z3zVdvU7",
    "outputId": "d65ebb8d-e557-4322-a6ac-876e17fc5fbc"
   },
   "outputs": [
    {
     "name": "stdout",
     "output_type": "stream",
     "text": [
      "16\n",
      "4\n",
      "60\n"
     ]
    }
   ],
   "source": [
    "def select_operation(choice):\n",
    "    if choice == 1:\n",
    "        return lambda a, b: a + b\n",
    "    elif choice == 2:\n",
    "        return lambda a, b: a - b\n",
    "    else:\n",
    "        return lambda a, b: a * b\n",
    "\n",
    "\n",
    "operation = select_operation(1)  # operation = sum\n",
    "print(operation(10, 6))\n",
    "\n",
    "operation = select_operation(2)  # operation = subtract\n",
    "print(operation(10, 6))\n",
    "\n",
    "operation = select_operation(3)  # operation = multiply\n",
    "print(operation(10, 6))"
   ]
  },
  {
   "cell_type": "markdown",
   "metadata": {
    "id": "Zsm24LPXdz_O"
   },
   "source": [
    "# Map (відображення на послідовність)\n",
    "Вбудована в Python функція map() використовується для застосування функції до кожного елемента ітерованого об'єкта (наприклад, списку або словника) і повернення нового ітератора для отримання результатів. Функція map() повертає об'єкт map (ітератор), який ми можемо використовувати в інших частинах нашої програми. Також ми можемо передати об'єкт map у функцію list() або інший тип послідовності для створення ітерованого об'єкта.\n",
    "Функція map() має такий синтаксис:\n",
    "```\n",
    "map(function, iterable, [iterable 2, iterable 3, ...])\n",
    "```\n",
    "Замість використання циклу for функція map() дає можливість застосувати функцію до кожного елемента ітерованого об'єкта. Це підвищує продуктивність, оскільки функція застосовується тільки до одного елемента за раз без створення копій елементів в іншому ітерованому об'єкті. Це особливо корисно при обробці великих наборів даних. Також map() може приймати кілька ітерованих об'єктів як аргументи функції, відправляючи у функцію по одному елементу кожного ітерованого об'єкта за раз.\n",
    "Наприклад є список:"
   ]
  },
  {
   "cell_type": "code",
   "execution_count": null,
   "metadata": {
    "id": "PHsk9t_Wd2i1"
   },
   "outputs": [],
   "source": [
    "numbers = [10, 15, 21, 33, 42, 55]"
   ]
  },
  {
   "cell_type": "markdown",
   "metadata": {
    "id": "EkT5_VF4eqS9"
   },
   "source": [
    "Щоб застосувати вираз до кожного з наших чисел, ми можемо використовувати map() і lambda:"
   ]
  },
  {
   "cell_type": "code",
   "execution_count": null,
   "metadata": {
    "id": "d6AFMogJeqA8"
   },
   "outputs": [],
   "source": [
    "mapped_numbers = list(map(lambda x: x * 2 + 3, numbers))\n",
    "mapped_numbers_2 = map(lambda x: x * 2 + 3, numbers)"
   ]
  },
  {
   "cell_type": "markdown",
   "metadata": {
    "id": "tE28BgExeuRR"
   },
   "source": [
    "Тут ми декларуємо елемент у нашому списку як x. Потім ми додамо наш вираз. Ми передамо список чисел як ітерований об'єкт для map().\n",
    "\n",
    "Для отримання результатів ми роздрукуємо список об'єкта map:"
   ]
  },
  {
   "cell_type": "code",
   "execution_count": null,
   "metadata": {
    "colab": {
     "base_uri": "https://localhost:8080/"
    },
    "id": "9GlrM04zicIK",
    "outputId": "1b8ddb1e-3d1b-4029-d5cc-9b41b596ece9"
   },
   "outputs": [
    {
     "name": "stdout",
     "output_type": "stream",
     "text": [
      "[23, 33, 45, 69, 87, 113]\n",
      "<map object at 0x78d901bef460>\n"
     ]
    }
   ],
   "source": [
    "print(mapped_numbers)"
   ]
  },
  {
   "cell_type": "markdown",
   "metadata": {
    "id": "cRGswvMOijbp"
   },
   "source": [
    "Ми використовували list(), щоб об'єкт map був виведений як список, а не у важкій для інтерпретації об'єктній формі, наприклад: <map object at 0x7fc250003a58>. Об'єкт map є ітератором наших результатів, щоб ми могли використовувати його в циклі for або використовувати list() для перетворення на список. Ми робимо це тут, тому що це хороший спосіб перегляду результатів."
   ]
  },
  {
   "cell_type": "markdown",
   "metadata": {
    "id": "FpgJNmO2ikI9"
   },
   "source": [
    "#Анотації функцій\n",
    "Це функція Python 3, яка дає змогу додавати довільні метадані до аргументів функції та значення, що повертається. Вони були частиною оригінальної специфікації Python 3.0.\n",
    "Важливо розуміти, що Python не благословляє анотації будь-якою семантикою. Він лише забезпечує синтаксичну підтримку для зв'язування метаданих, а також простий спосіб доступу до неї. Крім того, анотації повністю необов'язкові."
   ]
  },
  {
   "cell_type": "markdown",
   "metadata": {
    "id": "RIA-02NCl8DK"
   },
   "source": [
    "Давайте подивимося на приклад. Ось функція foo(), яка приймає три аргументи, названі a, b і c, і друкує їхню суму. Зверніть увагу: foo() нічого не повертає. Перший аргумент a не анотується. Другий аргумент b анотується рядком 'annotating b', а третій аргумент c анотується з типом int. Значення, що повертається, анотується типом float. Зверніть увагу на синтаксис \"->\" для анотування значення, що повертається."
   ]
  },
  {
   "cell_type": "code",
   "execution_count": null,
   "metadata": {
    "id": "HkThgGICijC4"
   },
   "outputs": [],
   "source": [
    "def foo(a, b: str, c: int) -> float:\n",
    "    print(a + b + c)"
   ]
  },
  {
   "cell_type": "markdown",
   "metadata": {
    "id": "MuUi9QmHmWbi"
   },
   "source": [
    "Анотації не впливають на виконання функції. Давайте назвемо foo() двічі: один раз з аргументами int і один раз з рядковими аргументами. В обох випадках foo() робить правильну річ, і анотації просто ігноруються."
   ]
  },
  {
   "cell_type": "code",
   "execution_count": null,
   "metadata": {
    "colab": {
     "base_uri": "https://localhost:8080/"
    },
    "id": "ZvNN4AKomXLb",
    "outputId": "c8c32976-116c-4ffe-ddf5-fa0163264029"
   },
   "outputs": [
    {
     "name": "stdout",
     "output_type": "stream",
     "text": [
      "Hello, World!\n",
      "6\n"
     ]
    }
   ],
   "source": [
    "foo('Hello', ', ', 'World!')\n",
    "foo(1, 2, 3)"
   ]
  },
  {
   "cell_type": "markdown",
   "metadata": {
    "id": "UpuuTDDkmbuH"
   },
   "source": [
    "Також існують аргументи за замовчуванням вказуються після анотації:"
   ]
  },
  {
   "cell_type": "code",
   "execution_count": null,
   "metadata": {
    "colab": {
     "base_uri": "https://localhost:8080/"
    },
    "id": "na2pJPBRme2_",
    "outputId": "ca3a8fef-453a-4f91-a337-332522e7896b"
   },
   "outputs": [
    {
     "name": "stdout",
     "output_type": "stream",
     "text": [
      "7\n",
      "5\n"
     ]
    }
   ],
   "source": [
    "def foo(x: 'an argument that defaults to 5' = 5):\n",
    "    print(x)\n",
    "foo(7)\n",
    "foo()"
   ]
  }
 ],
 "metadata": {
  "colab": {
   "provenance": []
  },
  "kernelspec": {
   "display_name": "Python 3 (ipykernel)",
   "language": "python",
   "name": "python3"
  },
  "language_info": {
   "codemirror_mode": {
    "name": "ipython",
    "version": 3
   },
   "file_extension": ".py",
   "mimetype": "text/x-python",
   "name": "python",
   "nbconvert_exporter": "python",
   "pygments_lexer": "ipython3",
   "version": "3.10.11"
  }
 },
 "nbformat": 4,
 "nbformat_minor": 4
}
