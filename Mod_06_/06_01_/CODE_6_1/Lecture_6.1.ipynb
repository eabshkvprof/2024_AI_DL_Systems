{
 "cells": [
  {
   "cell_type": "markdown",
   "metadata": {
    "id": "1XYAXUMd_p9r"
   },
   "source": [
    "# Лекція 6.1 Базові елементи високорівневої мови програмування."
   ]
  },
  {
   "cell_type": "markdown",
   "metadata": {
    "id": "7oQ5VIPG0QQW"
   },
   "source": [
    "Програма мовою Python складається з набору інструкцій. Кожна інструкція поміщається на новий рядок. Наприклад:"
   ]
  },
  {
   "cell_type": "code",
   "execution_count": null,
   "metadata": {
    "colab": {
     "base_uri": "https://localhost:8080/"
    },
    "id": "wV23imlOz349",
    "outputId": "6f3d4ef2-4ba6-46ff-d5b6-0eee16846b61"
   },
   "outputs": [
    {
     "name": "stdout",
     "output_type": "stream",
     "text": [
      "5\n",
      "Привіт\n"
     ]
    }
   ],
   "source": [
    "print(2 + 3)\n",
    "print(\"Привіт\")"
   ]
  },
  {
   "cell_type": "markdown",
   "metadata": {
    "id": "6SoztJ1F0YkG"
   },
   "source": [
    "Велику роль у Python відіграють відступи. Неправильно поставлений відступ фактично є помилкою. Наприклад, у такому випадку ми отримаємо помилку, хоча код буде практично аналогічний наведеному вище:"
   ]
  },
  {
   "cell_type": "code",
   "execution_count": null,
   "metadata": {
    "colab": {
     "base_uri": "https://localhost:8080/"
    },
    "id": "IHQoHye50fCv",
    "outputId": "d371a869-07a5-47f6-a986-45a51d514222"
   },
   "outputs": [
    {
     "name": "stdout",
     "output_type": "stream",
     "text": [
      "5\n",
      "Привіт\n"
     ]
    }
   ],
   "source": [
    "print(2 + 3)\n",
    "print(\"Привіт\")"
   ]
  },
  {
   "cell_type": "markdown",
   "metadata": {
    "id": "K1VvHEXl0gou"
   },
   "source": [
    "Тому варто поміщати нові інструкції спочатку рядка. У цьому одна з важливих відмінностей Python від інших мов програмування, як-от C# чи Java.\n",
    "\n",
    "Однак варто враховувати, що деякі конструкції мови можуть складатися з кількох рядків. Наприклад, умовна конструкція if:"
   ]
  },
  {
   "cell_type": "code",
   "execution_count": null,
   "metadata": {
    "colab": {
     "base_uri": "https://localhost:8080/"
    },
    "id": "ViDWjjkY0ifc",
    "outputId": "8c7b84d0-ffaf-424f-bebc-cd5517848ca1"
   },
   "outputs": [
    {
     "name": "stdout",
     "output_type": "stream",
     "text": [
      "Hello\n"
     ]
    }
   ],
   "source": [
    "if 1 == 2:\n",
    "    print(\"Hello, World!\")\n",
    "print(\"Hello\")"
   ]
  },
  {
   "cell_type": "markdown",
   "metadata": {
    "id": "AgQ09OOp0kFf"
   },
   "source": [
    "У цьому випадку якщо 1 менше 2, то виводиться рядок \"Hello\". І тут уже має бути відступ, оскільки інструкція print(\"Hello\") використовується не сама по собі, а як частина умовної конструкції if. Причому відступ, згідно з інструкцією з оформлення коду, бажано робити з такої кількості пропусків, що кратна 4 (тобто 4, 8, 16 і т. д.) Хоча якщо відступів буде не 4, а 5, то програма також працюватиме.\n",
    "\n",
    "Таких конструкцій не так багато, тому особливої плутанини з приводу того, де треба, а де не треба ставити пробіли, не повинно виникнути.\n",
    "Регістрозалежність\n",
    "\n",
    "Python - регістрозалежна мова, тому вирази print і Print або PRINT представляють різні вирази. І якщо замість методу print для виведення на консоль ми спробуємо використати метод Print:"
   ]
  },
  {
   "cell_type": "code",
   "execution_count": null,
   "metadata": {
    "colab": {
     "base_uri": "https://localhost:8080/"
    },
    "id": "KePkLhPd0m36",
    "outputId": "cc535e95-8076-4aa4-ac75-9ae70ffcd614"
   },
   "outputs": [
    {
     "name": "stdout",
     "output_type": "stream",
     "text": [
      "Привіт\n"
     ]
    }
   ],
   "source": [
    "print(\"Привіт\")"
   ]
  },
  {
   "cell_type": "markdown",
   "metadata": {
    "id": "w_1MzdP50ob8"
   },
   "source": [
    "то в нас нічого не вийде."
   ]
  },
  {
   "cell_type": "markdown",
   "metadata": {
    "id": "d8uzQtwp0sa0"
   },
   "source": [
    "# Коментарі\n",
    "\n",
    "Для позначки, що робить та чи інша ділянка коду, застосовуються коментарі. Під час трансляції та виконання програми інтерпретатор ігнорує коментарі, тому вони не мають жодного впливу на роботу програми. Коментарі в Python бувають блокові та рядкові.\n",
    "\n",
    "Рядкові коментарі випереджаються знаком решітки - #. Вони можуть розташовуватися на окремому рядку:"
   ]
  },
  {
   "cell_type": "code",
   "execution_count": null,
   "metadata": {
    "colab": {
     "base_uri": "https://localhost:8080/"
    },
    "id": "CatTo-kS0oJo",
    "outputId": "135542d9-aa1b-4925-bd99-d4668b884238"
   },
   "outputs": [
    {
     "name": "stdout",
     "output_type": "stream",
     "text": [
      "Hello World\n"
     ]
    }
   ],
   "source": [
    "# Виведення на консоль\n",
    "# повідомлення Hello World\n",
    "print(\"Hello World\")"
   ]
  },
  {
   "cell_type": "markdown",
   "metadata": {
    "id": "YiQd2ZN_0zdO"
   },
   "source": [
    "Будь-який набір символів після знака # представляє коментар. Тобто в прикладі вище перші два рядки коду є коментарями.\n",
    "\n",
    "Також вони можуть розташовуватися на тому самому рядку, що й інструкції мови, після виконуваних інструкцій:"
   ]
  },
  {
   "cell_type": "code",
   "execution_count": null,
   "metadata": {
    "colab": {
     "base_uri": "https://localhost:8080/"
    },
    "id": "afClaD5Q0uv0",
    "outputId": "2b21c8fc-2573-489c-ddcd-e00bbfa06b01"
   },
   "outputs": [
    {
     "name": "stdout",
     "output_type": "stream",
     "text": [
      "Hello World\n"
     ]
    }
   ],
   "source": [
    "print(\"Hello World\")  # Виведення повідомлення на консоль"
   ]
  },
  {
   "cell_type": "markdown",
   "metadata": {
    "id": "5MEjAJRP00uv"
   },
   "source": [
    "У блокових коментарях до і після тексту коментаря ставляться три одинарні лапки: '''текст коментаря'''. Наприклад:"
   ]
  },
  {
   "cell_type": "code",
   "execution_count": null,
   "metadata": {
    "colab": {
     "base_uri": "https://localhost:8080/"
    },
    "id": "MrYCxctb011s",
    "outputId": "7fcc6034-f49c-43e0-9656-c88466eaf1f0"
   },
   "outputs": [
    {
     "name": "stdout",
     "output_type": "stream",
     "text": [
      "Hello World\n"
     ]
    }
   ],
   "source": [
    "'''\n",
    "    Виведення на консоль\n",
    "    повідомлення Hello World\n",
    "'''\n",
    "print(\"Hello World\")"
   ]
  },
  {
   "cell_type": "markdown",
   "metadata": {
    "id": "U3H-LzxU03TU"
   },
   "source": [
    "# Основні функції\n",
    "\n",
    "Python надає низку вбудованих функцій. Деякі з них використовуються дуже часто, особливо на початкових етапах вивчення мови, тому розглянемо їх.\n",
    "\n",
    "Основною функцією для виведення інформації на консоль є функція print(). Як аргумент у цю функцію передається рядок, який ми хочемо вивести:"
   ]
  },
  {
   "cell_type": "code",
   "execution_count": null,
   "metadata": {
    "colab": {
     "base_uri": "https://localhost:8080/"
    },
    "id": "2nMTYRWv04-q",
    "outputId": "7d119ce5-e540-4242-8d52-5e0402ea2201"
   },
   "outputs": [
    {
     "name": "stdout",
     "output_type": "stream",
     "text": [
      "Hello Python\n"
     ]
    }
   ],
   "source": [
    "print(\"Hello Python\")"
   ]
  },
  {
   "cell_type": "markdown",
   "metadata": {
    "id": "Sk2_cvzD06CD"
   },
   "source": [
    "Якщо ж нам необхідно вивести кілька значень на консоль, то ми можемо передати їх у функцію print через кому:"
   ]
  },
  {
   "cell_type": "code",
   "execution_count": null,
   "metadata": {
    "colab": {
     "base_uri": "https://localhost:8080/"
    },
    "id": "MCtstZ4b07SP",
    "outputId": "cf4908bc-0632-434a-e82f-6aa1d33ad5e0"
   },
   "outputs": [
    {
     "name": "stdout",
     "output_type": "stream",
     "text": [
      "Full name: Tom Smith\n"
     ]
    }
   ],
   "source": [
    "print(\"Full name:\", \"Tom\", \"Smith\")"
   ]
  },
  {
   "cell_type": "markdown",
   "metadata": {
    "id": "m2_PIaF70_CK"
   },
   "source": [
    "У підсумку всі передані значення склеяться через пробіли в один рядок."
   ]
  },
  {
   "cell_type": "markdown",
   "metadata": {
    "id": "MDyltxX11EmF"
   },
   "source": [
    "Якщо функція print відповідає за виведення, то функція input відповідає за введення інформації. Як необов'язковий параметр ця функція приймає запрошення до введення і повертає введений рядок, який ми можемо зберегти у змінну:"
   ]
  },
  {
   "cell_type": "code",
   "execution_count": null,
   "metadata": {
    "colab": {
     "base_uri": "https://localhost:8080/"
    },
    "id": "5e6PAdxk1EUs",
    "outputId": "9e422daf-e4d9-4d8a-e97c-9caef2b4bb88"
   },
   "outputs": [
    {
     "name": "stdout",
     "output_type": "stream",
     "text": [
      "Введіть ім`я: Андрій\n",
      "Привіт, Андрій\n",
      "<class 'str'>\n"
     ]
    }
   ],
   "source": [
    "name = input(\"Введіть ім`я: \")\n",
    "print(\"Привіт,\", name)\n",
    "\n",
    "print(type(name))"
   ]
  },
  {
   "cell_type": "markdown",
   "metadata": {
    "id": "_GnJ6dM71ecI"
   },
   "source": [
    "#Змінні та типи даних\n",
    "##Змінні\n",
    "\n",
    "Змінні призначені для зберігання даних. Назва змінної в Python має починатися з алфавітного символу або зі знака підкреслення і може містити алфавітно-цифрові символи та знак підкреслення. І крім того, назва змінної не повинна збігатися з назвою ключових слів мови Python. Ключових слів не так багато, їх легко запам'ятати."
   ]
  },
  {
   "cell_type": "markdown",
   "metadata": {
    "id": "xHGmorJP1mqp"
   },
   "source": [
    "Наприклад, створимо змінну:"
   ]
  },
  {
   "cell_type": "code",
   "execution_count": null,
   "metadata": {
    "id": "uTW71QUd1Ab5"
   },
   "outputs": [],
   "source": [
    "name = \"Tom\""
   ]
  },
  {
   "cell_type": "markdown",
   "metadata": {
    "id": "Lao-sYNK1oLp"
   },
   "source": [
    "Тут визначено змінну name, яка зберігає рядок \"Tom\".\n",
    "\n",
    "У Python застосовується два типи найменування змінних: camel case і underscore notation.\n",
    "\n",
    "Camel case передбачає, що кожне нове підслово в найменуванні змінної починається з великої літери. Наприклад:"
   ]
  },
  {
   "cell_type": "code",
   "execution_count": null,
   "metadata": {
    "id": "I-WGuTNS1qBx"
   },
   "outputs": [],
   "source": [
    "userName = \"Tom\""
   ]
  },
  {
   "cell_type": "markdown",
   "metadata": {
    "id": "E5wZ-t3N1rRx"
   },
   "source": [
    "Underscore notation передбачає, що підслова в найменуванні змінної розділяються знаком підкреслення. Наприклад:"
   ]
  },
  {
   "cell_type": "code",
   "execution_count": null,
   "metadata": {
    "id": "9diEifnu1sd7"
   },
   "outputs": [],
   "source": [
    "user_name = \"Tom\""
   ]
  },
  {
   "cell_type": "markdown",
   "metadata": {
    "id": "Cqi5FLyi1uzU"
   },
   "source": [
    "І також треба враховувати регістрозалежність, тому змінні name і Name представлятимуть різні об'єкти."
   ]
  },
  {
   "cell_type": "code",
   "execution_count": null,
   "metadata": {
    "id": "Ryc8SdhP1tir"
   },
   "outputs": [],
   "source": [
    "# дві різні змінні\n",
    "name = \"Tom\"\n",
    "Name = \"Tom\""
   ]
  },
  {
   "cell_type": "markdown",
   "metadata": {
    "id": "qYMZOiZZ1v5z"
   },
   "source": [
    "Визначивши змінну, ми можемо використовувати в програмі. Наприклад, спробувати вивести її вміст на консоль за допомогою вбудованої функції print:"
   ]
  },
  {
   "cell_type": "code",
   "execution_count": null,
   "metadata": {
    "colab": {
     "base_uri": "https://localhost:8080/"
    },
    "id": "r25lLBBE1xiN",
    "outputId": "6dbf9fdc-2dd0-4897-d217-7d1f2425e218"
   },
   "outputs": [
    {
     "name": "stdout",
     "output_type": "stream",
     "text": [
      "Tom\n"
     ]
    }
   ],
   "source": [
    "name = \"Tom\"  # визначення змінної name\n",
    "print(name)   # виведення значення змінної name на консоль"
   ]
  },
  {
   "cell_type": "markdown",
   "metadata": {
    "id": "wccDtbiB1yik"
   },
   "source": [
    "Відмінною особливістю змінної є те, що ми можемо змінювати її значення протягом роботи програми:"
   ]
  },
  {
   "cell_type": "code",
   "execution_count": null,
   "metadata": {
    "colab": {
     "base_uri": "https://localhost:8080/"
    },
    "id": "ZAUTzO0E11hv",
    "outputId": "766df735-5e61-4fb1-9c83-2151ef8fd774"
   },
   "outputs": [
    {
     "name": "stdout",
     "output_type": "stream",
     "text": [
      "Tom\n",
      "123123\n"
     ]
    }
   ],
   "source": [
    "name = \"Tom\"  # змінна name дорівнює \"Tom\"\n",
    "print(name)   # виводить: Tom\n",
    "name = \"Bob\"  # змінюємо значення на \"Bob\"\n",
    "print(name)   # виводить: Bob"
   ]
  },
  {
   "cell_type": "markdown",
   "metadata": {
    "id": "4YfxE-tW13Vi"
   },
   "source": [
    "## Типи даних\n",
    "\n",
    "Змінна зберігає дані одного з типів даних. У Python існує безліч різних типів даних. У цьому випадку розглянемо тільки базові типи: bool, int, float, complex і str.\n",
    "Логічні значення\n",
    "\n",
    "Тип bool представляє два логічних значення: True (вірно, істина) або False (невірно, брехня). Значення True служить для того, щоб показати, що щось істинне. Тоді як значення False, навпаки, показує, що щось неправдиве. Приклад змінних цього типу:"
   ]
  },
  {
   "cell_type": "code",
   "execution_count": null,
   "metadata": {
    "colab": {
     "base_uri": "https://localhost:8080/"
    },
    "id": "HjvYUb_E1208",
    "outputId": "0568984a-bc3d-41ca-a177-80d9e08bd2fd"
   },
   "outputs": [
    {
     "name": "stdout",
     "output_type": "stream",
     "text": [
      "False\n",
      "True\n"
     ]
    }
   ],
   "source": [
    "isMarried = False\n",
    "print(isMarried)    # False\n",
    "\n",
    "isAlive = True\n",
    "print(isAlive)      # True"
   ]
  },
  {
   "cell_type": "markdown",
   "metadata": {
    "id": "0oeh1m87164Q"
   },
   "source": [
    "## Цілі числа\n",
    "\n",
    "Тип int представляє ціле число, наприклад, 1, 4, 8, 50. Приклад"
   ]
  },
  {
   "cell_type": "code",
   "execution_count": null,
   "metadata": {
    "colab": {
     "base_uri": "https://localhost:8080/"
    },
    "id": "R35TnS4M18JS",
    "outputId": "03a082ff-03ae-454b-d189-1cc8161b3936"
   },
   "outputs": [
    {
     "name": "stdout",
     "output_type": "stream",
     "text": [
      "Вік: 21\n",
      "Кількість: 15\n"
     ]
    }
   ],
   "source": [
    "age = 21\n",
    "print(\"Вік:\", age)    # Вік: 21\n",
    "\n",
    "count = 15\n",
    "print(\"Кількість:\", count) # Кількість: 15"
   ]
  },
  {
   "cell_type": "markdown",
   "metadata": {
    "id": "pDORg4fr19Dp"
   },
   "source": [
    "За замовчуванням стандартні числа розцінюються як числа в десятковій системі. Але Python також підтримує числа в двійковій, вісімковій і шістнадцятковій системах.\n",
    "\n",
    "Для вказівки, що число представляє двійкову систему, перед числом ставиться префікс 0b:"
   ]
  },
  {
   "cell_type": "code",
   "execution_count": null,
   "metadata": {
    "colab": {
     "base_uri": "https://localhost:8080/"
    },
    "id": "cCGfYOKk1_Vn",
    "outputId": "8407ecf9-39bd-4850-a8d3-9ccfc52efd09"
   },
   "outputs": [
    {
     "name": "stdout",
     "output_type": "stream",
     "text": [
      "3\n",
      "11\n",
      "33\n"
     ]
    }
   ],
   "source": [
    "a = 0b11\n",
    "b = 0b1011\n",
    "c = 0b100001\n",
    "print(a)    # 3 у двійковій системі\n",
    "print(b)    # 11 у двійковій системі\n",
    "print(c)    # 33 у двійковій системі"
   ]
  },
  {
   "cell_type": "markdown",
   "metadata": {
    "id": "E9GMFTxA2CxQ"
   },
   "source": [
    "Для вказівки, що число представляє вісімкову систему, перед числом ставиться префікс 0o:"
   ]
  },
  {
   "cell_type": "markdown",
   "metadata": {
    "id": "wiqKaeC22GI3"
   },
   "source": [
    "Для вказівки, що число представляє шістнадцяткову систему, перед числом ставиться префікс 0x:"
   ]
  },
  {
   "cell_type": "markdown",
   "metadata": {
    "id": "orrhA2pD2Llm"
   },
   "source": [
    "Варто зазначити, що в якій би системі ми не передали число у функцію print для виведення на консоль, воно за замовчуванням буде виводитися в десятковій системі.\n",
    "##Дробові числа\n",
    "\n",
    "Тип float представляє число з плаваючою крапкою, наприклад, 1.2 або 34.76. Як роздільник цілої та дробової частин використовується крапка."
   ]
  },
  {
   "cell_type": "code",
   "execution_count": null,
   "metadata": {
    "colab": {
     "base_uri": "https://localhost:8080/"
    },
    "id": "s6_baY8i2LNN",
    "outputId": "c3a97002-8f34-4f66-85ca-245592c26b07"
   },
   "outputs": [
    {
     "name": "stdout",
     "output_type": "stream",
     "text": [
      "1.68\n",
      "3.14\n",
      "68.0\n"
     ]
    }
   ],
   "source": [
    "height = 1.68\n",
    "pi = 3.14\n",
    "weight = 68.\n",
    "print(height)   # 1.68\n",
    "print(pi)       # 3.14\n",
    "print(weight)   # 68.0"
   ]
  },
  {
   "cell_type": "markdown",
   "metadata": {
    "id": "6Ju1kcmw2Oy8"
   },
   "source": [
    "Число з плаваючою крапкою можна визначати в експоненціальному записі:"
   ]
  },
  {
   "cell_type": "code",
   "execution_count": null,
   "metadata": {
    "colab": {
     "base_uri": "https://localhost:8080/"
    },
    "id": "cumphw2I2QOL",
    "outputId": "79074a03-96db-4edc-d4f8-4ec25d01fb1f"
   },
   "outputs": [
    {
     "name": "stdout",
     "output_type": "stream",
     "text": [
      "3900.0\n",
      "0.0039\n"
     ]
    }
   ],
   "source": [
    "x = 3.9e3\n",
    "print(x)  # 3900.0\n",
    "\n",
    "x = 3.9e-3\n",
    "print(x)  # 0.0039"
   ]
  },
  {
   "cell_type": "markdown",
   "metadata": {
    "id": "gGemWX-w2Rr4"
   },
   "source": [
    "Число float може мати тільки 18 значущих символів. Так, у цьому випадку використовуються тільки два символи - 3.9. І якщо число занадто велике або занадто мале, то ми можемо записувати число в подібній нотації, використовуючи експоненту. Число після експоненти вказує ступінь числа 10, на яке треба помножити основне число - 3.9.\n",
    "Комплексні числа\n",
    "\n",
    "Тип complex представляє комплексні числа у форматі дійсна_частина+уявна_частинаj - після уявної частини вказується суфікс j"
   ]
  },
  {
   "cell_type": "code",
   "execution_count": null,
   "metadata": {
    "colab": {
     "base_uri": "https://localhost:8080/"
    },
    "id": "9XMZub4M2T0l",
    "outputId": "26c67a74-1b3c-44b2-fa34-0fd5776a561f"
   },
   "outputs": [
    {
     "name": "stdout",
     "output_type": "stream",
     "text": [
      "(1+2j)\n"
     ]
    }
   ],
   "source": [
    "complexNumber = 1+2j\n",
    "print(complexNumber)   # (1+2j)"
   ]
  },
  {
   "cell_type": "markdown",
   "metadata": {
    "id": "TvPLXBhi2V75"
   },
   "source": [
    "# Рядки\n",
    "\n",
    "Тип str представляє рядки. Рядок являє собою послідовність символів, укладену в одинарні або подвійні лапки, наприклад \"hello\" і 'hello'. У Python 3.x рядки представляють набір символів у кодуванні Unicode"
   ]
  },
  {
   "cell_type": "code",
   "execution_count": null,
   "metadata": {
    "colab": {
     "base_uri": "https://localhost:8080/"
    },
    "id": "V56w4kJb2Zr7",
    "outputId": "1c0d0a7e-f5cd-461c-cf0c-5020b0e4dea6"
   },
   "outputs": [
    {
     "name": "stdout",
     "output_type": "stream",
     "text": [
      "Hello World!\n",
      "Nikitenko\n",
      "Tom\n"
     ]
    }
   ],
   "source": [
    "message = \"Hello World!\"\n",
    "print(message)  # Hello World!\n",
    "\n",
    "surname = 'Nikitenko'\n",
    "print(surname)\n",
    "\n",
    "name = 'Tom'\n",
    "print(name)  # Tom"
   ]
  },
  {
   "cell_type": "markdown",
   "metadata": {
    "id": "orCpf5wm2eY8"
   },
   "source": [
    "При цьому, якщо рядок має багато символів, його можна розбити на частини і ці частини розмістити на різних рядках коду. У цьому випадку весь рядок укладається в круглі дужки, а його окремі частини - в лапки:"
   ]
  },
  {
   "cell_type": "code",
   "execution_count": null,
   "metadata": {
    "colab": {
     "base_uri": "https://localhost:8080/"
    },
    "id": "LBEo4Eww2hu-",
    "outputId": "4c0c54d9-8d22-4396-9654-57a7cb4edf93"
   },
   "outputs": [
    {
     "name": "stdout",
     "output_type": "stream",
     "text": [
      "Laudate omnes gentes laudate Magnificat in secula \n"
     ]
    }
   ],
   "source": [
    "text = (\"Laudate omnes gentes laudate \"\n",
    "        \"Magnificat in secula \")\n",
    "print(text)"
   ]
  },
  {
   "cell_type": "markdown",
   "metadata": {
    "id": "3sPUAYXO2iwj"
   },
   "source": [
    "Якщо ж ми хочемо визначити багаторядковий текст, то такий текст укладається в потрійні подвійні або одинарні лапки:"
   ]
  },
  {
   "cell_type": "code",
   "execution_count": null,
   "metadata": {
    "colab": {
     "base_uri": "https://localhost:8080/"
    },
    "id": "-ath10AI2nIO",
    "outputId": "efc62a74-8603-4b73-be76-6315ac17efde"
   },
   "outputs": [
    {
     "name": "stdout",
     "output_type": "stream",
     "text": [
      "Laudate omnes gentes laudate\n",
      "Magnificat in secula\n",
      "Et anima mea laudate\n",
      "Magnificat in secula\n",
      "\n"
     ]
    }
   ],
   "source": [
    "'''\n",
    "Це коментар\n",
    "'''\n",
    "text = '''Laudate omnes gentes laudate\n",
    "Magnificat in secula\n",
    "Et anima mea laudate\n",
    "Magnificat in secula\n",
    "'''\n",
    "print(text)"
   ]
  },
  {
   "cell_type": "markdown",
   "metadata": {
    "id": "djLMvno22ohX"
   },
   "source": [
    "При використанні потрійних одинарних лапок не варто плутати їх з\n",
    "коментарями: якщо текст у потрійних одинарних лапках присвоюється\n",
    "змінній, то це рядок, а не коментар.\n",
    "\n",
    "## Керуючі послідовності в рядку\n",
    "\n",
    "Рядок може містити низку спеціальних символів - керуючих послідовностей. Деякі з них:\n",
    "\n",
    "\\\\\\: дозволяє додати всередину рядка слеш\n",
    "\n",
    "\\': дозволяє додати всередину рядка одинарну лапку\n",
    "\n",
    "\\\": дозволяє додати всередину рядка подвійну лапку\n",
    "\n",
    "\\n: здійснює перехід на новий рядок\n",
    "\n",
    "\\t: додає табуляцію (4 відступи)\n",
    "\n",
    "Застосуємо кілька послідовностей:"
   ]
  },
  {
   "cell_type": "code",
   "execution_count": null,
   "metadata": {
    "colab": {
     "base_uri": "https://localhost:8080/"
    },
    "id": "cJbv1kl22qol",
    "outputId": "9dc66151-c94b-4ed9-ae0d-71da8cb5cf53"
   },
   "outputs": [
    {
     "name": "stdout",
     "output_type": "stream",
     "text": [
      "Message:\n",
      "\"Hello World\"\n"
     ]
    }
   ],
   "source": [
    "text = \"Message:\\n\\\"Hello World\\\"\"\n",
    "print(text)"
   ]
  },
  {
   "cell_type": "markdown",
   "metadata": {
    "id": "tIaaSwSK2vhx"
   },
   "source": [
    "Хоча подібні послідовності можуть нам допомогти в деяких справах, наприклад, помістити в рядок лапку, зробити табуляцію, перенесення на інший рядок. Але вони також можуть і заважати. Наприклад:"
   ]
  },
  {
   "cell_type": "code",
   "execution_count": null,
   "metadata": {
    "colab": {
     "base_uri": "https://localhost:8080/"
    },
    "id": "PjYdJe-B2t0s",
    "outputId": "d644f0b6-1332-4c11-81d4-e9e5e2a45f75"
   },
   "outputs": [
    {
     "name": "stdout",
     "output_type": "stream",
     "text": [
      "C:\\python\n",
      "ame.txt\n"
     ]
    }
   ],
   "source": [
    "path = \"C:\\python\\name.txt\"\n",
    "print(path)"
   ]
  },
  {
   "cell_type": "markdown",
   "metadata": {
    "id": "kMHpGCLC21ph"
   },
   "source": [
    "Тут змінна path містить деякий шлях до файлу. Однак усередині рядка зустрічаються символи \"\\n\", які будуть інтерпретовані як керівна послідовність. Так, ми отримаємо такий консольний висновок:"
   ]
  },
  {
   "cell_type": "markdown",
   "metadata": {
    "id": "NyOuQ81H25e5"
   },
   "source": [
    "Щоб уникнути подібної ситуації, перед рядком ставиться символ r"
   ]
  },
  {
   "cell_type": "code",
   "execution_count": null,
   "metadata": {
    "colab": {
     "base_uri": "https://localhost:8080/"
    },
    "id": "9NVwV6bh2zW-",
    "outputId": "ebeb2b26-6cc1-4c2d-da8e-155d9a618d78"
   },
   "outputs": [
    {
     "name": "stdout",
     "output_type": "stream",
     "text": [
      "C:\\python\\name.txt\n"
     ]
    }
   ],
   "source": [
    "path = r\"C:\\python\\name.txt\"\n",
    "print(path)"
   ]
  },
  {
   "cell_type": "markdown",
   "metadata": {
    "id": "7VuhYYgO3DS2"
   },
   "source": [
    "## Вставка значень у рядок\n",
    "\n",
    "Python дозволяє вставляти в рядок значення інших змінних. Для цього всередині рядка змінні розміщуються у фігурних дужках {}, а перед усім рядком ставиться символ f:"
   ]
  },
  {
   "cell_type": "code",
   "execution_count": null,
   "metadata": {
    "colab": {
     "base_uri": "https://localhost:8080/"
    },
    "id": "bBJui6303D7V",
    "outputId": "39387e39-3b7b-4ec3-ef09-11e6bca24584"
   },
   "outputs": [
    {
     "name": "stdout",
     "output_type": "stream",
     "text": [
      "Ім`я: Tom  вік: 37\n"
     ]
    }
   ],
   "source": [
    "userName = \"Tom\"\n",
    "userAge = 37\n",
    "user = f\"Ім`я: {userName}  вік: {userAge}\"\n",
    "print(user)   # Ім`я: Tom  вік: 37"
   ]
  },
  {
   "cell_type": "markdown",
   "metadata": {
    "id": "JkUh4T9L3Fc-"
   },
   "source": [
    "У цьому випадку на місце {userName} буде вставлятися значення змінної userName. Аналогічно на замість {userAge} буде вставлятися значення змінної userAge.\n",
    "Динамічна типізація\n",
    "\n",
    "Python є мовою з динамічною типізацією. А це означає, що змінна не прив'язана жорстко до певного типу.\n",
    "\n",
    "Тип змінної визначається виходячи зі значення, яке їй присвоєно. Так, при присвоєнні рядка в подвійних або одинарних лапках змінна має тип str. При присвоєнні цілого числа Python автоматично визначає тип змінної як int. Щоб визначити змінну як об'єкт float, їй присвоюється дробове число, в якому роздільником цілої і дробової частини є крапка.\n",
    "\n",
    "При цьому в процесі роботи програми ми можемо змінити тип змінної, присвоївши їй значення іншого типу:"
   ]
  },
  {
   "cell_type": "code",
   "execution_count": null,
   "metadata": {
    "colab": {
     "base_uri": "https://localhost:8080/"
    },
    "id": "6eKHMhr33Lfe",
    "outputId": "b31aa0da-5564-4a45-a745-e23a53a38891"
   },
   "outputs": [
    {
     "name": "stdout",
     "output_type": "stream",
     "text": [
      "abc\n",
      "234\n"
     ]
    }
   ],
   "source": [
    "userId = \"abc\"  # тип str\n",
    "print(userId)\n",
    "\n",
    "userId = 234  # тип int\n",
    "print(userId)"
   ]
  },
  {
   "cell_type": "markdown",
   "metadata": {
    "id": "ABagpZRf3PIy"
   },
   "source": [
    "За допомогою вбудованої функції type() динамічно можна дізнатися поточний тип змінної:"
   ]
  },
  {
   "cell_type": "code",
   "execution_count": null,
   "metadata": {
    "colab": {
     "base_uri": "https://localhost:8080/"
    },
    "id": "rkuetLw53RCQ",
    "outputId": "d36227e6-30f4-432b-a723-8fddeac2872c"
   },
   "outputs": [
    {
     "name": "stdout",
     "output_type": "stream",
     "text": [
      "<class 'str'>\n",
      "<class 'int'>\n"
     ]
    }
   ],
   "source": [
    "userId = \"abc\"      # тип str\n",
    "print(type(userId)) # <class 'str'>\n",
    "\n",
    "userId = 234        # тип int\n",
    "print(type(userId)) # <class 'int'>"
   ]
  },
  {
   "cell_type": "markdown",
   "metadata": {
    "id": "n9tKmMxq3M0p"
   },
   "source": [
    "#Консольне введення та виведення\n",
    "\n",
    "##Виведення на консоль\n",
    "\n",
    "Для виведення інформації на консоль призначена вбудована функція print(). Під час виклику цієї функції їй у дужках передається значення, що виводиться:"
   ]
  },
  {
   "cell_type": "code",
   "execution_count": null,
   "metadata": {
    "colab": {
     "base_uri": "https://localhost:8080/"
    },
    "id": "YJH2s9vT3X6I",
    "outputId": "1ae3582b-8ef4-4fc9-e3a6-0da5d573d5ec"
   },
   "outputs": [
    {
     "name": "stdout",
     "output_type": "stream",
     "text": [
      "Hello, Andrii\n"
     ]
    }
   ],
   "source": [
    "print(\"Hello, Andrii\")"
   ]
  },
  {
   "cell_type": "markdown",
   "metadata": {
    "id": "8SNooMb93Zmr"
   },
   "source": [
    "Цей код виведе нам на консоль рядок \"Hello, Andrii\".\n",
    "\n",
    "Відмінною особливістю цієї функції є те, що за замовчуванням вона виводить значення на окремому рядку. Наприклад:"
   ]
  },
  {
   "cell_type": "code",
   "execution_count": null,
   "metadata": {
    "colab": {
     "base_uri": "https://localhost:8080/"
    },
    "id": "Bah413BC3ZZL",
    "outputId": "1bd0d084-7ac8-4f4d-f4d8-3004539d6bf0"
   },
   "outputs": [
    {
     "name": "stdout",
     "output_type": "stream",
     "text": [
      "Hello World\n",
      "Hello, Andrii\n",
      "Hello Python\n"
     ]
    }
   ],
   "source": [
    "print(\"Hello World\")\n",
    "print(\"Hello, Andrii\")\n",
    "print(\"Hello Python\")"
   ]
  },
  {
   "cell_type": "markdown",
   "metadata": {
    "id": "j3oyUOrw3iv1"
   },
   "source": [
    "Тут три виклики функції print() виводять деяке повідомлення. Причому під час виведення на консоль кожне повідомлення розміщуватиметься на окремому рядку."
   ]
  },
  {
   "cell_type": "markdown",
   "metadata": {
    "id": "_krVS64-4NU0"
   },
   "source": [
    "Така поведінка не завжди зручна. Наприклад, ми хочемо, щоб усі значення виводилися на одному рядку. Для цього нам треба налаштувати поведінку функції за допомогою параметра end. Цей параметр задає символи, які додаються наприкінці до виведеного рядка і . При застосуванні параметра end виклик функції print() має такий вигляд: ```print(значення, end = кінцеві_символи)```"
   ]
  },
  {
   "cell_type": "markdown",
   "metadata": {
    "id": "ClWsirrz4QQW"
   },
   "source": [
    "За замовчуванням end дорівнює символу \"\\n\", який задає переведення на наступний рядок. Власне тому функція print за замовчуванням виводить значення, що їй передається, на окремому рядку.\n",
    "\n",
    "Тепер визначимо, щоб функція не робила переведення на наступний рядок, а виводила значення на тому самому рядку:"
   ]
  },
  {
   "cell_type": "code",
   "execution_count": null,
   "metadata": {
    "colab": {
     "base_uri": "https://localhost:8080/"
    },
    "id": "8h7Csono4SZu",
    "outputId": "b0ca0f29-ec6a-47d6-b9fe-fe3612431484"
   },
   "outputs": [
    {
     "name": "stdout",
     "output_type": "stream",
     "text": [
      "Hello World Hello, Andrii Hello Python\n"
     ]
    }
   ],
   "source": [
    "print(\"Hello World\", end=\" \")\n",
    "print(\"Hello, Andrii\", end=\" \")\n",
    "print(\"Hello Python\")"
   ]
  },
  {
   "cell_type": "markdown",
   "metadata": {
    "id": "O_tqmvTA4Tpe"
   },
   "source": [
    "Тобто тепер виведені значення розділятимуться пропуском.\n"
   ]
  },
  {
   "cell_type": "code",
   "execution_count": null,
   "metadata": {
    "colab": {
     "base_uri": "https://localhost:8080/"
    },
    "id": "sflCzcjS6iTx",
    "outputId": "7c481e0f-a447-41dc-eb69-a80ef2cb1326"
   },
   "outputs": [
    {
     "name": "stdout",
     "output_type": "stream",
     "text": [
      "Hello World and Hello, Andrii and Hello Python\n"
     ]
    }
   ],
   "source": [
    "print(\"Hello World\", end=\" and \")\n",
    "print(\"Hello, Andrii\", end=\" and \")\n",
    "print(\"Hello Python\")"
   ]
  },
  {
   "cell_type": "markdown",
   "metadata": {
    "id": "-Qqdx8Se6jrN"
   },
   "source": [
    "У цьому разі виведені повідомлення будуть відокремлюватися символами \" and \":"
   ]
  },
  {
   "cell_type": "markdown",
   "metadata": {
    "id": "VoLiD3TI6niB"
   },
   "source": [
    "## Консольне введення\n",
    "\n",
    "Поряд із виведенням на консоль ми можемо отримувати введення користувача з консолі, отримувати дані, що вводяться. Для цього в Python визначена функція input(). У цю функцію передається запрошення до введення. А результат введення ми можемо зберегти у змінну. Наприклад, визначимо код для введення користувачем імені:"
   ]
  },
  {
   "cell_type": "code",
   "execution_count": null,
   "metadata": {
    "colab": {
     "base_uri": "https://localhost:8080/"
    },
    "id": "GSfiGiPb6lmC",
    "outputId": "1d8d7d02-3e39-46e8-b101-6979528d7ce3"
   },
   "outputs": [
    {
     "name": "stdout",
     "output_type": "stream",
     "text": [
      "Введіть своє ім'я: Андрій\n",
      "Ваше ім'я: Андрій\n"
     ]
    }
   ],
   "source": [
    "name = input(\"Введіть своє ім'я: \")\n",
    "print(f\"Ваше ім'я: {name}\")"
   ]
  },
  {
   "cell_type": "markdown",
   "metadata": {
    "id": "fC8Sk--d6sWM"
   },
   "source": [
    "У цьому випадку у функцію input() передається запрошення до введення у вигляді рядка \"Введіть своє ім'я: \". Результат функції - результат введення користувача передається у змінну name. Потім ми можемо вивести значення цієї змінної на консоль за допомогою функції print(). Приклад роботи коду:"
   ]
  },
  {
   "cell_type": "code",
   "execution_count": null,
   "metadata": {
    "colab": {
     "base_uri": "https://localhost:8080/"
    },
    "id": "fTm0fqqe6ugL",
    "outputId": "99fb4c51-3826-4df1-d65d-ddc93dbd5b5b"
   },
   "outputs": [
    {
     "name": "stdout",
     "output_type": "stream",
     "text": [
      "Ваше ім'я: Андрій\n",
      "Ваш вік: 32\n",
      "Ім'я: Андрій Вік: 32\n"
     ]
    }
   ],
   "source": [
    "name = input(\"Ваше ім'я: \")\n",
    "age = input(\"Ваш вік: \")\n",
    "print(f\"Ім'я: {name} Вік: {age}\")"
   ]
  },
  {
   "cell_type": "markdown",
   "metadata": {
    "id": "eZYuJ4G-7oEf"
   },
   "source": [
    "Варто враховувати, що всі введені значення розглядаються як значення типу str, тобто рядки. І навіть якщо ми вводимо число, як у другому випадку в коді вище, то Python все одно розглядатиме введене значення як рядок, а не як число."
   ]
  },
  {
   "cell_type": "markdown",
   "metadata": {
    "id": "Dbua4iJ17qrP"
   },
   "source": [
    "#Арифметичні операції з числами\n",
    "\n",
    "Python підтримує всі поширені арифметичні операції:\n"
   ]
  },
  {
   "cell_type": "code",
   "execution_count": null,
   "metadata": {
    "colab": {
     "base_uri": "https://localhost:8080/"
    },
    "id": "K38G7O3c7mH9",
    "outputId": "82e1b43a-e2ab-40ad-9d41-c3aa126fabad"
   },
   "outputs": [
    {
     "name": "stdout",
     "output_type": "stream",
     "text": [
      "8\n",
      "4\n",
      "12\n",
      "3.0\n",
      "3.5\n",
      "3\n",
      "36\n",
      "1\n"
     ]
    }
   ],
   "source": [
    "print(6 + 2)  # 8\n",
    "print(6 - 2)  # 4\n",
    "print(6 * 2)  # 12\n",
    "print(6 / 2)  # 3.0\n",
    "print(7 / 2)  # 3.5\n",
    "print(7 // 2)  # 3\n",
    "print(6 ** 2)  # Зводимо число 6 у ступінь 2. Результат - 36\n",
    "print(7 % 2)  # Отримання залишку від ділення числа 7 на 2. Результат - 1"
   ]
  },
  {
   "cell_type": "markdown",
   "metadata": {
    "id": "ECx2cPks761s"
   },
   "source": [
    "У разі послідовного використання декількох арифметичних операцій їхнє виконання здійснюється відповідно до їхнього пріоритету. На початку виконуються операції з більшим пріоритетом. Пріоритети операцій у порядку убування наведено в такій таблиці.\n",
    "\n",
    "** Справо наліво\n",
    "\n",
    "*/ // % Зліва направо\n",
    "\n",
    "+- Зліва направо"
   ]
  },
  {
   "cell_type": "markdown",
   "metadata": {
    "id": "9ehrVl9O8PsD"
   },
   "source": [
    "##Арифметичні операції з присвоєнням\n",
    "\n",
    "Низка спеціальних операцій дозволяють використовувати присвоїти результат операції першому операнду:"
   ]
  },
  {
   "cell_type": "code",
   "execution_count": null,
   "metadata": {
    "colab": {
     "base_uri": "https://localhost:8080/"
    },
    "id": "Dr1dpmFv79g6",
    "outputId": "b9faae55-80f3-4e2b-a603-5b6ee47d1d90"
   },
   "outputs": [
    {
     "name": "stdout",
     "output_type": "stream",
     "text": [
      "15\n",
      "12\n",
      "48\n"
     ]
    }
   ],
   "source": [
    "number = 10\n",
    "number += 5\n",
    "print(number)  # 15\n",
    "\n",
    "number -= 3\n",
    "print(number)  # 12\n",
    "\n",
    "number *= 4\n",
    "print(number)  # 48"
   ]
  },
  {
   "cell_type": "markdown",
   "metadata": {
    "id": "h_0Liz4D8SkV"
   },
   "source": [
    "##Округлення та функція round\n",
    "\n",
    "При операціях з числами типу float треба враховувати, що результат операцій з ними може бути не зовсім точним. Наприклад:"
   ]
  },
  {
   "cell_type": "code",
   "execution_count": null,
   "metadata": {
    "colab": {
     "base_uri": "https://localhost:8080/"
    },
    "id": "0w_d2Pa08UG2",
    "outputId": "e5e9c0c2-19e6-4b88-aaf8-da2ca078bd67"
   },
   "outputs": [
    {
     "name": "stdout",
     "output_type": "stream",
     "text": [
      "0.40002000000000004\n"
     ]
    }
   ],
   "source": [
    "first_number = 2.0001\n",
    "second_number = 5\n",
    "third_number = first_number / second_number\n",
    "print(third_number) # 0.40002000000000004"
   ]
  },
  {
   "cell_type": "markdown",
   "metadata": {
    "id": "zmVVK7QU8YXZ"
   },
   "source": [
    "У цьому випадку ми очікуємо отримати число 0.40002, однак наприкінці через низку нулів з'являється ще якась четвірка. Або ще один вираз:"
   ]
  },
  {
   "cell_type": "code",
   "execution_count": null,
   "metadata": {
    "colab": {
     "base_uri": "https://localhost:8080/"
    },
    "id": "a8GxsBPN8ape",
    "outputId": "ac3cb34b-277d-49be-a27c-90dfe186674d"
   },
   "outputs": [
    {
     "name": "stdout",
     "output_type": "stream",
     "text": [
      "2.1001000000000003\n"
     ]
    }
   ],
   "source": [
    "print(2.0001 + 0.1)  # 2.1001000000000003"
   ]
  },
  {
   "cell_type": "markdown",
   "metadata": {
    "id": "BIYp6F3h8cHi"
   },
   "source": [
    "У випадку вище для округлення результату ми можемо використовувати вбудовану функцію round():"
   ]
  },
  {
   "cell_type": "code",
   "execution_count": null,
   "metadata": {
    "colab": {
     "base_uri": "https://localhost:8080/"
    },
    "id": "ollv5qFz8g29",
    "outputId": "de064cf2-e4b0-4d85-aad1-9cf46f88ce5b"
   },
   "outputs": [
    {
     "name": "stdout",
     "output_type": "stream",
     "text": [
      "2\n"
     ]
    }
   ],
   "source": [
    "first_number = 2.0001\n",
    "second_number = 0.1\n",
    "third_number = first_number + second_number\n",
    "print(round(third_number))  # 2"
   ]
  },
  {
   "cell_type": "markdown",
   "metadata": {
    "id": "_14zpJE28lPD"
   },
   "source": [
    "У функцію round() передається число, яке треба округлити. Якщо у функцію передається одне число, як у прикладі вище, то воно округляється до цілого.\n",
    "\n",
    "Функція round() також може приймати друге число, яке вказує, скільки знаків після коми повинно містити одержуване число:"
   ]
  },
  {
   "cell_type": "code",
   "execution_count": null,
   "metadata": {
    "colab": {
     "base_uri": "https://localhost:8080/"
    },
    "id": "Xjah8Hen8lDS",
    "outputId": "525dde45-d824-42be-f402-faa1d1038881"
   },
   "outputs": [
    {
     "name": "stdout",
     "output_type": "stream",
     "text": [
      "2.1001\n"
     ]
    }
   ],
   "source": [
    "first_number = 2.0001\n",
    "second_number = 0.1\n",
    "third_number = first_number + second_number\n",
    "print(round(third_number, 4))  # 2.1001"
   ]
  },
  {
   "cell_type": "markdown",
   "metadata": {
    "id": "2R4NvEJs8pNM"
   },
   "source": [
    "У цьому випадку число third_number округляється до 4 знаків після коми.\n",
    "\n",
    "Якщо у функцію передається тільки одне значення - тільки число, що округляється, воно округляється до найближчого цілого\n",
    "\n",
    "Приклади округлень:"
   ]
  },
  {
   "cell_type": "code",
   "execution_count": null,
   "metadata": {
    "colab": {
     "base_uri": "https://localhost:8080/"
    },
    "id": "9Whb93IA8pxp",
    "outputId": "04c9275e-59cf-4b7f-f966-f9d8c0a0452e"
   },
   "outputs": [
    {
     "name": "stdout",
     "output_type": "stream",
     "text": [
      "2\n",
      "3\n"
     ]
    }
   ],
   "source": [
    "# округлення до цілого числа\n",
    "print(round(2.49))  # 2 - округлення до найближчого цілого 2\n",
    "print(round(2.51))  # 3"
   ]
  },
  {
   "cell_type": "markdown",
   "metadata": {
    "id": "Cvqas84X8sA1"
   },
   "source": [
    "Однак якщо округлювана частина дорівнює однаково віддалена від двох цілих чисел, то округлення йде до найближчого парного:"
   ]
  },
  {
   "cell_type": "code",
   "execution_count": null,
   "metadata": {
    "colab": {
     "base_uri": "https://localhost:8080/"
    },
    "id": "9-uQe4eo8tJY",
    "outputId": "9bf3acc7-2b7b-43aa-af09-4bf68e7301e0"
   },
   "outputs": [
    {
     "name": "stdout",
     "output_type": "stream",
     "text": [
      "2\n",
      "4\n"
     ]
    }
   ],
   "source": [
    "print(round(2.5))   # 2 - найближче парне\n",
    "print(round(3.5))   # 4 - найближче парне"
   ]
  },
  {
   "cell_type": "markdown",
   "metadata": {
    "id": "esI_liPV8ukb"
   },
   "source": [
    "Округлення проводиться до найближчого кратного 10 у ступені мінус частина, що округляється:"
   ]
  },
  {
   "cell_type": "code",
   "execution_count": null,
   "metadata": {
    "colab": {
     "base_uri": "https://localhost:8080/"
    },
    "id": "mA3v8zY78v1t",
    "outputId": "4d80f7db-06e5-46c4-a024-2897abaea1b8"
   },
   "outputs": [
    {
     "name": "stdout",
     "output_type": "stream",
     "text": [
      "2.55\n",
      "2.56\n",
      "2.55\n",
      "2.5\n"
     ]
    }
   ],
   "source": [
    "# округлення до двох знаків після коми\n",
    "print(round(2.554, 2))      # 2.55\n",
    "print(round(2.5551, 2))      # 2.56\n",
    "print(round(2.554999, 2))   # 2.55\n",
    "print(round(2.499, 2))      # 2.5"
   ]
  },
  {
   "cell_type": "markdown",
   "metadata": {
    "id": "orBGIJu98wJb"
   },
   "source": [
    "Однак слід враховувати, що функція round() не ідеальний інструмент. Наприклад, вище під час округлення до цілих чисел застосовується правило, згідно з яким, якщо частина, що округляється, однаково віддалена від двох значень, то округлення проводиться до найближчого парного значення. У Python у зв'язку з тим, що десяткова частина числа не може бути точно представлена у вигляді числа float, то це може призводити до деяких не зовсім очікуваних результатів. Наприклад:"
   ]
  },
  {
   "cell_type": "code",
   "execution_count": null,
   "metadata": {
    "colab": {
     "base_uri": "https://localhost:8080/"
    },
    "id": "oXAw1YpX8yEP",
    "outputId": "d4315f82-6b32-45cf-edfc-08a5175c2deb"
   },
   "outputs": [
    {
     "name": "stdout",
     "output_type": "stream",
     "text": [
      "2.54\n",
      "2.56\n",
      "2.56\n",
      "2.58\n",
      "2.65\n",
      "2.67\n",
      "2.67\n"
     ]
    }
   ],
   "source": [
    "# округлення до двох знаків після коми\n",
    "print(round(2.545, 2))   # 2.54\n",
    "print(round(2.555, 2))   # 2.56 - округлення до парного\n",
    "print(round(2.565, 2))   # 2.56\n",
    "print(round(2.575, 2))   # 2.58\n",
    "\n",
    "print(round(2.655, 2))   # 2.65 - округлення не до парного\n",
    "print(round(2.665, 2))   # 2.67\n",
    "print(round(2.675, 2))   # 2.67"
   ]
  },
  {
   "cell_type": "markdown",
   "metadata": {
    "id": "cQLkz0MO85Dc"
   },
   "source": [
    "#Умовні вирази"
   ]
  },
  {
   "cell_type": "markdown",
   "metadata": {
    "id": "XIpAxDZZ87ij"
   },
   "source": [
    "Низка операцій представляють умовні вирази. Усі ці операції приймають два операнди і повертають логічне значення, яке в Python представляє тип bool. Існує тільки два логічних значення - True (вираз істинний) і False (вираз хибний).\n",
    "Операції порівняння\n",
    "\n",
    "Найпростіші умовні вирази представляють операції порівняння, які порівнюють два значення. Приклади:"
   ]
  },
  {
   "cell_type": "code",
   "execution_count": null,
   "metadata": {
    "colab": {
     "base_uri": "https://localhost:8080/"
    },
    "id": "9K5ni1Nz85xr",
    "outputId": "6aa1ab6a-ecd3-4334-8e67-0103f4f450fe"
   },
   "outputs": [
    {
     "name": "stdout",
     "output_type": "stream",
     "text": [
      "False\n",
      "True\n",
      "False\n",
      "True\n",
      "False\n"
     ]
    }
   ],
   "source": [
    "a = 5\n",
    "b = 6\n",
    "result = 5 == 6  # зберігаємо результат операції у змінну\n",
    "print(result)  # False - 5 не дорівнює 6\n",
    "print(a != b)  # True\n",
    "print(a > b)  # False - 5 менше 6\n",
    "print(a < b)  # True\n",
    "\n",
    "bool1 = True\n",
    "bool2 = False\n",
    "print(bool1 == bool2)  # False - bool1 не дорівнює bool2"
   ]
  },
  {
   "cell_type": "markdown",
   "metadata": {
    "id": "ZUaILp4U9BiG"
   },
   "source": [
    "Операції порівняння можуть порівнювати різні об'єкти - рядки, числа, логічні значення, однак обидва операнди операції повинні представляти один і той самий тип.\n",
    "## Логічні операції\n",
    "\n",
    "Для створення складних умовних виразів застосовуються логічні операції. У Python є такі логічні оператори:\n",
    "\n",
    "Оператор and (логічне множення) застосовується до двох операндів:\n",
    "```x and y```\n",
    "Спочатку оператор and оцінює вираз x, і якщо він дорівнює False, то повертається його значення. Якщо воно дорівнює True, то оцінюється другий операнд - y і повертається значення y."
   ]
  },
  {
   "cell_type": "code",
   "execution_count": null,
   "metadata": {
    "colab": {
     "base_uri": "https://localhost:8080/"
    },
    "id": "Z66eGOjg8_rf",
    "outputId": "35d40d40-50cb-4a97-cb1c-c13c7f27a544"
   },
   "outputs": [
    {
     "name": "stdout",
     "output_type": "stream",
     "text": [
      "False\n"
     ]
    }
   ],
   "source": [
    "age = 20\n",
    "weight = 58\n",
    "result = age > 21 and weight == 58\n",
    "print(result)  # True"
   ]
  },
  {
   "cell_type": "markdown",
   "metadata": {
    "id": "9jhCeyyC9LkI"
   },
   "source": [
    "У цьому випадку оператор and порівнює результати двох виразів: age > 21 weight == 58. І якщо обидва ці вирази повертають True, то оператор and також повертає True (формально повертається значення останнього операнда).\n",
    "\n",
    "Але операндами оператора and необов'язково виступають значення True і False. Це можуть бути будь-які значення. Наприклад:"
   ]
  },
  {
   "cell_type": "code",
   "execution_count": null,
   "metadata": {
    "colab": {
     "base_uri": "https://localhost:8080/"
    },
    "id": "3buvL24K9OGk",
    "outputId": "0161abf2-5718-47c0-ce30-e67822c199e6"
   },
   "outputs": [
    {
     "name": "stdout",
     "output_type": "stream",
     "text": [
      "w\n",
      "0\n"
     ]
    }
   ],
   "source": [
    "result = 4 and \"w\"\n",
    "print(result)  # wоскільки 4 дорівнює True, тому повертається значення останнього операнда\n",
    "\n",
    "result = 0 and \"w\"\n",
    "print(result)  # 0, оскільки 0 еквівалентно False"
   ]
  },
  {
   "cell_type": "markdown",
   "metadata": {
    "id": "bBxbpekE9P1c"
   },
   "source": [
    "У цьому випадку число 0 і порожній рядок \"\" розглядаються як False, усі інші числа і непорожні рядки еквівалентні True\n",
    "\n",
    "or (логічне додавання) також застосовується до двох операндів:\n",
    "```x or y```\n",
    "Спочатку оператор or оцінює вираз x, і якщо він дорівнює True, то повертається його значення. Якщо він дорівнює False, то оцінюється другий операнд - y і повертається значення y. Наприклад"
   ]
  },
  {
   "cell_type": "code",
   "execution_count": null,
   "metadata": {
    "colab": {
     "base_uri": "https://localhost:8080/"
    },
    "id": "fsoC47CQ9RQG",
    "outputId": "50015076-a6c6-446b-9ba2-bb489b9eb6a4"
   },
   "outputs": [
    {
     "name": "stdout",
     "output_type": "stream",
     "text": [
      "True\n"
     ]
    }
   ],
   "source": [
    "age = 22\n",
    "isMarried = False\n",
    "result = age > 21 or isMarried\n",
    "print(result)  # True, оскільки вираз age > 21 дорівнює True"
   ]
  },
  {
   "cell_type": "markdown",
   "metadata": {
    "id": "AIwJ6rbw9Yam"
   },
   "source": [
    "І також оператор or може застосовуватися до будь-яких значень. Наприклад:"
   ]
  },
  {
   "cell_type": "code",
   "execution_count": null,
   "metadata": {
    "colab": {
     "base_uri": "https://localhost:8080/"
    },
    "id": "ZLCGSrLs9Z17",
    "outputId": "972695c1-36af-4477-ca99-0809f92b32a1"
   },
   "outputs": [
    {
     "name": "stdout",
     "output_type": "stream",
     "text": [
      "4\n",
      "w\n"
     ]
    }
   ],
   "source": [
    "result = 4 or \"w\"\n",
    "print(result)  #4, оскільки 4 еквівалентно True, тому повертається значення першого операнда\n",
    "\n",
    "result = 0 or \"w\"\n",
    "print(result)  # w, оскільки 0 еквівалентно False, тому повертається значення останнього операнда"
   ]
  },
  {
   "cell_type": "markdown",
   "metadata": {
    "id": "iE82NYvA9dyu"
   },
   "source": [
    "not (логічне заперечення)\n",
    "\n",
    "Повертає True, якщо вираз дорівнює False"
   ]
  },
  {
   "cell_type": "code",
   "execution_count": null,
   "metadata": {
    "colab": {
     "base_uri": "https://localhost:8080/"
    },
    "id": "0uTItBRb9gkt",
    "outputId": "45e2b49d-2e6a-4d73-cb1d-171a56e8532e"
   },
   "outputs": [
    {
     "name": "stdout",
     "output_type": "stream",
     "text": [
      "False\n",
      "True\n",
      "False\n",
      "True\n"
     ]
    }
   ],
   "source": [
    "age = 22\n",
    "isMarried = False\n",
    "print(not age > 21)  # False\n",
    "print(not isMarried)  # True\n",
    "print(not 4)  # False\n",
    "print(not 0)  # True"
   ]
  },
  {
   "cell_type": "markdown",
   "metadata": {
    "id": "10zAIk8o9iF9"
   },
   "source": [
    "##Оператор in\n",
    "\n",
    "Оператор in повертає True якщо в деякому наборі значень є певне значення. Він має таку форму: ```значення in набір_значень```"
   ]
  },
  {
   "cell_type": "code",
   "execution_count": null,
   "metadata": {
    "colab": {
     "base_uri": "https://localhost:8080/"
    },
    "id": "_-5nNVd79nRZ",
    "outputId": "ac43f6fc-7d63-41b0-b379-e2fe1bed1223"
   },
   "outputs": [
    {
     "name": "stdout",
     "output_type": "stream",
     "text": [
      "True\n",
      "False\n"
     ]
    }
   ],
   "source": [
    "message = \"hello world!\"\n",
    "hello = \"hello\"\n",
    "print(hello in message)  # True - підрядок hello є в рядку \"hello world!\"\n",
    "\n",
    "gold = \"gold\"\n",
    "print(gold in message)  # False - підрядка \"gold\" немає в рядку \"hello world!\""
   ]
  },
  {
   "cell_type": "markdown",
   "metadata": {
    "id": "PaC8AUqg9qMN"
   },
   "source": [
    "Якщо нам треба навпаки перевірити, чи немає в наборі значень якогось значення, то ми може використовувати модифікацію оператора - not in. Вона повертає True, якщо в наборі значень НЕМАЄ певного значення:"
   ]
  },
  {
   "cell_type": "code",
   "execution_count": null,
   "metadata": {
    "colab": {
     "base_uri": "https://localhost:8080/"
    },
    "id": "vZwd6s8U9rrI",
    "outputId": "f70026b2-4287-4797-d39c-e92564a5329a"
   },
   "outputs": [
    {
     "name": "stdout",
     "output_type": "stream",
     "text": [
      "False\n",
      "True\n"
     ]
    }
   ],
   "source": [
    "message = \"hello world!\"\n",
    "hello = \"hello\"\n",
    "print(hello not in message)  # False\n",
    "\n",
    "gold = \"gold\"\n",
    "print(gold not in message)  # True"
   ]
  },
  {
   "cell_type": "markdown",
   "metadata": {
    "id": "HMXp9x9N9u6N"
   },
   "source": [
    "# Умовна конструкція if\n",
    "\n",
    "Умовні конструкції використовують умовні вирази і залежно від їхнього значення спрямовують виконання програми одним зі шляхів. Одна з таких конструкцій - це конструкція if.У найпростішому вигляді після ключового слова if йде логічний вираз. І якщо цей логічний вираз повертає True, то виконується наступний блок інструкцій, кожна з яких має розпочинатися з нового рядка і має мати відступи від початку виразу if (відступ бажано робити в 4 пропуски або ту кількість пропусків, яка кратна 4):"
   ]
  },
  {
   "cell_type": "code",
   "execution_count": null,
   "metadata": {
    "colab": {
     "base_uri": "https://localhost:8080/"
    },
    "id": "XNl7n3bi97Yk",
    "outputId": "cd3e1f96-8082-41ec-8fd9-63b1bac1f8a2"
   },
   "outputs": [
    {
     "name": "stdout",
     "output_type": "stream",
     "text": [
      "End\n"
     ]
    }
   ],
   "source": [
    "language = \"english\"\n",
    "if language == \"englis\":\n",
    "    print(\"Hello\")\n",
    "print(\"End\")"
   ]
  },
  {
   "cell_type": "markdown",
   "metadata": {
    "id": "A26QLAFn-CKe"
   },
   "source": [
    "# Блок else\n",
    "\n",
    "Якщо раптом нам треба визначити альтернативне рішення на той випадок, якщо вираз в if поверне False, то ми можемо використовувати блок else:"
   ]
  },
  {
   "cell_type": "code",
   "execution_count": null,
   "metadata": {
    "colab": {
     "base_uri": "https://localhost:8080/"
    },
    "id": "zzN7URTS9_Bj",
    "outputId": "a49797f3-aebe-40ed-f1c5-91f96f43d7e4"
   },
   "outputs": [
    {
     "name": "stdout",
     "output_type": "stream",
     "text": [
      "Привіт\n",
      "End\n"
     ]
    }
   ],
   "source": [
    "language = \"ukrainian\"\n",
    "if language == \"english\":\n",
    "    print(\"Hello\")\n",
    "else:\n",
    "    print(\"Привіт\")\n",
    "print(\"End\")"
   ]
  },
  {
   "cell_type": "markdown",
   "metadata": {
    "id": "PBYbNtPT-FJf"
   },
   "source": [
    "Якщо вираз language == \"english\" повертає True, то виконується блок if, інакше виконується блок else. І оскільки в даному випадку умова language == \"english\" повертає False, то будуть виконуватися інструкція з блоку else.\n",
    "\n",
    "Причому інструкції блоку else також повинні мати відступи від початку рядка. Наприклад, у прикладі вище print(\"End\") не має відступу, тому вона не входить до блоку else і буде виконуватися незалежно від того, чому дорівнює умова language == \"english\". Тобто консоль нам виведе такі рядки:"
   ]
  },
  {
   "cell_type": "markdown",
   "metadata": {
    "id": "QvZJBoqY-HII"
   },
   "source": [
    "Блок else також може мати кілька інструкцій, які повинні мати відступ від початку рядка:"
   ]
  },
  {
   "cell_type": "code",
   "execution_count": null,
   "metadata": {
    "colab": {
     "base_uri": "https://localhost:8080/"
    },
    "id": "dIf-6hkW-B8S",
    "outputId": "68d9a0e6-62b3-473e-b73e-0edcd89e8d77"
   },
   "outputs": [
    {
     "name": "stdout",
     "output_type": "stream",
     "text": [
      "Привіт\n",
      "світ\n"
     ]
    }
   ],
   "source": [
    "language = \"ukrainian\"\n",
    "if language == \"english\":\n",
    "    print(\"Hello\")\n",
    "    print(\"World\")\n",
    "else:\n",
    "    print(\"Привіт\")\n",
    "    print(\"світ\")"
   ]
  },
  {
   "cell_type": "markdown",
   "metadata": {
    "id": "zAflBSu9-I7m"
   },
   "source": [
    "##elif\n",
    "\n",
    "Якщо необхідно ввести кілька альтернативних умов, то можна використовувати додаткові блоки elif, після якого йде блок інструкцій."
   ]
  },
  {
   "cell_type": "code",
   "execution_count": null,
   "metadata": {
    "colab": {
     "base_uri": "https://localhost:8080/"
    },
    "id": "8byX6t_d-LRu",
    "outputId": "ed925c3d-ddd0-4a22-8bdc-72703584d7d0"
   },
   "outputs": [
    {
     "name": "stdout",
     "output_type": "stream",
     "text": [
      "Hallo\n",
      "Welt\n"
     ]
    }
   ],
   "source": [
    "language = \"german\"\n",
    "if language == \"english\":\n",
    "    print(\"Hello\")\n",
    "    print(\"World\")\n",
    "elif language == \"german\":\n",
    "    print(\"Hallo\")\n",
    "    print(\"Welt\")\n",
    "else:\n",
    "    print(\"Привіт\")\n",
    "    print(\"світ\")"
   ]
  },
  {
   "cell_type": "markdown",
   "metadata": {
    "id": "3AWGf9iH-Keo"
   },
   "source": [
    "Спочатку Python перевіряє вираз if. Якщо він дорівнює True, то виконуються інструкції з блоку if. Якщо ця умова повертає False, то Python перевіряє вираз з elif.\n",
    "\n",
    "Якщо вираз після elif дорівнює True, то виконуються інструкції з блоку elif. Але якщо він дорівнює False то виконуються інструкції з блоку else\n",
    "\n",
    "За потреби можна визначити кілька блоків elif для різних умов. Наприклад:"
   ]
  },
  {
   "cell_type": "code",
   "execution_count": null,
   "metadata": {
    "colab": {
     "base_uri": "https://localhost:8080/"
    },
    "id": "KDHv85kA-PJq",
    "outputId": "3776d818-4191-491b-a547-df010d892ed6"
   },
   "outputs": [
    {
     "name": "stdout",
     "output_type": "stream",
     "text": [
      "Hallo\n"
     ]
    }
   ],
   "source": [
    "language = \"german\"\n",
    "if language == \"english\":\n",
    "    print(\"Hello\")\n",
    "elif language == \"german\":\n",
    "    print(\"Hallo\")\n",
    "elif language == \"french\":\n",
    "    print(\"Salut\")\n",
    "else:\n",
    "    print(\"Привіт\")"
   ]
  },
  {
   "cell_type": "markdown",
   "metadata": {
    "id": "a_9aQ0HC-QTd"
   },
   "source": [
    "## Вкладені конструкції if\n",
    "\n",
    "Конструкція if зі свого боку сама може мати вкладені конструкції if:"
   ]
  },
  {
   "cell_type": "code",
   "execution_count": null,
   "metadata": {
    "colab": {
     "base_uri": "https://localhost:8080/"
    },
    "id": "GhcurUSz-SVp",
    "outputId": "db0fe16a-f6c6-4b1c-bc60-2e2de8c84130"
   },
   "outputs": [
    {
     "name": "stdout",
     "output_type": "stream",
     "text": [
      "English\n",
      "Good morning\n"
     ]
    }
   ],
   "source": [
    "language = \"english\"\n",
    "daytime = \"morning\"\n",
    "if language == \"english\":\n",
    "    print(\"English\")\n",
    "    if daytime == \"morning\":\n",
    "        print(\"Good morning\")\n",
    "    else:\n",
    "        print(\"Good evening\")"
   ]
  },
  {
   "cell_type": "markdown",
   "metadata": {
    "id": "zxakW6RW-bas"
   },
   "source": [
    "#Цикли\n",
    "Цикли дають змогу виконувати деяку дію залежно від дотримання певної умови. У мові Python є такі типи циклів: while, for\n",
    "\n",
    "##Цикл while\n",
    "\n",
    "Цикл while перевіряє істинність деякої умови, і якщо умова істинна, то виконує інструкції циклу.Після ключового слова while вказується умовний вираз, і доки цей вираз повертає значення True, виконуватиметься блок інструкцій, що йде далі.\n",
    "\n",
    "Усі інструкції, які відносяться до циклу while, розташовуються на наступних рядках і повинні мати відступ від початку ключового слова while."
   ]
  },
  {
   "cell_type": "code",
   "execution_count": null,
   "metadata": {
    "colab": {
     "base_uri": "https://localhost:8080/"
    },
    "id": "WpwS32jN-dKY",
    "outputId": "59f99ee4-d3d7-4776-b413-02dfbe3b430c"
   },
   "outputs": [
    {
     "name": "stdout",
     "output_type": "stream",
     "text": [
      "number = 1\n",
      "number = 2\n",
      "Роботу програми завершено\n"
     ]
    }
   ],
   "source": [
    "number = 1\n",
    "flag = True\n",
    "\n",
    "while flag:\n",
    "    print(f\"number = {number}\")\n",
    "    number += 1\n",
    "    if number == 3:\n",
    "        flag = False\n",
    "print(\"Роботу програми завершено\")"
   ]
  },
  {
   "cell_type": "markdown",
   "metadata": {
    "id": "pig12FUQ-mQi"
   },
   "source": [
    "У цьому випадку цикл while виконуватиметься, поки змінна number менша за 5.\n",
    "\n",
    "Сам блок циклу складається з двох інструкцій:"
   ]
  },
  {
   "cell_type": "code",
   "execution_count": null,
   "metadata": {
    "colab": {
     "base_uri": "https://localhost:8080/"
    },
    "id": "azBeHPIf-ntN",
    "outputId": "eac56802-4b04-4d42-9e4d-cb3e5f4ff5f2"
   },
   "outputs": [
    {
     "name": "stdout",
     "output_type": "stream",
     "text": [
      "number = 3\n"
     ]
    }
   ],
   "source": [
    "print(f\"number = {number}\")\n",
    "number += 1"
   ]
  },
  {
   "cell_type": "markdown",
   "metadata": {
    "id": "ehap9Xj9-vIl"
   },
   "source": [
    "Зверніть увагу, що вони мають відступи від початку оператора while - у цьому випадку від початку рядка. Завдяки цьому Python може визначити, що вони належать циклу. У самому циклі спочатку виводиться значення змінної number, а потім їй присвоюється нове значення.\n",
    "\n",
    "Також зверніть увагу, що остання інструкція print(\"Робота програми завершена\") не має відступів від початку рядка, тому вона не входить до циклу while.\n",
    "\n",
    "Увесь процес циклу можна представити таким чином:\n",
    "\n",
    "Спочатку перевіряється значення змінної number - чи менше воно 5. І оскільки спочатку змінна дорівнює 1, то ця умова повертає True, і тому виконуються інструкції циклу\n",
    "\n",
    "Інструкції циклу виводять на консоль рядок number = 1. І далі значення змінної number збільшується на одиницю - тепер вона дорівнює 2. Одноразове виконання блоку інструкцій циклу називається ітерацією. Тобто таким чином, у циклі виконується перша ітерація.\n",
    "\n",
    "Знову перевіряється умова number < 5. Вона, як і раніше, дорівнює True, оскільки number = 2, тому виконуються інструкції циклу\n",
    "\n",
    "Інструкції циклу виводять на консоль рядок number = 2. І далі значення змінної number знову збільшується на одиницю - тепер вона дорівнює 3. Таким чином, виконується друга ітерація.\n",
    "\n",
    "Знову перевіряється умова number < 5. Вона, як і раніше, дорівнює True, оскільки number = 3, тому виконуються інструкції циклу\n",
    "\n",
    "Інструкції циклу виводять на консоль рядок number = 3. І далі значення змінної number знову збільшується на одиницю - тепер вона дорівнює 4. Тобто виконується третя ітерація.\n",
    "\n",
    "Знову перевіряється умова number < 5. Вона, як і раніше, дорівнює True, оскільки number = 4, тому виконуються інструкції циклу\n",
    "\n",
    "Інструкції циклу виводять на консоль рядок number = 4. І далі значення змінної number знову збільшується на одиницю - тепер вона дорівнює 5. Тобто виконується четверта ітерація.\n",
    "\n",
    "І знову перевіряється умова number < 5. Але тепер вона дорівнює False, оскільки number = 5, тому виконується вихід із циклу. Усе цикл - завершився. Далі вже виконуються дії, які визначені після циклу. Таким чином, цей цикл зробить чотири проходи або чотири ітерації"
   ]
  },
  {
   "cell_type": "markdown",
   "metadata": {
    "id": "iKZCMQGa-38w"
   },
   "source": [
    "Для циклу while також можна визначити додатковий блок else, інструкції якого виконуються, коли умова дорівнює False:"
   ]
  },
  {
   "cell_type": "code",
   "execution_count": null,
   "metadata": {
    "colab": {
     "base_uri": "https://localhost:8080/"
    },
    "id": "Wyd9DXQ5-u6M",
    "outputId": "546bb44f-90ce-4af1-8704-993084991c72"
   },
   "outputs": [
    {
     "name": "stdout",
     "output_type": "stream",
     "text": [
      "number = 1\n",
      "number = 2\n",
      "number = 3\n",
      "number = 4\n",
      "number = 5. Роботу циклу завершено\n",
      "Роботу програми завершено\n"
     ]
    }
   ],
   "source": [
    "number = 1\n",
    "\n",
    "while number < 5:\n",
    "    print(f\"number = {number}\")\n",
    "    number += 1\n",
    "else:\n",
    "    print(f\"number = {number}. Роботу циклу завершено\")\n",
    "print(\"Роботу програми завершено\")"
   ]
  },
  {
   "cell_type": "markdown",
   "metadata": {
    "id": "tmaktBo_-8CA"
   },
   "source": [
    "Тобто в цьому випадку спочатку перевіряється умова і виконуються інструкції while. Потім, коли умова стає рівною False, виконуються інструкції з блоку else. Зверніть увагу, що інструкції з блоку else також мають відступи від початку конструкції циклу."
   ]
  },
  {
   "cell_type": "markdown",
   "metadata": {
    "id": "jVbGdPxS--Ok"
   },
   "source": [
    "##Цикл for\n",
    "\n",
    "Інший тип циклів представляє конструкція for. Цей цикл пробігається по набору значень, поміщає кожне значення у змінну, і потім у циклі ми можемо з цією змінною виконувати різні дії. Після ключового слова for йде назва змінної, в яку будуть поміщатися значення. Потім після оператора in вказується набір значень і двокрапка.\n",
    "\n",
    "А з наступного рядка розташовується блок інструкцій циклу, які також повинні мати відступи від початку циклу.\n",
    "\n",
    "Під час виконання циклу Python послідовно отримує всі значення з набору і передає їх змінній. Коли всі значення з набору будуть перебрані, цикл завершує свою роботу.\n",
    "\n",
    "Як набір значень, наприклад, можна розглядати рядок, який по суті являє собою набір символів. Подивимося на прикладі:"
   ]
  },
  {
   "cell_type": "code",
   "execution_count": null,
   "metadata": {
    "colab": {
     "base_uri": "https://localhost:8080/"
    },
    "id": "_VNq6dIP-rvt",
    "outputId": "cb546007-0f22-47d2-c53c-3fb1c95fb6b6"
   },
   "outputs": [
    {
     "name": "stdout",
     "output_type": "stream",
     "text": [
      "H e l l o "
     ]
    }
   ],
   "source": [
    "message = \"Hello\"\n",
    "\n",
    "for c in message:\n",
    "    print(c, end=\" \")"
   ]
  },
  {
   "cell_type": "markdown",
   "metadata": {
    "id": "9vb4Pma9_DwW"
   },
   "source": [
    "У циклі визначається змінна c, після оператора in в якості набору, що перебирається, вказана змінна message, яка зберігає рядок \"Hello\". У підсумку цикл for буде перебирати послідовно всі символи з рядка message і поміщати їх у змінну c. Блок самого циклу складається з однієї інструкції, яка виводить значення змінної с на консоль."
   ]
  },
  {
   "cell_type": "markdown",
   "metadata": {
    "id": "VzlZqzdU_Gyx"
   },
   "source": [
    "##Вкладені цикли\n",
    "\n",
    "Одні цикли всередині себе можуть містити інші цикли. Розглянемо на прикладі виведення таблиці множення:"
   ]
  },
  {
   "cell_type": "code",
   "execution_count": null,
   "metadata": {
    "colab": {
     "base_uri": "https://localhost:8080/"
    },
    "id": "Ycsxtu5m_HXA",
    "outputId": "6e940d7b-78cb-4d44-a42a-72e36a6614d7"
   },
   "outputs": [
    {
     "name": "stdout",
     "output_type": "stream",
     "text": [
      "1\t2\t3\t4\t5\t6\t7\t8\t9\t\n",
      "\n",
      "2\t4\t6\t8\t10\t12\t14\t16\t18\t\n",
      "\n",
      "3\t6\t9\t12\t15\t18\t21\t24\t27\t\n",
      "\n",
      "4\t8\t12\t16\t20\t24\t28\t32\t36\t\n",
      "\n",
      "5\t10\t15\t20\t25\t30\t35\t40\t45\t\n",
      "\n",
      "6\t12\t18\t24\t30\t36\t42\t48\t54\t\n",
      "\n",
      "7\t14\t21\t28\t35\t42\t49\t56\t63\t\n",
      "\n",
      "8\t16\t24\t32\t40\t48\t56\t64\t72\t\n",
      "\n",
      "9\t18\t27\t36\t45\t54\t63\t72\t81\t\n",
      "\n"
     ]
    }
   ],
   "source": [
    "i = 1\n",
    "j = 1\n",
    "while i < 10:\n",
    "    while j < 10:\n",
    "        print(i * j, end=\"\\t\")\n",
    "        j += 1\n",
    "    print(\"\\n\")\n",
    "    j = 1\n",
    "    i += 1"
   ]
  },
  {
   "cell_type": "markdown",
   "metadata": {
    "id": "ETfOTNa1_QvD"
   },
   "source": [
    "Зовнішній цикл while i < 10: спрацьовує 9 разів, доки змінна i не дорівнюватиме 10. Усередині цього циклу спрацьовує внутрішній цикл while j < 10:. Внутрішній цикл також спрацьовує 9 разів, поки змінна j не дорівнюватиме 10. Причому всі 9 ітерацій внутрішнього циклу спрацьовують у рамках однієї ітерації зовнішнього циклу.\n",
    "\n",
    "У кожній ітерації внутрішнього циклу на консоль буде виводитися добуток чисел i і j. Потім значення змінної j збільшується на одиницю. Коли внутрішній цикл закінчив роботу, значення змінної j скидається в 1, а значення змінної i збільшується на одиницю і відбувається перехід до наступної ітерації зовнішнього циклу. І все повторюється, поки змінна i не дорівнюватиме 10. Відповідно внутрішній цикл спрацює всього 81 раз для всіх ітерацій зовнішнього циклу."
   ]
  },
  {
   "cell_type": "code",
   "execution_count": null,
   "metadata": {
    "colab": {
     "base_uri": "https://localhost:8080/"
    },
    "id": "uTCX18AR_UVH",
    "outputId": "98c8aae1-5a5e-45b4-84d2-a5633c531a13"
   },
   "outputs": [
    {
     "name": "stdout",
     "output_type": "stream",
     "text": [
      "ab\n",
      "aa\n",
      "bb\n",
      "ba\n"
     ]
    }
   ],
   "source": [
    "for c1 in  \"ab\":\n",
    "    for c2 in \"ba\":\n",
    "        print(f\"{c1}{c2}\")"
   ]
  },
  {
   "cell_type": "markdown",
   "metadata": {
    "id": "Xr8lHtIr_dLJ"
   },
   "source": [
    "# Вихід із циклу. break і continue\n",
    "\n",
    "Для керування циклом ми можемо використовувати спеціальні оператори break і continue. Оператор break здійснює вихід із циклу. А оператор continue виконує перехід до наступної ітерації циклу.\n",
    "\n",
    "Оператор break може використовуватися, якщо в циклі утворюються умови, які несумісні з його подальшим виконанням. Розглянемо такий приклад:"
   ]
  },
  {
   "cell_type": "code",
   "execution_count": null,
   "metadata": {
    "colab": {
     "base_uri": "https://localhost:8080/"
    },
    "id": "NvtSLpwB_et6",
    "outputId": "80272381-52f9-4bee-9245-20d2d60a637f"
   },
   "outputs": [
    {
     "name": "stdout",
     "output_type": "stream",
     "text": [
      "number = 1\n",
      "number = 2\n"
     ]
    }
   ],
   "source": [
    "number = 0\n",
    "while number < 5:\n",
    "    number += 1\n",
    "    if number == 3 :    # якщо number = 3, виходиму з циклу\n",
    "        break\n",
    "    print(f\"number = {number}\")\n"
   ]
  },
  {
   "cell_type": "markdown",
   "metadata": {
    "id": "dzza3YF-_jSK"
   },
   "source": [
    "Тут цикл while перевіряє умову number < 5. І поки number не дорівнює 5, передбачається, що значення number буде виводитися на консоль. Однак усередині циклу також перевіряється інша умова: if number == 3. Тобто, якщо значення number дорівнює 3, то за допомогою оператора break виходимо з циклу."
   ]
  },
  {
   "cell_type": "markdown",
   "metadata": {
    "id": "XWVv2u9q_lpS"
   },
   "source": [
    "На відміну від оператора break оператор continue виконує перехід до наступної ітерації циклу без його завершення. Наприклад, у попередньому прикладі замінимо break на continue:"
   ]
  },
  {
   "cell_type": "code",
   "execution_count": null,
   "metadata": {
    "colab": {
     "base_uri": "https://localhost:8080/"
    },
    "id": "vLethmVR_nWi",
    "outputId": "f2b3e295-a57e-4c9b-fa7d-7b12246a3cc6"
   },
   "outputs": [
    {
     "name": "stdout",
     "output_type": "stream",
     "text": [
      "number = 1\n",
      "number = 2\n",
      "number = 4\n",
      "number = 5\n"
     ]
    }
   ],
   "source": [
    "number = 0\n",
    "while number < 5:\n",
    "    number += 1\n",
    "    if number == 3 :    # якщо number = 3, переходимо до нової ітерації циклу\n",
    "        continue\n",
    "    print(f\"number = {number}\")"
   ]
  }
 ],
 "metadata": {
  "colab": {
   "provenance": []
  },
  "kernelspec": {
   "display_name": "Python 3 (ipykernel)",
   "language": "python",
   "name": "python3"
  },
  "language_info": {
   "codemirror_mode": {
    "name": "ipython",
    "version": 3
   },
   "file_extension": ".py",
   "mimetype": "text/x-python",
   "name": "python",
   "nbconvert_exporter": "python",
   "pygments_lexer": "ipython3",
   "version": "3.10.11"
  }
 },
 "nbformat": 4,
 "nbformat_minor": 4
}
